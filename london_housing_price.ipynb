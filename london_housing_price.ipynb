{
 "cells": [
  {
   "cell_type": "markdown",
   "id": "ba42b3e0-a69b-4641-ba4c-0b84907a6093",
   "metadata": {},
   "source": [
    "# UK House Price"
   ]
  },
  {
   "cell_type": "code",
   "execution_count": 1,
   "id": "8cd5f82e-b927-46f1-9364-781c0bb05514",
   "metadata": {},
   "outputs": [],
   "source": [
    "import pandas as pd\n",
    "from sklearn.linear_model import LinearRegression\n",
    "import statsmodels.api as sm\n",
    "import re\n",
    "\n",
    "import numpy as np\n",
    "\n",
    "import sklearn\n",
    "from sklearn.linear_model import LogisticRegression\n",
    "from sklearn.metrics import confusion_matrix\n",
    "\n",
    "import matplotlib.pyplot as plt\n",
    "import seaborn as sn\n",
    "from scipy.stats import shapiro\n",
    "from scipy.stats import kruskal\n",
    "\n",
    "pd.set_option('display.max_rows', 300) # specifies number of rows to show\n",
    "pd.options.display.float_format = '{:40,.4f}'.format # specifies default number format to 4 decimal places\n",
    "plt.style.use('ggplot') # specifies that graphs should use ggplot styling\n",
    "%matplotlib inline"
   ]
  },
  {
   "cell_type": "code",
   "execution_count": 2,
   "id": "aa0128b8-fa70-41af-a4f6-3b6adb9347ae",
   "metadata": {},
   "outputs": [
    {
     "name": "stdout",
     "output_type": "stream",
     "text": [
      "0.13.2\n"
     ]
    }
   ],
   "source": [
    "import statsmodels\n",
    "print(statsmodels.__version__)"
   ]
  },
  {
   "cell_type": "code",
   "execution_count": 3,
   "id": "bc91d93f-49d1-4f86-a3f5-40c3f7473647",
   "metadata": {
    "tags": []
   },
   "outputs": [],
   "source": [
    "# read data from all sheets and store them in a separate dataframe\n",
    "\n",
    "def housing_loop(file_name):\n",
    "    '''\n",
    "    This function reads data from each sheet and\n",
    "    store them in a separate dataframe.\n",
    "    And the last line of code saves the cleaned data\n",
    "    in your directory.\n",
    "    In the end, you will have 3 different csv files saved in your\n",
    "    computer\n",
    "    \n",
    "    '''\n",
    "    \n",
    "    # excel sheet 3 to 5\n",
    "    # sheet_name = 'By type' has been excluded as the data are not presented per borough\n",
    "    for i in ['Average price', 'Index Price', 'Sales Volume']:\n",
    "        result = pd.DataFrame(columns = ['date', 'code', 'borough', 'value'])\n",
    "    \n",
    "        X = pd.read_excel(file_name, sheet_name = i, usecols = range(0,34), index_col = [0]).reset_index()\n",
    "        Y = X.iloc[1:, :].rename(columns = {'index' : 'date'})\n",
    "        \n",
    "        # pivot long type, with 3 columns - date, borough and value\n",
    "        Y_rev = pd.melt(Y, id_vars = ['date']).rename(columns = {'variable' : 'borough'})\n",
    "        \n",
    "        # creating a new dataframe with column names and their unique code\n",
    "        Z = X.iloc[0, :].reset_index().rename(columns = {'index' : 'borough', 0: 'code'}).iloc[1:, :]\n",
    "        \n",
    "        # mapping borough name with borough code, using dictionary format\n",
    "        mapping = pd.Series(Z.code.values, index = Z.borough).to_dict()\n",
    "        mapping_result = []\n",
    "        \n",
    "        # for loop continues the length of the borough column\n",
    "        for j in range(len(Y_rev.borough)): \n",
    "            mapping_result.append(mapping[Y_rev.borough[j]])\n",
    "        \n",
    "        Y_rev['code'] = mapping_result\n",
    "        result = pd.concat([result, Y_rev], ignore_index = True)\n",
    "        result.to_csv(f'{i}_cleaned_London_housing_price.csv', index = None)"
   ]
  },
  {
   "cell_type": "code",
   "execution_count": 4,
   "id": "9c468f2e-28f1-4294-a79b-151e3235579c",
   "metadata": {
    "tags": []
   },
   "outputs": [],
   "source": [
    "# run customised function\n",
    "housing_loop('UK House price index.xlsx')"
   ]
  }
 ],
 "metadata": {
  "kernelspec": {
   "display_name": "Python 3 (ipykernel)",
   "language": "python",
   "name": "python3"
  },
  "language_info": {
   "codemirror_mode": {
    "name": "ipython",
    "version": 3
   },
   "file_extension": ".py",
   "mimetype": "text/x-python",
   "name": "python",
   "nbconvert_exporter": "python",
   "pygments_lexer": "ipython3",
   "version": "3.10.5"
  }
 },
 "nbformat": 4,
 "nbformat_minor": 5
}
