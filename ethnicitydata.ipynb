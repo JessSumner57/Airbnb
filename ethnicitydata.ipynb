{
 "cells": [
  {
   "cell_type": "markdown",
   "id": "19fea1dd-9a9e-4dd9-8286-b97b799740de",
   "metadata": {},
   "source": [
    "# Ethinicity Data by London Borough "
   ]
  },
  {
   "cell_type": "code",
   "execution_count": 3,
   "id": "2fc2cd97-f4f8-424c-a485-68d13af4dc18",
   "metadata": {},
   "outputs": [
    {
     "name": "stderr",
     "output_type": "stream",
     "text": [
      "<jemalloc>: MADV_DONTNEED does not work (memset will be used instead)\n",
      "<jemalloc>: (This is the expected behaviour if you are running under QEMU)\n"
     ]
    }
   ],
   "source": [
    "import os\n",
    "import re\n",
    "import numpy as np\n",
    "import pandas as pd\n",
    "import geopandas as gpd\n",
    "import seaborn as sns\n",
    "\n",
    "import matplotlib.cm as cm\n",
    "import matplotlib.pyplot as plt\n",
    "\n",
    "from kneed import knee_locator"
   ]
  },
  {
   "cell_type": "code",
   "execution_count": 4,
   "id": "d48d8e62-e11b-42c0-978d-68e2a74c6ce0",
   "metadata": {
    "tags": []
   },
   "outputs": [],
   "source": [
    "# Read data from all sheets and store them in single dataframe. \n",
    "\n",
    "def ethnicity_loop(file_name):\n",
    "    \n",
    "    # excel sheet 2020 to 2012\n",
    "    result = pd.DataFrame(columns = ['Code','Borough', 'White', 'Asian', 'Black', 'Mixed/Other', 'Total'])\n",
    "    for i in range(1, 10):\n",
    "       \n",
    "        X = pd.read_excel(file_name, sheet_name = i, usecols = 'A:G', skipfooter = 17, skiprows = 4,\n",
    "                          header = None, names = ['Code', 'Borough', 'White', 'Asian', 'Black', 'Mixed/Other', 'Total'])\n",
    "        X['Year'] = 2021 - int(f'{i}')\n",
    "        \n",
    "        result = pd.concat([result, X], ignore_index = True)\n",
    "    return result"
   ]
  },
  {
   "cell_type": "code",
   "execution_count": 5,
   "id": "c5bd96a6-3c94-4474-9673-17da7d35c505",
   "metadata": {},
   "outputs": [
    {
     "ename": "FileNotFoundError",
     "evalue": "[Errno 2] No such file or directory: 'ethnic-groups-by-borough.xls'",
     "output_type": "error",
     "traceback": [
      "\u001b[0;31m---------------------------------------------------------------------------\u001b[0m",
      "\u001b[0;31mFileNotFoundError\u001b[0m                         Traceback (most recent call last)",
      "Input \u001b[0;32mIn [5]\u001b[0m, in \u001b[0;36m<cell line: 2>\u001b[0;34m()\u001b[0m\n\u001b[1;32m      1\u001b[0m file_name \u001b[38;5;241m=\u001b[39m \u001b[38;5;124m'\u001b[39m\u001b[38;5;124methnic-groups-by-borough.xls\u001b[39m\u001b[38;5;124m'\u001b[39m\n\u001b[0;32m----> 2\u001b[0m ethnicity \u001b[38;5;241m=\u001b[39m \u001b[43methnicity_loop\u001b[49m\u001b[43m(\u001b[49m\u001b[43mfile_name\u001b[49m\u001b[43m)\u001b[49m\n\u001b[1;32m      3\u001b[0m ethnicity\u001b[38;5;241m.\u001b[39mtail(n\u001b[38;5;241m=\u001b[39m\u001b[38;5;241m10\u001b[39m)\n",
      "Input \u001b[0;32mIn [4]\u001b[0m, in \u001b[0;36methnicity_loop\u001b[0;34m(file_name)\u001b[0m\n\u001b[1;32m      6\u001b[0m result \u001b[38;5;241m=\u001b[39m pd\u001b[38;5;241m.\u001b[39mDataFrame(columns \u001b[38;5;241m=\u001b[39m [\u001b[38;5;124m'\u001b[39m\u001b[38;5;124mCode\u001b[39m\u001b[38;5;124m'\u001b[39m,\u001b[38;5;124m'\u001b[39m\u001b[38;5;124mBorough\u001b[39m\u001b[38;5;124m'\u001b[39m, \u001b[38;5;124m'\u001b[39m\u001b[38;5;124mWhite\u001b[39m\u001b[38;5;124m'\u001b[39m, \u001b[38;5;124m'\u001b[39m\u001b[38;5;124mAsian\u001b[39m\u001b[38;5;124m'\u001b[39m, \u001b[38;5;124m'\u001b[39m\u001b[38;5;124mBlack\u001b[39m\u001b[38;5;124m'\u001b[39m, \u001b[38;5;124m'\u001b[39m\u001b[38;5;124mMixed/Other\u001b[39m\u001b[38;5;124m'\u001b[39m, \u001b[38;5;124m'\u001b[39m\u001b[38;5;124mTotal\u001b[39m\u001b[38;5;124m'\u001b[39m])\n\u001b[1;32m      7\u001b[0m \u001b[38;5;28;01mfor\u001b[39;00m i \u001b[38;5;129;01min\u001b[39;00m \u001b[38;5;28mrange\u001b[39m(\u001b[38;5;241m1\u001b[39m, \u001b[38;5;241m10\u001b[39m):\n\u001b[0;32m----> 9\u001b[0m     X \u001b[38;5;241m=\u001b[39m \u001b[43mpd\u001b[49m\u001b[38;5;241;43m.\u001b[39;49m\u001b[43mread_excel\u001b[49m\u001b[43m(\u001b[49m\u001b[43mfile_name\u001b[49m\u001b[43m,\u001b[49m\u001b[43m \u001b[49m\u001b[43msheet_name\u001b[49m\u001b[43m \u001b[49m\u001b[38;5;241;43m=\u001b[39;49m\u001b[43m \u001b[49m\u001b[43mi\u001b[49m\u001b[43m,\u001b[49m\u001b[43m \u001b[49m\u001b[43musecols\u001b[49m\u001b[43m \u001b[49m\u001b[38;5;241;43m=\u001b[39;49m\u001b[43m \u001b[49m\u001b[38;5;124;43m'\u001b[39;49m\u001b[38;5;124;43mA:G\u001b[39;49m\u001b[38;5;124;43m'\u001b[39;49m\u001b[43m,\u001b[49m\u001b[43m \u001b[49m\u001b[43mskipfooter\u001b[49m\u001b[43m \u001b[49m\u001b[38;5;241;43m=\u001b[39;49m\u001b[43m \u001b[49m\u001b[38;5;241;43m17\u001b[39;49m\u001b[43m,\u001b[49m\u001b[43m \u001b[49m\u001b[43mskiprows\u001b[49m\u001b[43m \u001b[49m\u001b[38;5;241;43m=\u001b[39;49m\u001b[43m \u001b[49m\u001b[38;5;241;43m4\u001b[39;49m\u001b[43m,\u001b[49m\n\u001b[1;32m     10\u001b[0m \u001b[43m                      \u001b[49m\u001b[43mheader\u001b[49m\u001b[43m \u001b[49m\u001b[38;5;241;43m=\u001b[39;49m\u001b[43m \u001b[49m\u001b[38;5;28;43;01mNone\u001b[39;49;00m\u001b[43m,\u001b[49m\u001b[43m \u001b[49m\u001b[43mnames\u001b[49m\u001b[43m \u001b[49m\u001b[38;5;241;43m=\u001b[39;49m\u001b[43m \u001b[49m\u001b[43m[\u001b[49m\u001b[38;5;124;43m'\u001b[39;49m\u001b[38;5;124;43mCode\u001b[39;49m\u001b[38;5;124;43m'\u001b[39;49m\u001b[43m,\u001b[49m\u001b[43m \u001b[49m\u001b[38;5;124;43m'\u001b[39;49m\u001b[38;5;124;43mBorough\u001b[39;49m\u001b[38;5;124;43m'\u001b[39;49m\u001b[43m,\u001b[49m\u001b[43m \u001b[49m\u001b[38;5;124;43m'\u001b[39;49m\u001b[38;5;124;43mWhite\u001b[39;49m\u001b[38;5;124;43m'\u001b[39;49m\u001b[43m,\u001b[49m\u001b[43m \u001b[49m\u001b[38;5;124;43m'\u001b[39;49m\u001b[38;5;124;43mAsian\u001b[39;49m\u001b[38;5;124;43m'\u001b[39;49m\u001b[43m,\u001b[49m\u001b[43m \u001b[49m\u001b[38;5;124;43m'\u001b[39;49m\u001b[38;5;124;43mBlack\u001b[39;49m\u001b[38;5;124;43m'\u001b[39;49m\u001b[43m,\u001b[49m\u001b[43m \u001b[49m\u001b[38;5;124;43m'\u001b[39;49m\u001b[38;5;124;43mMixed/Other\u001b[39;49m\u001b[38;5;124;43m'\u001b[39;49m\u001b[43m,\u001b[49m\u001b[43m \u001b[49m\u001b[38;5;124;43m'\u001b[39;49m\u001b[38;5;124;43mTotal\u001b[39;49m\u001b[38;5;124;43m'\u001b[39;49m\u001b[43m]\u001b[49m\u001b[43m)\u001b[49m\n\u001b[1;32m     11\u001b[0m     X[\u001b[38;5;124m'\u001b[39m\u001b[38;5;124mYear\u001b[39m\u001b[38;5;124m'\u001b[39m] \u001b[38;5;241m=\u001b[39m \u001b[38;5;241m2021\u001b[39m \u001b[38;5;241m-\u001b[39m \u001b[38;5;28mint\u001b[39m(\u001b[38;5;124mf\u001b[39m\u001b[38;5;124m'\u001b[39m\u001b[38;5;132;01m{\u001b[39;00mi\u001b[38;5;132;01m}\u001b[39;00m\u001b[38;5;124m'\u001b[39m)\n\u001b[1;32m     13\u001b[0m     result \u001b[38;5;241m=\u001b[39m pd\u001b[38;5;241m.\u001b[39mconcat([result, X], ignore_index \u001b[38;5;241m=\u001b[39m \u001b[38;5;28;01mTrue\u001b[39;00m)\n",
      "File \u001b[0;32m/opt/conda/lib/python3.10/site-packages/pandas/util/_decorators.py:311\u001b[0m, in \u001b[0;36mdeprecate_nonkeyword_arguments.<locals>.decorate.<locals>.wrapper\u001b[0;34m(*args, **kwargs)\u001b[0m\n\u001b[1;32m    305\u001b[0m \u001b[38;5;28;01mif\u001b[39;00m \u001b[38;5;28mlen\u001b[39m(args) \u001b[38;5;241m>\u001b[39m num_allow_args:\n\u001b[1;32m    306\u001b[0m     warnings\u001b[38;5;241m.\u001b[39mwarn(\n\u001b[1;32m    307\u001b[0m         msg\u001b[38;5;241m.\u001b[39mformat(arguments\u001b[38;5;241m=\u001b[39marguments),\n\u001b[1;32m    308\u001b[0m         \u001b[38;5;167;01mFutureWarning\u001b[39;00m,\n\u001b[1;32m    309\u001b[0m         stacklevel\u001b[38;5;241m=\u001b[39mstacklevel,\n\u001b[1;32m    310\u001b[0m     )\n\u001b[0;32m--> 311\u001b[0m \u001b[38;5;28;01mreturn\u001b[39;00m \u001b[43mfunc\u001b[49m\u001b[43m(\u001b[49m\u001b[38;5;241;43m*\u001b[39;49m\u001b[43margs\u001b[49m\u001b[43m,\u001b[49m\u001b[43m \u001b[49m\u001b[38;5;241;43m*\u001b[39;49m\u001b[38;5;241;43m*\u001b[39;49m\u001b[43mkwargs\u001b[49m\u001b[43m)\u001b[49m\n",
      "File \u001b[0;32m/opt/conda/lib/python3.10/site-packages/pandas/io/excel/_base.py:457\u001b[0m, in \u001b[0;36mread_excel\u001b[0;34m(io, sheet_name, header, names, index_col, usecols, squeeze, dtype, engine, converters, true_values, false_values, skiprows, nrows, na_values, keep_default_na, na_filter, verbose, parse_dates, date_parser, thousands, decimal, comment, skipfooter, convert_float, mangle_dupe_cols, storage_options)\u001b[0m\n\u001b[1;32m    455\u001b[0m \u001b[38;5;28;01mif\u001b[39;00m \u001b[38;5;129;01mnot\u001b[39;00m \u001b[38;5;28misinstance\u001b[39m(io, ExcelFile):\n\u001b[1;32m    456\u001b[0m     should_close \u001b[38;5;241m=\u001b[39m \u001b[38;5;28;01mTrue\u001b[39;00m\n\u001b[0;32m--> 457\u001b[0m     io \u001b[38;5;241m=\u001b[39m \u001b[43mExcelFile\u001b[49m\u001b[43m(\u001b[49m\u001b[43mio\u001b[49m\u001b[43m,\u001b[49m\u001b[43m \u001b[49m\u001b[43mstorage_options\u001b[49m\u001b[38;5;241;43m=\u001b[39;49m\u001b[43mstorage_options\u001b[49m\u001b[43m,\u001b[49m\u001b[43m \u001b[49m\u001b[43mengine\u001b[49m\u001b[38;5;241;43m=\u001b[39;49m\u001b[43mengine\u001b[49m\u001b[43m)\u001b[49m\n\u001b[1;32m    458\u001b[0m \u001b[38;5;28;01melif\u001b[39;00m engine \u001b[38;5;129;01mand\u001b[39;00m engine \u001b[38;5;241m!=\u001b[39m io\u001b[38;5;241m.\u001b[39mengine:\n\u001b[1;32m    459\u001b[0m     \u001b[38;5;28;01mraise\u001b[39;00m \u001b[38;5;167;01mValueError\u001b[39;00m(\n\u001b[1;32m    460\u001b[0m         \u001b[38;5;124m\"\u001b[39m\u001b[38;5;124mEngine should not be specified when passing \u001b[39m\u001b[38;5;124m\"\u001b[39m\n\u001b[1;32m    461\u001b[0m         \u001b[38;5;124m\"\u001b[39m\u001b[38;5;124man ExcelFile - ExcelFile already has the engine set\u001b[39m\u001b[38;5;124m\"\u001b[39m\n\u001b[1;32m    462\u001b[0m     )\n",
      "File \u001b[0;32m/opt/conda/lib/python3.10/site-packages/pandas/io/excel/_base.py:1376\u001b[0m, in \u001b[0;36mExcelFile.__init__\u001b[0;34m(self, path_or_buffer, engine, storage_options)\u001b[0m\n\u001b[1;32m   1374\u001b[0m     ext \u001b[38;5;241m=\u001b[39m \u001b[38;5;124m\"\u001b[39m\u001b[38;5;124mxls\u001b[39m\u001b[38;5;124m\"\u001b[39m\n\u001b[1;32m   1375\u001b[0m \u001b[38;5;28;01melse\u001b[39;00m:\n\u001b[0;32m-> 1376\u001b[0m     ext \u001b[38;5;241m=\u001b[39m \u001b[43minspect_excel_format\u001b[49m\u001b[43m(\u001b[49m\n\u001b[1;32m   1377\u001b[0m \u001b[43m        \u001b[49m\u001b[43mcontent_or_path\u001b[49m\u001b[38;5;241;43m=\u001b[39;49m\u001b[43mpath_or_buffer\u001b[49m\u001b[43m,\u001b[49m\u001b[43m \u001b[49m\u001b[43mstorage_options\u001b[49m\u001b[38;5;241;43m=\u001b[39;49m\u001b[43mstorage_options\u001b[49m\n\u001b[1;32m   1378\u001b[0m \u001b[43m    \u001b[49m\u001b[43m)\u001b[49m\n\u001b[1;32m   1379\u001b[0m     \u001b[38;5;28;01mif\u001b[39;00m ext \u001b[38;5;129;01mis\u001b[39;00m \u001b[38;5;28;01mNone\u001b[39;00m:\n\u001b[1;32m   1380\u001b[0m         \u001b[38;5;28;01mraise\u001b[39;00m \u001b[38;5;167;01mValueError\u001b[39;00m(\n\u001b[1;32m   1381\u001b[0m             \u001b[38;5;124m\"\u001b[39m\u001b[38;5;124mExcel file format cannot be determined, you must specify \u001b[39m\u001b[38;5;124m\"\u001b[39m\n\u001b[1;32m   1382\u001b[0m             \u001b[38;5;124m\"\u001b[39m\u001b[38;5;124man engine manually.\u001b[39m\u001b[38;5;124m\"\u001b[39m\n\u001b[1;32m   1383\u001b[0m         )\n",
      "File \u001b[0;32m/opt/conda/lib/python3.10/site-packages/pandas/io/excel/_base.py:1250\u001b[0m, in \u001b[0;36minspect_excel_format\u001b[0;34m(content_or_path, storage_options)\u001b[0m\n\u001b[1;32m   1247\u001b[0m \u001b[38;5;28;01mif\u001b[39;00m \u001b[38;5;28misinstance\u001b[39m(content_or_path, \u001b[38;5;28mbytes\u001b[39m):\n\u001b[1;32m   1248\u001b[0m     content_or_path \u001b[38;5;241m=\u001b[39m BytesIO(content_or_path)\n\u001b[0;32m-> 1250\u001b[0m \u001b[38;5;28;01mwith\u001b[39;00m \u001b[43mget_handle\u001b[49m\u001b[43m(\u001b[49m\n\u001b[1;32m   1251\u001b[0m \u001b[43m    \u001b[49m\u001b[43mcontent_or_path\u001b[49m\u001b[43m,\u001b[49m\u001b[43m \u001b[49m\u001b[38;5;124;43m\"\u001b[39;49m\u001b[38;5;124;43mrb\u001b[39;49m\u001b[38;5;124;43m\"\u001b[39;49m\u001b[43m,\u001b[49m\u001b[43m \u001b[49m\u001b[43mstorage_options\u001b[49m\u001b[38;5;241;43m=\u001b[39;49m\u001b[43mstorage_options\u001b[49m\u001b[43m,\u001b[49m\u001b[43m \u001b[49m\u001b[43mis_text\u001b[49m\u001b[38;5;241;43m=\u001b[39;49m\u001b[38;5;28;43;01mFalse\u001b[39;49;00m\n\u001b[1;32m   1252\u001b[0m \u001b[43m\u001b[49m\u001b[43m)\u001b[49m \u001b[38;5;28;01mas\u001b[39;00m handle:\n\u001b[1;32m   1253\u001b[0m     stream \u001b[38;5;241m=\u001b[39m handle\u001b[38;5;241m.\u001b[39mhandle\n\u001b[1;32m   1254\u001b[0m     stream\u001b[38;5;241m.\u001b[39mseek(\u001b[38;5;241m0\u001b[39m)\n",
      "File \u001b[0;32m/opt/conda/lib/python3.10/site-packages/pandas/io/common.py:795\u001b[0m, in \u001b[0;36mget_handle\u001b[0;34m(path_or_buf, mode, encoding, compression, memory_map, is_text, errors, storage_options)\u001b[0m\n\u001b[1;32m    786\u001b[0m         handle \u001b[38;5;241m=\u001b[39m \u001b[38;5;28mopen\u001b[39m(\n\u001b[1;32m    787\u001b[0m             handle,\n\u001b[1;32m    788\u001b[0m             ioargs\u001b[38;5;241m.\u001b[39mmode,\n\u001b[0;32m   (...)\u001b[0m\n\u001b[1;32m    791\u001b[0m             newline\u001b[38;5;241m=\u001b[39m\u001b[38;5;124m\"\u001b[39m\u001b[38;5;124m\"\u001b[39m,\n\u001b[1;32m    792\u001b[0m         )\n\u001b[1;32m    793\u001b[0m     \u001b[38;5;28;01melse\u001b[39;00m:\n\u001b[1;32m    794\u001b[0m         \u001b[38;5;66;03m# Binary mode\u001b[39;00m\n\u001b[0;32m--> 795\u001b[0m         handle \u001b[38;5;241m=\u001b[39m \u001b[38;5;28;43mopen\u001b[39;49m\u001b[43m(\u001b[49m\u001b[43mhandle\u001b[49m\u001b[43m,\u001b[49m\u001b[43m \u001b[49m\u001b[43mioargs\u001b[49m\u001b[38;5;241;43m.\u001b[39;49m\u001b[43mmode\u001b[49m\u001b[43m)\u001b[49m\n\u001b[1;32m    796\u001b[0m     handles\u001b[38;5;241m.\u001b[39mappend(handle)\n\u001b[1;32m    798\u001b[0m \u001b[38;5;66;03m# Convert BytesIO or file objects passed with an encoding\u001b[39;00m\n",
      "\u001b[0;31mFileNotFoundError\u001b[0m: [Errno 2] No such file or directory: 'ethnic-groups-by-borough.xls'"
     ]
    }
   ],
   "source": [
    "file_name = 'ethnic-groups-by-borough3.xls'\n",
    "ethnicity = ethnicity_loop(file_name)\n",
    "ethnicity.tail(n=10)"
   ]
  },
  {
   "cell_type": "code",
   "execution_count": null,
   "id": "bfc946b6-43c4-44bf-a0f7-6dbdff6976c4",
   "metadata": {},
   "outputs": [],
   "source": [
    "# looks good, but I need Jess to show me how to remove '.0' from 'Year' values.\n",
    "ethnicity.head(n=10)"
   ]
  },
  {
   "cell_type": "code",
   "execution_count": null,
   "id": "44f16904-01fc-44a5-baa7-6a264a259469",
   "metadata": {},
   "outputs": [],
   "source": [
    "import sklearn\n",
    "from sklearn.neighbors import NearestNeighbors\n",
    "from sklearn.decomposition import PCA\n",
    "from sklearn.preprocessing import MinMaxScaler, StandardScaler, RobustScaler, PowerTransformer\n",
    "from sklearn.cluster import KMeans, DBSCAN, OPTICS"
   ]
  },
  {
   "cell_type": "markdown",
   "id": "4be10311-bbc7-4b61-927e-10538800943a",
   "metadata": {},
   "source": [
    "UMAP Analysis"
   ]
  },
  {
   "cell_type": "code",
   "execution_count": null,
   "id": "64f1bf4b-4175-4786-ac98-7562d37cc250",
   "metadata": {},
   "outputs": [],
   "source": [
    "from umap import UMAP\n",
    "\n",
    "keep_dims=2\n",
    "rs=42\n",
    "\n",
    "u = UMAP(\n",
    "    n_neighbors=25,\n",
    "    min_dist=0.01,\n",
    "    n_components=keep_dims,\n",
    "    random_state=rs)"
   ]
  },
  {
   "cell_type": "code",
   "execution_count": null,
   "id": "fa69b7ba-1247-4b40-919e-b4e419668a31",
   "metadata": {},
   "outputs": [],
   "source": [
    "f,ax = plt.subplots(1,1,figsize=(12,14))\n",
    "sns.scatterplot(x=ethnicity['White'], y=ethnicity['Year'], hue=ethnicity['Borough'], legend=True, ax=ax)"
   ]
  },
  {
   "cell_type": "code",
   "execution_count": null,
   "id": "43fd08e3-2608-4974-9845-529cb2773bc2",
   "metadata": {},
   "outputs": [],
   "source": [
    "# Graphing by subregion so I am reorganizing \n",
    "# boroughs into groups based on georgraphy.\n",
    "graphing = {}\n",
    "for b in ['Barnet', 'Enfield', 'Haringey']:\n",
    "    graphing[b]='North'\n",
    "for b in ['Brent', 'Ealing', 'Hammersmith and Fulham',\n",
    "          'Harrow', 'Hillingdon', 'Hounslow', 'Richmond upon Thames']:\n",
    "    graphing[b]='West'\n",
    "for b in ['Camden', 'Islington','Kensington and Chelsea', 'Lambeth', 'Southwark', 'Westminster']:\n",
    "    graphing[b]='Central'\n",
    "for b in ['Bromley','Croydon','Kingston upon Thames', 'Merton', 'Sutton', 'Wandsworth']:\n",
    "    graphing[b]='South'\n",
    "for b in ['Barking and Dagenham', 'Bexley', 'Greenwich', 'Hackney', 'Havering', 'Lewisham', 'Newham', \n",
    "          'Redbridge', 'Tower Hamlets', 'Waltham Forest']:\n",
    "    graphing[b]='East'\n",
    "\n",
    "ethnicity['Subregion'] = ethnicity.Borough.apply(lambda x: mapping[x])\n",
    "\n",
    "ethnicity['White'] = pd.to_numeric(ethnicity['White'])\n",
    "ethnicity['White'] = ethnicity['White'].astype(int)"
   ]
  },
  {
   "cell_type": "code",
   "execution_count": null,
   "id": "aa3ea2b3-e4f4-4b64-95c5-ef40ec4f8daa",
   "metadata": {},
   "outputs": [],
   "source": [
    "# Keywords\n",
    "kwds = dict(s=7,alpha=0.95,edgecolor=\"none\")\n",
    "# Subregion hues\n",
    "sr_hue = ['North', 'West', 'Central', 'South', 'East']"
   ]
  },
  {
   "cell_type": "code",
   "execution_count": null,
   "id": "a737fa9b-619e-42e6-9942-eecab1dce7a2",
   "metadata": {},
   "outputs": [],
   "source": [
    "g = sns.jointplot(data=ethnicity, x='Year', y='White', height=6, \n",
    "                  hue='Subregion', hue_order=sr_hue, joint_kws=kwds)\n",
    "g.ax_joint.legend(loc='upper right', prop={'size': 8});"
   ]
  },
  {
   "cell_type": "code",
   "execution_count": null,
   "id": "d4f16a5f-fdb1-486d-b5e7-e82d41e6de18",
   "metadata": {},
   "outputs": [],
   "source": [
    "for e in ethnicity.Subregion.unique():\n",
    "    g = sns.jointplot(data=ethnicity[ethnicity.Subregion==e], x='Year', y='White', \n",
    "                  hue='Borough', joint_kws=kwds)\n",
    "    g.ax_joint.legend(loc='upper right', prop={'size': 6.5});\n",
    "    g.ax_joint.set_ylim(0,350000) # allows legible legend to fit\n",
    "    g.ax_joint.set_xlim(2011,2021)\n",
    "    plt.suptitle(e)"
   ]
  },
  {
   "cell_type": "code",
   "execution_count": null,
   "id": "c0b580e8-9a87-4365-beef-fb7c7696e6f8",
   "metadata": {},
   "outputs": [],
   "source": [
    "from scipy import stats\n",
    "df_types = ethnicity.dtypes\n",
    "print(df_types)\n",
    "\n",
    "ethnicity['Asian'] = pd.to_numeric(ethnicity['Asian'])\n",
    "ethnicity['Asian'] = ethnicity['Asian'].astype(int)\n",
    "ethnicity['Black'] = pd.to_numeric(ethnicity['Black'])\n",
    "ethinicity['Black'] = ethnicity['Black'].astype(int)\n",
    "ethnicity['Mixed/Other'] = pd.to_numeric(ethnicity['Mixed/Other'])\n",
    "ethinicity['Mixed/Other'] = ethnicity['Mixed/Other'].astype(int)\n",
    "    \n",
    "ethnicity[['Asian', 'Black', 'Mixed/Other']] = ethnicity[['Asian', 'Black', 'Mixed/Other']].astype(str).astype(int)\n",
    "\n",
    "ethnicity['All Other Races and Ethnic Groups'] = ethnicity['Black'] + ethnicity['Asian'] + ethnicity['Mixed/Other']"
   ]
  },
  {
   "cell_type": "code",
   "execution_count": null,
   "id": "f3b7ae6e-b1a2-4361-aeaf-8e2e4105ff62",
   "metadata": {},
   "outputs": [],
   "source": [
    "print(ethnicity.iloc[25])"
   ]
  },
  {
   "cell_type": "code",
   "execution_count": null,
   "id": "91c2d09d-abf8-43a4-870a-dc03ffd0d076",
   "metadata": {},
   "outputs": [],
   "source": [
    "ethnicity.loc[25, 'Black']\n",
    "ethnicity.loc[ethnicity.Black == '-', 'Black'] = 0\n",
    "\n",
    "ethnicity['Asian'] = pd.to_numeric(ethnicity['Asian'])\n",
    "ethnicity['Asian'] = ethnicity['Asian'].astype(int)\n",
    "ethnicity['Black'] = pd.to_numeric(ethnicity['Black'])\n",
    "ethnicity['Black'] = ethnicity['Black'].astype(int)\n",
    "ethnicity['Mixed/Other'] = pd.to_numeric(ethnicity['Mixed/Other'])\n",
    "ethnicity['Mixed/Other'] = ethnicity['Mixed/Other'].astype(int)\n",
    "    \n",
    "ethnicity[['Asian', 'Black', 'Mixed/Other']] = ethnicity[['Asian', 'Black', 'Mixed/Other']].astype(str).astype(int)\n",
    "\n",
    "ethnicity['All Other Races and Ethnic Groups'] = ethnicity['Black'] + ethnicity['Asian'] + ethnicity['Mixed/Other']"
   ]
  },
  {
   "cell_type": "code",
   "execution_count": null,
   "id": "29f7ced1-1b11-467a-9021-bf67c68317ab",
   "metadata": {},
   "outputs": [],
   "source": [
    "print(ethnicity['All Other Races and Ethnic Groups'])"
   ]
  },
  {
   "cell_type": "code",
   "execution_count": null,
   "id": "39d2d610-3b79-4c98-bf93-893c9c9c5401",
   "metadata": {},
   "outputs": [],
   "source": [
    "g = sns.jointplot(data=ethnicity, x='Year', y='All Other Races and Ethnic Groups', height=6, \n",
    "                  hue='Subregion', hue_order=sr_hue, joint_kws=kwds)\n",
    "g.ax_joint.legend(loc='upper right', prop={'size': 8});"
   ]
  },
  {
   "cell_type": "code",
   "execution_count": null,
   "id": "202add29-0364-44de-9807-34db4bd90d27",
   "metadata": {},
   "outputs": [],
   "source": [
    "for e in ethnicity.Subregion.unique():\n",
    "    g = sns.jointplot(data=ethnicity[ethnicity.Subregion==e], x='Year', y='All Other Races and Ethnic Groups', \n",
    "                  hue='Borough', joint_kws=kwds)\n",
    "    g.ax_joint.legend(loc='upper right', prop={'size': 6.5});\n",
    "    g.ax_joint.set_ylim(0,350000)\n",
    "    g.ax_joint.set_xlim(2011,2021)\n",
    "    plt.suptitle(e)"
   ]
  },
  {
   "cell_type": "code",
   "execution_count": null,
   "id": "0af0bef2-c1e7-4b08-8199-c892233bde5f",
   "metadata": {},
   "outputs": [],
   "source": [
    "from numpy import asarray\n",
    "from sklearn.preprocessing import MinMaxScaler"
   ]
  },
  {
   "cell_type": "code",
   "execution_count": null,
   "id": "9506dc26-45a9-4e50-a210-6446d31c6e0e",
   "metadata": {},
   "outputs": [],
   "source": [
    "# Ethnicity MinMax scaler and data\n",
    "scaler_e = MinMaxScaler()\n",
    "ethnicity[['White', 'All Other Races and Ethnic Groups']] = scaler_e.fit_transform(ethnicity[['White', 'All Other Races and Ethnic Groups']])"
   ]
  },
  {
   "cell_type": "code",
   "execution_count": null,
   "id": "7ad87e30-5103-43f4-8c73-dbbcc1421994",
   "metadata": {},
   "outputs": [],
   "source": [
    "print(lgbtq_p[['Straight or Heterosexual\\n(percent)','LGBTQ+\\n(percent)']])"
   ]
  }
 ],
 "metadata": {
  "kernelspec": {
   "display_name": "Python 3 (ipykernel)",
   "language": "python",
   "name": "python3"
  },
  "language_info": {
   "codemirror_mode": {
    "name": "ipython",
    "version": 3
   },
   "file_extension": ".py",
   "mimetype": "text/x-python",
   "name": "python",
   "nbconvert_exporter": "python",
   "pygments_lexer": "ipython3",
   "version": "3.10.5"
  }
 },
 "nbformat": 4,
 "nbformat_minor": 5
}
