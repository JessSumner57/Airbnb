{
 "cells": [
  {
   "cell_type": "markdown",
   "id": "ca16ce88-6d8b-423a-b073-b78d1b8031ae",
   "metadata": {},
   "source": [
    "# Cleaning and Analysing Eviction Data\n",
    "Source: https://data.london.gov.uk/dataset/mortgage-and-landlord-possession-actions-borough"
   ]
  },
  {
   "cell_type": "markdown",
   "id": "ec94e007-878a-4bc8-a7ec-b1109e252c8e",
   "metadata": {},
   "source": [
    "### <u>Importing Packages and Functions<u>"
   ]
  },
  {
   "cell_type": "code",
   "execution_count": 1,
   "id": "41ae9b41-8619-4373-98bf-ab9e90fc3ffb",
   "metadata": {},
   "outputs": [
    {
     "name": "stderr",
     "output_type": "stream",
     "text": [
      "<jemalloc>: MADV_DONTNEED does not work (memset will be used instead)\n",
      "<jemalloc>: (This is the expected behaviour if you are running under QEMU)\n"
     ]
    }
   ],
   "source": [
    "import os\n",
    "import numpy as np\n",
    "import pandas as pd\n",
    "import geopandas as gpd\n",
    "import seaborn as sns\n",
    "import matplotlib.cm as cm\n",
    "import matplotlib.pyplot as plt\n",
    "import matplotlib as mpl\n",
    "import re\n",
    "import math\n",
    "\n",
    "from matplotlib.colors import ListedColormap\n",
    "\n",
    "# All of these are potentially useful, though\n",
    "# not all have been used in this practical --\n",
    "# I'd suggest exploring the use of different \n",
    "# Scalers/Transformers as well as clustering \n",
    "# algorithms...\n",
    "import sklearn\n",
    "from sklearn.neighbors import NearestNeighbors\n",
    "from sklearn.decomposition import PCA\n",
    "from sklearn.preprocessing import MinMaxScaler, StandardScaler, RobustScaler, PowerTransformer\n",
    "from sklearn.cluster import KMeans, DBSCAN, OPTICS\n",
    "from sklearn.ensemble import RandomForestClassifier\n",
    "from sklearn.metrics import silhouette_samples, silhouette_score\n",
    "from sklearn.preprocessing import OneHotEncoder\n",
    "from sklearn.feature_extraction.text import TfidfVectorizer\n",
    "from sklearn.feature_extraction.text import CountVectorizer\n",
    "from sklearn.decomposition import LatentDirichletAllocation\n",
    "\n",
    "import random\n",
    "random.seed(42)    # For reproducibility\n",
    "np.random.seed(42) # For reproducibility\n",
    "\n",
    "# Make numeric display a bit neater\n",
    "pd.set_option('display.float_format', lambda x: '{:,.2f}'.format(x))"
   ]
  },
  {
   "cell_type": "code",
   "execution_count": 2,
   "id": "a2c6540e-e9d3-4d2f-9e80-607081f27069",
   "metadata": {},
   "outputs": [],
   "source": [
    "mms  = MinMaxScaler(feature_range=(0,1))\n",
    "stds = StandardScaler()\n",
    "rbs  = RobustScaler()\n",
    "pts  = PowerTransformer()"
   ]
  },
  {
   "cell_type": "code",
   "execution_count": 3,
   "id": "612e5635-65f5-48fa-8288-a4dccf12e716",
   "metadata": {},
   "outputs": [],
   "source": [
    "# These are specific to NLP\n",
    "import nltk\n",
    "import spacy\n",
    "from nltk.corpus import wordnet as wn\n",
    "from nltk.stem.wordnet import WordNetLemmatizer\n",
    "\n",
    "from nltk.corpus import stopwords\n",
    "\n",
    "from nltk.tokenize import word_tokenize, sent_tokenize\n",
    "from nltk.tokenize.toktok import ToktokTokenizer\n",
    "\n",
    "from nltk.stem.porter import PorterStemmer\n",
    "from nltk.stem.snowball import SnowballStemmer\n",
    "\n",
    "from nltk import ngrams, FreqDist\n",
    "\n",
    "lemmatizer = WordNetLemmatizer()\n",
    "tokenizer = ToktokTokenizer()\n",
    "mms  = MinMaxScaler(feature_range=(-1,1))\n",
    "stds = StandardScaler()\n",
    "rbs  = RobustScaler()\n",
    "pts  = PowerTransformer()\n",
    "\n",
    "import string\n",
    "import unicodedata\n",
    "from bs4 import BeautifulSoup\n",
    "from wordcloud import WordCloud, STOPWORDS"
   ]
  },
  {
   "cell_type": "code",
   "execution_count": 4,
   "id": "bba56ac0-7662-45ab-972d-c635d3c825fc",
   "metadata": {},
   "outputs": [],
   "source": [
    "# This is the Cache Function Jon wrote\n",
    "import os\n",
    "from requests import get\n",
    "from urllib.parse import urlparse\n",
    "\n",
    "def cache_data(src:str, dest:str) -> str:\n",
    "    \"\"\"Downloads and caches a remote file locally.\n",
    "    \n",
    "    The function sits between the 'read' step of a pandas or geopandas\n",
    "    data frame and downloading the file from a remote location. The idea\n",
    "    is that it will save it locally so that you don't need to remember to\n",
    "    do so yourself. Subsequent re-reads of the file will return instantly\n",
    "    rather than downloading the entire file for a second or n-th itme.\n",
    "    \n",
    "    Parameters\n",
    "    ----------\n",
    "    src : str\n",
    "        The remote *source* for the file, any valid URL should work.\n",
    "    dest : str\n",
    "        The *destination* location to save the downloaded file.\n",
    "        \n",
    "    Returns\n",
    "    -------\n",
    "    str\n",
    "        A string representing the local location of the file.\n",
    "    \"\"\"\n",
    "    \n",
    "    url = urlparse(src) # We assume that this is some kind of valid URL \n",
    "    fn  = os.path.split(url.path)[-1] # Extract the filename\n",
    "    dfn = os.path.join(dest,fn) # Destination filename\n",
    "    \n",
    "    # Check if dest+filename does *not* exist -- \n",
    "    # that would mean we have to download it!\n",
    "    if not os.path.isfile(dfn) or os.path.getsize(dfn) < 1:\n",
    "        \n",
    "        print(f\"{dfn} not found, downloading!\")\n",
    "\n",
    "        # Convert the path back into a list (without)\n",
    "        # the filename -- we need to check that directories\n",
    "        # exist first.\n",
    "        path = os.path.split(dest)\n",
    "        \n",
    "        # Create any missing directories in dest(ination) path\n",
    "        # -- os.path.join is the reverse of split (as you saw above)\n",
    "        # but it doesn't work with lists... so I had to google how\n",
    "        # to use the 'splat' operator! os.makedirs creates missing\n",
    "        # directories in a path automatically.\n",
    "        if len(path) >= 1 and path[0] != '':\n",
    "            os.makedirs(os.path.join(*path), exist_ok=True)\n",
    "            \n",
    "        # Download and write the file\n",
    "        with open(dfn, \"wb\") as file:\n",
    "            response = get(src)\n",
    "            file.write(response.content)\n",
    "            \n",
    "        print('Done downloading...')\n",
    "\n",
    "    else:\n",
    "        print(f\"Found {dfn} locally!\")\n",
    "\n",
    "    return dfn"
   ]
  },
  {
   "cell_type": "markdown",
   "id": "4f6e4a4e-3e2b-4cc0-a524-e0c143a85956",
   "metadata": {},
   "source": [
    "### <u>Cleaning the Data<u>"
   ]
  },
  {
   "cell_type": "code",
   "execution_count": 5,
   "id": "558e2f8d-7e1a-4716-a450-bc54502127bf",
   "metadata": {},
   "outputs": [],
   "source": [
    "evictions2019 = pd.read_excel('2019mortgage-landlord-possession-actions.xls', skiprows=[0,1,2], sheet_name = 'Table',header=[1])\n",
    "evictions2022 = pd.read_excel('2022mortgage-landlord-possession-actions.xls', skiprows=[0,1,2], sheet_name = 'Table',header=[1])"
   ]
  },
  {
   "cell_type": "code",
   "execution_count": 6,
   "id": "6a3004dd-2de6-4384-82b8-068f1609074f",
   "metadata": {},
   "outputs": [
    {
     "data": {
      "text/html": [
       "<div>\n",
       "<style scoped>\n",
       "    .dataframe tbody tr th:only-of-type {\n",
       "        vertical-align: middle;\n",
       "    }\n",
       "\n",
       "    .dataframe tbody tr th {\n",
       "        vertical-align: top;\n",
       "    }\n",
       "\n",
       "    .dataframe thead th {\n",
       "        text-align: right;\n",
       "    }\n",
       "</style>\n",
       "<table border=\"1\" class=\"dataframe\">\n",
       "  <thead>\n",
       "    <tr style=\"text-align: right;\">\n",
       "      <th></th>\n",
       "      <th>Area</th>\n",
       "      <th>Claims</th>\n",
       "      <th>Warrants</th>\n",
       "      <th>Repossessions</th>\n",
       "      <th>Outright Orders</th>\n",
       "      <th>Suspended Orders</th>\n",
       "    </tr>\n",
       "  </thead>\n",
       "  <tbody>\n",
       "    <tr>\n",
       "      <th>0</th>\n",
       "      <td>Barking and Dagenham</td>\n",
       "      <td>129</td>\n",
       "      <td>100</td>\n",
       "      <td>12</td>\n",
       "      <td>48.00</td>\n",
       "      <td>34.00</td>\n",
       "    </tr>\n",
       "    <tr>\n",
       "      <th>1</th>\n",
       "      <td>Barnet</td>\n",
       "      <td>180</td>\n",
       "      <td>118</td>\n",
       "      <td>10</td>\n",
       "      <td>81.00</td>\n",
       "      <td>25.00</td>\n",
       "    </tr>\n",
       "    <tr>\n",
       "      <th>2</th>\n",
       "      <td>Bexley</td>\n",
       "      <td>146</td>\n",
       "      <td>101</td>\n",
       "      <td>20</td>\n",
       "      <td>52.00</td>\n",
       "      <td>61.00</td>\n",
       "    </tr>\n",
       "    <tr>\n",
       "      <th>3</th>\n",
       "      <td>Brent</td>\n",
       "      <td>128</td>\n",
       "      <td>97</td>\n",
       "      <td>8</td>\n",
       "      <td>52.00</td>\n",
       "      <td>39.00</td>\n",
       "    </tr>\n",
       "    <tr>\n",
       "      <th>4</th>\n",
       "      <td>Bromley</td>\n",
       "      <td>151</td>\n",
       "      <td>81</td>\n",
       "      <td>13</td>\n",
       "      <td>42.00</td>\n",
       "      <td>36.00</td>\n",
       "    </tr>\n",
       "    <tr>\n",
       "      <th>5</th>\n",
       "      <td>Camden</td>\n",
       "      <td>62</td>\n",
       "      <td>31</td>\n",
       "      <td>6</td>\n",
       "      <td>23.00</td>\n",
       "      <td>5.00</td>\n",
       "    </tr>\n",
       "    <tr>\n",
       "      <th>6</th>\n",
       "      <td>City of London</td>\n",
       "      <td>3</td>\n",
       "      <td>2</td>\n",
       "      <td>2</td>\n",
       "      <td>NaN</td>\n",
       "      <td>NaN</td>\n",
       "    </tr>\n",
       "    <tr>\n",
       "      <th>7</th>\n",
       "      <td>Croydon</td>\n",
       "      <td>293</td>\n",
       "      <td>226</td>\n",
       "      <td>48</td>\n",
       "      <td>108.00</td>\n",
       "      <td>53.00</td>\n",
       "    </tr>\n",
       "    <tr>\n",
       "      <th>8</th>\n",
       "      <td>Ealing</td>\n",
       "      <td>145</td>\n",
       "      <td>92</td>\n",
       "      <td>17</td>\n",
       "      <td>53.00</td>\n",
       "      <td>32.00</td>\n",
       "    </tr>\n",
       "    <tr>\n",
       "      <th>9</th>\n",
       "      <td>Enfield</td>\n",
       "      <td>194</td>\n",
       "      <td>118</td>\n",
       "      <td>22</td>\n",
       "      <td>65.00</td>\n",
       "      <td>39.00</td>\n",
       "    </tr>\n",
       "  </tbody>\n",
       "</table>\n",
       "</div>"
      ],
      "text/plain": [
       "                   Area  Claims  Warrants  Repossessions  Outright Orders  \\\n",
       "0  Barking and Dagenham     129       100             12            48.00   \n",
       "1                Barnet     180       118             10            81.00   \n",
       "2                Bexley     146       101             20            52.00   \n",
       "3                 Brent     128        97              8            52.00   \n",
       "4               Bromley     151        81             13            42.00   \n",
       "5                Camden      62        31              6            23.00   \n",
       "6        City of London       3         2              2              NaN   \n",
       "7               Croydon     293       226             48           108.00   \n",
       "8                Ealing     145        92             17            53.00   \n",
       "9               Enfield     194       118             22            65.00   \n",
       "\n",
       "   Suspended Orders  \n",
       "0             34.00  \n",
       "1             25.00  \n",
       "2             61.00  \n",
       "3             39.00  \n",
       "4             36.00  \n",
       "5              5.00  \n",
       "6               NaN  \n",
       "7             53.00  \n",
       "8             32.00  \n",
       "9             39.00  "
      ]
     },
     "execution_count": 6,
     "metadata": {},
     "output_type": "execute_result"
    }
   ],
   "source": [
    "evictions2019.head(10)"
   ]
  },
  {
   "cell_type": "code",
   "execution_count": 7,
   "id": "c302db66-37b4-45af-ad7b-5e61b42a1e4c",
   "metadata": {},
   "outputs": [
    {
     "name": "stdout",
     "output_type": "stream",
     "text": [
      "<class 'pandas.core.frame.DataFrame'>\n",
      "RangeIndex: 33 entries, 0 to 32\n",
      "Data columns (total 6 columns):\n",
      " #   Column            Non-Null Count  Dtype  \n",
      "---  ------            --------------  -----  \n",
      " 0   Area              33 non-null     object \n",
      " 1   Claims            33 non-null     int64  \n",
      " 2   Warrants          33 non-null     int64  \n",
      " 3   Repossessions     33 non-null     int64  \n",
      " 4   Outright Orders   32 non-null     float64\n",
      " 5   Suspended Orders  32 non-null     float64\n",
      "dtypes: float64(2), int64(3), object(1)\n",
      "memory usage: 1.7+ KB\n"
     ]
    }
   ],
   "source": [
    "evictions2019.info(verbose=True)"
   ]
  },
  {
   "cell_type": "code",
   "execution_count": 8,
   "id": "9e07d745-db71-416a-9334-a253e03c45c2",
   "metadata": {},
   "outputs": [],
   "source": [
    "evictions2019['sum'] = evictions2019.iloc[:, 1:6].apply(lambda row: row.sum().astype(int), axis=1)\n",
    "evictions2022['sum'] = evictions2022.iloc[:, 1:6].apply(lambda row: row.sum().astype(int), axis=1)"
   ]
  },
  {
   "cell_type": "code",
   "execution_count": 9,
   "id": "b01113c1-82fd-4057-ba93-654284e0bc1e",
   "metadata": {},
   "outputs": [
    {
     "name": "stdout",
     "output_type": "stream",
     "text": [
      "<class 'pandas.core.frame.DataFrame'>\n",
      "RangeIndex: 33 entries, 0 to 32\n",
      "Data columns (total 7 columns):\n",
      " #   Column            Non-Null Count  Dtype  \n",
      "---  ------            --------------  -----  \n",
      " 0   Area              33 non-null     object \n",
      " 1   Claims            33 non-null     int64  \n",
      " 2   Warrants          33 non-null     int64  \n",
      " 3   Repossessions     33 non-null     int64  \n",
      " 4   Outright Orders   32 non-null     float64\n",
      " 5   Suspended Orders  32 non-null     float64\n",
      " 6   sum               33 non-null     int64  \n",
      "dtypes: float64(2), int64(4), object(1)\n",
      "memory usage: 1.9+ KB\n"
     ]
    }
   ],
   "source": [
    "evictions2019.info(verbose=True)"
   ]
  },
  {
   "cell_type": "markdown",
   "id": "f9eb6e4e-4c18-49d4-956d-ed0542bead1e",
   "metadata": {},
   "source": [
    "### <u>Mapping<u>"
   ]
  },
  {
   "cell_type": "code",
   "execution_count": 10,
   "id": "dd0311d8-b24a-47aa-b6f7-837bd25bea8d",
   "metadata": {},
   "outputs": [
    {
     "name": "stdout",
     "output_type": "stream",
     "text": [
      "Found data/geo/Water.gpkg locally!\n",
      "Found data/geo/Boroughs.gpkg locally!\n",
      "Found data/geo/Greenspace.gpkg locally!\n"
     ]
    }
   ],
   "source": [
    "# some shapefiles\n",
    "spath = 'https://github.com/jreades/fsds/blob/master/data/src/' # source path\n",
    "ddir  = os.path.join('data','geo') # destination directory\n",
    "water = gpd.read_file( cache_data(spath+'Water.gpkg?raw=true', ddir) )\n",
    "boros = gpd.read_file( cache_data(spath+'Boroughs.gpkg?raw=true', ddir) )\n",
    "green = gpd.read_file( cache_data(spath+'Greenspace.gpkg?raw=true', ddir) )"
   ]
  },
  {
   "cell_type": "code",
   "execution_count": 11,
   "id": "2c5d0aa9-fb64-486c-818b-8408222dcd44",
   "metadata": {},
   "outputs": [
    {
     "data": {
      "text/html": [
       "<div>\n",
       "<style scoped>\n",
       "    .dataframe tbody tr th:only-of-type {\n",
       "        vertical-align: middle;\n",
       "    }\n",
       "\n",
       "    .dataframe tbody tr th {\n",
       "        vertical-align: top;\n",
       "    }\n",
       "\n",
       "    .dataframe thead th {\n",
       "        text-align: right;\n",
       "    }\n",
       "</style>\n",
       "<table border=\"1\" class=\"dataframe\">\n",
       "  <thead>\n",
       "    <tr style=\"text-align: right;\">\n",
       "      <th></th>\n",
       "      <th>NAME</th>\n",
       "      <th>GSS_CODE</th>\n",
       "      <th>HECTARES</th>\n",
       "      <th>NONLD_AREA</th>\n",
       "      <th>ONS_INNER</th>\n",
       "      <th>geometry</th>\n",
       "    </tr>\n",
       "  </thead>\n",
       "  <tbody>\n",
       "    <tr>\n",
       "      <th>0</th>\n",
       "      <td>Kingston upon Thames</td>\n",
       "      <td>E09000021</td>\n",
       "      <td>3,726.12</td>\n",
       "      <td>0.00</td>\n",
       "      <td>F</td>\n",
       "      <td>MULTIPOLYGON (((516401.600 160201.800, 516407....</td>\n",
       "    </tr>\n",
       "    <tr>\n",
       "      <th>1</th>\n",
       "      <td>Croydon</td>\n",
       "      <td>E09000008</td>\n",
       "      <td>8,649.44</td>\n",
       "      <td>0.00</td>\n",
       "      <td>F</td>\n",
       "      <td>MULTIPOLYGON (((535009.200 159504.700, 535005....</td>\n",
       "    </tr>\n",
       "    <tr>\n",
       "      <th>2</th>\n",
       "      <td>Bromley</td>\n",
       "      <td>E09000006</td>\n",
       "      <td>15,013.49</td>\n",
       "      <td>0.00</td>\n",
       "      <td>F</td>\n",
       "      <td>MULTIPOLYGON (((540373.600 157530.400, 540361....</td>\n",
       "    </tr>\n",
       "    <tr>\n",
       "      <th>3</th>\n",
       "      <td>Hounslow</td>\n",
       "      <td>E09000018</td>\n",
       "      <td>5,658.54</td>\n",
       "      <td>60.76</td>\n",
       "      <td>F</td>\n",
       "      <td>MULTIPOLYGON (((521975.800 178100.000, 521967....</td>\n",
       "    </tr>\n",
       "    <tr>\n",
       "      <th>4</th>\n",
       "      <td>Ealing</td>\n",
       "      <td>E09000009</td>\n",
       "      <td>5,554.43</td>\n",
       "      <td>0.00</td>\n",
       "      <td>F</td>\n",
       "      <td>MULTIPOLYGON (((510253.500 182881.600, 510249....</td>\n",
       "    </tr>\n",
       "  </tbody>\n",
       "</table>\n",
       "</div>"
      ],
      "text/plain": [
       "                   NAME   GSS_CODE  HECTARES  NONLD_AREA ONS_INNER  \\\n",
       "0  Kingston upon Thames  E09000021  3,726.12        0.00         F   \n",
       "1               Croydon  E09000008  8,649.44        0.00         F   \n",
       "2               Bromley  E09000006 15,013.49        0.00         F   \n",
       "3              Hounslow  E09000018  5,658.54       60.76         F   \n",
       "4                Ealing  E09000009  5,554.43        0.00         F   \n",
       "\n",
       "                                            geometry  \n",
       "0  MULTIPOLYGON (((516401.600 160201.800, 516407....  \n",
       "1  MULTIPOLYGON (((535009.200 159504.700, 535005....  \n",
       "2  MULTIPOLYGON (((540373.600 157530.400, 540361....  \n",
       "3  MULTIPOLYGON (((521975.800 178100.000, 521967....  \n",
       "4  MULTIPOLYGON (((510253.500 182881.600, 510249....  "
      ]
     },
     "execution_count": 11,
     "metadata": {},
     "output_type": "execute_result"
    }
   ],
   "source": [
    "boros.head(5)"
   ]
  },
  {
   "cell_type": "code",
   "execution_count": 16,
   "id": "5e83c202-d3fe-4898-9988-a5e16f7ec760",
   "metadata": {},
   "outputs": [],
   "source": [
    "evict2019_geom = pd.merge(evictions2019, boros, how=\"left\", left_on='Area', right_on='NAME')\n",
    "evict2022_geom = pd.merge(evictions2022, boros, how=\"left\", left_on='Area', right_on='NAME')"
   ]
  },
  {
   "cell_type": "code",
   "execution_count": 13,
   "id": "4b62e095-dd37-4cbf-aafc-91d8f6ae4d6e",
   "metadata": {},
   "outputs": [
    {
     "data": {
      "text/plain": [
       "<AxesSubplot:ylabel='Frequency'>"
      ]
     },
     "execution_count": 13,
     "metadata": {},
     "output_type": "execute_result"
    },
    {
     "data": {
      "image/png": "[encoded data removed]",
      "text/plain": [
       "<Figure size 432x288 with 1 Axes>"
      ]
     },
     "metadata": {
      "needs_background": "light"
     },
     "output_type": "display_data"
    }
   ],
   "source": [
    "evict_sums2019 = evict2019_geom['sum']\n",
    "evict_sums2019.plot.hist(bins=100)"
   ]
  },
  {
   "cell_type": "code",
   "execution_count": 14,
   "id": "1475a57c-b266-4332-849a-519aa1124a6e",
   "metadata": {},
   "outputs": [
    {
     "data": {
      "text/plain": [
       "<AxesSubplot:ylabel='Frequency'>"
      ]
     },
     "execution_count": 14,
     "metadata": {},
     "output_type": "execute_result"
    },
    {
     "data": {
      "image/png": "[encoded data removed]",
      "text/plain": [
       "<Figure size 432x288 with 1 Axes>"
      ]
     },
     "metadata": {
      "needs_background": "light"
     },
     "output_type": "display_data"
    }
   ],
   "source": [
    "evict_sums2022 = evict2022_geom['sum']\n",
    "evict_sums2022.plot.hist(bins=100)"
   ]
  },
  {
   "cell_type": "code",
   "execution_count": 15,
   "id": "f624d9e2-aee3-4d99-88b8-9b1e7763d18d",
   "metadata": {},
   "outputs": [
    {
     "ename": "AttributeError",
     "evalue": "'DataFrame' object has no attribute 'area'",
     "output_type": "error",
     "traceback": [
      "\u001b[0;31m---------------------------------------------------------------------------\u001b[0m",
      "\u001b[0;31mAttributeError\u001b[0m                            Traceback (most recent call last)",
      "Input \u001b[0;32mIn [15]\u001b[0m, in \u001b[0;36m<cell line: 1>\u001b[0;34m()\u001b[0m\n\u001b[0;32m----> 1\u001b[0m evict2019_geom[\u001b[38;5;124m'\u001b[39m\u001b[38;5;124marea\u001b[39m\u001b[38;5;124m'\u001b[39m] \u001b[38;5;241m=\u001b[39m \u001b[43mevict2019_geom\u001b[49m\u001b[38;5;241;43m.\u001b[39;49m\u001b[43marea\u001b[49m\n",
      "File \u001b[0;32m/opt/conda/lib/python3.10/site-packages/pandas/core/generic.py:5575\u001b[0m, in \u001b[0;36mNDFrame.__getattr__\u001b[0;34m(self, name)\u001b[0m\n\u001b[1;32m   5568\u001b[0m \u001b[38;5;28;01mif\u001b[39;00m (\n\u001b[1;32m   5569\u001b[0m     name \u001b[38;5;129;01mnot\u001b[39;00m \u001b[38;5;129;01min\u001b[39;00m \u001b[38;5;28mself\u001b[39m\u001b[38;5;241m.\u001b[39m_internal_names_set\n\u001b[1;32m   5570\u001b[0m     \u001b[38;5;129;01mand\u001b[39;00m name \u001b[38;5;129;01mnot\u001b[39;00m \u001b[38;5;129;01min\u001b[39;00m \u001b[38;5;28mself\u001b[39m\u001b[38;5;241m.\u001b[39m_metadata\n\u001b[1;32m   5571\u001b[0m     \u001b[38;5;129;01mand\u001b[39;00m name \u001b[38;5;129;01mnot\u001b[39;00m \u001b[38;5;129;01min\u001b[39;00m \u001b[38;5;28mself\u001b[39m\u001b[38;5;241m.\u001b[39m_accessors\n\u001b[1;32m   5572\u001b[0m     \u001b[38;5;129;01mand\u001b[39;00m \u001b[38;5;28mself\u001b[39m\u001b[38;5;241m.\u001b[39m_info_axis\u001b[38;5;241m.\u001b[39m_can_hold_identifiers_and_holds_name(name)\n\u001b[1;32m   5573\u001b[0m ):\n\u001b[1;32m   5574\u001b[0m     \u001b[38;5;28;01mreturn\u001b[39;00m \u001b[38;5;28mself\u001b[39m[name]\n\u001b[0;32m-> 5575\u001b[0m \u001b[38;5;28;01mreturn\u001b[39;00m \u001b[38;5;28;43mobject\u001b[39;49m\u001b[38;5;241;43m.\u001b[39;49m\u001b[38;5;21;43m__getattribute__\u001b[39;49m\u001b[43m(\u001b[49m\u001b[38;5;28;43mself\u001b[39;49m\u001b[43m,\u001b[49m\u001b[43m \u001b[49m\u001b[43mname\u001b[49m\u001b[43m)\u001b[49m\n",
      "\u001b[0;31mAttributeError\u001b[0m: 'DataFrame' object has no attribute 'area'"
     ]
    }
   ],
   "source": [
    "evict2019_geom['area'] = evict2019_geom.area"
   ]
  },
  {
   "cell_type": "code",
   "execution_count": null,
   "id": "d859fc8a-15f7-444b-8fef-c38345abcfe2",
   "metadata": {},
   "outputs": [],
   "source": [
    "evict2022_geom['area'] = evict2022_geom.area"
   ]
  },
  {
   "cell_type": "code",
   "execution_count": null,
   "id": "b9213561-1a4a-48f5-ad4b-c4b36ebea9d9",
   "metadata": {},
   "outputs": [],
   "source": [
    "evict2019_geom['density'] =  (evict2019_geom['sum'] / evict2019_geom['area'])*1e6\n",
    "#1e6 converts to km sq not m sq"
   ]
  },
  {
   "cell_type": "code",
   "execution_count": null,
   "id": "4d9e8145-21e7-4693-8b59-2bfa724b1030",
   "metadata": {},
   "outputs": [],
   "source": [
    "evict2022_geom['density'] =  (evict2022_geom['sum'] / evict2022_geom['area'])*1e6\n",
    "#1e6 converts to km sq not m sq"
   ]
  },
  {
   "cell_type": "code",
   "execution_count": null,
   "id": "c1071e45-505c-4201-b9c5-fac85cd7747c",
   "metadata": {},
   "outputs": [],
   "source": [
    "from sklearn.preprocessing import power_transform\n",
    "evict2019_geom[\"transformed_evict\"] = power_transform(evict2019_geom[[\"density\"]], method='yeo-johnson')"
   ]
  },
  {
   "cell_type": "code",
   "execution_count": null,
   "id": "800d909f-156a-4534-9ac0-1da02d599199",
   "metadata": {},
   "outputs": [],
   "source": [
    "from sklearn.preprocessing import power_transform\n",
    "evict2022_geom[\"transformed_evict\"] = power_transform(evict2022_geom[[\"density\"]], method='yeo-johnson')"
   ]
  },
  {
   "cell_type": "code",
   "execution_count": null,
   "id": "f6b3752d-a2d7-476c-9538-c63d4f02cfce",
   "metadata": {},
   "outputs": [],
   "source": [
    "# Transform the \"sum_evictions\" column\n",
    "mms.fit(evict2019_geom[[\"sum\"]])\n",
    "evict2019_geom[\"transformed_mms\"] = mms.transform(evict2019_geom[[\"density\"]])"
   ]
  },
  {
   "cell_type": "code",
   "execution_count": null,
   "id": "48251621-6f28-4356-b534-c676a2825f99",
   "metadata": {},
   "outputs": [],
   "source": [
    "# Transform the \"sum_evictions\" column\n",
    "mms.fit(evict2022_geom[[\"sum\"]])\n",
    "evict2022_geom[\"transformed_mms\"] = mms.transform(evict2022_geom[[\"density\"]])"
   ]
  },
  {
   "cell_type": "code",
   "execution_count": null,
   "id": "70ae03d3-724f-43c0-af8b-6ec0b952bb0f",
   "metadata": {},
   "outputs": [],
   "source": [
    "#HERE I NEED TO MAP THE COUNT OF EVICTIONS THAT HAVE BEEN STANDARDISED\n",
    "evict2019_geom = evict2019_geom.set_geometry('geometry')\n",
    "evict2019_geom.plot(column='transformed_mms', legend=True, figsize=(8,8));\n",
    "plt.suptitle(\"Density of Evictions based on Min-Max Scaler\", fontsize=14, fontweight='bold');"
   ]
  },
  {
   "cell_type": "code",
   "execution_count": null,
   "id": "6c81498e-e1c0-4002-8ed4-d9dfcc912796",
   "metadata": {},
   "outputs": [],
   "source": [
    "#HERE I NEED TO MAP THE COUNT OF EVICTIONS THAT HAVE BEEN STANDARDISED\n",
    "evict2022_geom = evict2022_geom.set_geometry('geometry')\n",
    "evict2022_geom.plot(column='transformed_mms', legend=True, figsize=(8,8));\n",
    "plt.suptitle(\"Density of Evictions based on Min-Max Scaler\", fontsize=14, fontweight='bold');"
   ]
  }
 ],
 "metadata": {
  "kernelspec": {
   "display_name": "Python 3 (ipykernel)",
   "language": "python",
   "name": "python3"
  },
  "language_info": {
   "codemirror_mode": {
    "name": "ipython",
    "version": 3
   },
   "file_extension": ".py",
   "mimetype": "text/x-python",
   "name": "python",
   "nbconvert_exporter": "python",
   "pygments_lexer": "ipython3",
   "version": "3.10.5"
  }
 },
 "nbformat": 4,
 "nbformat_minor": 5
}
