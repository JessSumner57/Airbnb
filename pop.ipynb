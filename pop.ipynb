{
 "cells": [
  {
   "cell_type": "code",
   "execution_count": null,
   "id": "8900215f-0c1d-4813-a65e-3b7cba3b9b10",
   "metadata": {},
   "outputs": [],
   "source": [
    "import pandas as pd"
   ]
  },
  {
   "cell_type": "code",
   "execution_count": null,
   "id": "627874df-fa0d-40d6-a988-ac181c8c6791",
   "metadata": {},
   "outputs": [],
   "source": [
    "# filter out City of London and \n",
    "housing = pd.read_csv('housing-density-borough.csv', usecols = [1, 2, 4], \n",
    "                      header = 0, skiprows = 52, skipfooter = 156, engine = 'python',\n",
    "                     names = ['borough', 'year', 'population'])\n",
    "housing.head(n=5)"
   ]
  },
  {
   "cell_type": "code",
   "execution_count": null,
   "id": "15ff087e-26d3-4bbc-977b-0cee7d20e9ee",
   "metadata": {},
   "outputs": [],
   "source": [
    "# filter out date between 2010 and 2022\n",
    "# you can change the year if you want \n",
    "population = housing.loc[(housing['year'] > 2009) & (housing['year'] < 2022)]\n",
    "population.info()"
   ]
  }
 ],
 "metadata": {
  "kernelspec": {
   "display_name": "Python 3 (ipykernel)",
   "language": "python",
   "name": "python3"
  },
  "language_info": {
   "codemirror_mode": {
    "name": "ipython",
    "version": 3
   },
   "file_extension": ".py",
   "mimetype": "text/x-python",
   "name": "python",
   "nbconvert_exporter": "python",
   "pygments_lexer": "ipython3",
   "version": "3.10.5"
  }
 },
 "nbformat": 4,
 "nbformat_minor": 5
}
