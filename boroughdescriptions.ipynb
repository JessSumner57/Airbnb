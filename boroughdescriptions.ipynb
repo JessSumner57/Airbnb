{
 "cells": [
  {
   "cell_type": "markdown",
   "id": "a24d7fbb-c428-4536-a737-facbff962bd5",
   "metadata": {},
   "source": [
    "# Taking a Closer Look: Camden, Hackney, & Kensington and Chelsea"
   ]
  },
  {
   "cell_type": "markdown",
   "id": "9b739a58-f5e9-4e6a-ad6e-fd4d5c83b4ca",
   "metadata": {},
   "source": [
    "### *Camden*\n",
    "\n",
    "The London Borough of Camden is located in central London. According to census data from 2020, the borough has a total population of 263,000 individuals (Office of National Statistics, 2020).  \n",
    "\n",
    "Demographic Statistics by Ethnic Group (Office of National Statistics, 2020): <br /> \n",
    "* White: 155,000 (~59%)\n",
    "* Asian: 34,000 (~13%)\n",
    "* Black: 29,000 (~11%)\n",
    "* Mixed/Other: 45,000 (~17%)\n"
   ]
  },
  {
   "cell_type": "markdown",
   "id": "d0a9f295-369b-4663-aecb-b44191d81550",
   "metadata": {},
   "source": [
    "### *Hackney*\n",
    "\n",
    "The London Borough of Hackney is located east of Camden, separated only by the borough of Islington. According to census data from 2020, the borough has a total population of 289,000 individuals (Office of National Statistics, 2020).  \n",
    "\n",
    "Demographic Statistics by Ethnic Group (Census Data, 2020): <br /> \n",
    "* White: 167,000 (~58%)\n",
    "* Asian: 19,000 (~7%)\n",
    "* Black: 49,000 (~17%)\n",
    "* Mixed/Other: 53,000 (~18%)"
   ]
  },
  {
   "cell_type": "markdown",
   "id": "28d06371-e2eb-46c1-ad33-9d613a81c313",
   "metadata": {},
   "source": [
    "### *Kensington and Chelsea*\n",
    "\n",
    "The Royal Borough of Kensington and Chelsea is located west of both Camden and Hackney. According to census data from 2020, the borough has a total population of 153,000 individuals, making it markedly smaller than the other two areas being analyzed (Office of National Statistics, 2020).  \n",
    "\n",
    "Demographic Statistics by Ethnic Group (Census Data, 2020): <br /> \n",
    "* White: 109,000 (~71%)\n",
    "* Asian: 15,000 (~10%)\n",
    "* Black: 14,000 (~9%)\n",
    "* Mixed/Other: 15,000 (~10%)"
   ]
  },
  {
   "cell_type": "code",
   "execution_count": null,
   "id": "482d0c31-5ab9-47dc-886b-af6b1ab8e681",
   "metadata": {},
   "outputs": [],
   "source": []
  }
 ],
 "metadata": {
  "kernelspec": {
   "display_name": "Python 3 (ipykernel)",
   "language": "python",
   "name": "python3"
  },
  "language_info": {
   "codemirror_mode": {
    "name": "ipython",
    "version": 3
   },
   "file_extension": ".py",
   "mimetype": "text/x-python",
   "name": "python",
   "nbconvert_exporter": "python",
   "pygments_lexer": "ipython3",
   "version": "3.10.5"
  }
 },
 "nbformat": 4,
 "nbformat_minor": 5
}
