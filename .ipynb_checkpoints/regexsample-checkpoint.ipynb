{
 "cells": [
  {
   "cell_type": "code",
   "execution_count": 1,
   "id": "722936dc-4b71-4110-ac05-ca46ca2c5413",
   "metadata": {},
   "outputs": [
    {
     "name": "stderr",
     "output_type": "stream",
     "text": [
      "<jemalloc>: MADV_DONTNEED does not work (memset will be used instead)\n",
      "<jemalloc>: (This is the expected behaviour if you are running under QEMU)\n"
     ]
    }
   ],
   "source": [
    "import re\n",
    "import pandas as pd"
   ]
  },
  {
   "cell_type": "code",
   "execution_count": 3,
   "id": "fba77cc5-b814-4444-8745-ac94f83c6adb",
   "metadata": {},
   "outputs": [],
   "source": [
    "df = pd.read_csv ('listings_summary.csv')"
   ]
  },
  {
   "cell_type": "code",
   "execution_count": 13,
   "id": "7331046c-2d66-4cf9-b913-243be1398aa2",
   "metadata": {},
   "outputs": [
    {
     "data": {
      "text/plain": [
       "0               Arty and Bright London Apartment in Zone 2\n",
       "1                      Holiday London DB Room Let-on going\n",
       "2                        Sunny Notting Hill flat & terrace\n",
       "3                      Bright Chelsea  Apartment. Chelsea!\n",
       "4        MODERN SELF CONTAINED ARCHITECT FLATLET, ISLIN...\n",
       "                               ...                        \n",
       "85063                     Beautiful flat in Central London\n",
       "85064      Elegant stylish modern house with amazing view!\n",
       "85065                    Holland Road - Kensington Olympia\n",
       "85066       Functional single room 18 min to London Bridge\n",
       "85067    EXQUISITE APARTMENT, PEACEFUL ENVIRONMENT IN SOHO\n",
       "Name: name, Length: 85068, dtype: object"
      ]
     },
     "execution_count": 13,
     "metadata": {},
     "output_type": "execute_result"
    }
   ],
   "source": [
    "dfhomes = df[\"name\"]\n",
    "dfhomes"
   ]
  },
  {
   "cell_type": "code",
   "execution_count": 24,
   "id": "31190ec0-e059-4c7d-a9f5-547f642edfca",
   "metadata": {},
   "outputs": [
    {
     "data": {
      "text/plain": [
       "0        False\n",
       "1        False\n",
       "2        False\n",
       "3        False\n",
       "4        False\n",
       "         ...  \n",
       "85063    False\n",
       "85064    False\n",
       "85065    False\n",
       "85066    False\n",
       "85067    False\n",
       "Name: name, Length: 85068, dtype: object"
      ]
     },
     "execution_count": 24,
     "metadata": {},
     "output_type": "execute_result"
    }
   ],
   "source": [
    "S=pd.Series(dfhomes)\n",
    "S.str.contains('hos?tel')\n"
   ]
  },
  {
   "cell_type": "code",
   "execution_count": 27,
   "id": "2dcaac14-16c4-4342-97a0-dba5ddb047dd",
   "metadata": {},
   "outputs": [
    {
     "data": {
      "text/plain": [
       "1380     RIVERSIDE Cosy SECURE double rm-hotel style sh...\n",
       "2654      Boutique hotel style 2 bed flat/2 bath apartment\n",
       "3191                   Stunning balcony apt in 1850s hotel\n",
       "8219                      Double room in boutique hotel R7\n",
       "8220                      Double room in boutique hotel R8\n",
       "                               ...                        \n",
       "78433    Cheep private Double rooms in London hostel xo...\n",
       "79934    Cosy double room in London hostel, safe and cheep\n",
       "81913                      A cup of memory apartment hotel\n",
       "82678                        Five star hotel accommodation\n",
       "82758    Very central & modern double bedroom, hotel de...\n",
       "Name: name, Length: 81, dtype: object"
      ]
     },
     "execution_count": 27,
     "metadata": {},
     "output_type": "execute_result"
    }
   ],
   "source": [
    "dfhomes[dfhomes.str.contains('hos?tel')==True]"
   ]
  },
  {
   "cell_type": "code",
   "execution_count": null,
   "id": "e7ca5650-fd51-46d6-b551-ed4243f7f70b",
   "metadata": {},
   "outputs": [],
   "source": []
  }
 ],
 "metadata": {
  "kernelspec": {
   "display_name": "Python 3 (ipykernel)",
   "language": "python",
   "name": "python3"
  },
  "language_info": {
   "codemirror_mode": {
    "name": "ipython",
    "version": 3
   },
   "file_extension": ".py",
   "mimetype": "text/x-python",
   "name": "python",
   "nbconvert_exporter": "python",
   "pygments_lexer": "ipython3",
   "version": "3.10.5"
  }
 },
 "nbformat": 4,
 "nbformat_minor": 5
}
