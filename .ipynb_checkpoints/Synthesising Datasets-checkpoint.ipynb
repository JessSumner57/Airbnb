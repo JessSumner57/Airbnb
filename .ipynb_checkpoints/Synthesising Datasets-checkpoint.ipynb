{
 "cells": [
  {
   "cell_type": "markdown",
   "id": "aa204eff-80d2-4d3b-8ebc-9cb15ad54383",
   "metadata": {},
   "source": [
    "# Synthesising Datasets\n",
    "In this notebook, we combine the **cleaned** datasets that came from other analysis. Geometry needs to be added back into the datasets.\n",
    "\n",
    "* Inside Airbnb Datasets\n",
    "* LSOA & Deprivation\n",
    "* Evictions"
   ]
  },
  {
   "cell_type": "code",
   "execution_count": 1,
   "id": "b524336b-2d46-4c49-8b46-9e27120e088b",
   "metadata": {},
   "outputs": [
    {
     "name": "stderr",
     "output_type": "stream",
     "text": [
      "<jemalloc>: MADV_DONTNEED does not work (memset will be used instead)\n",
      "<jemalloc>: (This is the expected behaviour if you are running under QEMU)\n"
     ]
    }
   ],
   "source": [
    "import os\n",
    "import numpy as np\n",
    "import pandas as pd\n",
    "import geopandas as gpd\n",
    "import seaborn as sns\n",
    "import matplotlib.cm as cm\n",
    "import matplotlib.pyplot as plt\n",
    "import matplotlib as mpl\n",
    "import re\n",
    "import math\n",
    "\n",
    "from matplotlib.colors import ListedColormap\n",
    "\n",
    "# All of these are potentially useful, though\n",
    "# not all have been used in this practical --\n",
    "# I'd suggest exploring the use of different \n",
    "# Scalers/Transformers as well as clustering \n",
    "# algorithms...\n",
    "import sklearn\n",
    "from sklearn.neighbors import NearestNeighbors\n",
    "from sklearn.decomposition import PCA\n",
    "from sklearn.preprocessing import MinMaxScaler, StandardScaler, RobustScaler, PowerTransformer\n",
    "from sklearn.cluster import KMeans, DBSCAN, OPTICS\n",
    "from sklearn.ensemble import RandomForestClassifier\n",
    "from sklearn.metrics import silhouette_samples, silhouette_score\n",
    "from sklearn.preprocessing import OneHotEncoder\n",
    "from sklearn.feature_extraction.text import TfidfVectorizer\n",
    "from sklearn.feature_extraction.text import CountVectorizer\n",
    "from sklearn.decomposition import LatentDirichletAllocation\n",
    "\n",
    "import random\n",
    "random.seed(42)    # For reproducibility\n",
    "np.random.seed(42) # For reproducibility\n",
    "\n",
    "# Make numeric display a bit neater\n",
    "pd.set_option('display.float_format', lambda x: '{:,.2f}'.format(x))"
   ]
  },
  {
   "cell_type": "code",
   "execution_count": 2,
   "id": "34b79ebb-af71-4434-8ef8-5a8eb48d3662",
   "metadata": {},
   "outputs": [],
   "source": [
    "# This is the Cache Function Jon wrote\n",
    "import os\n",
    "from requests import get\n",
    "from urllib.parse import urlparse\n",
    "\n",
    "def cache_data(src:str, dest:str) -> str:\n",
    "    \"\"\"Downloads and caches a remote file locally.\n",
    "    \n",
    "    The function sits between the 'read' step of a pandas or geopandas\n",
    "    data frame and downloading the file from a remote location. The idea\n",
    "    is that it will save it locally so that you don't need to remember to\n",
    "    do so yourself. Subsequent re-reads of the file will return instantly\n",
    "    rather than downloading the entire file for a second or n-th itme.\n",
    "    \n",
    "    Parameters\n",
    "    ----------\n",
    "    src : str\n",
    "        The remote *source* for the file, any valid URL should work.\n",
    "    dest : str\n",
    "        The *destination* location to save the downloaded file.\n",
    "        \n",
    "    Returns\n",
    "    -------\n",
    "    str\n",
    "        A string representing the local location of the file.\n",
    "    \"\"\"\n",
    "    \n",
    "    url = urlparse(src) # We assume that this is some kind of valid URL \n",
    "    fn  = os.path.split(url.path)[-1] # Extract the filename\n",
    "    dfn = os.path.join(dest,fn) # Destination filename\n",
    "    \n",
    "    # Check if dest+filename does *not* exist -- \n",
    "    # that would mean we have to download it!\n",
    "    if not os.path.isfile(dfn) or os.path.getsize(dfn) < 1:\n",
    "        \n",
    "        print(f\"{dfn} not found, downloading!\")\n",
    "\n",
    "        # Convert the path back into a list (without)\n",
    "        # the filename -- we need to check that directories\n",
    "        # exist first.\n",
    "        path = os.path.split(dest)\n",
    "        \n",
    "        # Create any missing directories in dest(ination) path\n",
    "        # -- os.path.join is the reverse of split (as you saw above)\n",
    "        # but it doesn't work with lists... so I had to google how\n",
    "        # to use the 'splat' operator! os.makedirs creates missing\n",
    "        # directories in a path automatically.\n",
    "        if len(path) >= 1 and path[0] != '':\n",
    "            os.makedirs(os.path.join(*path), exist_ok=True)\n",
    "            \n",
    "        # Download and write the file\n",
    "        with open(dfn, \"wb\") as file:\n",
    "            response = get(src)\n",
    "            file.write(response.content)\n",
    "            \n",
    "        print('Done downloading...')\n",
    "\n",
    "    else:\n",
    "        print(f\"Found {dfn} locally!\")\n",
    "\n",
    "    return dfn"
   ]
  },
  {
   "cell_type": "code",
   "execution_count": 3,
   "id": "b0329495-f4ce-4608-8c92-936e80266025",
   "metadata": {},
   "outputs": [
    {
     "name": "stdout",
     "output_type": "stream",
     "text": [
      "Found data/geo/Boroughs.gpkg locally!\n",
      "Found data/geo/Water.gpkg locally!\n",
      "Found data/geo/Greenspace.gpkg locally!\n",
      "Done.\n"
     ]
    }
   ],
   "source": [
    "# adding the borough data for maps\n",
    "ddir  = os.path.join('data','geo') # destination directory\n",
    "spath = 'https://github.com/jreades/fsds/blob/master/data/src/' # source path\n",
    "\n",
    "boros = gpd.read_file( cache_data(spath+'Boroughs.gpkg?raw=true', ddir) )\n",
    "water = gpd.read_file( cache_data(spath+'Water.gpkg?raw=true', ddir) )\n",
    "green = gpd.read_file( cache_data(spath+'Greenspace.gpkg?raw=true', ddir) )\n",
    "\n",
    "print('Done.')"
   ]
  },
  {
   "cell_type": "code",
   "execution_count": 4,
   "id": "070f47a4-c8e8-49f0-9ebb-5f4bcb4e0540",
   "metadata": {},
   "outputs": [],
   "source": [
    "lsoa_shp_file = gpd.read_file('LSOA & Dep Data/ESRI/LSOA_2011_London_gen_MHW.shp')"
   ]
  },
  {
   "cell_type": "markdown",
   "id": "220800b4-d8b8-4ab0-b394-8f8082625e39",
   "metadata": {},
   "source": [
    "#### Read in 2022 Airbnb Data"
   ]
  },
  {
   "cell_type": "code",
   "execution_count": 5,
   "id": "59de60b0-8fcf-479b-a7c6-c787baa5fa34",
   "metadata": {},
   "outputs": [],
   "source": [
    "#Note, this does not include the geometry because that is not preserved when something is read as a feather. Further, this only includes the fields we are interested in. For the cleaned dataset with all of the fields clean, go to the Airbnb2022_Final.ipynb\n",
    "listings2022 = pd.read_feather('listings22')"
   ]
  },
  {
   "cell_type": "markdown",
   "id": "bbf7126e-101d-4205-8b42-e3982ee8654b",
   "metadata": {},
   "source": [
    "<u>The following Datasets have been Filtered by Terms associated with Gentrification<u>"
   ]
  },
  {
   "cell_type": "code",
   "execution_count": 6,
   "id": "443fe8cd-a216-4289-86cd-1e3f55fb5d23",
   "metadata": {},
   "outputs": [],
   "source": [
    "listings2022_gentrification = pd.read_feather('listings22_gentrification')"
   ]
  },
  {
   "cell_type": "code",
   "execution_count": 7,
   "id": "02df5753-becf-4c63-b012-7dcc49e8ea24",
   "metadata": {},
   "outputs": [],
   "source": [
    "listings2022_kensington_chelsea = pd.read_feather('listings22_kensington_chelsea')"
   ]
  },
  {
   "cell_type": "code",
   "execution_count": 8,
   "id": "1da97462-b16d-4f87-b9ab-e082a9619666",
   "metadata": {},
   "outputs": [],
   "source": [
    "listings2022_camden = pd.read_feather('listings22_camden')"
   ]
  },
  {
   "cell_type": "code",
   "execution_count": 9,
   "id": "7336493c-f37a-4968-8cf4-2a07f787724d",
   "metadata": {},
   "outputs": [],
   "source": [
    "listings2022_hackney = pd.read_feather('listings22_hackney')"
   ]
  },
  {
   "cell_type": "markdown",
   "id": "dc662519-75a1-4021-ad5f-f5e2d486d743",
   "metadata": {},
   "source": [
    "#### Read in 2019 Airbnb Data"
   ]
  },
  {
   "cell_type": "markdown",
   "id": "dbcf23b4-cf00-4792-9e0d-133c68391638",
   "metadata": {},
   "source": [
    "#### Read in Eviction Data"
   ]
  },
  {
   "cell_type": "code",
   "execution_count": 10,
   "id": "9cf2239b-670e-4d37-83cd-c3196329cdd6",
   "metadata": {},
   "outputs": [],
   "source": [
    "evict2019 = pd.read_csv('2019_evictions_geom')"
   ]
  },
  {
   "cell_type": "code",
   "execution_count": 11,
   "id": "bca5734f-6cb5-4b7c-8174-2cb6f9dee687",
   "metadata": {},
   "outputs": [],
   "source": [
    "evict2022 = pd.read_csv('2022_evictions_geom')"
   ]
  },
  {
   "cell_type": "markdown",
   "id": "963c318c-3176-4ee9-a950-9e40a4cf3f3f",
   "metadata": {},
   "source": [
    "#### Read in LSOA & IMD Data\n",
    "This data is for each borough that we are targetting but broken down into LSOAs so we can get a more micro level view of deprivation there."
   ]
  },
  {
   "cell_type": "code",
   "execution_count": 12,
   "id": "86d3d7c5-1392-4e15-8a7d-3b52139c456a",
   "metadata": {},
   "outputs": [],
   "source": [
    "hackney_dep = pd.read_csv('LSOA & Dep Data/hackLSOA_dep')"
   ]
  },
  {
   "cell_type": "code",
   "execution_count": 13,
   "id": "59980e7e-d1ef-4ea8-9b09-7ce5ad965c0a",
   "metadata": {},
   "outputs": [],
   "source": [
    "camden_dep = pd.read_csv('LSOA & Dep Data/CamdenLSOA_dep')"
   ]
  },
  {
   "cell_type": "code",
   "execution_count": 14,
   "id": "40d0fb1d-74c0-4ae4-a783-c972cb29708f",
   "metadata": {},
   "outputs": [],
   "source": [
    "kc_dep = pd.read_csv('LSOA & Dep Data/kcLSOA_dep')"
   ]
  },
  {
   "cell_type": "code",
   "execution_count": 15,
   "id": "0cd03c26-cbc5-4ef1-b54b-4047b9a18acc",
   "metadata": {},
   "outputs": [],
   "source": [
    "London_dep = pd.read_csv('LSOA & Dep Data/London_dep')"
   ]
  },
  {
   "cell_type": "code",
   "execution_count": 16,
   "id": "e17c0504-6f45-478a-b4dc-5a99fe57c2a7",
   "metadata": {},
   "outputs": [
    {
     "data": {
      "text/plain": [
       "['Unnamed: 0',\n",
       " 'LSOA11CD',\n",
       " 'LSOA11NM',\n",
       " 'geometry',\n",
       " 'LSOA code (2011)',\n",
       " 'Local Authority District code (2019)',\n",
       " 'LAD',\n",
       " 'Barriers to Housing and Services Score',\n",
       " 'Barriers to Housing and Services Rank (where 1 is most deprived)',\n",
       " 'Barriers to Housing and Services Decile (where 1 is most deprived 10% of LSOAs)',\n",
       " 'transformed_mms']"
      ]
     },
     "execution_count": 16,
     "metadata": {},
     "output_type": "execute_result"
    }
   ],
   "source": [
    "London_dep.columns.tolist()"
   ]
  },
  {
   "cell_type": "code",
   "execution_count": 17,
   "id": "1411a279-b1c0-4d1f-b8ec-e792ded319ef",
   "metadata": {},
   "outputs": [],
   "source": [
    "London_borough_dep = London_dep.groupby('LAD')['Barriers to Housing and Services Score'].agg('mean')"
   ]
  },
  {
   "cell_type": "code",
   "execution_count": 18,
   "id": "bbe1db83-f191-4060-b85b-3c818474387f",
   "metadata": {},
   "outputs": [
    {
     "name": "stdout",
     "output_type": "stream",
     "text": [
      "<class 'pandas.core.series.Series'>\n",
      "Index: 33 entries, Barking and Dagenham to Westminster\n",
      "Series name: Barriers to Housing and Services Score\n",
      "Non-Null Count  Dtype  \n",
      "--------------  -----  \n",
      "33 non-null     float64\n",
      "dtypes: float64(1)\n",
      "memory usage: 528.0+ bytes\n"
     ]
    }
   ],
   "source": [
    "London_borough_dep.info(verbose=True)"
   ]
  },
  {
   "cell_type": "markdown",
   "id": "c7391abd-39ca-4bcd-b3a2-15347c00ccc0",
   "metadata": {},
   "source": [
    "### Merging 2022 Airbnb Data: All London"
   ]
  },
  {
   "cell_type": "code",
   "execution_count": 66,
   "id": "490f5b7d-ddc8-4729-aa84-608914565bf8",
   "metadata": {},
   "outputs": [],
   "source": [
    "airbnb_merged1 = pd.merge(listings2022, evict2022, how=\"inner\", left_on='neighbourhood_cleansed', \n",
    "                          right_on='Area', suffixes=('neighbourhood_cleansed', 'Area'))"
   ]
  },
  {
   "cell_type": "code",
   "execution_count": 72,
   "id": "c3d8d625-05d2-459a-ba43-008f594f0fe8",
   "metadata": {},
   "outputs": [],
   "source": [
    "airbnb_merged2 = pd.merge(airbnb_merged1, London_borough_dep, how=\"inner\", left_on='neighbourhood_cleansed', \n",
    "                          right_on='LAD', suffixes=('neighbourhood_cleansed', 'Area'))"
   ]
  },
  {
   "cell_type": "code",
   "execution_count": 73,
   "id": "30db27b4-6db9-4027-89d1-d5560525335c",
   "metadata": {},
   "outputs": [
    {
     "name": "stdout",
     "output_type": "stream",
     "text": [
      "<class 'pandas.core.frame.DataFrame'>\n",
      "Int64Index: 69054 entries, 0 to 69053\n",
      "Data columns (total 28 columns):\n",
      " #   Column                                  Non-Null Count  Dtype   \n",
      "---  ------                                  --------------  -----   \n",
      " 0   id                                      69054 non-null  int64   \n",
      " 1   name                                    69034 non-null  object  \n",
      " 2   description                             67827 non-null  object  \n",
      " 3   host_id                                 69054 non-null  int64   \n",
      " 4   host_location                           56983 non-null  category\n",
      " 5   host_listings_count                     69054 non-null  UInt16  \n",
      " 6   host_total_listings_count               69054 non-null  UInt16  \n",
      " 7   neighbourhood_cleansed                  69054 non-null  object  \n",
      " 8   latitude                                69054 non-null  float64 \n",
      " 9   longitude                               69054 non-null  float64 \n",
      " 10  property_type                           69054 non-null  category\n",
      " 11  room_type                               69054 non-null  category\n",
      " 12  price                                   69054 non-null  float64 \n",
      " 13  minimum_nights                          69054 non-null  int64   \n",
      " 14  maximum_nights                          69054 non-null  int64   \n",
      " 15  Unnamed: 0                              69054 non-null  int64   \n",
      " 16  Area                                    69054 non-null  object  \n",
      " 17  Repossessions                           56705 non-null  float64 \n",
      " 18  NAME                                    69054 non-null  object  \n",
      " 19  GSS_CODE                                69054 non-null  object  \n",
      " 20  HECTARES                                69054 non-null  float64 \n",
      " 21  NONLD_AREA                              69054 non-null  float64 \n",
      " 22  ONS_INNER                               69054 non-null  object  \n",
      " 23  geometry                                69054 non-null  object  \n",
      " 24  area                                    69054 non-null  float64 \n",
      " 25  density                                 56705 non-null  float64 \n",
      " 26  Standardised Evictions                  56705 non-null  float64 \n",
      " 27  Barriers to Housing and Services Score  69054 non-null  float64 \n",
      "dtypes: UInt16(2), category(3), float64(10), int64(5), object(8)\n",
      "memory usage: 13.4+ MB\n"
     ]
    }
   ],
   "source": [
    "airbnb_merged2.info(verbose=True)"
   ]
  },
  {
   "cell_type": "code",
   "execution_count": 74,
   "id": "da6664b6-cf4c-453e-add2-82a056beded7",
   "metadata": {},
   "outputs": [
    {
     "data": {
      "text/html": [
       "<div>\n",
       "<style scoped>\n",
       "    .dataframe tbody tr th:only-of-type {\n",
       "        vertical-align: middle;\n",
       "    }\n",
       "\n",
       "    .dataframe tbody tr th {\n",
       "        vertical-align: top;\n",
       "    }\n",
       "\n",
       "    .dataframe thead th {\n",
       "        text-align: right;\n",
       "    }\n",
       "</style>\n",
       "<table border=\"1\" class=\"dataframe\">\n",
       "  <thead>\n",
       "    <tr style=\"text-align: right;\">\n",
       "      <th></th>\n",
       "      <th>id</th>\n",
       "      <th>name</th>\n",
       "      <th>description</th>\n",
       "      <th>host_id</th>\n",
       "      <th>host_location</th>\n",
       "      <th>host_listings_count</th>\n",
       "      <th>host_total_listings_count</th>\n",
       "      <th>neighbourhood_cleansed</th>\n",
       "      <th>latitude</th>\n",
       "      <th>longitude</th>\n",
       "      <th>...</th>\n",
       "      <th>NAME</th>\n",
       "      <th>GSS_CODE</th>\n",
       "      <th>HECTARES</th>\n",
       "      <th>NONLD_AREA</th>\n",
       "      <th>ONS_INNER</th>\n",
       "      <th>geometry</th>\n",
       "      <th>area</th>\n",
       "      <th>density</th>\n",
       "      <th>Standardised Evictions</th>\n",
       "      <th>Barriers to Housing and Services Score</th>\n",
       "    </tr>\n",
       "  </thead>\n",
       "  <tbody>\n",
       "    <tr>\n",
       "      <th>26748</th>\n",
       "      <td>26719908</td>\n",
       "      <td>Lovely Room &amp; Private Bathroom in Heart of London</td>\n",
       "      <td>A spacious  double bedroom in a quiet and char...</td>\n",
       "      <td>67136977</td>\n",
       "      <td>London, United Kingdom</td>\n",
       "      <td>2</td>\n",
       "      <td>2</td>\n",
       "      <td>Barnet</td>\n",
       "      <td>51.60</td>\n",
       "      <td>-0.17</td>\n",
       "      <td>...</td>\n",
       "      <td>Barnet</td>\n",
       "      <td>E09000003</td>\n",
       "      <td>8,674.84</td>\n",
       "      <td>0.00</td>\n",
       "      <td>F</td>\n",
       "      <td>MULTIPOLYGON (((524579.9 198355.2, 524594.3 19...</td>\n",
       "      <td>86,748,313.71</td>\n",
       "      <td>0.02</td>\n",
       "      <td>-0.67</td>\n",
       "      <td>30.95</td>\n",
       "    </tr>\n",
       "    <tr>\n",
       "      <th>7959</th>\n",
       "      <td>666795095814155904</td>\n",
       "      <td>Earls Court amazing apartment</td>\n",
       "      <td>Amazing two bedroom apartment in the heart of ...</td>\n",
       "      <td>376737833</td>\n",
       "      <td>England, United Kingdom</td>\n",
       "      <td>11</td>\n",
       "      <td>17</td>\n",
       "      <td>Kensington and Chelsea</td>\n",
       "      <td>51.49</td>\n",
       "      <td>-0.19</td>\n",
       "      <td>...</td>\n",
       "      <td>Kensington and Chelsea</td>\n",
       "      <td>E09000020</td>\n",
       "      <td>1,238.38</td>\n",
       "      <td>25.99</td>\n",
       "      <td>T</td>\n",
       "      <td>MULTIPOLYGON (((526219.7 176948, 526208.8 1769...</td>\n",
       "      <td>12,123,847.99</td>\n",
       "      <td>0.25</td>\n",
       "      <td>-0.33</td>\n",
       "      <td>36.07</td>\n",
       "    </tr>\n",
       "    <tr>\n",
       "      <th>62479</th>\n",
       "      <td>707223623246346880</td>\n",
       "      <td>Cheerful 5 bedroom townhouse with hot tub</td>\n",
       "      <td>Have fun with the whole family at this stylish...</td>\n",
       "      <td>2305090</td>\n",
       "      <td>Leeds, United Kingdom</td>\n",
       "      <td>2</td>\n",
       "      <td>2</td>\n",
       "      <td>Lewisham</td>\n",
       "      <td>51.43</td>\n",
       "      <td>-0.04</td>\n",
       "      <td>...</td>\n",
       "      <td>Lewisham</td>\n",
       "      <td>E09000023</td>\n",
       "      <td>3,531.71</td>\n",
       "      <td>16.80</td>\n",
       "      <td>T</td>\n",
       "      <td>MULTIPOLYGON (((536691 178958.6, 536691.9 1789...</td>\n",
       "      <td>35,149,084.92</td>\n",
       "      <td>0.06</td>\n",
       "      <td>-0.67</td>\n",
       "      <td>34.73</td>\n",
       "    </tr>\n",
       "    <tr>\n",
       "      <th>29103</th>\n",
       "      <td>25364250</td>\n",
       "      <td>Luxury 2 Bed Flat - Chelsea Harbour</td>\n",
       "      <td>Modern luxury two double bedroom apartment by ...</td>\n",
       "      <td>89082681</td>\n",
       "      <td>London, United Kingdom</td>\n",
       "      <td>1</td>\n",
       "      <td>2</td>\n",
       "      <td>Hammersmith and Fulham</td>\n",
       "      <td>51.47</td>\n",
       "      <td>-0.18</td>\n",
       "      <td>...</td>\n",
       "      <td>Hammersmith and Fulham</td>\n",
       "      <td>E09000013</td>\n",
       "      <td>1,715.41</td>\n",
       "      <td>75.65</td>\n",
       "      <td>T</td>\n",
       "      <td>MULTIPOLYGON (((521975.8 178100, 521973 178109...</td>\n",
       "      <td>16,397,617.54</td>\n",
       "      <td>NaN</td>\n",
       "      <td>NaN</td>\n",
       "      <td>28.11</td>\n",
       "    </tr>\n",
       "    <tr>\n",
       "      <th>22832</th>\n",
       "      <td>20458359</td>\n",
       "      <td>Room in Tooting</td>\n",
       "      <td>It is a bright and spacious double bedroom wit...</td>\n",
       "      <td>143054174</td>\n",
       "      <td>London, United Kingdom</td>\n",
       "      <td>2</td>\n",
       "      <td>6</td>\n",
       "      <td>Wandsworth</td>\n",
       "      <td>51.43</td>\n",
       "      <td>-0.17</td>\n",
       "      <td>...</td>\n",
       "      <td>Wandsworth</td>\n",
       "      <td>E09000032</td>\n",
       "      <td>3,522.02</td>\n",
       "      <td>95.60</td>\n",
       "      <td>T</td>\n",
       "      <td>MULTIPOLYGON (((523489.6 176224.8, 523500.6 17...</td>\n",
       "      <td>34,264,163.18</td>\n",
       "      <td>0.09</td>\n",
       "      <td>-0.33</td>\n",
       "      <td>26.74</td>\n",
       "    </tr>\n",
       "  </tbody>\n",
       "</table>\n",
       "<p>5 rows × 28 columns</p>\n",
       "</div>"
      ],
      "text/plain": [
       "                       id                                               name  \\\n",
       "26748            26719908  Lovely Room & Private Bathroom in Heart of London   \n",
       "7959   666795095814155904                      Earls Court amazing apartment   \n",
       "62479  707223623246346880          Cheerful 5 bedroom townhouse with hot tub   \n",
       "29103            25364250                Luxury 2 Bed Flat - Chelsea Harbour   \n",
       "22832            20458359                                    Room in Tooting   \n",
       "\n",
       "                                             description    host_id  \\\n",
       "26748  A spacious  double bedroom in a quiet and char...   67136977   \n",
       "7959   Amazing two bedroom apartment in the heart of ...  376737833   \n",
       "62479  Have fun with the whole family at this stylish...    2305090   \n",
       "29103  Modern luxury two double bedroom apartment by ...   89082681   \n",
       "22832  It is a bright and spacious double bedroom wit...  143054174   \n",
       "\n",
       "                 host_location  host_listings_count  \\\n",
       "26748   London, United Kingdom                    2   \n",
       "7959   England, United Kingdom                   11   \n",
       "62479    Leeds, United Kingdom                    2   \n",
       "29103   London, United Kingdom                    1   \n",
       "22832   London, United Kingdom                    2   \n",
       "\n",
       "       host_total_listings_count  neighbourhood_cleansed  latitude  longitude  \\\n",
       "26748                          2                  Barnet     51.60      -0.17   \n",
       "7959                          17  Kensington and Chelsea     51.49      -0.19   \n",
       "62479                          2                Lewisham     51.43      -0.04   \n",
       "29103                          2  Hammersmith and Fulham     51.47      -0.18   \n",
       "22832                          6              Wandsworth     51.43      -0.17   \n",
       "\n",
       "       ...                    NAME   GSS_CODE  HECTARES  NONLD_AREA  \\\n",
       "26748  ...                  Barnet  E09000003  8,674.84        0.00   \n",
       "7959   ...  Kensington and Chelsea  E09000020  1,238.38       25.99   \n",
       "62479  ...                Lewisham  E09000023  3,531.71       16.80   \n",
       "29103  ...  Hammersmith and Fulham  E09000013  1,715.41       75.65   \n",
       "22832  ...              Wandsworth  E09000032  3,522.02       95.60   \n",
       "\n",
       "       ONS_INNER                                           geometry  \\\n",
       "26748          F  MULTIPOLYGON (((524579.9 198355.2, 524594.3 19...   \n",
       "7959           T  MULTIPOLYGON (((526219.7 176948, 526208.8 1769...   \n",
       "62479          T  MULTIPOLYGON (((536691 178958.6, 536691.9 1789...   \n",
       "29103          T  MULTIPOLYGON (((521975.8 178100, 521973 178109...   \n",
       "22832          T  MULTIPOLYGON (((523489.6 176224.8, 523500.6 17...   \n",
       "\n",
       "               area  density Standardised Evictions  \\\n",
       "26748 86,748,313.71     0.02                  -0.67   \n",
       "7959  12,123,847.99     0.25                  -0.33   \n",
       "62479 35,149,084.92     0.06                  -0.67   \n",
       "29103 16,397,617.54      NaN                    NaN   \n",
       "22832 34,264,163.18     0.09                  -0.33   \n",
       "\n",
       "      Barriers to Housing and Services Score  \n",
       "26748                                  30.95  \n",
       "7959                                   36.07  \n",
       "62479                                  34.73  \n",
       "29103                                  28.11  \n",
       "22832                                  26.74  \n",
       "\n",
       "[5 rows x 28 columns]"
      ]
     },
     "execution_count": 74,
     "metadata": {},
     "output_type": "execute_result"
    }
   ],
   "source": [
    "airbnb_merged2.sample(5)"
   ]
  },
  {
   "cell_type": "code",
   "execution_count": 60,
   "id": "7fbff64e-b43a-4ce1-9cce-6012c2575aa8",
   "metadata": {},
   "outputs": [
    {
     "name": "stdout",
     "output_type": "stream",
     "text": [
      "<class 'pandas.core.frame.DataFrame'>\n",
      "Int64Index: 69054 entries, 0 to 69053\n",
      "Data columns (total 28 columns):\n",
      " #   Column                                  Non-Null Count  Dtype   \n",
      "---  ------                                  --------------  -----   \n",
      " 0   id                                      69054 non-null  int64   \n",
      " 1   name                                    69034 non-null  object  \n",
      " 2   description                             67827 non-null  object  \n",
      " 3   host_id                                 69054 non-null  int64   \n",
      " 4   host_location                           56983 non-null  category\n",
      " 5   host_listings_count                     69054 non-null  UInt16  \n",
      " 6   host_total_listings_count               69054 non-null  UInt16  \n",
      " 7   neighbourhood_cleansed                  69054 non-null  object  \n",
      " 8   latitude                                69054 non-null  float64 \n",
      " 9   longitude                               69054 non-null  float64 \n",
      " 10  property_type                           69054 non-null  category\n",
      " 11  room_type                               69054 non-null  category\n",
      " 12  price                                   69054 non-null  float64 \n",
      " 13  minimum_nights                          69054 non-null  int64   \n",
      " 14  maximum_nights                          69054 non-null  int64   \n",
      " 15  Unnamed: 0                              69054 non-null  int64   \n",
      " 16  Area                                    69054 non-null  object  \n",
      " 17  Repossessions                           56705 non-null  float64 \n",
      " 18  NAME                                    69054 non-null  object  \n",
      " 19  GSS_CODE                                69054 non-null  object  \n",
      " 20  HECTARES                                69054 non-null  float64 \n",
      " 21  NONLD_AREA                              69054 non-null  float64 \n",
      " 22  ONS_INNER                               69054 non-null  object  \n",
      " 23  geometry                                69054 non-null  geometry\n",
      " 24  area                                    69054 non-null  float64 \n",
      " 25  density                                 56705 non-null  float64 \n",
      " 26  Standardised Evictions                  56705 non-null  float64 \n",
      " 27  Barriers to Housing and Services Score  69054 non-null  float64 \n",
      "dtypes: UInt16(2), category(3), float64(10), geometry(1), int64(5), object(7)\n",
      "memory usage: 13.4+ MB\n"
     ]
    }
   ],
   "source": [
    "airbnb_merged2.info(verbose=True)"
   ]
  },
  {
   "cell_type": "code",
   "execution_count": 81,
   "id": "32ac4366-5c9e-43c9-91b3-8bd7dc474753",
   "metadata": {},
   "outputs": [
    {
     "name": "stderr",
     "output_type": "stream",
     "text": [
      "/opt/conda/lib/python3.10/site-packages/pyproj/crs/crs.py:141: FutureWarning: '+init=<authority>:<code>' syntax is deprecated. '<authority>:<code>' is the preferred initialization method. When making the change, be mindful of axis order changes: https://pyproj4.github.io/pyproj/stable/gotchas.html#axis-order-changes-in-proj-6\n",
      "  in_crs_string = _prepare_from_proj_string(in_crs_string)\n"
     ]
    }
   ],
   "source": [
    "airbnb_merged2.crs = {'init': 'epsg:4326'}\n",
    "airbnb_merged2 = airbnb_merged2.to_crs('epsg:27700')"
   ]
  },
  {
   "cell_type": "code",
   "execution_count": 85,
   "id": "38e7c6e7-40ca-4456-8e2b-a17808f93ec9",
   "metadata": {},
   "outputs": [
    {
     "data": {
      "text/plain": [
       "<Derived Projected CRS: EPSG:27700>\n",
       "Name: OSGB36 / British National Grid\n",
       "Axis Info [cartesian]:\n",
       "- E[east]: Easting (metre)\n",
       "- N[north]: Northing (metre)\n",
       "Area of Use:\n",
       "- name: United Kingdom (UK) - offshore to boundary of UKCS within 49°45'N to 61°N and 9°W to 2°E; onshore Great Britain (England, Wales and Scotland). Isle of Man onshore.\n",
       "- bounds: (-9.0, 49.75, 2.01, 61.01)\n",
       "Coordinate Operation:\n",
       "- name: British National Grid\n",
       "- method: Transverse Mercator\n",
       "Datum: Ordnance Survey of Great Britain 1936\n",
       "- Ellipsoid: Airy 1830\n",
       "- Prime Meridian: Greenwich"
      ]
     },
     "execution_count": 85,
     "metadata": {},
     "output_type": "execute_result"
    }
   ],
   "source": [
    "airbnb_merged2.crs"
   ]
  },
  {
   "cell_type": "code",
   "execution_count": 84,
   "id": "5ffc15ac-7fd3-4e28-a734-aefe0a6879ba",
   "metadata": {},
   "outputs": [
    {
     "data": {
      "image/png": "[encoded data removed]",
      "text/plain": [
       "<Figure size 864x576 with 2 Axes>"
      ]
     },
     "metadata": {
      "needs_background": "light"
     },
     "output_type": "display_data"
    }
   ],
   "source": [
    "f,ax = plt.subplots(1,1,figsize=(12,8))\n",
    "\n",
    "# The second one is on column2, spread on 3 columns\n",
    "ax1 = plt.subplot2grid((4, 1), (0, 0), rowspan=3)\n",
    "boros.plot(edgecolor='grey', facecolor='none', linewidth=1, alpha=0.75, ax=ax1)\n",
    "airbnb_merged2.plot(markersize=2, column='price', cmap='magma', alpha=0.2, scheme='Fisher_Jenks_Sampled', ax=ax1)\n",
    "\n",
    "ax1.set_xlim([500000, 565000])\n",
    "ax1.set_ylim([165000, 195000]);\n",
    "\n",
    "# The last one is spread on 1 column only, on the 4th column of the second line.\n",
    "ax2 = plt.subplot2grid((4, 1), (3, 0), rowspan=1)\n",
    "airbnb_merged2[airbnb_merged2.price<airbnb_merged2.price.quantile(0.95)].price.plot.hist(bins=100, ax=ax2)\n",
    "#ax2.set_ylim([0,10000])\n",
    "\n",
    "plt.suptitle(\"Listings Advertising using Language related to Gentrification\")\n",
    "# plt.savefig(\"Affordable_Listings.png\", dpi=150)\n",
    "plt.show()"
   ]
  },
  {
   "cell_type": "markdown",
   "id": "6bfc248e-5d07-4ef6-8b87-fe77f6a3f965",
   "metadata": {},
   "source": [
    "### Merging 2022 Airbnb Data & LSOA: Kensington and Chelsea"
   ]
  },
  {
   "cell_type": "code",
   "execution_count": 19,
   "id": "a5bb6f4a-51c3-46ad-91a9-34da0db66c3f",
   "metadata": {},
   "outputs": [],
   "source": [
    "# listings2022_kensington_chelsea = gpd.GeoDataFrame(listings2022_kensington_chelsea,geometry=gpd.points_from_xy(listings2022_kensington_chelsea .longitude, listings2022_kensington_chelsea .latitude, crs='epsg:4326'))"
   ]
  },
  {
   "cell_type": "code",
   "execution_count": 20,
   "id": "304468c7-0a6e-4e70-b2c0-5e639c8686d8",
   "metadata": {},
   "outputs": [],
   "source": [
    "# listings2022_kensington_chelsea = gpd.GeoDataFrame(listings2022_kensington_chelsea, geometry='geometry')\n",
    "# listings2022_kensington_chelsea.crs = {'init': 'epsg:4326'}\n",
    "# listings2022_kensington_chelsea.to_crs('epsg:27700')"
   ]
  },
  {
   "cell_type": "code",
   "execution_count": 21,
   "id": "59b4c201-05d6-4209-983e-8928cbe07b22",
   "metadata": {},
   "outputs": [],
   "source": [
    "# imd2019_house_geom = shp_file.merge(imd2019_housing, how=\"left\", left_on='LSOA11CD', right_on='LSOA code (2011)')"
   ]
  },
  {
   "cell_type": "code",
   "execution_count": 23,
   "id": "087b5172-6f8f-41d4-9655-ae53a05cd113",
   "metadata": {},
   "outputs": [],
   "source": [
    "kc_dep = lsoa_shp_file.merge(kc_dep, how=\"left\", left_on='LSOA11CD', right_on='LSOA code (2011)')"
   ]
  },
  {
   "cell_type": "code",
   "execution_count": 24,
   "id": "531ca258-d7fa-4de8-ab0d-2cd18f354a42",
   "metadata": {},
   "outputs": [
    {
     "data": {
      "text/html": [
       "<div>\n",
       "<style scoped>\n",
       "    .dataframe tbody tr th:only-of-type {\n",
       "        vertical-align: middle;\n",
       "    }\n",
       "\n",
       "    .dataframe tbody tr th {\n",
       "        vertical-align: top;\n",
       "    }\n",
       "\n",
       "    .dataframe thead th {\n",
       "        text-align: right;\n",
       "    }\n",
       "</style>\n",
       "<table border=\"1\" class=\"dataframe\">\n",
       "  <thead>\n",
       "    <tr style=\"text-align: right;\">\n",
       "      <th></th>\n",
       "      <th>LSOA11CD_x</th>\n",
       "      <th>LSOA11NM_x</th>\n",
       "      <th>MSOA11CD</th>\n",
       "      <th>MSOA11NM</th>\n",
       "      <th>LAD11CD</th>\n",
       "      <th>LAD11NM</th>\n",
       "      <th>RGN11CD</th>\n",
       "      <th>RGN11NM</th>\n",
       "      <th>USUALRES</th>\n",
       "      <th>HHOLDRES</th>\n",
       "      <th>...</th>\n",
       "      <th>LSOA11CD_y</th>\n",
       "      <th>LSOA11NM_y</th>\n",
       "      <th>geometry_y</th>\n",
       "      <th>LSOA code (2011)</th>\n",
       "      <th>Local Authority District code (2019)</th>\n",
       "      <th>LAD</th>\n",
       "      <th>Barriers to Housing and Services Score</th>\n",
       "      <th>Barriers to Housing and Services Rank (where 1 is most deprived)</th>\n",
       "      <th>Barriers to Housing and Services Decile (where 1 is most deprived 10% of LSOAs)</th>\n",
       "      <th>transformed_mms</th>\n",
       "    </tr>\n",
       "  </thead>\n",
       "  <tbody>\n",
       "    <tr>\n",
       "      <th>0</th>\n",
       "      <td>E01000001</td>\n",
       "      <td>City of London 001A</td>\n",
       "      <td>E02000001</td>\n",
       "      <td>City of London 001</td>\n",
       "      <td>E09000001</td>\n",
       "      <td>City of London</td>\n",
       "      <td>E12000007</td>\n",
       "      <td>London</td>\n",
       "      <td>1465</td>\n",
       "      <td>1465</td>\n",
       "      <td>...</td>\n",
       "      <td>NaN</td>\n",
       "      <td>NaN</td>\n",
       "      <td>NaN</td>\n",
       "      <td>NaN</td>\n",
       "      <td>NaN</td>\n",
       "      <td>NaN</td>\n",
       "      <td>NaN</td>\n",
       "      <td>NaN</td>\n",
       "      <td>NaN</td>\n",
       "      <td>NaN</td>\n",
       "    </tr>\n",
       "    <tr>\n",
       "      <th>1</th>\n",
       "      <td>E01000002</td>\n",
       "      <td>City of London 001B</td>\n",
       "      <td>E02000001</td>\n",
       "      <td>City of London 001</td>\n",
       "      <td>E09000001</td>\n",
       "      <td>City of London</td>\n",
       "      <td>E12000007</td>\n",
       "      <td>London</td>\n",
       "      <td>1436</td>\n",
       "      <td>1436</td>\n",
       "      <td>...</td>\n",
       "      <td>NaN</td>\n",
       "      <td>NaN</td>\n",
       "      <td>NaN</td>\n",
       "      <td>NaN</td>\n",
       "      <td>NaN</td>\n",
       "      <td>NaN</td>\n",
       "      <td>NaN</td>\n",
       "      <td>NaN</td>\n",
       "      <td>NaN</td>\n",
       "      <td>NaN</td>\n",
       "    </tr>\n",
       "    <tr>\n",
       "      <th>2</th>\n",
       "      <td>E01000003</td>\n",
       "      <td>City of London 001C</td>\n",
       "      <td>E02000001</td>\n",
       "      <td>City of London 001</td>\n",
       "      <td>E09000001</td>\n",
       "      <td>City of London</td>\n",
       "      <td>E12000007</td>\n",
       "      <td>London</td>\n",
       "      <td>1346</td>\n",
       "      <td>1250</td>\n",
       "      <td>...</td>\n",
       "      <td>NaN</td>\n",
       "      <td>NaN</td>\n",
       "      <td>NaN</td>\n",
       "      <td>NaN</td>\n",
       "      <td>NaN</td>\n",
       "      <td>NaN</td>\n",
       "      <td>NaN</td>\n",
       "      <td>NaN</td>\n",
       "      <td>NaN</td>\n",
       "      <td>NaN</td>\n",
       "    </tr>\n",
       "    <tr>\n",
       "      <th>3</th>\n",
       "      <td>E01000005</td>\n",
       "      <td>City of London 001E</td>\n",
       "      <td>E02000001</td>\n",
       "      <td>City of London 001</td>\n",
       "      <td>E09000001</td>\n",
       "      <td>City of London</td>\n",
       "      <td>E12000007</td>\n",
       "      <td>London</td>\n",
       "      <td>985</td>\n",
       "      <td>985</td>\n",
       "      <td>...</td>\n",
       "      <td>NaN</td>\n",
       "      <td>NaN</td>\n",
       "      <td>NaN</td>\n",
       "      <td>NaN</td>\n",
       "      <td>NaN</td>\n",
       "      <td>NaN</td>\n",
       "      <td>NaN</td>\n",
       "      <td>NaN</td>\n",
       "      <td>NaN</td>\n",
       "      <td>NaN</td>\n",
       "    </tr>\n",
       "    <tr>\n",
       "      <th>4</th>\n",
       "      <td>E01000006</td>\n",
       "      <td>Barking and Dagenham 016A</td>\n",
       "      <td>E02000017</td>\n",
       "      <td>Barking and Dagenham 016</td>\n",
       "      <td>E09000002</td>\n",
       "      <td>Barking and Dagenham</td>\n",
       "      <td>E12000007</td>\n",
       "      <td>London</td>\n",
       "      <td>1703</td>\n",
       "      <td>1699</td>\n",
       "      <td>...</td>\n",
       "      <td>NaN</td>\n",
       "      <td>NaN</td>\n",
       "      <td>NaN</td>\n",
       "      <td>NaN</td>\n",
       "      <td>NaN</td>\n",
       "      <td>NaN</td>\n",
       "      <td>NaN</td>\n",
       "      <td>NaN</td>\n",
       "      <td>NaN</td>\n",
       "      <td>NaN</td>\n",
       "    </tr>\n",
       "  </tbody>\n",
       "</table>\n",
       "<p>5 rows × 26 columns</p>\n",
       "</div>"
      ],
      "text/plain": [
       "  LSOA11CD_x                 LSOA11NM_x   MSOA11CD                  MSOA11NM  \\\n",
       "0  E01000001        City of London 001A  E02000001        City of London 001   \n",
       "1  E01000002        City of London 001B  E02000001        City of London 001   \n",
       "2  E01000003        City of London 001C  E02000001        City of London 001   \n",
       "3  E01000005        City of London 001E  E02000001        City of London 001   \n",
       "4  E01000006  Barking and Dagenham 016A  E02000017  Barking and Dagenham 016   \n",
       "\n",
       "     LAD11CD               LAD11NM    RGN11CD RGN11NM  USUALRES  HHOLDRES  \\\n",
       "0  E09000001        City of London  E12000007  London      1465      1465   \n",
       "1  E09000001        City of London  E12000007  London      1436      1436   \n",
       "2  E09000001        City of London  E12000007  London      1346      1250   \n",
       "3  E09000001        City of London  E12000007  London       985       985   \n",
       "4  E09000002  Barking and Dagenham  E12000007  London      1703      1699   \n",
       "\n",
       "   ...  LSOA11CD_y  LSOA11NM_y  geometry_y  LSOA code (2011)  \\\n",
       "0  ...         NaN         NaN         NaN               NaN   \n",
       "1  ...         NaN         NaN         NaN               NaN   \n",
       "2  ...         NaN         NaN         NaN               NaN   \n",
       "3  ...         NaN         NaN         NaN               NaN   \n",
       "4  ...         NaN         NaN         NaN               NaN   \n",
       "\n",
       "  Local Authority District code (2019)  LAD  \\\n",
       "0                                  NaN  NaN   \n",
       "1                                  NaN  NaN   \n",
       "2                                  NaN  NaN   \n",
       "3                                  NaN  NaN   \n",
       "4                                  NaN  NaN   \n",
       "\n",
       "  Barriers to Housing and Services Score  \\\n",
       "0                                    NaN   \n",
       "1                                    NaN   \n",
       "2                                    NaN   \n",
       "3                                    NaN   \n",
       "4                                    NaN   \n",
       "\n",
       "  Barriers to Housing and Services Rank (where 1 is most deprived)  \\\n",
       "0                                                NaN                 \n",
       "1                                                NaN                 \n",
       "2                                                NaN                 \n",
       "3                                                NaN                 \n",
       "4                                                NaN                 \n",
       "\n",
       "  Barriers to Housing and Services Decile (where 1 is most deprived 10% of LSOAs)  \\\n",
       "0                                                NaN                                \n",
       "1                                                NaN                                \n",
       "2                                                NaN                                \n",
       "3                                                NaN                                \n",
       "4                                                NaN                                \n",
       "\n",
       "  transformed_mms  \n",
       "0             NaN  \n",
       "1             NaN  \n",
       "2             NaN  \n",
       "3             NaN  \n",
       "4             NaN  \n",
       "\n",
       "[5 rows x 26 columns]"
      ]
     },
     "execution_count": 24,
     "metadata": {},
     "output_type": "execute_result"
    }
   ],
   "source": [
    "kc_dep.head(5)"
   ]
  },
  {
   "cell_type": "code",
   "execution_count": 111,
   "id": "25c522b2-714d-420d-bd57-69b23100c1bd",
   "metadata": {},
   "outputs": [
    {
     "ename": "ValueError",
     "evalue": "Unknown column geometry",
     "output_type": "error",
     "traceback": [
      "\u001b[0;31m---------------------------------------------------------------------------\u001b[0m",
      "\u001b[0;31mKeyError\u001b[0m                                  Traceback (most recent call last)",
      "File \u001b[0;32m/opt/conda/lib/python3.10/site-packages/pandas/core/indexes/base.py:3621\u001b[0m, in \u001b[0;36mIndex.get_loc\u001b[0;34m(self, key, method, tolerance)\u001b[0m\n\u001b[1;32m   3620\u001b[0m \u001b[38;5;28;01mtry\u001b[39;00m:\n\u001b[0;32m-> 3621\u001b[0m     \u001b[38;5;28;01mreturn\u001b[39;00m \u001b[38;5;28;43mself\u001b[39;49m\u001b[38;5;241;43m.\u001b[39;49m\u001b[43m_engine\u001b[49m\u001b[38;5;241;43m.\u001b[39;49m\u001b[43mget_loc\u001b[49m\u001b[43m(\u001b[49m\u001b[43mcasted_key\u001b[49m\u001b[43m)\u001b[49m\n\u001b[1;32m   3622\u001b[0m \u001b[38;5;28;01mexcept\u001b[39;00m \u001b[38;5;167;01mKeyError\u001b[39;00m \u001b[38;5;28;01mas\u001b[39;00m err:\n",
      "File \u001b[0;32m/opt/conda/lib/python3.10/site-packages/pandas/_libs/index.pyx:136\u001b[0m, in \u001b[0;36mpandas._libs.index.IndexEngine.get_loc\u001b[0;34m()\u001b[0m\n",
      "File \u001b[0;32m/opt/conda/lib/python3.10/site-packages/pandas/_libs/index.pyx:163\u001b[0m, in \u001b[0;36mpandas._libs.index.IndexEngine.get_loc\u001b[0;34m()\u001b[0m\n",
      "File \u001b[0;32mpandas/_libs/hashtable_class_helper.pxi:5198\u001b[0m, in \u001b[0;36mpandas._libs.hashtable.PyObjectHashTable.get_item\u001b[0;34m()\u001b[0m\n",
      "File \u001b[0;32mpandas/_libs/hashtable_class_helper.pxi:5206\u001b[0m, in \u001b[0;36mpandas._libs.hashtable.PyObjectHashTable.get_item\u001b[0;34m()\u001b[0m\n",
      "\u001b[0;31mKeyError\u001b[0m: 'geometry'",
      "\nThe above exception was the direct cause of the following exception:\n",
      "\u001b[0;31mKeyError\u001b[0m                                  Traceback (most recent call last)",
      "File \u001b[0;32m/opt/conda/lib/python3.10/site-packages/geopandas/geodataframe.py:317\u001b[0m, in \u001b[0;36mGeoDataFrame.set_geometry\u001b[0;34m(self, col, drop, inplace, crs)\u001b[0m\n\u001b[1;32m    316\u001b[0m \u001b[38;5;28;01mtry\u001b[39;00m:\n\u001b[0;32m--> 317\u001b[0m     level \u001b[38;5;241m=\u001b[39m \u001b[43mframe\u001b[49m\u001b[43m[\u001b[49m\u001b[43mcol\u001b[49m\u001b[43m]\u001b[49m\n\u001b[1;32m    318\u001b[0m \u001b[38;5;28;01mexcept\u001b[39;00m \u001b[38;5;167;01mKeyError\u001b[39;00m:\n",
      "File \u001b[0;32m/opt/conda/lib/python3.10/site-packages/geopandas/geodataframe.py:1415\u001b[0m, in \u001b[0;36mGeoDataFrame.__getitem__\u001b[0;34m(self, key)\u001b[0m\n\u001b[1;32m   1410\u001b[0m \u001b[38;5;124;03m\"\"\"\u001b[39;00m\n\u001b[1;32m   1411\u001b[0m \u001b[38;5;124;03mIf the result is a column containing only 'geometry', return a\u001b[39;00m\n\u001b[1;32m   1412\u001b[0m \u001b[38;5;124;03mGeoSeries. If it's a DataFrame with any columns of GeometryDtype,\u001b[39;00m\n\u001b[1;32m   1413\u001b[0m \u001b[38;5;124;03mreturn a GeoDataFrame.\u001b[39;00m\n\u001b[1;32m   1414\u001b[0m \u001b[38;5;124;03m\"\"\"\u001b[39;00m\n\u001b[0;32m-> 1415\u001b[0m result \u001b[38;5;241m=\u001b[39m \u001b[38;5;28;43msuper\u001b[39;49m\u001b[43m(\u001b[49m\u001b[43m)\u001b[49m\u001b[38;5;241;43m.\u001b[39;49m\u001b[38;5;21;43m__getitem__\u001b[39;49m\u001b[43m(\u001b[49m\u001b[43mkey\u001b[49m\u001b[43m)\u001b[49m\n\u001b[1;32m   1416\u001b[0m geo_col \u001b[38;5;241m=\u001b[39m \u001b[38;5;28mself\u001b[39m\u001b[38;5;241m.\u001b[39m_geometry_column_name\n",
      "File \u001b[0;32m/opt/conda/lib/python3.10/site-packages/pandas/core/frame.py:3505\u001b[0m, in \u001b[0;36mDataFrame.__getitem__\u001b[0;34m(self, key)\u001b[0m\n\u001b[1;32m   3504\u001b[0m     \u001b[38;5;28;01mreturn\u001b[39;00m \u001b[38;5;28mself\u001b[39m\u001b[38;5;241m.\u001b[39m_getitem_multilevel(key)\n\u001b[0;32m-> 3505\u001b[0m indexer \u001b[38;5;241m=\u001b[39m \u001b[38;5;28;43mself\u001b[39;49m\u001b[38;5;241;43m.\u001b[39;49m\u001b[43mcolumns\u001b[49m\u001b[38;5;241;43m.\u001b[39;49m\u001b[43mget_loc\u001b[49m\u001b[43m(\u001b[49m\u001b[43mkey\u001b[49m\u001b[43m)\u001b[49m\n\u001b[1;32m   3506\u001b[0m \u001b[38;5;28;01mif\u001b[39;00m is_integer(indexer):\n",
      "File \u001b[0;32m/opt/conda/lib/python3.10/site-packages/pandas/core/indexes/base.py:3623\u001b[0m, in \u001b[0;36mIndex.get_loc\u001b[0;34m(self, key, method, tolerance)\u001b[0m\n\u001b[1;32m   3622\u001b[0m \u001b[38;5;28;01mexcept\u001b[39;00m \u001b[38;5;167;01mKeyError\u001b[39;00m \u001b[38;5;28;01mas\u001b[39;00m err:\n\u001b[0;32m-> 3623\u001b[0m     \u001b[38;5;28;01mraise\u001b[39;00m \u001b[38;5;167;01mKeyError\u001b[39;00m(key) \u001b[38;5;28;01mfrom\u001b[39;00m \u001b[38;5;21;01merr\u001b[39;00m\n\u001b[1;32m   3624\u001b[0m \u001b[38;5;28;01mexcept\u001b[39;00m \u001b[38;5;167;01mTypeError\u001b[39;00m:\n\u001b[1;32m   3625\u001b[0m     \u001b[38;5;66;03m# If we have a listlike key, _check_indexing_error will raise\u001b[39;00m\n\u001b[1;32m   3626\u001b[0m     \u001b[38;5;66;03m#  InvalidIndexError. Otherwise we fall through and re-raise\u001b[39;00m\n\u001b[1;32m   3627\u001b[0m     \u001b[38;5;66;03m#  the TypeError.\u001b[39;00m\n",
      "\u001b[0;31mKeyError\u001b[0m: 'geometry'",
      "\nDuring handling of the above exception, another exception occurred:\n",
      "\u001b[0;31mValueError\u001b[0m                                Traceback (most recent call last)",
      "Input \u001b[0;32mIn [111]\u001b[0m, in \u001b[0;36m<cell line: 1>\u001b[0;34m()\u001b[0m\n\u001b[0;32m----> 1\u001b[0m kc_dep \u001b[38;5;241m=\u001b[39m \u001b[43mgpd\u001b[49m\u001b[38;5;241;43m.\u001b[39;49m\u001b[43mGeoDataFrame\u001b[49m\u001b[43m(\u001b[49m\u001b[43mkc_dep\u001b[49m\u001b[43m,\u001b[49m\u001b[43m \u001b[49m\u001b[43mgeometry\u001b[49m\u001b[38;5;241;43m=\u001b[39;49m\u001b[38;5;124;43m'\u001b[39;49m\u001b[38;5;124;43mgeometry\u001b[39;49m\u001b[38;5;124;43m'\u001b[39;49m\u001b[43m)\u001b[49m\n",
      "File \u001b[0;32m/opt/conda/lib/python3.10/site-packages/geopandas/geodataframe.py:188\u001b[0m, in \u001b[0;36mGeoDataFrame.__init__\u001b[0;34m(self, data, geometry, crs, *args, **kwargs)\u001b[0m\n\u001b[1;32m    180\u001b[0m     \u001b[38;5;28;01mif\u001b[39;00m (\n\u001b[1;32m    181\u001b[0m         \u001b[38;5;28mhasattr\u001b[39m(geometry, \u001b[38;5;124m\"\u001b[39m\u001b[38;5;124mcrs\u001b[39m\u001b[38;5;124m\"\u001b[39m)\n\u001b[1;32m    182\u001b[0m         \u001b[38;5;129;01mand\u001b[39;00m geometry\u001b[38;5;241m.\u001b[39mcrs\n\u001b[1;32m    183\u001b[0m         \u001b[38;5;129;01mand\u001b[39;00m crs\n\u001b[1;32m    184\u001b[0m         \u001b[38;5;129;01mand\u001b[39;00m \u001b[38;5;129;01mnot\u001b[39;00m geometry\u001b[38;5;241m.\u001b[39mcrs \u001b[38;5;241m==\u001b[39m crs\n\u001b[1;32m    185\u001b[0m     ):\n\u001b[1;32m    186\u001b[0m         \u001b[38;5;28;01mraise\u001b[39;00m \u001b[38;5;167;01mValueError\u001b[39;00m(crs_mismatch_error)\n\u001b[0;32m--> 188\u001b[0m     \u001b[38;5;28;43mself\u001b[39;49m\u001b[38;5;241;43m.\u001b[39;49m\u001b[43mset_geometry\u001b[49m\u001b[43m(\u001b[49m\u001b[43mgeometry\u001b[49m\u001b[43m,\u001b[49m\u001b[43m \u001b[49m\u001b[43minplace\u001b[49m\u001b[38;5;241;43m=\u001b[39;49m\u001b[38;5;28;43;01mTrue\u001b[39;49;00m\u001b[43m,\u001b[49m\u001b[43m \u001b[49m\u001b[43mcrs\u001b[49m\u001b[38;5;241;43m=\u001b[39;49m\u001b[43mcrs\u001b[49m\u001b[43m)\u001b[49m\n\u001b[1;32m    190\u001b[0m \u001b[38;5;28;01mif\u001b[39;00m geometry \u001b[38;5;129;01mis\u001b[39;00m \u001b[38;5;28;01mNone\u001b[39;00m \u001b[38;5;129;01mand\u001b[39;00m crs:\n\u001b[1;32m    191\u001b[0m     \u001b[38;5;28;01mraise\u001b[39;00m \u001b[38;5;167;01mValueError\u001b[39;00m(\n\u001b[1;32m    192\u001b[0m         \u001b[38;5;124m\"\u001b[39m\u001b[38;5;124mAssigning CRS to a GeoDataFrame without a geometry column is not \u001b[39m\u001b[38;5;124m\"\u001b[39m\n\u001b[1;32m    193\u001b[0m         \u001b[38;5;124m\"\u001b[39m\u001b[38;5;124msupported. Supply geometry using the \u001b[39m\u001b[38;5;124m'\u001b[39m\u001b[38;5;124mgeometry=\u001b[39m\u001b[38;5;124m'\u001b[39m\u001b[38;5;124m keyword argument, \u001b[39m\u001b[38;5;124m\"\u001b[39m\n\u001b[1;32m    194\u001b[0m         \u001b[38;5;124m\"\u001b[39m\u001b[38;5;124mor by providing a DataFrame with column name \u001b[39m\u001b[38;5;124m'\u001b[39m\u001b[38;5;124mgeometry\u001b[39m\u001b[38;5;124m'\u001b[39m\u001b[38;5;124m\"\u001b[39m,\n\u001b[1;32m    195\u001b[0m     )\n",
      "File \u001b[0;32m/opt/conda/lib/python3.10/site-packages/geopandas/geodataframe.py:319\u001b[0m, in \u001b[0;36mGeoDataFrame.set_geometry\u001b[0;34m(self, col, drop, inplace, crs)\u001b[0m\n\u001b[1;32m    317\u001b[0m     level \u001b[38;5;241m=\u001b[39m frame[col]\n\u001b[1;32m    318\u001b[0m \u001b[38;5;28;01mexcept\u001b[39;00m \u001b[38;5;167;01mKeyError\u001b[39;00m:\n\u001b[0;32m--> 319\u001b[0m     \u001b[38;5;28;01mraise\u001b[39;00m \u001b[38;5;167;01mValueError\u001b[39;00m(\u001b[38;5;124m\"\u001b[39m\u001b[38;5;124mUnknown column \u001b[39m\u001b[38;5;132;01m%s\u001b[39;00m\u001b[38;5;124m\"\u001b[39m \u001b[38;5;241m%\u001b[39m col)\n\u001b[1;32m    320\u001b[0m \u001b[38;5;28;01mexcept\u001b[39;00m \u001b[38;5;167;01mException\u001b[39;00m:\n\u001b[1;32m    321\u001b[0m     \u001b[38;5;28;01mraise\u001b[39;00m\n",
      "\u001b[0;31mValueError\u001b[0m: Unknown column geometry"
     ]
    }
   ],
   "source": [
    "kc_dep = gpd.GeoDataFrame(kc_dep, geometry='geometry')"
   ]
  },
  {
   "cell_type": "code",
   "execution_count": 109,
   "id": "be061178-9a43-4645-a2b5-c7f64903bddd",
   "metadata": {},
   "outputs": [
    {
     "ename": "ValueError",
     "evalue": "Unknown column geometry",
     "output_type": "error",
     "traceback": [
      "\u001b[0;31m---------------------------------------------------------------------------\u001b[0m",
      "\u001b[0;31mKeyError\u001b[0m                                  Traceback (most recent call last)",
      "File \u001b[0;32m/opt/conda/lib/python3.10/site-packages/pandas/core/indexes/base.py:3621\u001b[0m, in \u001b[0;36mIndex.get_loc\u001b[0;34m(self, key, method, tolerance)\u001b[0m\n\u001b[1;32m   3620\u001b[0m \u001b[38;5;28;01mtry\u001b[39;00m:\n\u001b[0;32m-> 3621\u001b[0m     \u001b[38;5;28;01mreturn\u001b[39;00m \u001b[38;5;28;43mself\u001b[39;49m\u001b[38;5;241;43m.\u001b[39;49m\u001b[43m_engine\u001b[49m\u001b[38;5;241;43m.\u001b[39;49m\u001b[43mget_loc\u001b[49m\u001b[43m(\u001b[49m\u001b[43mcasted_key\u001b[49m\u001b[43m)\u001b[49m\n\u001b[1;32m   3622\u001b[0m \u001b[38;5;28;01mexcept\u001b[39;00m \u001b[38;5;167;01mKeyError\u001b[39;00m \u001b[38;5;28;01mas\u001b[39;00m err:\n",
      "File \u001b[0;32m/opt/conda/lib/python3.10/site-packages/pandas/_libs/index.pyx:136\u001b[0m, in \u001b[0;36mpandas._libs.index.IndexEngine.get_loc\u001b[0;34m()\u001b[0m\n",
      "File \u001b[0;32m/opt/conda/lib/python3.10/site-packages/pandas/_libs/index.pyx:163\u001b[0m, in \u001b[0;36mpandas._libs.index.IndexEngine.get_loc\u001b[0;34m()\u001b[0m\n",
      "File \u001b[0;32mpandas/_libs/hashtable_class_helper.pxi:5198\u001b[0m, in \u001b[0;36mpandas._libs.hashtable.PyObjectHashTable.get_item\u001b[0;34m()\u001b[0m\n",
      "File \u001b[0;32mpandas/_libs/hashtable_class_helper.pxi:5206\u001b[0m, in \u001b[0;36mpandas._libs.hashtable.PyObjectHashTable.get_item\u001b[0;34m()\u001b[0m\n",
      "\u001b[0;31mKeyError\u001b[0m: 'geometry'",
      "\nThe above exception was the direct cause of the following exception:\n",
      "\u001b[0;31mKeyError\u001b[0m                                  Traceback (most recent call last)",
      "File \u001b[0;32m/opt/conda/lib/python3.10/site-packages/geopandas/geodataframe.py:317\u001b[0m, in \u001b[0;36mGeoDataFrame.set_geometry\u001b[0;34m(self, col, drop, inplace, crs)\u001b[0m\n\u001b[1;32m    316\u001b[0m \u001b[38;5;28;01mtry\u001b[39;00m:\n\u001b[0;32m--> 317\u001b[0m     level \u001b[38;5;241m=\u001b[39m \u001b[43mframe\u001b[49m\u001b[43m[\u001b[49m\u001b[43mcol\u001b[49m\u001b[43m]\u001b[49m\n\u001b[1;32m    318\u001b[0m \u001b[38;5;28;01mexcept\u001b[39;00m \u001b[38;5;167;01mKeyError\u001b[39;00m:\n",
      "File \u001b[0;32m/opt/conda/lib/python3.10/site-packages/geopandas/geodataframe.py:1415\u001b[0m, in \u001b[0;36mGeoDataFrame.__getitem__\u001b[0;34m(self, key)\u001b[0m\n\u001b[1;32m   1410\u001b[0m \u001b[38;5;124;03m\"\"\"\u001b[39;00m\n\u001b[1;32m   1411\u001b[0m \u001b[38;5;124;03mIf the result is a column containing only 'geometry', return a\u001b[39;00m\n\u001b[1;32m   1412\u001b[0m \u001b[38;5;124;03mGeoSeries. If it's a DataFrame with any columns of GeometryDtype,\u001b[39;00m\n\u001b[1;32m   1413\u001b[0m \u001b[38;5;124;03mreturn a GeoDataFrame.\u001b[39;00m\n\u001b[1;32m   1414\u001b[0m \u001b[38;5;124;03m\"\"\"\u001b[39;00m\n\u001b[0;32m-> 1415\u001b[0m result \u001b[38;5;241m=\u001b[39m \u001b[38;5;28;43msuper\u001b[39;49m\u001b[43m(\u001b[49m\u001b[43m)\u001b[49m\u001b[38;5;241;43m.\u001b[39;49m\u001b[38;5;21;43m__getitem__\u001b[39;49m\u001b[43m(\u001b[49m\u001b[43mkey\u001b[49m\u001b[43m)\u001b[49m\n\u001b[1;32m   1416\u001b[0m geo_col \u001b[38;5;241m=\u001b[39m \u001b[38;5;28mself\u001b[39m\u001b[38;5;241m.\u001b[39m_geometry_column_name\n",
      "File \u001b[0;32m/opt/conda/lib/python3.10/site-packages/pandas/core/frame.py:3505\u001b[0m, in \u001b[0;36mDataFrame.__getitem__\u001b[0;34m(self, key)\u001b[0m\n\u001b[1;32m   3504\u001b[0m     \u001b[38;5;28;01mreturn\u001b[39;00m \u001b[38;5;28mself\u001b[39m\u001b[38;5;241m.\u001b[39m_getitem_multilevel(key)\n\u001b[0;32m-> 3505\u001b[0m indexer \u001b[38;5;241m=\u001b[39m \u001b[38;5;28;43mself\u001b[39;49m\u001b[38;5;241;43m.\u001b[39;49m\u001b[43mcolumns\u001b[49m\u001b[38;5;241;43m.\u001b[39;49m\u001b[43mget_loc\u001b[49m\u001b[43m(\u001b[49m\u001b[43mkey\u001b[49m\u001b[43m)\u001b[49m\n\u001b[1;32m   3506\u001b[0m \u001b[38;5;28;01mif\u001b[39;00m is_integer(indexer):\n",
      "File \u001b[0;32m/opt/conda/lib/python3.10/site-packages/pandas/core/indexes/base.py:3623\u001b[0m, in \u001b[0;36mIndex.get_loc\u001b[0;34m(self, key, method, tolerance)\u001b[0m\n\u001b[1;32m   3622\u001b[0m \u001b[38;5;28;01mexcept\u001b[39;00m \u001b[38;5;167;01mKeyError\u001b[39;00m \u001b[38;5;28;01mas\u001b[39;00m err:\n\u001b[0;32m-> 3623\u001b[0m     \u001b[38;5;28;01mraise\u001b[39;00m \u001b[38;5;167;01mKeyError\u001b[39;00m(key) \u001b[38;5;28;01mfrom\u001b[39;00m \u001b[38;5;21;01merr\u001b[39;00m\n\u001b[1;32m   3624\u001b[0m \u001b[38;5;28;01mexcept\u001b[39;00m \u001b[38;5;167;01mTypeError\u001b[39;00m:\n\u001b[1;32m   3625\u001b[0m     \u001b[38;5;66;03m# If we have a listlike key, _check_indexing_error will raise\u001b[39;00m\n\u001b[1;32m   3626\u001b[0m     \u001b[38;5;66;03m#  InvalidIndexError. Otherwise we fall through and re-raise\u001b[39;00m\n\u001b[1;32m   3627\u001b[0m     \u001b[38;5;66;03m#  the TypeError.\u001b[39;00m\n",
      "\u001b[0;31mKeyError\u001b[0m: 'geometry'",
      "\nDuring handling of the above exception, another exception occurred:\n",
      "\u001b[0;31mValueError\u001b[0m                                Traceback (most recent call last)",
      "Input \u001b[0;32mIn [109]\u001b[0m, in \u001b[0;36m<cell line: 1>\u001b[0;34m()\u001b[0m\n\u001b[0;32m----> 1\u001b[0m kc_dep \u001b[38;5;241m=\u001b[39m \u001b[43mgpd\u001b[49m\u001b[38;5;241;43m.\u001b[39;49m\u001b[43mGeoDataFrame\u001b[49m\u001b[43m(\u001b[49m\u001b[43mkc_dep\u001b[49m\u001b[43m,\u001b[49m\u001b[43m \u001b[49m\u001b[43mgeometry\u001b[49m\u001b[38;5;241;43m=\u001b[39;49m\u001b[38;5;124;43m'\u001b[39;49m\u001b[38;5;124;43mgeometry\u001b[39;49m\u001b[38;5;124;43m'\u001b[39;49m\u001b[43m)\u001b[49m\n\u001b[1;32m      2\u001b[0m kc_dep\u001b[38;5;241m.\u001b[39mcrs \u001b[38;5;241m=\u001b[39m {\u001b[38;5;124m'\u001b[39m\u001b[38;5;124minit\u001b[39m\u001b[38;5;124m'\u001b[39m: \u001b[38;5;124m'\u001b[39m\u001b[38;5;124mepsg:4326\u001b[39m\u001b[38;5;124m'\u001b[39m}\n\u001b[1;32m      3\u001b[0m kc_dep\u001b[38;5;241m.\u001b[39mto_crs(\u001b[38;5;124m'\u001b[39m\u001b[38;5;124mepsg:27700\u001b[39m\u001b[38;5;124m'\u001b[39m)\n",
      "File \u001b[0;32m/opt/conda/lib/python3.10/site-packages/geopandas/geodataframe.py:188\u001b[0m, in \u001b[0;36mGeoDataFrame.__init__\u001b[0;34m(self, data, geometry, crs, *args, **kwargs)\u001b[0m\n\u001b[1;32m    180\u001b[0m     \u001b[38;5;28;01mif\u001b[39;00m (\n\u001b[1;32m    181\u001b[0m         \u001b[38;5;28mhasattr\u001b[39m(geometry, \u001b[38;5;124m\"\u001b[39m\u001b[38;5;124mcrs\u001b[39m\u001b[38;5;124m\"\u001b[39m)\n\u001b[1;32m    182\u001b[0m         \u001b[38;5;129;01mand\u001b[39;00m geometry\u001b[38;5;241m.\u001b[39mcrs\n\u001b[1;32m    183\u001b[0m         \u001b[38;5;129;01mand\u001b[39;00m crs\n\u001b[1;32m    184\u001b[0m         \u001b[38;5;129;01mand\u001b[39;00m \u001b[38;5;129;01mnot\u001b[39;00m geometry\u001b[38;5;241m.\u001b[39mcrs \u001b[38;5;241m==\u001b[39m crs\n\u001b[1;32m    185\u001b[0m     ):\n\u001b[1;32m    186\u001b[0m         \u001b[38;5;28;01mraise\u001b[39;00m \u001b[38;5;167;01mValueError\u001b[39;00m(crs_mismatch_error)\n\u001b[0;32m--> 188\u001b[0m     \u001b[38;5;28;43mself\u001b[39;49m\u001b[38;5;241;43m.\u001b[39;49m\u001b[43mset_geometry\u001b[49m\u001b[43m(\u001b[49m\u001b[43mgeometry\u001b[49m\u001b[43m,\u001b[49m\u001b[43m \u001b[49m\u001b[43minplace\u001b[49m\u001b[38;5;241;43m=\u001b[39;49m\u001b[38;5;28;43;01mTrue\u001b[39;49;00m\u001b[43m,\u001b[49m\u001b[43m \u001b[49m\u001b[43mcrs\u001b[49m\u001b[38;5;241;43m=\u001b[39;49m\u001b[43mcrs\u001b[49m\u001b[43m)\u001b[49m\n\u001b[1;32m    190\u001b[0m \u001b[38;5;28;01mif\u001b[39;00m geometry \u001b[38;5;129;01mis\u001b[39;00m \u001b[38;5;28;01mNone\u001b[39;00m \u001b[38;5;129;01mand\u001b[39;00m crs:\n\u001b[1;32m    191\u001b[0m     \u001b[38;5;28;01mraise\u001b[39;00m \u001b[38;5;167;01mValueError\u001b[39;00m(\n\u001b[1;32m    192\u001b[0m         \u001b[38;5;124m\"\u001b[39m\u001b[38;5;124mAssigning CRS to a GeoDataFrame without a geometry column is not \u001b[39m\u001b[38;5;124m\"\u001b[39m\n\u001b[1;32m    193\u001b[0m         \u001b[38;5;124m\"\u001b[39m\u001b[38;5;124msupported. Supply geometry using the \u001b[39m\u001b[38;5;124m'\u001b[39m\u001b[38;5;124mgeometry=\u001b[39m\u001b[38;5;124m'\u001b[39m\u001b[38;5;124m keyword argument, \u001b[39m\u001b[38;5;124m\"\u001b[39m\n\u001b[1;32m    194\u001b[0m         \u001b[38;5;124m\"\u001b[39m\u001b[38;5;124mor by providing a DataFrame with column name \u001b[39m\u001b[38;5;124m'\u001b[39m\u001b[38;5;124mgeometry\u001b[39m\u001b[38;5;124m'\u001b[39m\u001b[38;5;124m\"\u001b[39m,\n\u001b[1;32m    195\u001b[0m     )\n",
      "File \u001b[0;32m/opt/conda/lib/python3.10/site-packages/geopandas/geodataframe.py:319\u001b[0m, in \u001b[0;36mGeoDataFrame.set_geometry\u001b[0;34m(self, col, drop, inplace, crs)\u001b[0m\n\u001b[1;32m    317\u001b[0m     level \u001b[38;5;241m=\u001b[39m frame[col]\n\u001b[1;32m    318\u001b[0m \u001b[38;5;28;01mexcept\u001b[39;00m \u001b[38;5;167;01mKeyError\u001b[39;00m:\n\u001b[0;32m--> 319\u001b[0m     \u001b[38;5;28;01mraise\u001b[39;00m \u001b[38;5;167;01mValueError\u001b[39;00m(\u001b[38;5;124m\"\u001b[39m\u001b[38;5;124mUnknown column \u001b[39m\u001b[38;5;132;01m%s\u001b[39;00m\u001b[38;5;124m\"\u001b[39m \u001b[38;5;241m%\u001b[39m col)\n\u001b[1;32m    320\u001b[0m \u001b[38;5;28;01mexcept\u001b[39;00m \u001b[38;5;167;01mException\u001b[39;00m:\n\u001b[1;32m    321\u001b[0m     \u001b[38;5;28;01mraise\u001b[39;00m\n",
      "\u001b[0;31mValueError\u001b[0m: Unknown column geometry"
     ]
    }
   ],
   "source": [
    "kc_dep.crs = {'init': 'epsg:4326'}\n",
    "kc_dep.to_crs('epsg:27700')"
   ]
  },
  {
   "cell_type": "code",
   "execution_count": 102,
   "id": "ee11389f-3641-4445-a069-86508bc2c56f",
   "metadata": {},
   "outputs": [
    {
     "ename": "TypeError",
     "evalue": "Input must be valid geometry objects: POLYGON ((525802.22499993 179074.02600009655, 525809.31300002 179038.31200008892, 525836.9239999217 179044.68700001875, 525816.245999932 178949.72599998413, 525752.1880000643 178863.78099993948, 525724.5019999518 178863.7969999716, 525674.654999911 178863.82500007612, 525668.875999967 178863.82800004585, 525619.5459999351 178862.30499993014, 525529.9739999088 178858.36599999998, 525524.998999981 178929.00000009182, 525517.0809999437 178927.57499995496, 525506.7209999673 178978.60600004843, 525483.50000009 178975.75000002878, 525475.4260000784 179006.48899991513, 525552.9990000218 179014.99999996863, 525554.4880000936 178983.662999923, 525583.9989999842 178988.00000009505, 525574.4879999569 179077.21400005644, 525580.0240000302 179078.35999991186, 525567.0000000322 179178.9999999317, 525608.4029999241 179201.85799998802, 525661.5370000872 179240.16599994941, 525777.7499999322 179245.359, 525787.6750000401 179125.75900007412, 525802.22499993 179074.02600009655))",
     "output_type": "error",
     "traceback": [
      "\u001b[0;31m---------------------------------------------------------------------------\u001b[0m",
      "\u001b[0;31mTypeError\u001b[0m                                 Traceback (most recent call last)",
      "Input \u001b[0;32mIn [102]\u001b[0m, in \u001b[0;36m<cell line: 1>\u001b[0;34m()\u001b[0m\n\u001b[0;32m----> 1\u001b[0m kc_dep \u001b[38;5;241m=\u001b[39m \u001b[43mgpd\u001b[49m\u001b[38;5;241;43m.\u001b[39;49m\u001b[43mGeoDataFrame\u001b[49m\u001b[43m(\u001b[49m\u001b[43mkc_dep\u001b[49m\u001b[43m,\u001b[49m\u001b[43m \u001b[49m\u001b[43mgeometry\u001b[49m\u001b[38;5;241;43m=\u001b[39;49m\u001b[38;5;124;43m'\u001b[39;49m\u001b[38;5;124;43mgeometry\u001b[39;49m\u001b[38;5;124;43m'\u001b[39;49m\u001b[43m)\u001b[49m\n\u001b[1;32m      2\u001b[0m kc_dep\u001b[38;5;241m.\u001b[39mcrs \u001b[38;5;241m=\u001b[39m {\u001b[38;5;124m'\u001b[39m\u001b[38;5;124minit\u001b[39m\u001b[38;5;124m'\u001b[39m: \u001b[38;5;124m'\u001b[39m\u001b[38;5;124mepsg:4326\u001b[39m\u001b[38;5;124m'\u001b[39m}\n\u001b[1;32m      3\u001b[0m kc_dep\u001b[38;5;241m.\u001b[39mto_crs(\u001b[38;5;124m'\u001b[39m\u001b[38;5;124mepsg:27700\u001b[39m\u001b[38;5;124m'\u001b[39m)\n",
      "File \u001b[0;32m/opt/conda/lib/python3.10/site-packages/geopandas/geodataframe.py:188\u001b[0m, in \u001b[0;36mGeoDataFrame.__init__\u001b[0;34m(self, data, geometry, crs, *args, **kwargs)\u001b[0m\n\u001b[1;32m    180\u001b[0m     \u001b[38;5;28;01mif\u001b[39;00m (\n\u001b[1;32m    181\u001b[0m         \u001b[38;5;28mhasattr\u001b[39m(geometry, \u001b[38;5;124m\"\u001b[39m\u001b[38;5;124mcrs\u001b[39m\u001b[38;5;124m\"\u001b[39m)\n\u001b[1;32m    182\u001b[0m         \u001b[38;5;129;01mand\u001b[39;00m geometry\u001b[38;5;241m.\u001b[39mcrs\n\u001b[1;32m    183\u001b[0m         \u001b[38;5;129;01mand\u001b[39;00m crs\n\u001b[1;32m    184\u001b[0m         \u001b[38;5;129;01mand\u001b[39;00m \u001b[38;5;129;01mnot\u001b[39;00m geometry\u001b[38;5;241m.\u001b[39mcrs \u001b[38;5;241m==\u001b[39m crs\n\u001b[1;32m    185\u001b[0m     ):\n\u001b[1;32m    186\u001b[0m         \u001b[38;5;28;01mraise\u001b[39;00m \u001b[38;5;167;01mValueError\u001b[39;00m(crs_mismatch_error)\n\u001b[0;32m--> 188\u001b[0m     \u001b[38;5;28;43mself\u001b[39;49m\u001b[38;5;241;43m.\u001b[39;49m\u001b[43mset_geometry\u001b[49m\u001b[43m(\u001b[49m\u001b[43mgeometry\u001b[49m\u001b[43m,\u001b[49m\u001b[43m \u001b[49m\u001b[43minplace\u001b[49m\u001b[38;5;241;43m=\u001b[39;49m\u001b[38;5;28;43;01mTrue\u001b[39;49;00m\u001b[43m,\u001b[49m\u001b[43m \u001b[49m\u001b[43mcrs\u001b[49m\u001b[38;5;241;43m=\u001b[39;49m\u001b[43mcrs\u001b[49m\u001b[43m)\u001b[49m\n\u001b[1;32m    190\u001b[0m \u001b[38;5;28;01mif\u001b[39;00m geometry \u001b[38;5;129;01mis\u001b[39;00m \u001b[38;5;28;01mNone\u001b[39;00m \u001b[38;5;129;01mand\u001b[39;00m crs:\n\u001b[1;32m    191\u001b[0m     \u001b[38;5;28;01mraise\u001b[39;00m \u001b[38;5;167;01mValueError\u001b[39;00m(\n\u001b[1;32m    192\u001b[0m         \u001b[38;5;124m\"\u001b[39m\u001b[38;5;124mAssigning CRS to a GeoDataFrame without a geometry column is not \u001b[39m\u001b[38;5;124m\"\u001b[39m\n\u001b[1;32m    193\u001b[0m         \u001b[38;5;124m\"\u001b[39m\u001b[38;5;124msupported. Supply geometry using the \u001b[39m\u001b[38;5;124m'\u001b[39m\u001b[38;5;124mgeometry=\u001b[39m\u001b[38;5;124m'\u001b[39m\u001b[38;5;124m keyword argument, \u001b[39m\u001b[38;5;124m\"\u001b[39m\n\u001b[1;32m    194\u001b[0m         \u001b[38;5;124m\"\u001b[39m\u001b[38;5;124mor by providing a DataFrame with column name \u001b[39m\u001b[38;5;124m'\u001b[39m\u001b[38;5;124mgeometry\u001b[39m\u001b[38;5;124m'\u001b[39m\u001b[38;5;124m\"\u001b[39m,\n\u001b[1;32m    195\u001b[0m     )\n",
      "File \u001b[0;32m/opt/conda/lib/python3.10/site-packages/geopandas/geodataframe.py:346\u001b[0m, in \u001b[0;36mGeoDataFrame.set_geometry\u001b[0;34m(self, col, drop, inplace, crs)\u001b[0m\n\u001b[1;32m    343\u001b[0m     level\u001b[38;5;241m.\u001b[39mcrs \u001b[38;5;241m=\u001b[39m crs\n\u001b[1;32m    345\u001b[0m \u001b[38;5;66;03m# Check that we are using a listlike of geometries\u001b[39;00m\n\u001b[0;32m--> 346\u001b[0m level \u001b[38;5;241m=\u001b[39m \u001b[43m_ensure_geometry\u001b[49m\u001b[43m(\u001b[49m\u001b[43mlevel\u001b[49m\u001b[43m,\u001b[49m\u001b[43m \u001b[49m\u001b[43mcrs\u001b[49m\u001b[38;5;241;43m=\u001b[39;49m\u001b[43mcrs\u001b[49m\u001b[43m)\u001b[49m\n\u001b[1;32m    347\u001b[0m frame[geo_column_name] \u001b[38;5;241m=\u001b[39m level\n\u001b[1;32m    348\u001b[0m frame\u001b[38;5;241m.\u001b[39m_geometry_column_name \u001b[38;5;241m=\u001b[39m geo_column_name\n",
      "File \u001b[0;32m/opt/conda/lib/python3.10/site-packages/geopandas/geodataframe.py:59\u001b[0m, in \u001b[0;36m_ensure_geometry\u001b[0;34m(data, crs)\u001b[0m\n\u001b[1;32m     57\u001b[0m \u001b[38;5;28;01melse\u001b[39;00m:\n\u001b[1;32m     58\u001b[0m     \u001b[38;5;28;01mif\u001b[39;00m \u001b[38;5;28misinstance\u001b[39m(data, Series):\n\u001b[0;32m---> 59\u001b[0m         out \u001b[38;5;241m=\u001b[39m \u001b[43mfrom_shapely\u001b[49m\u001b[43m(\u001b[49m\u001b[43mnp\u001b[49m\u001b[38;5;241;43m.\u001b[39;49m\u001b[43masarray\u001b[49m\u001b[43m(\u001b[49m\u001b[43mdata\u001b[49m\u001b[43m)\u001b[49m\u001b[43m,\u001b[49m\u001b[43m \u001b[49m\u001b[43mcrs\u001b[49m\u001b[38;5;241;43m=\u001b[39;49m\u001b[43mcrs\u001b[49m\u001b[43m)\u001b[49m\n\u001b[1;32m     60\u001b[0m         \u001b[38;5;28;01mreturn\u001b[39;00m GeoSeries(out, index\u001b[38;5;241m=\u001b[39mdata\u001b[38;5;241m.\u001b[39mindex, name\u001b[38;5;241m=\u001b[39mdata\u001b[38;5;241m.\u001b[39mname)\n\u001b[1;32m     61\u001b[0m     \u001b[38;5;28;01melse\u001b[39;00m:\n",
      "File \u001b[0;32m/opt/conda/lib/python3.10/site-packages/geopandas/array.py:154\u001b[0m, in \u001b[0;36mfrom_shapely\u001b[0;34m(data, crs)\u001b[0m\n\u001b[1;32m    138\u001b[0m \u001b[38;5;28;01mdef\u001b[39;00m \u001b[38;5;21mfrom_shapely\u001b[39m(data, crs\u001b[38;5;241m=\u001b[39m\u001b[38;5;28;01mNone\u001b[39;00m):\n\u001b[1;32m    139\u001b[0m     \u001b[38;5;124;03m\"\"\"\u001b[39;00m\n\u001b[1;32m    140\u001b[0m \u001b[38;5;124;03m    Convert a list or array of shapely objects to a GeometryArray.\u001b[39;00m\n\u001b[1;32m    141\u001b[0m \n\u001b[0;32m   (...)\u001b[0m\n\u001b[1;32m    152\u001b[0m \n\u001b[1;32m    153\u001b[0m \u001b[38;5;124;03m    \"\"\"\u001b[39;00m\n\u001b[0;32m--> 154\u001b[0m     \u001b[38;5;28;01mreturn\u001b[39;00m GeometryArray(\u001b[43mvectorized\u001b[49m\u001b[38;5;241;43m.\u001b[39;49m\u001b[43mfrom_shapely\u001b[49m\u001b[43m(\u001b[49m\u001b[43mdata\u001b[49m\u001b[43m)\u001b[49m, crs\u001b[38;5;241m=\u001b[39mcrs)\n",
      "File \u001b[0;32m/opt/conda/lib/python3.10/site-packages/geopandas/_vectorized.py:145\u001b[0m, in \u001b[0;36mfrom_shapely\u001b[0;34m(data)\u001b[0m\n\u001b[1;32m    143\u001b[0m         out\u001b[38;5;241m.\u001b[39mappend(\u001b[38;5;28;01mNone\u001b[39;00m)\n\u001b[1;32m    144\u001b[0m     \u001b[38;5;28;01melse\u001b[39;00m:\n\u001b[0;32m--> 145\u001b[0m         \u001b[38;5;28;01mraise\u001b[39;00m \u001b[38;5;167;01mTypeError\u001b[39;00m(\u001b[38;5;124m\"\u001b[39m\u001b[38;5;124mInput must be valid geometry objects: \u001b[39m\u001b[38;5;132;01m{0}\u001b[39;00m\u001b[38;5;124m\"\u001b[39m\u001b[38;5;241m.\u001b[39mformat(geom))\n\u001b[1;32m    147\u001b[0m \u001b[38;5;28;01mif\u001b[39;00m compat\u001b[38;5;241m.\u001b[39mUSE_PYGEOS:\n\u001b[1;32m    148\u001b[0m     \u001b[38;5;28;01mreturn\u001b[39;00m np\u001b[38;5;241m.\u001b[39marray(out, dtype\u001b[38;5;241m=\u001b[39m\u001b[38;5;28mobject\u001b[39m)\n",
      "\u001b[0;31mTypeError\u001b[0m: Input must be valid geometry objects: POLYGON ((525802.22499993 179074.02600009655, 525809.31300002 179038.31200008892, 525836.9239999217 179044.68700001875, 525816.245999932 178949.72599998413, 525752.1880000643 178863.78099993948, 525724.5019999518 178863.7969999716, 525674.654999911 178863.82500007612, 525668.875999967 178863.82800004585, 525619.5459999351 178862.30499993014, 525529.9739999088 178858.36599999998, 525524.998999981 178929.00000009182, 525517.0809999437 178927.57499995496, 525506.7209999673 178978.60600004843, 525483.50000009 178975.75000002878, 525475.4260000784 179006.48899991513, 525552.9990000218 179014.99999996863, 525554.4880000936 178983.662999923, 525583.9989999842 178988.00000009505, 525574.4879999569 179077.21400005644, 525580.0240000302 179078.35999991186, 525567.0000000322 179178.9999999317, 525608.4029999241 179201.85799998802, 525661.5370000872 179240.16599994941, 525777.7499999322 179245.359, 525787.6750000401 179125.75900007412, 525802.22499993 179074.02600009655))"
     ]
    }
   ],
   "source": [
    "kc_dep = gpd.GeoDataFrame(kc_dep, geometry='geometry')\n",
    "kc_dep.crs = {'init': 'epsg:4326'}\n"
   ]
  },
  {
   "cell_type": "code",
   "execution_count": 100,
   "id": "043341db-5a1c-4831-b927-b3019f8bf64a",
   "metadata": {},
   "outputs": [
    {
     "ename": "TypeError",
     "evalue": "sjoin() got an unexpected keyword argument 'left_on'",
     "output_type": "error",
     "traceback": [
      "\u001b[0;31m---------------------------------------------------------------------------\u001b[0m",
      "\u001b[0;31mTypeError\u001b[0m                                 Traceback (most recent call last)",
      "Input \u001b[0;32mIn [100]\u001b[0m, in \u001b[0;36m<cell line: 1>\u001b[0;34m()\u001b[0m\n\u001b[0;32m----> 1\u001b[0m kc_merged \u001b[38;5;241m=\u001b[39m \u001b[43mgpd\u001b[49m\u001b[38;5;241;43m.\u001b[39;49m\u001b[43msjoin\u001b[49m\u001b[43m(\u001b[49m\u001b[43mlistings2022_kensington_chelsea\u001b[49m\u001b[43m,\u001b[49m\u001b[43m \u001b[49m\u001b[43mkc_dep\u001b[49m\u001b[43m,\u001b[49m\u001b[43m \u001b[49m\u001b[43mhow\u001b[49m\u001b[38;5;241;43m=\u001b[39;49m\u001b[38;5;124;43m'\u001b[39;49m\u001b[38;5;124;43minner\u001b[39;49m\u001b[38;5;124;43m'\u001b[39;49m\u001b[43m,\u001b[49m\u001b[43m \u001b[49m\u001b[43mpredicate\u001b[49m\u001b[38;5;241;43m=\u001b[39;49m\u001b[38;5;124;43m'\u001b[39;49m\u001b[38;5;124;43mwithin\u001b[39;49m\u001b[38;5;124;43m'\u001b[39;49m\u001b[43m,\u001b[49m\u001b[43m \u001b[49m\n\u001b[1;32m      2\u001b[0m \u001b[43m                      \u001b[49m\u001b[43mleft_on\u001b[49m\u001b[38;5;241;43m=\u001b[39;49m\u001b[38;5;124;43m'\u001b[39;49m\u001b[38;5;124;43mgeometry\u001b[39;49m\u001b[38;5;124;43m'\u001b[39;49m\u001b[43m,\u001b[49m\u001b[43m \u001b[49m\u001b[43mright_on\u001b[49m\u001b[38;5;241;43m=\u001b[39;49m\u001b[38;5;124;43m'\u001b[39;49m\u001b[38;5;124;43mgeometry\u001b[39;49m\u001b[38;5;124;43m'\u001b[39;49m\u001b[43m)\u001b[49m\n",
      "File \u001b[0;32m/opt/conda/lib/python3.10/site-packages/geopandas/tools/sjoin.py:120\u001b[0m, in \u001b[0;36msjoin\u001b[0;34m(left_df, right_df, how, predicate, lsuffix, rsuffix, **kwargs)\u001b[0m\n\u001b[1;32m    118\u001b[0m \u001b[38;5;28;01mif\u001b[39;00m kwargs:\n\u001b[1;32m    119\u001b[0m     first \u001b[38;5;241m=\u001b[39m \u001b[38;5;28mnext\u001b[39m(\u001b[38;5;28miter\u001b[39m(kwargs\u001b[38;5;241m.\u001b[39mkeys()))\n\u001b[0;32m--> 120\u001b[0m     \u001b[38;5;28;01mraise\u001b[39;00m \u001b[38;5;167;01mTypeError\u001b[39;00m(\u001b[38;5;124mf\u001b[39m\u001b[38;5;124m\"\u001b[39m\u001b[38;5;124msjoin() got an unexpected keyword argument \u001b[39m\u001b[38;5;124m'\u001b[39m\u001b[38;5;132;01m{\u001b[39;00mfirst\u001b[38;5;132;01m}\u001b[39;00m\u001b[38;5;124m'\u001b[39m\u001b[38;5;124m\"\u001b[39m)\n\u001b[1;32m    122\u001b[0m _basic_checks(left_df, right_df, how, lsuffix, rsuffix)\n\u001b[1;32m    124\u001b[0m indices \u001b[38;5;241m=\u001b[39m _geom_predicate_query(left_df, right_df, predicate)\n",
      "\u001b[0;31mTypeError\u001b[0m: sjoin() got an unexpected keyword argument 'left_on'"
     ]
    }
   ],
   "source": [
    "kc_merged = gpd.sjoin(listings2022_kensington_chelsea, kc_dep, how='inner', predicate='within', \n",
    "                      left_on='geometry', right_on='geometry')"
   ]
  },
  {
   "cell_type": "code",
   "execution_count": 101,
   "id": "70eb845c-e635-4a4a-80a5-a281e2e6138b",
   "metadata": {},
   "outputs": [
    {
     "ename": "ValueError",
     "evalue": "'right_df' should be GeoDataFrame, got <class 'pandas.core.frame.DataFrame'>",
     "output_type": "error",
     "traceback": [
      "\u001b[0;31m---------------------------------------------------------------------------\u001b[0m",
      "\u001b[0;31mValueError\u001b[0m                                Traceback (most recent call last)",
      "Input \u001b[0;32mIn [101]\u001b[0m, in \u001b[0;36m<cell line: 1>\u001b[0;34m()\u001b[0m\n\u001b[0;32m----> 1\u001b[0m kc_merged \u001b[38;5;241m=\u001b[39m \u001b[43mgpd\u001b[49m\u001b[38;5;241;43m.\u001b[39;49m\u001b[43msjoin\u001b[49m\u001b[43m(\u001b[49m\u001b[43mlistings2022_kensington_chelsea\u001b[49m\u001b[43m,\u001b[49m\u001b[43m \u001b[49m\u001b[43mkc_dep\u001b[49m\u001b[43m)\u001b[49m\n",
      "File \u001b[0;32m/opt/conda/lib/python3.10/site-packages/geopandas/tools/sjoin.py:122\u001b[0m, in \u001b[0;36msjoin\u001b[0;34m(left_df, right_df, how, predicate, lsuffix, rsuffix, **kwargs)\u001b[0m\n\u001b[1;32m    119\u001b[0m     first \u001b[38;5;241m=\u001b[39m \u001b[38;5;28mnext\u001b[39m(\u001b[38;5;28miter\u001b[39m(kwargs\u001b[38;5;241m.\u001b[39mkeys()))\n\u001b[1;32m    120\u001b[0m     \u001b[38;5;28;01mraise\u001b[39;00m \u001b[38;5;167;01mTypeError\u001b[39;00m(\u001b[38;5;124mf\u001b[39m\u001b[38;5;124m\"\u001b[39m\u001b[38;5;124msjoin() got an unexpected keyword argument \u001b[39m\u001b[38;5;124m'\u001b[39m\u001b[38;5;132;01m{\u001b[39;00mfirst\u001b[38;5;132;01m}\u001b[39;00m\u001b[38;5;124m'\u001b[39m\u001b[38;5;124m\"\u001b[39m)\n\u001b[0;32m--> 122\u001b[0m \u001b[43m_basic_checks\u001b[49m\u001b[43m(\u001b[49m\u001b[43mleft_df\u001b[49m\u001b[43m,\u001b[49m\u001b[43m \u001b[49m\u001b[43mright_df\u001b[49m\u001b[43m,\u001b[49m\u001b[43m \u001b[49m\u001b[43mhow\u001b[49m\u001b[43m,\u001b[49m\u001b[43m \u001b[49m\u001b[43mlsuffix\u001b[49m\u001b[43m,\u001b[49m\u001b[43m \u001b[49m\u001b[43mrsuffix\u001b[49m\u001b[43m)\u001b[49m\n\u001b[1;32m    124\u001b[0m indices \u001b[38;5;241m=\u001b[39m _geom_predicate_query(left_df, right_df, predicate)\n\u001b[1;32m    126\u001b[0m joined \u001b[38;5;241m=\u001b[39m _frame_join(indices, left_df, right_df, how, lsuffix, rsuffix)\n",
      "File \u001b[0;32m/opt/conda/lib/python3.10/site-packages/geopandas/tools/sjoin.py:155\u001b[0m, in \u001b[0;36m_basic_checks\u001b[0;34m(left_df, right_df, how, lsuffix, rsuffix)\u001b[0m\n\u001b[1;32m    150\u001b[0m     \u001b[38;5;28;01mraise\u001b[39;00m \u001b[38;5;167;01mValueError\u001b[39;00m(\n\u001b[1;32m    151\u001b[0m         \u001b[38;5;124m\"\u001b[39m\u001b[38;5;124m'\u001b[39m\u001b[38;5;124mleft_df\u001b[39m\u001b[38;5;124m'\u001b[39m\u001b[38;5;124m should be GeoDataFrame, got \u001b[39m\u001b[38;5;132;01m{}\u001b[39;00m\u001b[38;5;124m\"\u001b[39m\u001b[38;5;241m.\u001b[39mformat(\u001b[38;5;28mtype\u001b[39m(left_df))\n\u001b[1;32m    152\u001b[0m     )\n\u001b[1;32m    154\u001b[0m \u001b[38;5;28;01mif\u001b[39;00m \u001b[38;5;129;01mnot\u001b[39;00m \u001b[38;5;28misinstance\u001b[39m(right_df, GeoDataFrame):\n\u001b[0;32m--> 155\u001b[0m     \u001b[38;5;28;01mraise\u001b[39;00m \u001b[38;5;167;01mValueError\u001b[39;00m(\n\u001b[1;32m    156\u001b[0m         \u001b[38;5;124m\"\u001b[39m\u001b[38;5;124m'\u001b[39m\u001b[38;5;124mright_df\u001b[39m\u001b[38;5;124m'\u001b[39m\u001b[38;5;124m should be GeoDataFrame, got \u001b[39m\u001b[38;5;132;01m{}\u001b[39;00m\u001b[38;5;124m\"\u001b[39m\u001b[38;5;241m.\u001b[39mformat(\u001b[38;5;28mtype\u001b[39m(right_df))\n\u001b[1;32m    157\u001b[0m     )\n\u001b[1;32m    159\u001b[0m allowed_hows \u001b[38;5;241m=\u001b[39m [\u001b[38;5;124m\"\u001b[39m\u001b[38;5;124mleft\u001b[39m\u001b[38;5;124m\"\u001b[39m, \u001b[38;5;124m\"\u001b[39m\u001b[38;5;124mright\u001b[39m\u001b[38;5;124m\"\u001b[39m, \u001b[38;5;124m\"\u001b[39m\u001b[38;5;124minner\u001b[39m\u001b[38;5;124m\"\u001b[39m]\n\u001b[1;32m    160\u001b[0m \u001b[38;5;28;01mif\u001b[39;00m how \u001b[38;5;129;01mnot\u001b[39;00m \u001b[38;5;129;01min\u001b[39;00m allowed_hows:\n",
      "\u001b[0;31mValueError\u001b[0m: 'right_df' should be GeoDataFrame, got <class 'pandas.core.frame.DataFrame'>"
     ]
    }
   ],
   "source": [
    "kc_merged = gpd.sjoin(listings2022_kensington_chelsea, kc_dep)"
   ]
  },
  {
   "cell_type": "code",
   "execution_count": 88,
   "id": "c19979d6-aaf8-4fc0-b0d1-203e98580107",
   "metadata": {},
   "outputs": [
    {
     "data": {
      "text/html": [
       "<div>\n",
       "<style scoped>\n",
       "    .dataframe tbody tr th:only-of-type {\n",
       "        vertical-align: middle;\n",
       "    }\n",
       "\n",
       "    .dataframe tbody tr th {\n",
       "        vertical-align: top;\n",
       "    }\n",
       "\n",
       "    .dataframe thead th {\n",
       "        text-align: right;\n",
       "    }\n",
       "</style>\n",
       "<table border=\"1\" class=\"dataframe\">\n",
       "  <thead>\n",
       "    <tr style=\"text-align: right;\">\n",
       "      <th></th>\n",
       "      <th>Unnamed: 0</th>\n",
       "      <th>LSOA11CD</th>\n",
       "      <th>LSOA11NM</th>\n",
       "      <th>geometry</th>\n",
       "      <th>LSOA code (2011)</th>\n",
       "      <th>Local Authority District code (2019)</th>\n",
       "      <th>LAD</th>\n",
       "      <th>Barriers to Housing and Services Score</th>\n",
       "      <th>Barriers to Housing and Services Rank (where 1 is most deprived)</th>\n",
       "      <th>Barriers to Housing and Services Decile (where 1 is most deprived 10% of LSOAs)</th>\n",
       "      <th>transformed_mms</th>\n",
       "    </tr>\n",
       "  </thead>\n",
       "  <tbody>\n",
       "    <tr>\n",
       "      <th>0</th>\n",
       "      <td>2747</td>\n",
       "      <td>E01002812</td>\n",
       "      <td>Kensington and Chelsea 013A</td>\n",
       "      <td>POLYGON ((525802.22499993 179074.02600009655, ...</td>\n",
       "      <td>E01002812</td>\n",
       "      <td>E09000020</td>\n",
       "      <td>Kensington and Chelsea</td>\n",
       "      <td>40.75</td>\n",
       "      <td>1981</td>\n",
       "      <td>1</td>\n",
       "      <td>0.53</td>\n",
       "    </tr>\n",
       "    <tr>\n",
       "      <th>1</th>\n",
       "      <td>2748</td>\n",
       "      <td>E01002813</td>\n",
       "      <td>Kensington and Chelsea 011A</td>\n",
       "      <td>POLYGON ((525387.795999887 179246.17700007392,...</td>\n",
       "      <td>E01002813</td>\n",
       "      <td>E09000020</td>\n",
       "      <td>Kensington and Chelsea</td>\n",
       "      <td>27.38</td>\n",
       "      <td>8934</td>\n",
       "      <td>3</td>\n",
       "      <td>0.32</td>\n",
       "    </tr>\n",
       "    <tr>\n",
       "      <th>2</th>\n",
       "      <td>2749</td>\n",
       "      <td>E01002814</td>\n",
       "      <td>Kensington and Chelsea 015A</td>\n",
       "      <td>POLYGON ((524895.6830000001 178963.19300005032...</td>\n",
       "      <td>E01002814</td>\n",
       "      <td>E09000020</td>\n",
       "      <td>Kensington and Chelsea</td>\n",
       "      <td>45.49</td>\n",
       "      <td>971</td>\n",
       "      <td>1</td>\n",
       "      <td>0.61</td>\n",
       "    </tr>\n",
       "    <tr>\n",
       "      <th>3</th>\n",
       "      <td>2750</td>\n",
       "      <td>E01002815</td>\n",
       "      <td>Kensington and Chelsea 011B</td>\n",
       "      <td>POLYGON ((525506.7210000233 178978.60600006193...</td>\n",
       "      <td>E01002815</td>\n",
       "      <td>E09000020</td>\n",
       "      <td>Kensington and Chelsea</td>\n",
       "      <td>43.44</td>\n",
       "      <td>1341</td>\n",
       "      <td>1</td>\n",
       "      <td>0.57</td>\n",
       "    </tr>\n",
       "    <tr>\n",
       "      <th>4</th>\n",
       "      <td>2751</td>\n",
       "      <td>E01002816</td>\n",
       "      <td>Kensington and Chelsea 011C</td>\n",
       "      <td>POLYGON ((525549.6320000419 179387.75600001463...</td>\n",
       "      <td>E01002816</td>\n",
       "      <td>E09000020</td>\n",
       "      <td>Kensington and Chelsea</td>\n",
       "      <td>36.54</td>\n",
       "      <td>3401</td>\n",
       "      <td>2</td>\n",
       "      <td>0.47</td>\n",
       "    </tr>\n",
       "  </tbody>\n",
       "</table>\n",
       "</div>"
      ],
      "text/plain": [
       "   Unnamed: 0   LSOA11CD                     LSOA11NM  \\\n",
       "0        2747  E01002812  Kensington and Chelsea 013A   \n",
       "1        2748  E01002813  Kensington and Chelsea 011A   \n",
       "2        2749  E01002814  Kensington and Chelsea 015A   \n",
       "3        2750  E01002815  Kensington and Chelsea 011B   \n",
       "4        2751  E01002816  Kensington and Chelsea 011C   \n",
       "\n",
       "                                            geometry LSOA code (2011)  \\\n",
       "0  POLYGON ((525802.22499993 179074.02600009655, ...        E01002812   \n",
       "1  POLYGON ((525387.795999887 179246.17700007392,...        E01002813   \n",
       "2  POLYGON ((524895.6830000001 178963.19300005032...        E01002814   \n",
       "3  POLYGON ((525506.7210000233 178978.60600006193...        E01002815   \n",
       "4  POLYGON ((525549.6320000419 179387.75600001463...        E01002816   \n",
       "\n",
       "  Local Authority District code (2019)                     LAD  \\\n",
       "0                            E09000020  Kensington and Chelsea   \n",
       "1                            E09000020  Kensington and Chelsea   \n",
       "2                            E09000020  Kensington and Chelsea   \n",
       "3                            E09000020  Kensington and Chelsea   \n",
       "4                            E09000020  Kensington and Chelsea   \n",
       "\n",
       "   Barriers to Housing and Services Score  \\\n",
       "0                                   40.75   \n",
       "1                                   27.38   \n",
       "2                                   45.49   \n",
       "3                                   43.44   \n",
       "4                                   36.54   \n",
       "\n",
       "   Barriers to Housing and Services Rank (where 1 is most deprived)  \\\n",
       "0                                               1981                  \n",
       "1                                               8934                  \n",
       "2                                                971                  \n",
       "3                                               1341                  \n",
       "4                                               3401                  \n",
       "\n",
       "   Barriers to Housing and Services Decile (where 1 is most deprived 10% of LSOAs)  \\\n",
       "0                                                  1                                 \n",
       "1                                                  3                                 \n",
       "2                                                  1                                 \n",
       "3                                                  1                                 \n",
       "4                                                  2                                 \n",
       "\n",
       "   transformed_mms  \n",
       "0             0.53  \n",
       "1             0.32  \n",
       "2             0.61  \n",
       "3             0.57  \n",
       "4             0.47  "
      ]
     },
     "execution_count": 88,
     "metadata": {},
     "output_type": "execute_result"
    }
   ],
   "source": [
    "kc_dep.head(5)"
   ]
  },
  {
   "cell_type": "markdown",
   "id": "3c122d6e-090d-419b-86dc-7148e8fabf49",
   "metadata": {},
   "source": [
    "### Merging 2022 Airbnb Data: Camden"
   ]
  },
  {
   "cell_type": "markdown",
   "id": "cc4f894e-f7e2-4cb8-b51b-e42136477bbe",
   "metadata": {},
   "source": [
    "### Merging 2022 Airbnb Data: Hackney"
   ]
  }
 ],
 "metadata": {
  "kernelspec": {
   "display_name": "Python 3 (ipykernel)",
   "language": "python",
   "name": "python3"
  },
  "language_info": {
   "codemirror_mode": {
    "name": "ipython",
    "version": 3
   },
   "file_extension": ".py",
   "mimetype": "text/x-python",
   "name": "python",
   "nbconvert_exporter": "python",
   "pygments_lexer": "ipython3",
   "version": "3.10.5"
  }
 },
 "nbformat": 4,
 "nbformat_minor": 5
}
