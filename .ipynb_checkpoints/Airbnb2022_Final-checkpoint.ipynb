{
 "cells": [
  {
   "cell_type": "markdown",
   "id": "edd9a993-f078-4a2d-a9ed-8e5d7f58fe78",
   "metadata": {},
   "source": [
    "# Inside Airbnb 2022 (4 Jan 2022)"
   ]
  },
  {
   "cell_type": "markdown",
   "id": "b1253431-27d0-4424-a9ca-3e3b8615a1cd",
   "metadata": {},
   "source": [
    "### Importing Packages\n",
    "**Here, I am taking the main packages from throughout the practicals as well as some of the functions from FSDS**\n",
    "\n",
    "Work breakdown:\n",
    "* Matthew Martignoni: Cleaning and NLP"
   ]
  },
  {
   "cell_type": "code",
   "execution_count": 1,
   "id": "f5ca7204-525c-4c83-9b8c-4609559b2c5a",
   "metadata": {},
   "outputs": [
    {
     "name": "stderr",
     "output_type": "stream",
     "text": [
      "<jemalloc>: MADV_DONTNEED does not work (memset will be used instead)\n",
      "<jemalloc>: (This is the expected behaviour if you are running under QEMU)\n"
     ]
    }
   ],
   "source": [
    "import os\n",
    "import numpy as np\n",
    "import pandas as pd\n",
    "import geopandas as gpd\n",
    "import seaborn as sns\n",
    "import matplotlib.cm as cm\n",
    "import matplotlib.pyplot as plt\n",
    "import matplotlib as mpl\n",
    "import re\n",
    "import math\n",
    "\n",
    "from matplotlib.colors import ListedColormap\n",
    "\n",
    "# All of these are potentially useful, though\n",
    "# not all have been used in this practical --\n",
    "# I'd suggest exploring the use of different \n",
    "# Scalers/Transformers as well as clustering \n",
    "# algorithms...\n",
    "import sklearn\n",
    "from sklearn.neighbors import NearestNeighbors\n",
    "from sklearn.decomposition import PCA\n",
    "from sklearn.preprocessing import MinMaxScaler, StandardScaler, RobustScaler, PowerTransformer\n",
    "from sklearn.cluster import KMeans, DBSCAN, OPTICS\n",
    "from sklearn.ensemble import RandomForestClassifier\n",
    "from sklearn.metrics import silhouette_samples, silhouette_score\n",
    "from sklearn.preprocessing import OneHotEncoder\n",
    "from sklearn.feature_extraction.text import TfidfVectorizer\n",
    "from sklearn.feature_extraction.text import CountVectorizer\n",
    "from sklearn.decomposition import LatentDirichletAllocation\n",
    "\n",
    "import random\n",
    "random.seed(42)    # For reproducibility\n",
    "np.random.seed(42) # For reproducibility\n",
    "\n",
    "# Make numeric display a bit neater\n",
    "pd.set_option('display.float_format', lambda x: '{:,.2f}'.format(x))"
   ]
  },
  {
   "cell_type": "code",
   "execution_count": 2,
   "id": "0d3bc1d0-d4e1-4731-bb11-02b9f7dde05c",
   "metadata": {},
   "outputs": [],
   "source": [
    "# These are specific to NLP\n",
    "import nltk\n",
    "import spacy\n",
    "from nltk.corpus import wordnet as wn\n",
    "from nltk.stem.wordnet import WordNetLemmatizer\n",
    "\n",
    "from nltk.corpus import stopwords\n",
    "\n",
    "from nltk.tokenize import word_tokenize, sent_tokenize\n",
    "from nltk.tokenize.toktok import ToktokTokenizer\n",
    "\n",
    "from nltk.stem.porter import PorterStemmer\n",
    "from nltk.stem.snowball import SnowballStemmer\n",
    "\n",
    "from nltk import ngrams, FreqDist\n",
    "\n",
    "lemmatizer = WordNetLemmatizer()\n",
    "tokenizer = ToktokTokenizer()\n",
    "mms  = MinMaxScaler(feature_range=(-1,1))\n",
    "stds = StandardScaler()\n",
    "rbs  = RobustScaler()\n",
    "pts  = PowerTransformer()\n",
    "\n",
    "import string\n",
    "import unicodedata\n",
    "from bs4 import BeautifulSoup\n",
    "from wordcloud import WordCloud, STOPWORDS"
   ]
  },
  {
   "cell_type": "code",
   "execution_count": 3,
   "id": "36ab8376-0ba8-4d44-8420-c0e4f50329ed",
   "metadata": {},
   "outputs": [],
   "source": [
    "# This is the Cache Function Jon wrote\n",
    "import os\n",
    "from requests import get\n",
    "from urllib.parse import urlparse\n",
    "\n",
    "def cache_data(src:str, dest:str) -> str:\n",
    "    \"\"\"Downloads and caches a remote file locally.\n",
    "    \n",
    "    The function sits between the 'read' step of a pandas or geopandas\n",
    "    data frame and downloading the file from a remote location. The idea\n",
    "    is that it will save it locally so that you don't need to remember to\n",
    "    do so yourself. Subsequent re-reads of the file will return instantly\n",
    "    rather than downloading the entire file for a second or n-th itme.\n",
    "    \n",
    "    Parameters\n",
    "    ----------\n",
    "    src : str\n",
    "        The remote *source* for the file, any valid URL should work.\n",
    "    dest : str\n",
    "        The *destination* location to save the downloaded file.\n",
    "        \n",
    "    Returns\n",
    "    -------\n",
    "    str\n",
    "        A string representing the local location of the file.\n",
    "    \"\"\"\n",
    "    \n",
    "    url = urlparse(src) # We assume that this is some kind of valid URL \n",
    "    fn  = os.path.split(url.path)[-1] # Extract the filename\n",
    "    dfn = os.path.join(dest,fn) # Destination filename\n",
    "    \n",
    "    # Check if dest+filename does *not* exist -- \n",
    "    # that would mean we have to download it!\n",
    "    if not os.path.isfile(dfn) or os.path.getsize(dfn) < 1:\n",
    "        \n",
    "        print(f\"{dfn} not found, downloading!\")\n",
    "\n",
    "        # Convert the path back into a list (without)\n",
    "        # the filename -- we need to check that directories\n",
    "        # exist first.\n",
    "        path = os.path.split(dest)\n",
    "        \n",
    "        # Create any missing directories in dest(ination) path\n",
    "        # -- os.path.join is the reverse of split (as you saw above)\n",
    "        # but it doesn't work with lists... so I had to google how\n",
    "        # to use the 'splat' operator! os.makedirs creates missing\n",
    "        # directories in a path automatically.\n",
    "        if len(path) >= 1 and path[0] != '':\n",
    "            os.makedirs(os.path.join(*path), exist_ok=True)\n",
    "            \n",
    "        # Download and write the file\n",
    "        with open(dfn, \"wb\") as file:\n",
    "            response = get(src)\n",
    "            file.write(response.content)\n",
    "            \n",
    "        print('Done downloading...')\n",
    "\n",
    "    else:\n",
    "        print(f\"Found {dfn} locally!\")\n",
    "\n",
    "    return dfn"
   ]
  },
  {
   "cell_type": "code",
   "execution_count": 4,
   "id": "e6f47ddc-7327-4b46-ae65-700039e1e2f4",
   "metadata": {},
   "outputs": [],
   "source": [
    "# This is the Plotting Function Jon wrote\n",
    "def plt_ldn(w, b):\n",
    "    \"\"\"\n",
    "    Creates a new figure of a standard size with the \n",
    "    water (w) and boundary (b) layers set up for easy\n",
    "    plotting. Right now this function assumes that you're\n",
    "    looking at London, but you could parameterise it in\n",
    "    other ways ot allow it to work for other areas.\n",
    "    \n",
    "    w: a water layer for London\n",
    "    b: a borough (or other) boundary layer for London\n",
    "    \"\"\"\n",
    "    fig, ax = plt.subplots(1, figsize=(14, 12))\n",
    "    w.plot(ax=ax, color='#79aef5', zorder=2)\n",
    "    b.plot(ax=ax, edgecolor='#cc2d2d', facecolor='None', zorder=3)\n",
    "    ax.set_xlim([502000,563000])\n",
    "    ax.set_ylim([155000,201500])\n",
    "    ax.spines['top'].set_visible(False)\n",
    "    ax.spines['right'].set_visible(False)\n",
    "    ax.spines['bottom'].set_visible(False)\n",
    "    ax.spines['left'].set_visible(False)\n",
    "    return fig, ax\n",
    "\n",
    "########################\n",
    "# These may no longer be relevant because of changes to geopandas API\n",
    "\n",
    "def default_cmap(n, outliers=False):\n",
    "    cmap = mpl.cm.get_cmap('viridis_r', n)\n",
    "    colors = cmap(np.linspace(0,1,n))\n",
    "    if outliers:\n",
    "        gray = np.array([225/256, 225/256, 225/256, 1])\n",
    "        colors = np.insert(colors, 0, gray, axis=0)\n",
    "    return ListedColormap(colors)\n",
    "\n",
    "# mappable = ax.collections[-1] if you add the geopandas\n",
    "# plot last.\n",
    "def add_colorbar(mappable, ax, cmap, norm, breaks, outliers=False):\n",
    "    cb = fig.colorbar(mappable, ax=ax, cmap=cmap, norm=norm,\n",
    "                    boundaries=breaks,\n",
    "                    extend=('min' if outliers else 'neither'), \n",
    "                    spacing='uniform',\n",
    "                    orientation='horizontal',\n",
    "                    fraction=0.05, shrink=0.5, pad=0.05)\n",
    "    cb.set_label(\"Cluster Number\")"
   ]
  },
  {
   "cell_type": "code",
   "execution_count": 5,
   "id": "4deaf443-00be-4489-ad28-fcb3281fcd81",
   "metadata": {},
   "outputs": [],
   "source": [
    "#This is used in NLP to convert string object to be compatible with markdown\n",
    "from IPython.display import display_markdown\n",
    "\n",
    "def as_markdown(head='', body='Some body text'):\n",
    "    if head != '':\n",
    "        display_markdown(f\"##### {head}\\n\\n>{body}\\n\", raw=True)\n",
    "    else:\n",
    "        display_markdown(f\">{body}\\n\", raw=True)"
   ]
  },
  {
   "cell_type": "markdown",
   "id": "8d24b7c5-d8fe-46f5-bc22-c14868b1eb01",
   "metadata": {},
   "source": [
    "### Reading in the Data"
   ]
  },
  {
   "cell_type": "code",
   "execution_count": 6,
   "id": "b7fe96b6-9b82-410a-abb4-75ee97261505",
   "metadata": {},
   "outputs": [
    {
     "name": "stdout",
     "output_type": "stream",
     "text": [
      "Data frame is 69,351 x 75\n"
     ]
    }
   ],
   "source": [
    "listings2022 = pd.read_csv('listings.csv.gz', compression='gzip', low_memory=False)\n",
    "print(f\"Data frame is {listings2022.shape[0]:,} x {listings2022.shape[1]}\")"
   ]
  },
  {
   "cell_type": "code",
   "execution_count": 7,
   "id": "e4f31c61-5132-4234-9bf0-573fb3f9c80f",
   "metadata": {},
   "outputs": [
    {
     "name": "stdout",
     "output_type": "stream",
     "text": [
      "Found data/geo/Boroughs.gpkg locally!\n",
      "Found data/geo/Water.gpkg locally!\n",
      "Found data/geo/Greenspace.gpkg locally!\n",
      "Done.\n"
     ]
    }
   ],
   "source": [
    "# adding the borough data for maps\n",
    "ddir  = os.path.join('data','geo') # destination directory\n",
    "spath = 'https://github.com/jreades/fsds/blob/master/data/src/' # source path\n",
    "\n",
    "boros = gpd.read_file( cache_data(spath+'Boroughs.gpkg?raw=true', ddir) )\n",
    "water = gpd.read_file( cache_data(spath+'Water.gpkg?raw=true', ddir) )\n",
    "green = gpd.read_file( cache_data(spath+'Greenspace.gpkg?raw=true', ddir) )\n",
    "\n",
    "print('Done.')"
   ]
  },
  {
   "cell_type": "markdown",
   "id": "7cc57a9f-b94c-4cb2-a7aa-004894b0f081",
   "metadata": {
    "tags": []
   },
   "source": [
    "### General Data Cleaning: Booleans, Dates, Categories, Price Strings, Geography\n",
    "**Most of this code comes from practical 5**\n",
    "\n",
    "**In this section, I clean the entire dataset before selecting specific columns. This is for the purpose of reproducibility; individuals can select other fields in the Inside Airbnb dataset to expand upon this analysis.**\n"
   ]
  },
  {
   "cell_type": "code",
   "execution_count": 8,
   "id": "8b4cc1ea-64bb-4328-be19-5c8928d9275a",
   "metadata": {},
   "outputs": [],
   "source": [
    "# Here I am parametrising the data by defining the columns so I can work with them more easily. This comes from the FSDS practical 5.\n",
    "cols = ['id', 'listing_url', 'last_scraped', 'name', 'description', 'host_id', 'host_name', \n",
    "        'host_since', 'host_location', 'host_about', 'host_is_superhost', \n",
    "        'host_listings_count', 'host_total_listings_count', 'host_verifications', 'latitude', 'longitude', \n",
    "        'property_type', 'room_type', 'accommodates', 'bathrooms', 'bathrooms_text', 'bedrooms', 'beds', \n",
    "        'amenities', 'price', 'minimum_nights', 'maximum_nights', 'availability_365', 'number_of_reviews', \n",
    "        'first_review', 'last_review', 'review_scores_rating', 'license', 'reviews_per_month', 'has_availability', 'calendar_last_scraped']"
   ]
  },
  {
   "cell_type": "markdown",
   "id": "d8024137-7893-44c5-8017-919f9d284916",
   "metadata": {},
   "source": [
    "#### Booleans"
   ]
  },
  {
   "cell_type": "code",
   "execution_count": 9,
   "id": "98cc6394-9bb4-40f6-9369-a2eeacd0fd26",
   "metadata": {},
   "outputs": [],
   "source": [
    "# columns that seem to have values that should be booleans\n",
    "bcols = ['instant_bookable', 'host_has_profile_pic', 'host_identity_verified','host_is_superhost', 'has_availability']"
   ]
  },
  {
   "cell_type": "code",
   "execution_count": 10,
   "id": "c6ec4a63-9e6b-4ae6-9164-bda6f0e5b85f",
   "metadata": {},
   "outputs": [],
   "source": [
    "# Here I want to find which columsn have t/f as a value and should be booleans, check how to do this because I just went into the excel doc\n",
    "#listings2022.filter(regex=(\"t\"))"
   ]
  },
  {
   "cell_type": "code",
   "execution_count": 11,
   "id": "f9b0704d-b8a3-40f8-afee-02a5494293f0",
   "metadata": {},
   "outputs": [
    {
     "name": "stdout",
     "output_type": "stream",
     "text": [
      "Converting instant_bookable\n",
      "Converting host_has_profile_pic\n",
      "Converting host_identity_verified\n",
      "Converting host_is_superhost\n",
      "Converting has_availability\n"
     ]
    }
   ],
   "source": [
    "# I want to make the dataset more usable and storable so I'll convert certain columns to booleans\n",
    "for b in bcols:\n",
    "    print(f\"Converting {b}\")\n",
    "    listings2022[b] = listings2022[b].replace({'f':False, 't':True}).astype('bool')"
   ]
  },
  {
   "cell_type": "code",
   "execution_count": 12,
   "id": "a1ae3bb3-8f85-4e18-bed2-4597c08fcfc6",
   "metadata": {},
   "outputs": [
    {
     "name": "stdout",
     "output_type": "stream",
     "text": [
      "bool\n"
     ]
    }
   ],
   "source": [
    "print(listings2022.has_availability.dtype)\n",
    "#all seem to be booleans but idk why that didn't improve the memory"
   ]
  },
  {
   "cell_type": "code",
   "execution_count": 13,
   "id": "60a21097-f1a9-46f3-963e-492187e09c4d",
   "metadata": {},
   "outputs": [
    {
     "name": "stdout",
     "output_type": "stream",
     "text": [
      "The raw memory usage of `host_is_superhost` is 69 Kb.\n",
      "The boolean memory usage of `host_is_superhost` is 69 Kb.\n",
      "That's 100% of the original!\n"
     ]
    }
   ],
   "source": [
    "shm = listings2022.host_is_superhost.memory_usage(deep=True) # Super Host Memory\n",
    "bhm = listings2022.host_is_superhost.replace({'f':False, 't':True}).astype('bool').memory_usage(deep=True) # Boolean Host Memory\n",
    "\n",
    "print(f\"The raw memory usage of `host_is_superhost` is {shm/1000:,.0f} Kb.\")\n",
    "print(f\"The boolean memory usage of `host_is_superhost` is {bhm/1000:,.0f} Kb.\")\n",
    "print(f\"That's {(bhm/shm)*100:.0f}% of the original!\")"
   ]
  },
  {
   "cell_type": "code",
   "execution_count": 14,
   "id": "512dad70-5ae9-4cc9-9015-fdb9453f79e9",
   "metadata": {},
   "outputs": [
    {
     "data": {
      "text/html": [
       "<div>\n",
       "<style scoped>\n",
       "    .dataframe tbody tr th:only-of-type {\n",
       "        vertical-align: middle;\n",
       "    }\n",
       "\n",
       "    .dataframe tbody tr th {\n",
       "        vertical-align: top;\n",
       "    }\n",
       "\n",
       "    .dataframe thead th {\n",
       "        text-align: right;\n",
       "    }\n",
       "</style>\n",
       "<table border=\"1\" class=\"dataframe\">\n",
       "  <thead>\n",
       "    <tr style=\"text-align: right;\">\n",
       "      <th></th>\n",
       "      <th>instant_bookable</th>\n",
       "      <th>host_has_profile_pic</th>\n",
       "      <th>host_identity_verified</th>\n",
       "      <th>host_is_superhost</th>\n",
       "      <th>has_availability</th>\n",
       "    </tr>\n",
       "  </thead>\n",
       "  <tbody>\n",
       "    <tr>\n",
       "      <th>17512</th>\n",
       "      <td>True</td>\n",
       "      <td>True</td>\n",
       "      <td>True</td>\n",
       "      <td>False</td>\n",
       "      <td>True</td>\n",
       "    </tr>\n",
       "    <tr>\n",
       "      <th>51224</th>\n",
       "      <td>False</td>\n",
       "      <td>True</td>\n",
       "      <td>True</td>\n",
       "      <td>False</td>\n",
       "      <td>True</td>\n",
       "    </tr>\n",
       "    <tr>\n",
       "      <th>788</th>\n",
       "      <td>False</td>\n",
       "      <td>True</td>\n",
       "      <td>False</td>\n",
       "      <td>False</td>\n",
       "      <td>True</td>\n",
       "    </tr>\n",
       "    <tr>\n",
       "      <th>24782</th>\n",
       "      <td>True</td>\n",
       "      <td>True</td>\n",
       "      <td>True</td>\n",
       "      <td>False</td>\n",
       "      <td>True</td>\n",
       "    </tr>\n",
       "    <tr>\n",
       "      <th>18992</th>\n",
       "      <td>False</td>\n",
       "      <td>True</td>\n",
       "      <td>True</td>\n",
       "      <td>False</td>\n",
       "      <td>True</td>\n",
       "    </tr>\n",
       "  </tbody>\n",
       "</table>\n",
       "</div>"
      ],
      "text/plain": [
       "       instant_bookable  host_has_profile_pic  host_identity_verified  \\\n",
       "17512              True                  True                    True   \n",
       "51224             False                  True                    True   \n",
       "788               False                  True                   False   \n",
       "24782              True                  True                    True   \n",
       "18992             False                  True                    True   \n",
       "\n",
       "       host_is_superhost  has_availability  \n",
       "17512              False              True  \n",
       "51224              False              True  \n",
       "788                False              True  \n",
       "24782              False              True  \n",
       "18992              False              True  "
      ]
     },
     "execution_count": 14,
     "metadata": {},
     "output_type": "execute_result"
    }
   ],
   "source": [
    "listings2022.sample(5, random_state=43)[bcols]"
   ]
  },
  {
   "cell_type": "markdown",
   "id": "6071a648-343f-446f-b72e-6bb34825b3ea",
   "metadata": {},
   "source": [
    "#### Dates"
   ]
  },
  {
   "cell_type": "code",
   "execution_count": 15,
   "id": "6638b976-7d8e-4c80-81ac-287474ee5d77",
   "metadata": {},
   "outputs": [
    {
     "data": {
      "text/html": [
       "<div>\n",
       "<style scoped>\n",
       "    .dataframe tbody tr th:only-of-type {\n",
       "        vertical-align: middle;\n",
       "    }\n",
       "\n",
       "    .dataframe tbody tr th {\n",
       "        vertical-align: top;\n",
       "    }\n",
       "\n",
       "    .dataframe thead th {\n",
       "        text-align: right;\n",
       "    }\n",
       "</style>\n",
       "<table border=\"1\" class=\"dataframe\">\n",
       "  <thead>\n",
       "    <tr style=\"text-align: right;\">\n",
       "      <th></th>\n",
       "      <th>last_scraped</th>\n",
       "      <th>host_since</th>\n",
       "      <th>calendar_last_scraped</th>\n",
       "      <th>first_review</th>\n",
       "      <th>last_review</th>\n",
       "    </tr>\n",
       "  </thead>\n",
       "  <tbody>\n",
       "    <tr>\n",
       "      <th>17512</th>\n",
       "      <td>2022-09-11</td>\n",
       "      <td>2014-04-29</td>\n",
       "      <td>2022-09-11</td>\n",
       "      <td>2017-07-01</td>\n",
       "      <td>2017-09-05</td>\n",
       "    </tr>\n",
       "    <tr>\n",
       "      <th>51224</th>\n",
       "      <td>2022-09-11</td>\n",
       "      <td>2015-05-21</td>\n",
       "      <td>2022-09-11</td>\n",
       "      <td>2021-11-12</td>\n",
       "      <td>2021-11-12</td>\n",
       "    </tr>\n",
       "    <tr>\n",
       "      <th>788</th>\n",
       "      <td>2022-09-11</td>\n",
       "      <td>2012-07-13</td>\n",
       "      <td>2022-09-11</td>\n",
       "      <td>NaN</td>\n",
       "      <td>NaN</td>\n",
       "    </tr>\n",
       "    <tr>\n",
       "      <th>24782</th>\n",
       "      <td>2022-09-11</td>\n",
       "      <td>2015-09-04</td>\n",
       "      <td>2022-09-11</td>\n",
       "      <td>2018-06-02</td>\n",
       "      <td>2022-07-04</td>\n",
       "    </tr>\n",
       "    <tr>\n",
       "      <th>18992</th>\n",
       "      <td>2022-09-11</td>\n",
       "      <td>2014-06-08</td>\n",
       "      <td>2022-09-11</td>\n",
       "      <td>2017-08-17</td>\n",
       "      <td>2022-08-17</td>\n",
       "    </tr>\n",
       "  </tbody>\n",
       "</table>\n",
       "</div>"
      ],
      "text/plain": [
       "      last_scraped  host_since calendar_last_scraped first_review last_review\n",
       "17512   2022-09-11  2014-04-29            2022-09-11   2017-07-01  2017-09-05\n",
       "51224   2022-09-11  2015-05-21            2022-09-11   2021-11-12  2021-11-12\n",
       "788     2022-09-11  2012-07-13            2022-09-11          NaN         NaN\n",
       "24782   2022-09-11  2015-09-04            2022-09-11   2018-06-02  2022-07-04\n",
       "18992   2022-09-11  2014-06-08            2022-09-11   2017-08-17  2022-08-17"
      ]
     },
     "execution_count": 15,
     "metadata": {},
     "output_type": "execute_result"
    }
   ],
   "source": [
    "dates = ['last_scraped','host_since', 'calendar_last_scraped','first_review','last_review']\n",
    "listings2022.sample(5, random_state=43)[dates]"
   ]
  },
  {
   "cell_type": "code",
   "execution_count": 16,
   "id": "3740afed-48ca-4ad7-802d-b2c29e5d9ef1",
   "metadata": {},
   "outputs": [
    {
     "name": "stdout",
     "output_type": "stream",
     "text": [
      "Converting last_scraped\n",
      "Converting host_since\n",
      "Converting calendar_last_scraped\n",
      "Converting first_review\n",
      "Converting last_review\n"
     ]
    }
   ],
   "source": [
    "for d in dates:\n",
    "    print(\"Converting \" + d)\n",
    "    listings2022[d] = pd.to_datetime(listings2022[d], infer_datetime_format=True)"
   ]
  },
  {
   "cell_type": "code",
   "execution_count": 17,
   "id": "6c7724a1-14d0-4c06-bf16-8487c01d1700",
   "metadata": {},
   "outputs": [
    {
     "name": "stdout",
     "output_type": "stream",
     "text": [
      "datetime64[ns] \n",
      "\n",
      "10125    Sunday September 11, 2022\n",
      "61320    Sunday September 11, 2022\n",
      "49096    Monday September 12, 2022\n",
      "36687    Monday September 12, 2022\n",
      "6747     Sunday September 11, 2022\n",
      "Name: last_scraped, dtype: object\n",
      "datetime64[ns] \n",
      "\n",
      "10125         Monday March 11, 2013\n",
      "61320     Tuesday November 17, 2009\n",
      "49096          Tuesday May 03, 2016\n",
      "36687    Tuesday September 06, 2016\n",
      "6747      Wednesday August 12, 2015\n",
      "Name: host_since, dtype: object\n",
      "datetime64[ns] \n",
      "\n",
      "10125    Sunday September 11, 2022\n",
      "61320    Sunday September 11, 2022\n",
      "49096    Monday September 12, 2022\n",
      "36687    Monday September 12, 2022\n",
      "6747     Sunday September 11, 2022\n",
      "Name: calendar_last_scraped, dtype: object\n",
      "datetime64[ns] \n",
      "\n",
      "10125    Wednesday November 23, 2016\n",
      "61320                            NaN\n",
      "49096           Sunday July 04, 2021\n",
      "36687         Saturday July 06, 2019\n",
      "6747                             NaN\n",
      "Name: first_review, dtype: object\n",
      "datetime64[ns] \n",
      "\n",
      "10125    Tuesday September 06, 2022\n",
      "61320                           NaN\n",
      "49096        Sunday August 28, 2022\n",
      "36687      Sunday February 23, 2020\n",
      "6747                            NaN\n",
      "Name: last_review, dtype: object\n"
     ]
    }
   ],
   "source": [
    "# This checks that we successfully changed the dates for each\n",
    "for d in dates:\n",
    "    print(listings2022[d].dtype, \"\\n\")\n",
    "    print(listings2022.sample(5, random_state=45)[d].dt.strftime('%A %B %d, %Y'))"
   ]
  },
  {
   "cell_type": "markdown",
   "id": "da1abe34-bf9f-487e-bf72-c2a5610af81a",
   "metadata": {},
   "source": [
    "#### Categories"
   ]
  },
  {
   "cell_type": "code",
   "execution_count": 18,
   "id": "b4022b25-a0f7-4f50-a362-0423854be2ad",
   "metadata": {},
   "outputs": [
    {
     "data": {
      "text/html": [
       "<div>\n",
       "<style scoped>\n",
       "    .dataframe tbody tr th:only-of-type {\n",
       "        vertical-align: middle;\n",
       "    }\n",
       "\n",
       "    .dataframe tbody tr th {\n",
       "        vertical-align: top;\n",
       "    }\n",
       "\n",
       "    .dataframe thead th {\n",
       "        text-align: right;\n",
       "    }\n",
       "</style>\n",
       "<table border=\"1\" class=\"dataframe\">\n",
       "  <thead>\n",
       "    <tr style=\"text-align: right;\">\n",
       "      <th></th>\n",
       "      <th>property_type</th>\n",
       "      <th>room_type</th>\n",
       "      <th>host_location</th>\n",
       "      <th>host_response_time</th>\n",
       "      <th>host_location</th>\n",
       "      <th>neighbourhood_cleansed</th>\n",
       "    </tr>\n",
       "  </thead>\n",
       "  <tbody>\n",
       "    <tr>\n",
       "      <th>26643</th>\n",
       "      <td>Private room in rental unit</td>\n",
       "      <td>Private room</td>\n",
       "      <td>London, United Kingdom</td>\n",
       "      <td>NaN</td>\n",
       "      <td>London, United Kingdom</td>\n",
       "      <td>Tower Hamlets</td>\n",
       "    </tr>\n",
       "    <tr>\n",
       "      <th>15713</th>\n",
       "      <td>Entire rental unit</td>\n",
       "      <td>Entire home/apt</td>\n",
       "      <td>London, United Kingdom</td>\n",
       "      <td>within an hour</td>\n",
       "      <td>London, United Kingdom</td>\n",
       "      <td>Westminster</td>\n",
       "    </tr>\n",
       "    <tr>\n",
       "      <th>67606</th>\n",
       "      <td>Entire home</td>\n",
       "      <td>Entire home/apt</td>\n",
       "      <td>London, United Kingdom</td>\n",
       "      <td>NaN</td>\n",
       "      <td>London, United Kingdom</td>\n",
       "      <td>Croydon</td>\n",
       "    </tr>\n",
       "    <tr>\n",
       "      <th>40703</th>\n",
       "      <td>Entire rental unit</td>\n",
       "      <td>Entire home/apt</td>\n",
       "      <td>England, United Kingdom</td>\n",
       "      <td>NaN</td>\n",
       "      <td>England, United Kingdom</td>\n",
       "      <td>Kensington and Chelsea</td>\n",
       "    </tr>\n",
       "    <tr>\n",
       "      <th>625</th>\n",
       "      <td>Entire rental unit</td>\n",
       "      <td>Entire home/apt</td>\n",
       "      <td>London, United Kingdom</td>\n",
       "      <td>NaN</td>\n",
       "      <td>London, United Kingdom</td>\n",
       "      <td>Kensington and Chelsea</td>\n",
       "    </tr>\n",
       "  </tbody>\n",
       "</table>\n",
       "</div>"
      ],
      "text/plain": [
       "                     property_type        room_type            host_location  \\\n",
       "26643  Private room in rental unit     Private room   London, United Kingdom   \n",
       "15713           Entire rental unit  Entire home/apt   London, United Kingdom   \n",
       "67606                  Entire home  Entire home/apt   London, United Kingdom   \n",
       "40703           Entire rental unit  Entire home/apt  England, United Kingdom   \n",
       "625             Entire rental unit  Entire home/apt   London, United Kingdom   \n",
       "\n",
       "      host_response_time            host_location  neighbourhood_cleansed  \n",
       "26643                NaN   London, United Kingdom           Tower Hamlets  \n",
       "15713     within an hour   London, United Kingdom             Westminster  \n",
       "67606                NaN   London, United Kingdom                 Croydon  \n",
       "40703                NaN  England, United Kingdom  Kensington and Chelsea  \n",
       "625                  NaN   London, United Kingdom  Kensington and Chelsea  "
      ]
     },
     "execution_count": 18,
     "metadata": {},
     "output_type": "execute_result"
    }
   ],
   "source": [
    "# converting to categories, here I am selecting the columns that use categorical data so we can groupby better\n",
    "cats = ['property_type','room_type', 'host_location', 'host_response_time', 'host_location', 'neighbourhood_cleansed']\n",
    "listings2022.sample(5, random_state=42)[cats]"
   ]
  },
  {
   "cell_type": "code",
   "execution_count": 19,
   "id": "2b804a13-c6a2-4d45-aca0-0041f5efa920",
   "metadata": {},
   "outputs": [
    {
     "data": {
      "text/plain": [
       "Entire rental unit             22780\n",
       "Private room in rental unit    12133\n",
       "Entire condo                    8676\n",
       "Private room in home            8500\n",
       "Entire home                     5379\n",
       "                               ...  \n",
       "Shared room in earthen home        1\n",
       "Shared room in villa               1\n",
       "Yurt                               1\n",
       "Shared room in bus                 1\n",
       "Bus                                1\n",
       "Name: property_type, Length: 100, dtype: int64"
      ]
     },
     "execution_count": 19,
     "metadata": {},
     "output_type": "execute_result"
    }
   ],
   "source": [
    "listings2022[cats[0]].value_counts()"
   ]
  },
  {
   "cell_type": "code",
   "execution_count": 20,
   "id": "6e421728-e82c-494a-a1ad-ff165b300c3d",
   "metadata": {},
   "outputs": [
    {
     "name": "stdout",
     "output_type": "stream",
     "text": [
      "Converting property_type\n",
      "Converting room_type\n",
      "Converting host_location\n",
      "Converting host_response_time\n",
      "Converting host_location\n",
      "Converting neighbourhood_cleansed\n"
     ]
    }
   ],
   "source": [
    "for c in cats:\n",
    "    print(f\"Converting {c}\")\n",
    "    listings2022[c] = listings2022[c].astype('category')"
   ]
  },
  {
   "cell_type": "code",
   "execution_count": 21,
   "id": "dcd780d7-4567-42e6-9c59-009a9e00ed76",
   "metadata": {},
   "outputs": [
    {
     "name": "stdout",
     "output_type": "stream",
     "text": [
      "['a few days or more' 'within a day' 'within a few hours' 'within an hour']\n"
     ]
    }
   ],
   "source": [
    "print(listings2022[cats[3]].cat.categories.values)"
   ]
  },
  {
   "cell_type": "markdown",
   "id": "8efd06ad-6430-4e50-902b-12d1d5aeec52",
   "metadata": {},
   "source": [
    "#### Price and String Values"
   ]
  },
  {
   "cell_type": "code",
   "execution_count": 22,
   "id": "26b1f511-1d1a-4f0c-92fa-c5dd7664d404",
   "metadata": {},
   "outputs": [
    {
     "data": {
      "text/html": [
       "<div>\n",
       "<style scoped>\n",
       "    .dataframe tbody tr th:only-of-type {\n",
       "        vertical-align: middle;\n",
       "    }\n",
       "\n",
       "    .dataframe tbody tr th {\n",
       "        vertical-align: top;\n",
       "    }\n",
       "\n",
       "    .dataframe thead th {\n",
       "        text-align: right;\n",
       "    }\n",
       "</style>\n",
       "<table border=\"1\" class=\"dataframe\">\n",
       "  <thead>\n",
       "    <tr style=\"text-align: right;\">\n",
       "      <th></th>\n",
       "      <th>price</th>\n",
       "    </tr>\n",
       "  </thead>\n",
       "  <tbody>\n",
       "    <tr>\n",
       "      <th>26643</th>\n",
       "      <td>$22.00</td>\n",
       "    </tr>\n",
       "    <tr>\n",
       "      <th>15713</th>\n",
       "      <td>$450.00</td>\n",
       "    </tr>\n",
       "    <tr>\n",
       "      <th>67606</th>\n",
       "      <td>$175.00</td>\n",
       "    </tr>\n",
       "    <tr>\n",
       "      <th>40703</th>\n",
       "      <td>$214.00</td>\n",
       "    </tr>\n",
       "    <tr>\n",
       "      <th>625</th>\n",
       "      <td>$50.00</td>\n",
       "    </tr>\n",
       "    <tr>\n",
       "      <th>21460</th>\n",
       "      <td>$80.00</td>\n",
       "    </tr>\n",
       "    <tr>\n",
       "      <th>16731</th>\n",
       "      <td>$125.00</td>\n",
       "    </tr>\n",
       "    <tr>\n",
       "      <th>60779</th>\n",
       "      <td>$154.00</td>\n",
       "    </tr>\n",
       "    <tr>\n",
       "      <th>6370</th>\n",
       "      <td>$45.00</td>\n",
       "    </tr>\n",
       "    <tr>\n",
       "      <th>48603</th>\n",
       "      <td>$145.00</td>\n",
       "    </tr>\n",
       "  </tbody>\n",
       "</table>\n",
       "</div>"
      ],
      "text/plain": [
       "         price\n",
       "26643   $22.00\n",
       "15713  $450.00\n",
       "67606  $175.00\n",
       "40703  $214.00\n",
       "625     $50.00\n",
       "21460   $80.00\n",
       "16731  $125.00\n",
       "60779  $154.00\n",
       "6370    $45.00\n",
       "48603  $145.00"
      ]
     },
     "execution_count": 22,
     "metadata": {},
     "output_type": "execute_result"
    }
   ],
   "source": [
    "money = ['price']\n",
    "listings2022.sample(10, random_state=42)[money]"
   ]
  },
  {
   "cell_type": "code",
   "execution_count": 23,
   "id": "b0b5a691-cb97-46a1-b3e1-4140d0d7f2a3",
   "metadata": {},
   "outputs": [
    {
     "name": "stdout",
     "output_type": "stream",
     "text": [
      "Converting price\n"
     ]
    }
   ],
   "source": [
    "for m in money:\n",
    "    print(f\"Converting {m}\")\n",
    "    listings2022[m] = listings2022[m].str.replace('$','', regex=False).str.replace(',','', regex=False).astype('float')\n",
    "# part of the issue here was that you had to remove the commas as well because it wouldn't convert to a float if you just removed the $"
   ]
  },
  {
   "cell_type": "code",
   "execution_count": 24,
   "id": "0950b73a-1917-462e-87d1-c13fe981b798",
   "metadata": {},
   "outputs": [
    {
     "name": "stdout",
     "output_type": "stream",
     "text": [
      "float64\n"
     ]
    }
   ],
   "source": [
    "print(listings2022.price.dtype)"
   ]
  },
  {
   "cell_type": "code",
   "execution_count": 25,
   "id": "d03c64fb-a020-4df1-bcf0-709a57969f50",
   "metadata": {},
   "outputs": [
    {
     "name": "stdout",
     "output_type": "stream",
     "text": [
      "19\n"
     ]
    }
   ],
   "source": [
    "print(len(listings2022[listings2022['price'] == 0]))"
   ]
  },
  {
   "cell_type": "code",
   "execution_count": 26,
   "id": "6ae12857-9774-450a-ab6c-7e7abd5ab2e3",
   "metadata": {},
   "outputs": [
    {
     "data": {
      "text/plain": [
       "count   69,351.00\n",
       "mean       177.21\n",
       "std        412.82\n",
       "min          0.00\n",
       "25%         55.00\n",
       "50%        100.00\n",
       "75%        180.00\n",
       "max     25,000.00\n",
       "Name: price, dtype: float64"
      ]
     },
     "execution_count": 26,
     "metadata": {},
     "output_type": "execute_result"
    }
   ],
   "source": [
    "listings2022.price.describe()"
   ]
  },
  {
   "cell_type": "code",
   "execution_count": null,
   "id": "d0ad098e-c708-49e8-a9fb-a12a9fb8b646",
   "metadata": {},
   "outputs": [
    {
     "data": {
      "text/plain": [
       "Text(0, 0.5, 'Listing Count')"
      ]
     },
     "execution_count": 31,
     "metadata": {},
     "output_type": "execute_result"
    },
    {
     "data": {
      "image/png": "[encoded data removed]",
      "text/plain": [
       "<Figure size 432x288 with 1 Axes>"
      ]
     },
     "metadata": {
      "needs_background": "light"
     },
     "output_type": "display_data"
    }
   ],
   "source": [
    "#Histograms of all Price data to help us see the mean\n",
    "listings2022.price.plot.hist(bins=250)\n",
    "plt.title(\"Overall Distribution of Airbnbs by Price\")\n",
    "plt.xlabel('Price of Airbnb')\n",
    "plt.ylabel('Listing Count')"
   ]
  },
  {
   "cell_type": "code",
   "execution_count": 50,
   "id": "99ad7ba4-a310-4a40-9ad7-dcc3afbcb4c0",
   "metadata": {},
   "outputs": [
    {
     "data": {
      "text/plain": [
       "Text(0, 0.5, 'Listing Count')"
      ]
     },
     "execution_count": 50,
     "metadata": {},
     "output_type": "execute_result"
    },
    {
     "data": {
      "image/png": "[encoded data removed]",
      "text/plain": [
       "<Figure size 432x288 with 1 Axes>"
      ]
     },
     "metadata": {
      "needs_background": "light"
     },
     "output_type": "display_data"
    }
   ],
   "source": [
    "#Histogram of data 1 standard deviations above the mean\n",
    "#listings2022_std = listings2022.price.drop(thresh=(177.21+(2*412.82)))\n",
    "listings2022_std = listings2022[listings2022['price'] < (177.21+412.82)]\n",
    "\n",
    "\n",
    "listings2022_std.price.plot.hist(bins= 100)\n",
    "plt.title(\"Distribution of Airbnbs by Price one st. dev. Above the Mean\")\n",
    "plt.xlabel('Price of Airbnb')\n",
    "plt.ylabel('Listing Count')"
   ]
  },
  {
   "cell_type": "markdown",
   "id": "36478d7f-1ad8-4d15-89fe-69d5c66a29bd",
   "metadata": {},
   "source": [
    "#### Converting other Values to Pandas Integers"
   ]
  },
  {
   "cell_type": "code",
   "execution_count": 51,
   "id": "115a763f-7f69-49ac-b507-556a3d97e0bd",
   "metadata": {},
   "outputs": [
    {
     "name": "stdout",
     "output_type": "stream",
     "text": [
      "Converting id\n",
      "Converting host_id\n",
      "Converting host_listings_count\n",
      "  - !!!Converting to unsigned 16-bit integer!!!\n",
      "Converting host_total_listings_count\n",
      "  - !!!Converting to unsigned 16-bit integer!!!\n",
      "Converting accommodates\n",
      "Converting beds\n",
      "  - !!!Converting to unsigned 16-bit integer!!!\n",
      "Converting minimum_nights\n",
      "Converting maximum_nights\n",
      "Converting availability_365\n"
     ]
    }
   ],
   "source": [
    "ints  = ['id','host_id','host_listings_count','host_total_listings_count','accommodates',\n",
    "         'beds','minimum_nights','maximum_nights','availability_365']\n",
    "for i in ints:\n",
    "    print(f\"Converting {i}\")\n",
    "    try:\n",
    "        listings2022[i] = listings2022[i].astype('float').astype('int')\n",
    "    except ValueError as e:\n",
    "        print(\"  - !!!Converting to unsigned 16-bit integer!!!\")\n",
    "        listings2022[i] = listings2022[i].astype('float').astype(pd.UInt16Dtype())"
   ]
  },
  {
   "cell_type": "markdown",
   "id": "e984103e-7d79-4c36-b9f0-a174fdbe1687",
   "metadata": {},
   "source": [
    "#### Making the Longitude and Latitude in Geographically Usable Data"
   ]
  },
  {
   "cell_type": "code",
   "execution_count": 52,
   "id": "efdaec16-f3a5-4911-b84a-e12d565ea9f6",
   "metadata": {},
   "outputs": [
    {
     "name": "stdout",
     "output_type": "stream",
     "text": [
      "<class 'geopandas.geodataframe.GeoDataFrame'>\n",
      "<class 'geopandas.geoseries.GeoSeries'>\n"
     ]
    },
    {
     "data": {
      "text/plain": [
       "<bound method NDFrame.head of 0        50.00\n",
       "1        75.00\n",
       "2        90.00\n",
       "3        55.00\n",
       "4       379.00\n",
       "         ...  \n",
       "69346    55.00\n",
       "69347   201.00\n",
       "69348   246.00\n",
       "69349   250.00\n",
       "69350   134.00\n",
       "Name: price, Length: 69351, dtype: float64>"
      ]
     },
     "execution_count": 52,
     "metadata": {},
     "output_type": "execute_result"
    }
   ],
   "source": [
    "geo_listings2022 = gpd.GeoDataFrame(listings2022,geometry=gpd.points_from_xy(listings2022 .longitude, listings2022 .latitude, crs='epsg:4326'))\n",
    "geo_listings2022.to_crs('epsg:27700')\n",
    "\n",
    "#check the type\n",
    "print(type(geo_listings2022))\n",
    "print(type(geo_listings2022.geometry))\n",
    "geo_listings2022.price.head"
   ]
  },
  {
   "cell_type": "markdown",
   "id": "b4001d1b-c59a-40be-ae61-cf420a58e365",
   "metadata": {},
   "source": [
    "#### Exporting cleaned file\n",
    "\n",
    "**This comes from practical 5 too. Undo the commenting out if you want to save these listings. The files are large and won't upload to github."
   ]
  },
  {
   "cell_type": "code",
   "execution_count": 35,
   "id": "b141ccb5-254c-439c-a79b-7a2f1a629e75",
   "metadata": {},
   "outputs": [],
   "source": [
    "# Save general cleaned data\n",
    "#listings2022.to_csv('2022listingsclean.csv')"
   ]
  },
  {
   "cell_type": "code",
   "execution_count": 36,
   "id": "dc50fde4-ad14-468b-bb3f-3771c2992092",
   "metadata": {},
   "outputs": [],
   "source": [
    "# Save spatial cleaned data\n",
    "#geo_listings2022.to_csv('geo_2022listingsclean.csv')"
   ]
  },
  {
   "cell_type": "markdown",
   "id": "8f747dca-2ed1-4654-91ff-c5a2789a7bc6",
   "metadata": {},
   "source": [
    "### NaNs and Nulls\n",
    "**Here is potential code to identify null values in the whole dataset. However, we will not clean the null values yet because determining what to drop depends on the fields you intend to use for analysis.**"
   ]
  },
  {
   "cell_type": "code",
   "execution_count": 41,
   "id": "209d2ce2-5b10-431b-9e1d-2125804f8b35",
   "metadata": {},
   "outputs": [
    {
     "name": "stdout",
     "output_type": "stream",
     "text": [
      "<class 'pandas.core.frame.DataFrame'>\n",
      "RangeIndex: 69351 entries, 0 to 69350\n",
      "Data columns (total 76 columns):\n",
      " #   Column                                        Non-Null Count  Dtype         \n",
      "---  ------                                        --------------  -----         \n",
      " 0   id                                            69351 non-null  int64         \n",
      " 1   listing_url                                   69351 non-null  object        \n",
      " 2   scrape_id                                     69351 non-null  int64         \n",
      " 3   last_scraped                                  69351 non-null  datetime64[ns]\n",
      " 4   source                                        69351 non-null  object        \n",
      " 5   name                                          69330 non-null  object        \n",
      " 6   description                                   67832 non-null  object        \n",
      " 7   neighborhood_overview                         39964 non-null  object        \n",
      " 8   picture_url                                   69351 non-null  object        \n",
      " 9   host_id                                       69351 non-null  int64         \n",
      " 10  host_url                                      69351 non-null  object        \n",
      " 11  host_name                                     69346 non-null  object        \n",
      " 12  host_since                                    69346 non-null  datetime64[ns]\n",
      " 13  host_location                                 56984 non-null  category      \n",
      " 14  host_about                                    36946 non-null  object        \n",
      " 15  host_response_time                            42830 non-null  category      \n",
      " 16  host_response_rate                            42830 non-null  object        \n",
      " 17  host_acceptance_rate                          45090 non-null  object        \n",
      " 18  host_is_superhost                             69351 non-null  bool          \n",
      " 19  host_thumbnail_url                            69346 non-null  object        \n",
      " 20  host_picture_url                              69346 non-null  object        \n",
      " 21  host_neighbourhood                            43597 non-null  object        \n",
      " 22  host_listings_count                           69346 non-null  float64       \n",
      " 23  host_total_listings_count                     69346 non-null  float64       \n",
      " 24  host_verifications                            69351 non-null  object        \n",
      " 25  host_has_profile_pic                          69351 non-null  bool          \n",
      " 26  host_identity_verified                        69351 non-null  bool          \n",
      " 27  neighbourhood                                 39965 non-null  object        \n",
      " 28  neighbourhood_cleansed                        69351 non-null  category      \n",
      " 29  neighbourhood_group_cleansed                  0 non-null      float64       \n",
      " 30  latitude                                      69351 non-null  float64       \n",
      " 31  longitude                                     69351 non-null  float64       \n",
      " 32  property_type                                 69351 non-null  category      \n",
      " 33  room_type                                     69351 non-null  category      \n",
      " 34  accommodates                                  69351 non-null  int64         \n",
      " 35  bathrooms                                     0 non-null      float64       \n",
      " 36  bathrooms_text                                69220 non-null  object        \n",
      " 37  bedrooms                                      65922 non-null  float64       \n",
      " 38  beds                                          68151 non-null  float64       \n",
      " 39  amenities                                     69351 non-null  object        \n",
      " 40  price                                         69351 non-null  float64       \n",
      " 41  minimum_nights                                69351 non-null  int64         \n",
      " 42  maximum_nights                                69351 non-null  int64         \n",
      " 43  minimum_minimum_nights                        69348 non-null  float64       \n",
      " 44  maximum_minimum_nights                        69348 non-null  float64       \n",
      " 45  minimum_maximum_nights                        69348 non-null  float64       \n",
      " 46  maximum_maximum_nights                        69348 non-null  float64       \n",
      " 47  minimum_nights_avg_ntm                        69348 non-null  float64       \n",
      " 48  maximum_nights_avg_ntm                        69348 non-null  float64       \n",
      " 49  calendar_updated                              0 non-null      float64       \n",
      " 50  has_availability                              69351 non-null  bool          \n",
      " 51  availability_30                               69351 non-null  int64         \n",
      " 52  availability_60                               69351 non-null  int64         \n",
      " 53  availability_90                               69351 non-null  int64         \n",
      " 54  availability_365                              69351 non-null  int64         \n",
      " 55  calendar_last_scraped                         69351 non-null  datetime64[ns]\n",
      " 56  number_of_reviews                             69351 non-null  int64         \n",
      " 57  number_of_reviews_ltm                         69351 non-null  int64         \n",
      " 58  number_of_reviews_l30d                        69351 non-null  int64         \n",
      " 59  first_review                                  52571 non-null  datetime64[ns]\n",
      " 60  last_review                                   52571 non-null  datetime64[ns]\n",
      " 61  review_scores_rating                          52571 non-null  float64       \n",
      " 62  review_scores_accuracy                        51549 non-null  float64       \n",
      " 63  review_scores_cleanliness                     51562 non-null  float64       \n",
      " 64  review_scores_checkin                         51515 non-null  float64       \n",
      " 65  review_scores_communication                   51548 non-null  float64       \n",
      " 66  review_scores_location                        51517 non-null  float64       \n",
      " 67  review_scores_value                           51514 non-null  float64       \n",
      " 68  license                                       0 non-null      float64       \n",
      " 69  instant_bookable                              69351 non-null  bool          \n",
      " 70  calculated_host_listings_count                69351 non-null  int64         \n",
      " 71  calculated_host_listings_count_entire_homes   69351 non-null  int64         \n",
      " 72  calculated_host_listings_count_private_rooms  69351 non-null  int64         \n",
      " 73  calculated_host_listings_count_shared_rooms   69351 non-null  int64         \n",
      " 74  reviews_per_month                             52571 non-null  float64       \n",
      " 75  geometry                                      69351 non-null  geometry      \n",
      "dtypes: bool(5), category(5), datetime64[ns](5), float64(25), geometry(1), int64(17), object(18)\n",
      "memory usage: 35.7+ MB\n"
     ]
    }
   ],
   "source": [
    "listings2022.info(verbose=True)"
   ]
  },
  {
   "cell_type": "code",
   "execution_count": 42,
   "id": "57f1f970-69cb-498d-9a95-301723cb0c39",
   "metadata": {},
   "outputs": [
    {
     "data": {
      "text/plain": [
       "calendar_updated                               69351\n",
       "bathrooms                                      69351\n",
       "neighbourhood_group_cleansed                   69351\n",
       "license                                        69351\n",
       "host_about                                     32405\n",
       "neighborhood_overview                          29387\n",
       "neighbourhood                                  29386\n",
       "host_response_rate                             26521\n",
       "host_response_time                             26521\n",
       "host_neighbourhood                             25754\n",
       "host_acceptance_rate                           24261\n",
       "review_scores_value                            17837\n",
       "review_scores_checkin                          17836\n",
       "review_scores_location                         17834\n",
       "review_scores_communication                    17803\n",
       "review_scores_accuracy                         17802\n",
       "review_scores_cleanliness                      17789\n",
       "review_scores_rating                           16780\n",
       "last_review                                    16780\n",
       "first_review                                   16780\n",
       "reviews_per_month                              16780\n",
       "host_location                                  12367\n",
       "bedrooms                                        3429\n",
       "description                                     1519\n",
       "beds                                            1200\n",
       "bathrooms_text                                   131\n",
       "name                                              21\n",
       "host_listings_count                                5\n",
       "host_picture_url                                   5\n",
       "host_thumbnail_url                                 5\n",
       "host_since                                         5\n",
       "host_name                                          5\n",
       "host_total_listings_count                          5\n",
       "maximum_nights_avg_ntm                             3\n",
       "maximum_maximum_nights                             3\n",
       "maximum_minimum_nights                             3\n",
       "minimum_maximum_nights                             3\n",
       "minimum_minimum_nights                             3\n",
       "minimum_nights_avg_ntm                             3\n",
       "availability_365                                   0\n",
       "calculated_host_listings_count_shared_rooms        0\n",
       "availability_60                                    0\n",
       "number_of_reviews_l30d                             0\n",
       "calendar_last_scraped                              0\n",
       "number_of_reviews                                  0\n",
       "dtype: int64"
      ]
     },
     "execution_count": 42,
     "metadata": {},
     "output_type": "execute_result"
    }
   ],
   "source": [
    "#check for columns with most na values but here I will sort them in descending order to get a better visual sense\n",
    "listings2022.isna().sum().sort_values(ascending=False).head(45)"
   ]
  },
  {
   "cell_type": "code",
   "execution_count": 43,
   "id": "ad08d67d-aacc-4ae0-8c69-354fa1776768",
   "metadata": {},
   "outputs": [],
   "source": [
    "#drop listings with na ID values (this is more for the process because there don't appear to be any with no ID)\n",
    "listings2022.drop(listings2022[listings2022.id.isna()].index.array, axis=0, inplace=True)"
   ]
  },
  {
   "cell_type": "code",
   "execution_count": 44,
   "id": "271a402c-7089-422d-b482-6072cb669c49",
   "metadata": {},
   "outputs": [
    {
     "data": {
      "text/plain": [
       "4511     28\n",
       "6365     28\n",
       "7415     28\n",
       "5697     28\n",
       "46088    27\n",
       "45985    27\n",
       "42836    26\n",
       "6959     26\n",
       "43316    25\n",
       "43100    25\n",
       "43617    25\n",
       "43974    25\n",
       "42704    25\n",
       "27438    24\n",
       "46943    24\n",
       "41873    24\n",
       "42068    24\n",
       "34516    24\n",
       "33792    24\n",
       "41178    24\n",
       "dtype: int64"
      ]
     },
     "execution_count": 44,
     "metadata": {},
     "output_type": "execute_result"
    }
   ],
   "source": [
    "#count the null values by the row\n",
    "listings2022.isnull().sum(axis=1).sort_values(ascending=False).head(20)"
   ]
  },
  {
   "cell_type": "markdown",
   "id": "d7ef6444-79c1-4d04-bd0d-f83144e17cbc",
   "metadata": {},
   "source": [
    "### Focused Cleaning\n",
    "**These are the columns we will use for our purposes and so we will drop the null values accordingly**\n",
    "cols = ['id', 'name', 'description', 'host_id', 'host_location', 'host_listings_count', 'host_total_listings_count', 'latitude', 'longitude', 'property_type', 'rom_type','price', 'accomodates' 'minimum_nights', 'maximum_nights']"
   ]
  },
  {
   "cell_type": "code",
   "execution_count": 54,
   "id": "cb788c05-7619-4af5-a756-a493d4ce60a4",
   "metadata": {},
   "outputs": [],
   "source": [
    "fcols = ['id', 'name', 'description', 'host_id', 'host_location', 'host_listings_count', 'host_total_listings_count', 'neighbourhood_cleansed', 'latitude', 'longitude', 'property_type', 'room_type','price', 'minimum_nights', 'maximum_nights', 'geometry']\n",
    "geo_listings2022_cleaned = geo_listings2022[fcols]"
   ]
  },
  {
   "cell_type": "code",
   "execution_count": 55,
   "id": "7c480e20-6394-47b3-8bfe-4d13a95599b2",
   "metadata": {},
   "outputs": [
    {
     "data": {
      "text/html": [
       "<div>\n",
       "<style scoped>\n",
       "    .dataframe tbody tr th:only-of-type {\n",
       "        vertical-align: middle;\n",
       "    }\n",
       "\n",
       "    .dataframe tbody tr th {\n",
       "        vertical-align: top;\n",
       "    }\n",
       "\n",
       "    .dataframe thead th {\n",
       "        text-align: right;\n",
       "    }\n",
       "</style>\n",
       "<table border=\"1\" class=\"dataframe\">\n",
       "  <thead>\n",
       "    <tr style=\"text-align: right;\">\n",
       "      <th></th>\n",
       "      <th>id</th>\n",
       "      <th>name</th>\n",
       "      <th>description</th>\n",
       "      <th>host_id</th>\n",
       "      <th>host_location</th>\n",
       "      <th>host_listings_count</th>\n",
       "      <th>host_total_listings_count</th>\n",
       "      <th>neighbourhood_cleansed</th>\n",
       "      <th>latitude</th>\n",
       "      <th>longitude</th>\n",
       "      <th>property_type</th>\n",
       "      <th>room_type</th>\n",
       "      <th>price</th>\n",
       "      <th>minimum_nights</th>\n",
       "      <th>maximum_nights</th>\n",
       "      <th>geometry</th>\n",
       "    </tr>\n",
       "  </thead>\n",
       "  <tbody>\n",
       "    <tr>\n",
       "      <th>0</th>\n",
       "      <td>13913</td>\n",
       "      <td>Holiday London DB Room Let-on going</td>\n",
       "      <td>My bright double bedroom with a large window h...</td>\n",
       "      <td>54730</td>\n",
       "      <td>London, United Kingdom</td>\n",
       "      <td>3</td>\n",
       "      <td>4</td>\n",
       "      <td>Islington</td>\n",
       "      <td>51.57</td>\n",
       "      <td>-0.11</td>\n",
       "      <td>Private room in rental unit</td>\n",
       "      <td>Private room</td>\n",
       "      <td>50.00</td>\n",
       "      <td>1</td>\n",
       "      <td>29</td>\n",
       "      <td>POINT (-0.11270 51.56861)</td>\n",
       "    </tr>\n",
       "    <tr>\n",
       "      <th>1</th>\n",
       "      <td>15400</td>\n",
       "      <td>Bright Chelsea  Apartment. Chelsea!</td>\n",
       "      <td>Lots of windows and light.  St Luke's Gardens ...</td>\n",
       "      <td>60302</td>\n",
       "      <td>Kensington, United Kingdom</td>\n",
       "      <td>1</td>\n",
       "      <td>12</td>\n",
       "      <td>Kensington and Chelsea</td>\n",
       "      <td>51.49</td>\n",
       "      <td>-0.17</td>\n",
       "      <td>Entire rental unit</td>\n",
       "      <td>Entire home/apt</td>\n",
       "      <td>75.00</td>\n",
       "      <td>3</td>\n",
       "      <td>50</td>\n",
       "      <td>POINT (-0.16813 51.48780)</td>\n",
       "    </tr>\n",
       "    <tr>\n",
       "      <th>2</th>\n",
       "      <td>284532</td>\n",
       "      <td>COSY STUDIO-FLAT WITH A GREAT  VIEW</td>\n",
       "      <td>My very RECENTLY RENOVATED flat is located in ...</td>\n",
       "      <td>1481412</td>\n",
       "      <td>London, United Kingdom</td>\n",
       "      <td>1</td>\n",
       "      <td>3</td>\n",
       "      <td>Tower Hamlets</td>\n",
       "      <td>51.53</td>\n",
       "      <td>-0.07</td>\n",
       "      <td>Entire rental unit</td>\n",
       "      <td>Entire home/apt</td>\n",
       "      <td>90.00</td>\n",
       "      <td>5</td>\n",
       "      <td>365</td>\n",
       "      <td>POINT (-0.07426 51.52851)</td>\n",
       "    </tr>\n",
       "    <tr>\n",
       "      <th>3</th>\n",
       "      <td>106332</td>\n",
       "      <td>Lovely large room, Bethnal Green</td>\n",
       "      <td>Lovely characterful room in a house belonging ...</td>\n",
       "      <td>264345</td>\n",
       "      <td>London, United Kingdom</td>\n",
       "      <td>2</td>\n",
       "      <td>5</td>\n",
       "      <td>Tower Hamlets</td>\n",
       "      <td>51.53</td>\n",
       "      <td>-0.05</td>\n",
       "      <td>Private room in home</td>\n",
       "      <td>Private room</td>\n",
       "      <td>55.00</td>\n",
       "      <td>3</td>\n",
       "      <td>365</td>\n",
       "      <td>POINT (-0.05396 51.52874)</td>\n",
       "    </tr>\n",
       "    <tr>\n",
       "      <th>4</th>\n",
       "      <td>17402</td>\n",
       "      <td>Superb 3-Bed/2 Bath &amp; Wifi: Trendy W1</td>\n",
       "      <td>You'll have a wonderful stay in this superb mo...</td>\n",
       "      <td>67564</td>\n",
       "      <td>London, United Kingdom</td>\n",
       "      <td>6</td>\n",
       "      <td>32</td>\n",
       "      <td>Westminster</td>\n",
       "      <td>51.52</td>\n",
       "      <td>-0.14</td>\n",
       "      <td>Entire rental unit</td>\n",
       "      <td>Entire home/apt</td>\n",
       "      <td>379.00</td>\n",
       "      <td>4</td>\n",
       "      <td>365</td>\n",
       "      <td>POINT (-0.14094 51.52195)</td>\n",
       "    </tr>\n",
       "  </tbody>\n",
       "</table>\n",
       "</div>"
      ],
      "text/plain": [
       "       id                                   name  \\\n",
       "0   13913    Holiday London DB Room Let-on going   \n",
       "1   15400    Bright Chelsea  Apartment. Chelsea!   \n",
       "2  284532    COSY STUDIO-FLAT WITH A GREAT  VIEW   \n",
       "3  106332       Lovely large room, Bethnal Green   \n",
       "4   17402  Superb 3-Bed/2 Bath & Wifi: Trendy W1   \n",
       "\n",
       "                                         description  host_id  \\\n",
       "0  My bright double bedroom with a large window h...    54730   \n",
       "1  Lots of windows and light.  St Luke's Gardens ...    60302   \n",
       "2  My very RECENTLY RENOVATED flat is located in ...  1481412   \n",
       "3  Lovely characterful room in a house belonging ...   264345   \n",
       "4  You'll have a wonderful stay in this superb mo...    67564   \n",
       "\n",
       "                host_location  host_listings_count  host_total_listings_count  \\\n",
       "0      London, United Kingdom                    3                          4   \n",
       "1  Kensington, United Kingdom                    1                         12   \n",
       "2      London, United Kingdom                    1                          3   \n",
       "3      London, United Kingdom                    2                          5   \n",
       "4      London, United Kingdom                    6                         32   \n",
       "\n",
       "   neighbourhood_cleansed  latitude  longitude                property_type  \\\n",
       "0               Islington     51.57      -0.11  Private room in rental unit   \n",
       "1  Kensington and Chelsea     51.49      -0.17           Entire rental unit   \n",
       "2           Tower Hamlets     51.53      -0.07           Entire rental unit   \n",
       "3           Tower Hamlets     51.53      -0.05         Private room in home   \n",
       "4             Westminster     51.52      -0.14           Entire rental unit   \n",
       "\n",
       "         room_type  price  minimum_nights  maximum_nights  \\\n",
       "0     Private room  50.00               1              29   \n",
       "1  Entire home/apt  75.00               3              50   \n",
       "2  Entire home/apt  90.00               5             365   \n",
       "3     Private room  55.00               3             365   \n",
       "4  Entire home/apt 379.00               4             365   \n",
       "\n",
       "                    geometry  \n",
       "0  POINT (-0.11270 51.56861)  \n",
       "1  POINT (-0.16813 51.48780)  \n",
       "2  POINT (-0.07426 51.52851)  \n",
       "3  POINT (-0.05396 51.52874)  \n",
       "4  POINT (-0.14094 51.52195)  "
      ]
     },
     "execution_count": 55,
     "metadata": {},
     "output_type": "execute_result"
    }
   ],
   "source": [
    "geo_listings2022_cleaned.head(5)"
   ]
  },
  {
   "cell_type": "code",
   "execution_count": 56,
   "id": "d340ea95-2966-4a05-aff9-934a70549cb4",
   "metadata": {},
   "outputs": [
    {
     "name": "stdout",
     "output_type": "stream",
     "text": [
      "<class 'geopandas.geodataframe.GeoDataFrame'>\n",
      "RangeIndex: 69351 entries, 0 to 69350\n",
      "Data columns (total 16 columns):\n",
      " #   Column                     Non-Null Count  Dtype   \n",
      "---  ------                     --------------  -----   \n",
      " 0   id                         69351 non-null  int64   \n",
      " 1   name                       69330 non-null  object  \n",
      " 2   description                67832 non-null  object  \n",
      " 3   host_id                    69351 non-null  int64   \n",
      " 4   host_location              56984 non-null  category\n",
      " 5   host_listings_count        69346 non-null  UInt16  \n",
      " 6   host_total_listings_count  69346 non-null  UInt16  \n",
      " 7   neighbourhood_cleansed     69351 non-null  category\n",
      " 8   latitude                   69351 non-null  float64 \n",
      " 9   longitude                  69351 non-null  float64 \n",
      " 10  property_type              69351 non-null  category\n",
      " 11  room_type                  69351 non-null  category\n",
      " 12  price                      69351 non-null  float64 \n",
      " 13  minimum_nights             69351 non-null  int64   \n",
      " 14  maximum_nights             69351 non-null  int64   \n",
      " 15  geometry                   69351 non-null  geometry\n",
      "dtypes: UInt16(2), category(4), float64(3), geometry(1), int64(4), object(2)\n",
      "memory usage: 6.1+ MB\n"
     ]
    }
   ],
   "source": [
    "geo_listings2022_cleaned.info(verbose=True)"
   ]
  },
  {
   "cell_type": "code",
   "execution_count": 57,
   "id": "c3361b29-46ef-44ff-84fa-c50842675eae",
   "metadata": {},
   "outputs": [
    {
     "data": {
      "text/plain": [
       "host_location                12367\n",
       "description                   1519\n",
       "name                            21\n",
       "host_listings_count              5\n",
       "host_total_listings_count        5\n",
       "id                               0\n",
       "host_id                          0\n",
       "neighbourhood_cleansed           0\n",
       "latitude                         0\n",
       "longitude                        0\n",
       "dtype: int64"
      ]
     },
     "execution_count": 57,
     "metadata": {},
     "output_type": "execute_result"
    }
   ],
   "source": [
    "# count the null values by the column\n",
    "gl22 = geo_listings2022_cleaned\n",
    "gl22.isna().sum().sort_values(ascending=False).head(10)"
   ]
  },
  {
   "cell_type": "code",
   "execution_count": 58,
   "id": "fee52f36-789a-42a7-822f-d7e6f7335b7d",
   "metadata": {},
   "outputs": [
    {
     "data": {
      "text/plain": [
       "5697     3\n",
       "4511     3\n",
       "7415     3\n",
       "6365     3\n",
       "6959     3\n",
       "32319    2\n",
       "38352    2\n",
       "50884    2\n",
       "38479    2\n",
       "46895    2\n",
       "dtype: int64"
      ]
     },
     "execution_count": 58,
     "metadata": {},
     "output_type": "execute_result"
    }
   ],
   "source": [
    "# count the null values by the row\n",
    "gl22.isnull().sum(axis=1).sort_values(ascending=False).head(10)"
   ]
  },
  {
   "cell_type": "code",
   "execution_count": 59,
   "id": "457ed7ec-4233-4084-9063-7e4c27b5fdd1",
   "metadata": {},
   "outputs": [
    {
     "data": {
      "text/html": [
       "<div>\n",
       "<style scoped>\n",
       "    .dataframe tbody tr th:only-of-type {\n",
       "        vertical-align: middle;\n",
       "    }\n",
       "\n",
       "    .dataframe tbody tr th {\n",
       "        vertical-align: top;\n",
       "    }\n",
       "\n",
       "    .dataframe thead th {\n",
       "        text-align: right;\n",
       "    }\n",
       "</style>\n",
       "<table border=\"1\" class=\"dataframe\">\n",
       "  <thead>\n",
       "    <tr style=\"text-align: right;\">\n",
       "      <th></th>\n",
       "      <th>id</th>\n",
       "      <th>name</th>\n",
       "      <th>description</th>\n",
       "      <th>host_id</th>\n",
       "      <th>host_location</th>\n",
       "      <th>host_listings_count</th>\n",
       "      <th>host_total_listings_count</th>\n",
       "      <th>neighbourhood_cleansed</th>\n",
       "      <th>latitude</th>\n",
       "      <th>longitude</th>\n",
       "      <th>property_type</th>\n",
       "      <th>room_type</th>\n",
       "      <th>price</th>\n",
       "      <th>minimum_nights</th>\n",
       "      <th>maximum_nights</th>\n",
       "      <th>geometry</th>\n",
       "    </tr>\n",
       "  </thead>\n",
       "  <tbody>\n",
       "    <tr>\n",
       "      <th>2451</th>\n",
       "      <td>3203563</td>\n",
       "      <td>Private access to db rm en-suite  &amp; great loca...</td>\n",
       "      <td>NaN</td>\n",
       "      <td>16233825</td>\n",
       "      <td>NaN</td>\n",
       "      <td>3</td>\n",
       "      <td>4</td>\n",
       "      <td>Richmond upon Thames</td>\n",
       "      <td>51.47</td>\n",
       "      <td>-0.28</td>\n",
       "      <td>Private room in home</td>\n",
       "      <td>Private room</td>\n",
       "      <td>35.00</td>\n",
       "      <td>3</td>\n",
       "      <td>1125</td>\n",
       "      <td>POINT (-0.28056 51.47036)</td>\n",
       "    </tr>\n",
       "    <tr>\n",
       "      <th>4511</th>\n",
       "      <td>5811550</td>\n",
       "      <td>large room in Shoreditch</td>\n",
       "      <td>Big space, very convenient location, 5 mins by...</td>\n",
       "      <td>8317501</td>\n",
       "      <td>NaN</td>\n",
       "      <td>&lt;NA&gt;</td>\n",
       "      <td>&lt;NA&gt;</td>\n",
       "      <td>Tower Hamlets</td>\n",
       "      <td>51.53</td>\n",
       "      <td>-0.07</td>\n",
       "      <td>Private room in home</td>\n",
       "      <td>Private room</td>\n",
       "      <td>50.00</td>\n",
       "      <td>1</td>\n",
       "      <td>1125</td>\n",
       "      <td>POINT (-0.06566 51.52512)</td>\n",
       "    </tr>\n",
       "    <tr>\n",
       "      <th>5697</th>\n",
       "      <td>7007873</td>\n",
       "      <td>Victoria / Pimlico</td>\n",
       "      <td>Bright room in Victoria / Pimlico area. Clean ...</td>\n",
       "      <td>22047056</td>\n",
       "      <td>NaN</td>\n",
       "      <td>&lt;NA&gt;</td>\n",
       "      <td>&lt;NA&gt;</td>\n",
       "      <td>Westminster</td>\n",
       "      <td>51.49</td>\n",
       "      <td>-0.13</td>\n",
       "      <td>Private room in rental unit</td>\n",
       "      <td>Private room</td>\n",
       "      <td>35.00</td>\n",
       "      <td>8</td>\n",
       "      <td>1125</td>\n",
       "      <td>POINT (-0.13414 51.49459)</td>\n",
       "    </tr>\n",
       "    <tr>\n",
       "      <th>6365</th>\n",
       "      <td>7595146</td>\n",
       "      <td>Nice room in near Canary wharf</td>\n",
       "      <td>We have an empty room in our house in Island G...</td>\n",
       "      <td>39828462</td>\n",
       "      <td>NaN</td>\n",
       "      <td>&lt;NA&gt;</td>\n",
       "      <td>&lt;NA&gt;</td>\n",
       "      <td>Tower Hamlets</td>\n",
       "      <td>51.49</td>\n",
       "      <td>-0.01</td>\n",
       "      <td>Private room in home</td>\n",
       "      <td>Private room</td>\n",
       "      <td>30.00</td>\n",
       "      <td>1</td>\n",
       "      <td>1125</td>\n",
       "      <td>POINT (-0.01428 51.48730)</td>\n",
       "    </tr>\n",
       "    <tr>\n",
       "      <th>6959</th>\n",
       "      <td>8149344</td>\n",
       "      <td>LUXURIOUS SUITE IN HISTORIC HOUSE</td>\n",
       "      <td>Hi, I am an interior designer and I have a stu...</td>\n",
       "      <td>43023101</td>\n",
       "      <td>NaN</td>\n",
       "      <td>&lt;NA&gt;</td>\n",
       "      <td>&lt;NA&gt;</td>\n",
       "      <td>Waltham Forest</td>\n",
       "      <td>51.63</td>\n",
       "      <td>0.01</td>\n",
       "      <td>Private room in home</td>\n",
       "      <td>Private room</td>\n",
       "      <td>70.00</td>\n",
       "      <td>7</td>\n",
       "      <td>345</td>\n",
       "      <td>POINT (0.00607 51.63272)</td>\n",
       "    </tr>\n",
       "    <tr>\n",
       "      <th>7415</th>\n",
       "      <td>8511150</td>\n",
       "      <td>large room in camden</td>\n",
       "      <td>large room in camden, close to king's cross. p...</td>\n",
       "      <td>44815642</td>\n",
       "      <td>NaN</td>\n",
       "      <td>&lt;NA&gt;</td>\n",
       "      <td>&lt;NA&gt;</td>\n",
       "      <td>Camden</td>\n",
       "      <td>51.54</td>\n",
       "      <td>-0.14</td>\n",
       "      <td>Private room in rental unit</td>\n",
       "      <td>Private room</td>\n",
       "      <td>33.00</td>\n",
       "      <td>1</td>\n",
       "      <td>1125</td>\n",
       "      <td>POINT (-0.13965 51.53744)</td>\n",
       "    </tr>\n",
       "    <tr>\n",
       "      <th>8650</th>\n",
       "      <td>9666936</td>\n",
       "      <td>NaN</td>\n",
       "      <td>NaN</td>\n",
       "      <td>49016292</td>\n",
       "      <td>London, United Kingdom</td>\n",
       "      <td>1</td>\n",
       "      <td>1</td>\n",
       "      <td>Newham</td>\n",
       "      <td>51.51</td>\n",
       "      <td>0.04</td>\n",
       "      <td>Private room in home</td>\n",
       "      <td>Private room</td>\n",
       "      <td>20.00</td>\n",
       "      <td>7</td>\n",
       "      <td>1125</td>\n",
       "      <td>POINT (0.03633 51.51249)</td>\n",
       "    </tr>\n",
       "    <tr>\n",
       "      <th>14071</th>\n",
       "      <td>15097990</td>\n",
       "      <td>Beautifully Located flat @ 5min from Tube Station</td>\n",
       "      <td>NaN</td>\n",
       "      <td>18203580</td>\n",
       "      <td>NaN</td>\n",
       "      <td>3</td>\n",
       "      <td>3</td>\n",
       "      <td>Haringey</td>\n",
       "      <td>51.57</td>\n",
       "      <td>-0.11</td>\n",
       "      <td>Entire rental unit</td>\n",
       "      <td>Entire home/apt</td>\n",
       "      <td>55.00</td>\n",
       "      <td>13</td>\n",
       "      <td>90</td>\n",
       "      <td>POINT (-0.10684 51.56654)</td>\n",
       "    </tr>\n",
       "    <tr>\n",
       "      <th>16514</th>\n",
       "      <td>17461666</td>\n",
       "      <td>Nice Single Room</td>\n",
       "      <td>NaN</td>\n",
       "      <td>118230777</td>\n",
       "      <td>NaN</td>\n",
       "      <td>1</td>\n",
       "      <td>4</td>\n",
       "      <td>Wandsworth</td>\n",
       "      <td>51.46</td>\n",
       "      <td>-0.22</td>\n",
       "      <td>Private room in rental unit</td>\n",
       "      <td>Private room</td>\n",
       "      <td>31.00</td>\n",
       "      <td>30</td>\n",
       "      <td>1125</td>\n",
       "      <td>POINT (-0.22476 51.45732)</td>\n",
       "    </tr>\n",
       "    <tr>\n",
       "      <th>16903</th>\n",
       "      <td>17844086</td>\n",
       "      <td>Garden flat</td>\n",
       "      <td>NaN</td>\n",
       "      <td>27405122</td>\n",
       "      <td>NaN</td>\n",
       "      <td>3</td>\n",
       "      <td>3</td>\n",
       "      <td>Hammersmith and Fulham</td>\n",
       "      <td>51.48</td>\n",
       "      <td>-0.19</td>\n",
       "      <td>Private room in rental unit</td>\n",
       "      <td>Private room</td>\n",
       "      <td>150.00</td>\n",
       "      <td>3</td>\n",
       "      <td>90</td>\n",
       "      <td>POINT (-0.19062 51.47710)</td>\n",
       "    </tr>\n",
       "    <tr>\n",
       "      <th>19992</th>\n",
       "      <td>19967408</td>\n",
       "      <td>Quiet House close to Westfield Shopping Centre</td>\n",
       "      <td>NaN</td>\n",
       "      <td>141576282</td>\n",
       "      <td>NaN</td>\n",
       "      <td>4</td>\n",
       "      <td>6</td>\n",
       "      <td>Hammersmith and Fulham</td>\n",
       "      <td>51.51</td>\n",
       "      <td>-0.24</td>\n",
       "      <td>Entire home</td>\n",
       "      <td>Entire home/apt</td>\n",
       "      <td>99.00</td>\n",
       "      <td>3</td>\n",
       "      <td>30</td>\n",
       "      <td>POINT (-0.23993 51.51153)</td>\n",
       "    </tr>\n",
       "    <tr>\n",
       "      <th>20317</th>\n",
       "      <td>20192297</td>\n",
       "      <td>2 Bed Spacious flat Bow Road with an ensuite room</td>\n",
       "      <td>NaN</td>\n",
       "      <td>143780554</td>\n",
       "      <td>NaN</td>\n",
       "      <td>1</td>\n",
       "      <td>1</td>\n",
       "      <td>Tower Hamlets</td>\n",
       "      <td>51.53</td>\n",
       "      <td>-0.02</td>\n",
       "      <td>Entire condo</td>\n",
       "      <td>Entire home/apt</td>\n",
       "      <td>90.00</td>\n",
       "      <td>2</td>\n",
       "      <td>28</td>\n",
       "      <td>POINT (-0.02097 51.52689)</td>\n",
       "    </tr>\n",
       "    <tr>\n",
       "      <th>25254</th>\n",
       "      <td>24014864</td>\n",
       "      <td>The Sapphire Suite</td>\n",
       "      <td>NaN</td>\n",
       "      <td>194033700</td>\n",
       "      <td>NaN</td>\n",
       "      <td>34</td>\n",
       "      <td>38</td>\n",
       "      <td>Kensington and Chelsea</td>\n",
       "      <td>51.49</td>\n",
       "      <td>-0.18</td>\n",
       "      <td>Entire villa</td>\n",
       "      <td>Entire home/apt</td>\n",
       "      <td>2,645.00</td>\n",
       "      <td>7</td>\n",
       "      <td>1125</td>\n",
       "      <td>POINT (-0.17926 51.49348)</td>\n",
       "    </tr>\n",
       "    <tr>\n",
       "      <th>25257</th>\n",
       "      <td>24014865</td>\n",
       "      <td>The Ruby Residence</td>\n",
       "      <td>NaN</td>\n",
       "      <td>194033700</td>\n",
       "      <td>NaN</td>\n",
       "      <td>34</td>\n",
       "      <td>38</td>\n",
       "      <td>Kensington and Chelsea</td>\n",
       "      <td>51.49</td>\n",
       "      <td>-0.18</td>\n",
       "      <td>Entire villa</td>\n",
       "      <td>Entire home/apt</td>\n",
       "      <td>2,645.00</td>\n",
       "      <td>7</td>\n",
       "      <td>1125</td>\n",
       "      <td>POINT (-0.17745 51.49341)</td>\n",
       "    </tr>\n",
       "    <tr>\n",
       "      <th>26623</th>\n",
       "      <td>25422277</td>\n",
       "      <td>Hyde park Gardens 5 bedroom</td>\n",
       "      <td>NaN</td>\n",
       "      <td>191898777</td>\n",
       "      <td>NaN</td>\n",
       "      <td>1</td>\n",
       "      <td>1</td>\n",
       "      <td>Westminster</td>\n",
       "      <td>51.51</td>\n",
       "      <td>-0.17</td>\n",
       "      <td>Private room in rental unit</td>\n",
       "      <td>Private room</td>\n",
       "      <td>600.00</td>\n",
       "      <td>6</td>\n",
       "      <td>1125</td>\n",
       "      <td>POINT (-0.17146 51.51227)</td>\n",
       "    </tr>\n",
       "    <tr>\n",
       "      <th>26778</th>\n",
       "      <td>25474603</td>\n",
       "      <td>Nice, Large Double Room In Amazing Home</td>\n",
       "      <td>NaN</td>\n",
       "      <td>192270478</td>\n",
       "      <td>NaN</td>\n",
       "      <td>1</td>\n",
       "      <td>1</td>\n",
       "      <td>Newham</td>\n",
       "      <td>51.52</td>\n",
       "      <td>0.05</td>\n",
       "      <td>Private room in home</td>\n",
       "      <td>Private room</td>\n",
       "      <td>25.00</td>\n",
       "      <td>3</td>\n",
       "      <td>1125</td>\n",
       "      <td>POINT (0.04732 51.51918)</td>\n",
       "    </tr>\n",
       "    <tr>\n",
       "      <th>26898</th>\n",
       "      <td>25832526</td>\n",
       "      <td>Erith Park</td>\n",
       "      <td>NaN</td>\n",
       "      <td>194098169</td>\n",
       "      <td>NaN</td>\n",
       "      <td>1</td>\n",
       "      <td>1</td>\n",
       "      <td>Bexley</td>\n",
       "      <td>51.47</td>\n",
       "      <td>0.18</td>\n",
       "      <td>Private room in rental unit</td>\n",
       "      <td>Private room</td>\n",
       "      <td>36.00</td>\n",
       "      <td>5</td>\n",
       "      <td>1124</td>\n",
       "      <td>POINT (0.17872 51.47282)</td>\n",
       "    </tr>\n",
       "    <tr>\n",
       "      <th>26981</th>\n",
       "      <td>25759776</td>\n",
       "      <td>Access Tower Hill, Two-bedroom sleeps 4</td>\n",
       "      <td>NaN</td>\n",
       "      <td>192660473</td>\n",
       "      <td>NaN</td>\n",
       "      <td>4</td>\n",
       "      <td>4</td>\n",
       "      <td>Tower Hamlets</td>\n",
       "      <td>51.51</td>\n",
       "      <td>-0.07</td>\n",
       "      <td>Entire rental unit</td>\n",
       "      <td>Entire home/apt</td>\n",
       "      <td>240.00</td>\n",
       "      <td>1</td>\n",
       "      <td>1125</td>\n",
       "      <td>POINT (-0.07276 51.51276)</td>\n",
       "    </tr>\n",
       "    <tr>\n",
       "      <th>26997</th>\n",
       "      <td>25761169</td>\n",
       "      <td>Access Tower Hill, Two bedroom sleeps 5</td>\n",
       "      <td>NaN</td>\n",
       "      <td>192660473</td>\n",
       "      <td>NaN</td>\n",
       "      <td>4</td>\n",
       "      <td>4</td>\n",
       "      <td>Tower Hamlets</td>\n",
       "      <td>51.51</td>\n",
       "      <td>-0.07</td>\n",
       "      <td>Entire rental unit</td>\n",
       "      <td>Entire home/apt</td>\n",
       "      <td>250.00</td>\n",
       "      <td>1</td>\n",
       "      <td>1125</td>\n",
       "      <td>POINT (-0.07290 51.51272)</td>\n",
       "    </tr>\n",
       "    <tr>\n",
       "      <th>27055</th>\n",
       "      <td>25953640</td>\n",
       "      <td>Access Little Venice, Two Bedroom Sleeps 4</td>\n",
       "      <td>NaN</td>\n",
       "      <td>192857759</td>\n",
       "      <td>NaN</td>\n",
       "      <td>2</td>\n",
       "      <td>2</td>\n",
       "      <td>Westminster</td>\n",
       "      <td>51.53</td>\n",
       "      <td>-0.19</td>\n",
       "      <td>Entire rental unit</td>\n",
       "      <td>Entire home/apt</td>\n",
       "      <td>300.00</td>\n",
       "      <td>1</td>\n",
       "      <td>1125</td>\n",
       "      <td>POINT (-0.18816 51.52592)</td>\n",
       "    </tr>\n",
       "  </tbody>\n",
       "</table>\n",
       "</div>"
      ],
      "text/plain": [
       "             id                                               name  \\\n",
       "2451    3203563  Private access to db rm en-suite  & great loca...   \n",
       "4511    5811550                           large room in Shoreditch   \n",
       "5697    7007873                                 Victoria / Pimlico   \n",
       "6365    7595146                     Nice room in near Canary wharf   \n",
       "6959    8149344                  LUXURIOUS SUITE IN HISTORIC HOUSE   \n",
       "7415    8511150                               large room in camden   \n",
       "8650    9666936                                                NaN   \n",
       "14071  15097990  Beautifully Located flat @ 5min from Tube Station   \n",
       "16514  17461666                                   Nice Single Room   \n",
       "16903  17844086                                        Garden flat   \n",
       "19992  19967408     Quiet House close to Westfield Shopping Centre   \n",
       "20317  20192297  2 Bed Spacious flat Bow Road with an ensuite room   \n",
       "25254  24014864                                 The Sapphire Suite   \n",
       "25257  24014865                                 The Ruby Residence   \n",
       "26623  25422277                        Hyde park Gardens 5 bedroom   \n",
       "26778  25474603            Nice, Large Double Room In Amazing Home   \n",
       "26898  25832526                                         Erith Park   \n",
       "26981  25759776            Access Tower Hill, Two-bedroom sleeps 4   \n",
       "26997  25761169            Access Tower Hill, Two bedroom sleeps 5   \n",
       "27055  25953640         Access Little Venice, Two Bedroom Sleeps 4   \n",
       "\n",
       "                                             description    host_id  \\\n",
       "2451                                                 NaN   16233825   \n",
       "4511   Big space, very convenient location, 5 mins by...    8317501   \n",
       "5697   Bright room in Victoria / Pimlico area. Clean ...   22047056   \n",
       "6365   We have an empty room in our house in Island G...   39828462   \n",
       "6959   Hi, I am an interior designer and I have a stu...   43023101   \n",
       "7415   large room in camden, close to king's cross. p...   44815642   \n",
       "8650                                                 NaN   49016292   \n",
       "14071                                                NaN   18203580   \n",
       "16514                                                NaN  118230777   \n",
       "16903                                                NaN   27405122   \n",
       "19992                                                NaN  141576282   \n",
       "20317                                                NaN  143780554   \n",
       "25254                                                NaN  194033700   \n",
       "25257                                                NaN  194033700   \n",
       "26623                                                NaN  191898777   \n",
       "26778                                                NaN  192270478   \n",
       "26898                                                NaN  194098169   \n",
       "26981                                                NaN  192660473   \n",
       "26997                                                NaN  192660473   \n",
       "27055                                                NaN  192857759   \n",
       "\n",
       "                host_location  host_listings_count  host_total_listings_count  \\\n",
       "2451                      NaN                    3                          4   \n",
       "4511                      NaN                 <NA>                       <NA>   \n",
       "5697                      NaN                 <NA>                       <NA>   \n",
       "6365                      NaN                 <NA>                       <NA>   \n",
       "6959                      NaN                 <NA>                       <NA>   \n",
       "7415                      NaN                 <NA>                       <NA>   \n",
       "8650   London, United Kingdom                    1                          1   \n",
       "14071                     NaN                    3                          3   \n",
       "16514                     NaN                    1                          4   \n",
       "16903                     NaN                    3                          3   \n",
       "19992                     NaN                    4                          6   \n",
       "20317                     NaN                    1                          1   \n",
       "25254                     NaN                   34                         38   \n",
       "25257                     NaN                   34                         38   \n",
       "26623                     NaN                    1                          1   \n",
       "26778                     NaN                    1                          1   \n",
       "26898                     NaN                    1                          1   \n",
       "26981                     NaN                    4                          4   \n",
       "26997                     NaN                    4                          4   \n",
       "27055                     NaN                    2                          2   \n",
       "\n",
       "       neighbourhood_cleansed  latitude  longitude  \\\n",
       "2451     Richmond upon Thames     51.47      -0.28   \n",
       "4511            Tower Hamlets     51.53      -0.07   \n",
       "5697              Westminster     51.49      -0.13   \n",
       "6365            Tower Hamlets     51.49      -0.01   \n",
       "6959           Waltham Forest     51.63       0.01   \n",
       "7415                   Camden     51.54      -0.14   \n",
       "8650                   Newham     51.51       0.04   \n",
       "14071                Haringey     51.57      -0.11   \n",
       "16514              Wandsworth     51.46      -0.22   \n",
       "16903  Hammersmith and Fulham     51.48      -0.19   \n",
       "19992  Hammersmith and Fulham     51.51      -0.24   \n",
       "20317           Tower Hamlets     51.53      -0.02   \n",
       "25254  Kensington and Chelsea     51.49      -0.18   \n",
       "25257  Kensington and Chelsea     51.49      -0.18   \n",
       "26623             Westminster     51.51      -0.17   \n",
       "26778                  Newham     51.52       0.05   \n",
       "26898                  Bexley     51.47       0.18   \n",
       "26981           Tower Hamlets     51.51      -0.07   \n",
       "26997           Tower Hamlets     51.51      -0.07   \n",
       "27055             Westminster     51.53      -0.19   \n",
       "\n",
       "                     property_type        room_type    price  minimum_nights  \\\n",
       "2451          Private room in home     Private room    35.00               3   \n",
       "4511          Private room in home     Private room    50.00               1   \n",
       "5697   Private room in rental unit     Private room    35.00               8   \n",
       "6365          Private room in home     Private room    30.00               1   \n",
       "6959          Private room in home     Private room    70.00               7   \n",
       "7415   Private room in rental unit     Private room    33.00               1   \n",
       "8650          Private room in home     Private room    20.00               7   \n",
       "14071           Entire rental unit  Entire home/apt    55.00              13   \n",
       "16514  Private room in rental unit     Private room    31.00              30   \n",
       "16903  Private room in rental unit     Private room   150.00               3   \n",
       "19992                  Entire home  Entire home/apt    99.00               3   \n",
       "20317                 Entire condo  Entire home/apt    90.00               2   \n",
       "25254                 Entire villa  Entire home/apt 2,645.00               7   \n",
       "25257                 Entire villa  Entire home/apt 2,645.00               7   \n",
       "26623  Private room in rental unit     Private room   600.00               6   \n",
       "26778         Private room in home     Private room    25.00               3   \n",
       "26898  Private room in rental unit     Private room    36.00               5   \n",
       "26981           Entire rental unit  Entire home/apt   240.00               1   \n",
       "26997           Entire rental unit  Entire home/apt   250.00               1   \n",
       "27055           Entire rental unit  Entire home/apt   300.00               1   \n",
       "\n",
       "       maximum_nights                   geometry  \n",
       "2451             1125  POINT (-0.28056 51.47036)  \n",
       "4511             1125  POINT (-0.06566 51.52512)  \n",
       "5697             1125  POINT (-0.13414 51.49459)  \n",
       "6365             1125  POINT (-0.01428 51.48730)  \n",
       "6959              345   POINT (0.00607 51.63272)  \n",
       "7415             1125  POINT (-0.13965 51.53744)  \n",
       "8650             1125   POINT (0.03633 51.51249)  \n",
       "14071              90  POINT (-0.10684 51.56654)  \n",
       "16514            1125  POINT (-0.22476 51.45732)  \n",
       "16903              90  POINT (-0.19062 51.47710)  \n",
       "19992              30  POINT (-0.23993 51.51153)  \n",
       "20317              28  POINT (-0.02097 51.52689)  \n",
       "25254            1125  POINT (-0.17926 51.49348)  \n",
       "25257            1125  POINT (-0.17745 51.49341)  \n",
       "26623            1125  POINT (-0.17146 51.51227)  \n",
       "26778            1125   POINT (0.04732 51.51918)  \n",
       "26898            1124   POINT (0.17872 51.47282)  \n",
       "26981            1125  POINT (-0.07276 51.51276)  \n",
       "26997            1125  POINT (-0.07290 51.51272)  \n",
       "27055            1125  POINT (-0.18816 51.52592)  "
      ]
     },
     "execution_count": 59,
     "metadata": {},
     "output_type": "execute_result"
    }
   ],
   "source": [
    "probrows = gl22.isnull().sum(axis=1) > 1\n",
    "null_rows = gl22[probrows]\n",
    "null_rows.head(20)"
   ]
  },
  {
   "cell_type": "code",
   "execution_count": 60,
   "id": "f7b01de4-36a7-4147-ab9b-6c2e55e83af6",
   "metadata": {},
   "outputs": [
    {
     "name": "stdout",
     "output_type": "stream",
     "text": [
      "The dataset now has 69,054 rows after dropping those with more than 1 null value\n"
     ]
    }
   ],
   "source": [
    "gl22 = gl22.dropna(thresh=len(gl22.columns)-1)\n",
    "print(f\"The dataset now has {gl22.shape[0]:,} rows after dropping those with more than 1 null value\")"
   ]
  },
  {
   "cell_type": "code",
   "execution_count": 61,
   "id": "70c6d39d-9204-430c-9dea-99aa1f150cc0",
   "metadata": {},
   "outputs": [
    {
     "data": {
      "text/plain": [
       "69350    1\n",
       "52411    1\n",
       "59702    1\n",
       "52413    1\n",
       "41922    1\n",
       "41923    1\n",
       "41924    1\n",
       "18311    1\n",
       "10277    1\n",
       "30243    1\n",
       "dtype: int64"
      ]
     },
     "execution_count": 61,
     "metadata": {},
     "output_type": "execute_result"
    }
   ],
   "source": [
    "#Check that it worked\n",
    "gl22.isnull().sum(axis=1).sort_values(ascending=False).head(10)"
   ]
  },
  {
   "cell_type": "markdown",
   "id": "c1d6652e-cb58-41a5-9d6a-eab71bf9fa2c",
   "metadata": {},
   "source": [
    "Here I will create a subset of these listings by boroughs of interest:\n",
    "\n",
    "Least Deprived:\n",
    "Haringey\n",
    "Kensington and Chelsea (kc for shorthand)\n",
    "\n",
    "Middle:\n",
    "Camden\n",
    "\n",
    "Most Deprived:\n",
    "Sutton\n",
    "Merton"
   ]
  },
  {
   "cell_type": "code",
   "execution_count": 62,
   "id": "75199f66-344c-4616-9a2b-bd743665b939",
   "metadata": {},
   "outputs": [
    {
     "name": "stdout",
     "output_type": "stream",
     "text": [
      "Found 1,890 listings in the cleaned geodataset for listings in Haringey\n",
      "Found 4,596 listings in the cleaned geodataset for listings in Kensington and Chelsea\n",
      "Found 4,684 listings in the cleaned geodataset for listings in Camden\n",
      "Found 284 listings in the cleaned geodataset for listings in Sutton\n",
      "Found 1,110 listings in the cleaned geodataset for listings in Merton\n"
     ]
    }
   ],
   "source": [
    "Haringey = gl22[gl22.neighbourhood_cleansed.str.contains(r'Haringey', regex=True, flags=re.IGNORECASE)].copy()\n",
    "print(f\"Found {Haringey.shape[0]:,} listings in the cleaned geodataset for listings in Haringey\")\n",
    "\n",
    "kc = gl22[gl22.neighbourhood_cleansed.str.contains(r'Kensington and Chelsea', regex=True, flags=re.IGNORECASE)].copy()\n",
    "print(f\"Found {kc.shape[0]:,} listings in the cleaned geodataset for listings in Kensington and Chelsea\")\n",
    "\n",
    "Camden = gl22[gl22.neighbourhood_cleansed.str.contains(r'Camden', regex=True, flags=re.IGNORECASE)].copy()\n",
    "print(f\"Found {Camden.shape[0]:,} listings in the cleaned geodataset for listings in Camden\")\n",
    "\n",
    "Sutton = gl22[gl22.neighbourhood_cleansed.str.contains(r'Sutton', regex=True, flags=re.IGNORECASE)].copy()\n",
    "print(f\"Found {Sutton.shape[0]:,} listings in the cleaned geodataset for listings in Sutton\")\n",
    "\n",
    "Merton = gl22[gl22.neighbourhood_cleansed.str.contains(r'Merton', regex=True, flags=re.IGNORECASE)].copy()\n",
    "print(f\"Found {Merton.shape[0]:,} listings in the cleaned geodataset for listings in Merton\")"
   ]
  },
  {
   "cell_type": "markdown",
   "id": "c528bf3b-bc6e-4ac7-8f2e-fd040dd80a5d",
   "metadata": {
    "tags": []
   },
   "source": [
    "### Preliminary NLP Analysis\n",
    "**This code draws from practical 7. Here, I target descriptions using text mining analysis with the aim of discerning Airbnb listings that might be tied to gentrification. The main purpose of this section is to identify on a map where listings that buy into narratives surrounding gentrification are located.**\n",
    "\n",
    "**Because I am working on NLP, I will drop all the description rows that have null values because I will primarily be working with the descriptions.**"
   ]
  },
  {
   "cell_type": "code",
   "execution_count": 63,
   "id": "fe3d1a05-f4fa-4681-bde6-cf3b6d75a3e4",
   "metadata": {},
   "outputs": [
    {
     "name": "stdout",
     "output_type": "stream",
     "text": [
      "Now gdf has 67,827 rows.\n"
     ]
    }
   ],
   "source": [
    "gdf = gl22.dropna(subset=['description'])\n",
    "print(f\"Now gdf has {gdf.shape[0]:,} rows.\")"
   ]
  },
  {
   "cell_type": "code",
   "execution_count": 54,
   "id": "72039159-4d81-4d3c-9d54-928ece7965f7",
   "metadata": {},
   "outputs": [
    {
     "data": {
      "text/plain": [
       "56440    A beautiful private bedroom in a peaceful plac...\n",
       "49775    The listing is for an airy and modern double b...\n",
       "33399    A lovely bright 1 bedroom flat with spacious r...\n",
       "698      <b>The space</b><br />Situated in a quiet, pri...\n",
       "23691    My place is less than a 5 min walk to Lordship...\n",
       "64504    A light, bright, airy 2 bedroom flat located i...\n",
       "44923    Situated on the third floor of this impressive...\n",
       "37569    This apartment features a bedroom with a king ...\n",
       "18263    Comfortable one bedroom apartment with separat...\n",
       "27895    Our apartment was built in March 2018 so every...\n",
       "Name: description, dtype: object"
      ]
     },
     "execution_count": 54,
     "metadata": {},
     "output_type": "execute_result"
    }
   ],
   "source": [
    "gdf[~gdf.description.isna()].description.sample(10, random_state=42)\n",
    "#It seems there are more or less the same issues as in the practical regarding the descriptions"
   ]
  },
  {
   "cell_type": "code",
   "execution_count": 55,
   "id": "d88a596f-9557-4d34-8860-8ed4cad40fbe",
   "metadata": {},
   "outputs": [
    {
     "data": {
      "text/plain": [
       "\"Enjoy a stylish experience at this BRAND-NEW centrally-located place! <br /><br />(Air conditioners in all bedrooms and living room)<br /><br />This luxurious place offers 3 large bedrooms, 2 bathrooms, a stylish living room, and a fully equipped kitchen. <br /><br />Perfectly located in Marylebone, Central London, moments away from Baker Street Station and just opposite Regent's Park. This place is perfect for guests wanting to see the sights of London or do some shopping, as Oxford Street is just a short walk away.<br /><br /><b>The space</b><br />- 65 Inch TV smart LED TV in the living room.<br />- Toilet built-in bidet shower in the bathrooms. ( Shattafa) <br />- Newly renovated and modernly designed with a stylish touch.<br />- The apartment is fully equipped with everything you need for a short or long stay!<br /><br />- Baby cot and high chair available (Free of Charge)<br /><br /><b>Guest access</b><br />- The entire space is set up for guests to have a stay to remember!<br />-\""
      ]
     },
     "execution_count": 55,
     "metadata": {},
     "output_type": "execute_result"
    }
   ],
   "source": [
    "gdf.description.iloc[56440]\n",
    "#While many of the above end in ..., the dots do not appear to be part of the actual description but rather a way of shortening it"
   ]
  },
  {
   "cell_type": "markdown",
   "id": "e34c3df2-8bcf-4bbf-84c3-0c1faefb5d5b",
   "metadata": {},
   "source": [
    "##### Basic Cleaning of the Description Text pre-Regex: removing HTML\n",
    "**Here, I will: remove HTML and punctuation**\n",
    "\n",
    "Before creating a subet of data, I will do some preliminary cleaning of the decription field that is of interest for our NLP. This will just allow the regex to more accurately identify words (and include listings that contain these words but the words are 'hidden' by how html and some puction might effect the text"
   ]
  },
  {
   "cell_type": "code",
   "execution_count": 64,
   "id": "ea72f766-09e2-46f7-89e1-7ea91b3b1460",
   "metadata": {},
   "outputs": [
    {
     "name": "stderr",
     "output_type": "stream",
     "text": [
      "/opt/conda/lib/python3.10/site-packages/bs4/__init__.py:435: MarkupResemblesLocatorWarning: The input looks more like a filename than markup. You may want to open this file and pass the filehandle into Beautiful Soup.\n",
      "  warnings.warn(\n",
      "/opt/conda/lib/python3.10/site-packages/geopandas/geodataframe.py:1443: SettingWithCopyWarning: \n",
      "A value is trying to be set on a copy of a slice from a DataFrame.\n",
      "Try using .loc[row_indexer,col_indexer] = value instead\n",
      "\n",
      "See the caveats in the documentation: https://pandas.pydata.org/pandas-docs/stable/user_guide/indexing.html#returning-a-view-versus-a-copy\n",
      "  super().__setitem__(key, value)\n"
     ]
    }
   ],
   "source": [
    "#remove html\n",
    "for col in gdf.select_dtypes(include='object'):\n",
    "    gdf['description'] = gdf['description'].apply(lambda x: BeautifulSoup(x, 'html.parser').get_text())"
   ]
  },
  {
   "cell_type": "code",
   "execution_count": 65,
   "id": "619723a0-3eca-4ccc-b2dd-9bbd64b97916",
   "metadata": {},
   "outputs": [],
   "source": [
    "#remove punctuation\n",
    "pattern = re.compile(r'[,\\.!\\-><=\\(\\)\\[\\]\\/&\\'\\\"’;\\+\\–\\—]+')\n",
    "punkt   = []\n",
    "for l in gdf['description']:\n",
    "    punkt.append(re.sub(pattern, ' ', l))"
   ]
  },
  {
   "cell_type": "code",
   "execution_count": 58,
   "id": "fd4b8533-3c67-4548-aa23-6d68f042a12f",
   "metadata": {
    "tags": []
   },
   "outputs": [],
   "source": [
    "# for p in punkt:\n",
    "#     as_markdown(\"Line of Text\", p)"
   ]
  },
  {
   "cell_type": "code",
   "execution_count": 59,
   "id": "ba3fbf1b-8849-4193-b56c-745283cd5ba9",
   "metadata": {},
   "outputs": [
    {
     "data": {
      "text/plain": [
       "56440    a beautiful private bedroom in a peaceful plac...\n",
       "49775    the listing is for an airy and modern double b...\n",
       "33399    a lovely bright 1 bedroom flat with spacious r...\n",
       "698      <b>the space</b><br />situated in a quiet, pri...\n",
       "23691    my place is less than a 5 min walk to lordship...\n",
       "Name: description, dtype: object"
      ]
     },
     "execution_count": 59,
     "metadata": {},
     "output_type": "execute_result"
    }
   ],
   "source": [
    "gdf.description.sample(5, random_state=42)\n",
    "# #for some reason the removal of punct didn't stick..."
   ]
  },
  {
   "cell_type": "markdown",
   "id": "99c1d934-3b28-4834-99d4-4b731b8b3bf2",
   "metadata": {},
   "source": [
    "Below, I am using the package 'textual' written for practical 7 that should do more or less the same thing as above. However, it will go further to remove stopwords, words with accents, special characters, digits, as well as lemmatise the text. This *could* double count some of the lower case, removal of punct and html that I've already done OR it could just be sure it worked. But, I think it's important to have done that above because it ended up catching more listings (about 100) than without the NLP."
   ]
  },
  {
   "cell_type": "code",
   "execution_count": 66,
   "id": "9e61a957-3890-4f31-9eee-f2091f6c556f",
   "metadata": {},
   "outputs": [
    {
     "name": "stdout",
     "output_type": "stream",
     "text": [
      "Found 5,713 records for airbnbs in areas that might be gentrifying\n"
     ]
    }
   ],
   "source": [
    "#Regex for words often associated with gentrification:\n",
    "gent = gdf[gdf.description.str.contains(\n",
    "    r'\\b(?:trend(?:y|iness|ing)|revitalize|popular(?:ity|ness)|edgy|vibrant|authentic(?:ity)|cultur(?:e|al|ed))\\b', \n",
    "                                        regex=True, flags=re.IGNORECASE)].copy()\n",
    "# gent1 = gent.iloc[0:1000, :]\n",
    "# gent2 = gent.iloc[1001:2000, :]\n",
    "# gent3 = gent.iloc[2001:3000, :]\n",
    "# gent4 = gent.iloc[3001:4000, :]\n",
    "# gent5 = gent.iloc[4001:5000, :]\n",
    "# gent6 = gent.iloc[5001: , :]\n",
    "print(f\"Found {gent.shape[0]:,} records for airbnbs in areas that might be gentrifying\")"
   ]
  },
  {
   "cell_type": "code",
   "execution_count": 68,
   "id": "9a7e2239-80da-4586-bf69-25277f3006da",
   "metadata": {},
   "outputs": [
    {
     "name": "stdout",
     "output_type": "stream",
     "text": [
      "The autoreload extension is already loaded. To reload it, use:\n",
      "  %reload_ext autoreload\n"
     ]
    }
   ],
   "source": [
    "%load_ext autoreload\n",
    "%autoreload 2\n",
    "from textual import *"
   ]
  },
  {
   "cell_type": "code",
   "execution_count": 69,
   "id": "cfe8a58a-e521-4dfe-9f18-5e6c0023c57b",
   "metadata": {},
   "outputs": [],
   "source": [
    "#%%time\n",
    "gent['description_norm'] = gent.description.apply(normalise_document, remove_digits=True)"
   ]
  },
  {
   "cell_type": "code",
   "execution_count": 70,
   "id": "2a9d19b5-b22b-4344-a654-6c5f3a84cc4a",
   "metadata": {},
   "outputs": [
    {
     "data": {
      "text/plain": [
       "<Derived Projected CRS: EPSG:27700>\n",
       "Name: OSGB36 / British National Grid\n",
       "Axis Info [cartesian]:\n",
       "- E[east]: Easting (metre)\n",
       "- N[north]: Northing (metre)\n",
       "Area of Use:\n",
       "- name: United Kingdom (UK) - offshore to boundary of UKCS within 49°45'N to 61°N and 9°W to 2°E; onshore Great Britain (England, Wales and Scotland). Isle of Man onshore.\n",
       "- bounds: (-9.0, 49.75, 2.01, 61.01)\n",
       "Coordinate Operation:\n",
       "- name: British National Grid\n",
       "- method: Transverse Mercator\n",
       "Datum: Ordnance Survey of Great Britain 1936\n",
       "- Ellipsoid: Airy 1830\n",
       "- Prime Meridian: Greenwich"
      ]
     },
     "execution_count": 70,
     "metadata": {},
     "output_type": "execute_result"
    }
   ],
   "source": [
    "boros.crs"
   ]
  },
  {
   "cell_type": "code",
   "execution_count": 71,
   "id": "daf1b54c-53d9-4311-81fd-723438a31903",
   "metadata": {},
   "outputs": [],
   "source": [
    "gent = gent.to_crs('epsg:27700')"
   ]
  },
  {
   "cell_type": "code",
   "execution_count": 72,
   "id": "8a85b660-b240-4be1-ac26-7810212828c0",
   "metadata": {},
   "outputs": [
    {
     "data": {
      "text/plain": [
       "<Derived Projected CRS: EPSG:27700>\n",
       "Name: OSGB36 / British National Grid\n",
       "Axis Info [cartesian]:\n",
       "- E[east]: Easting (metre)\n",
       "- N[north]: Northing (metre)\n",
       "Area of Use:\n",
       "- name: United Kingdom (UK) - offshore to boundary of UKCS within 49°45'N to 61°N and 9°W to 2°E; onshore Great Britain (England, Wales and Scotland). Isle of Man onshore.\n",
       "- bounds: (-9.0, 49.75, 2.01, 61.01)\n",
       "Coordinate Operation:\n",
       "- name: British National Grid\n",
       "- method: Transverse Mercator\n",
       "Datum: Ordnance Survey of Great Britain 1936\n",
       "- Ellipsoid: Airy 1830\n",
       "- Prime Meridian: Greenwich"
      ]
     },
     "execution_count": 72,
     "metadata": {},
     "output_type": "execute_result"
    }
   ],
   "source": [
    "gent.crs"
   ]
  },
  {
   "cell_type": "code",
   "execution_count": 74,
   "id": "bc7afcf0-5c21-4924-9186-0c71270c32ed",
   "metadata": {},
   "outputs": [
    {
     "data": {
      "image/png": "[encoded data removed]",
      "text/plain": [
       "<Figure size 864x576 with 2 Axes>"
      ]
     },
     "metadata": {
      "needs_background": "light"
     },
     "output_type": "display_data"
    }
   ],
   "source": [
    "f,ax = plt.subplots(1,1,figsize=(12,8))\n",
    "\n",
    "# The second one is on column2, spread on 3 columns\n",
    "ax1 = plt.subplot2grid((4, 1), (0, 0), rowspan=3)\n",
    "boros.plot(edgecolor='red', facecolor='none', linewidth=1, alpha=0.75, ax=ax1)\n",
    "gent.plot(markersize=2, column='price', cmap='viridis', alpha=0.2, scheme='Fisher_Jenks_Sampled', ax=ax1)\n",
    "\n",
    "ax1.set_xlim([500000, 565000])\n",
    "ax1.set_ylim([165000, 195000]);\n",
    "\n",
    "# The last one is spread on 1 column only, on the 4th column of the second line.\n",
    "ax2 = plt.subplot2grid((4, 1), (3, 0), rowspan=1)\n",
    "gent.price.plot.hist(bins=100, ax=ax2)\n",
    "\n",
    "plt.suptitle(\"Listings Advertising Affordability\")\n",
    "# plt.savefig(\"Affordable_Listings.png\", dpi=150)\n",
    "plt.show()"
   ]
  },
  {
   "cell_type": "markdown",
   "id": "a2216eaa-e63b-440c-a052-99b8e18dca1b",
   "metadata": {
    "jp-MarkdownHeadingCollapsed": true,
    "tags": []
   },
   "source": [
    "### Working on Word Clouds\n",
    "**this code was part of the process of writing the code but is not essential to the analysis**\n",
    "\n",
    "**this comes directly from practical 7 and I need to adjust/work through it better.** For this, I will need to tokenise using ngrams which will give information on the frequency. I will use trigrams because it will better capture the context of words."
   ]
  },
  {
   "cell_type": "code",
   "execution_count": 64,
   "id": "0206bd03-d811-4e46-8015-a05ce02e524b",
   "metadata": {},
   "outputs": [
    {
     "name": "stdout",
     "output_type": "stream",
     "text": [
      "['recently renovate flat locate central london  walk distance tube station . liverpool street street  zone  main london site attraction . well overground station . hoxton shoreditch high street . space flat locate central london  walk distance tube station . liverpool street street  zone  main london site attraction . well overground station . hoxton shoreditch high street . great connection stratford  olympic game take place  canary wharf.the area around  call shoreditch  lively vibrant  hearth city  namely financial centre  time cultural event take place every day.the famous brick lane  columbia road hoxton square round corner  flat recently renovate fully'\n",
      " 'situate heart vibrant clerkenwell  many consider creative culinary capital london within short walk multitude  restaurant . self contain accommodation door  feature comfort convenience hotel easy access keypad suite wifi upgrade brand renovation apartment ensuite bathroom loungekitchenette space luxurious self contain bedroom suite centrally locate fashionable john street  clerkenwell . ideal weekday piedaterre  short term base professional contractor  consultant leisure stay . accomodation feature comfort convenience boutique hotel budget hotel rate  deluxe ensuite bathroom separate bathtub wetroom shower . feature oriental basalt finish hansgrohe . inch sony tvdvd deluxe'\n",
      " 'large light bedroom victorian apartment original wooden floor throughout heap style  . comfortably couple  short walk trendy area portobello westfield entertainment shopping  three tube line  train . space ground floor victorian villa  large  airy sunny apartment . double bedroom large double  spacious living room separate kitchen . place within walk distance great shopping  quiet residential street shepherd bush  goldhawk road . lovely neighbourhood cafe shop across road hammersmith grove . flat also holland park shop cafe .  walk .  walk portobello road . zone  next three . tube station  westfield shopping  outdoor market within walk  . near tube  goldhawk road hammersmith']\n"
     ]
    }
   ],
   "source": [
    "#establishing the corpus for the word clouds and further NLP\n",
    "corpus = gent1.description_norm.fillna(' ').values\n",
    "print(corpus[0:3])"
   ]
  },
  {
   "cell_type": "code",
   "execution_count": 65,
   "id": "a43f0f8f-1afd-48e9-9c3e-a354fff6ceb6",
   "metadata": {},
   "outputs": [
    {
     "name": "stdout",
     "output_type": "stream",
     "text": [
      "<FreqDist with 4878 samples and 73588 outcomes>\n",
      "<FreqDist with 38662 samples and 73587 outcomes>\n",
      "<FreqDist with 61859 samples and 73586 outcomes>\n"
     ]
    }
   ],
   "source": [
    "#tokenise and ngrams\n",
    "fcounts = dict()\n",
    "\n",
    "#this tells you the frequency of uni, bi, and tri grams in the corpus\n",
    "data = nltk.tokenize.word_tokenize(' '.join([text.replace('.','') for text in corpus]))\n",
    "\n",
    "for size in 1, 2, 3:\n",
    "    fdist = FreqDist(ngrams(data, size))\n",
    "    print(fdist)\n",
    "    # If you only need one note this: https://stackoverflow.com/a/52193485/4041902\n",
    "    fcounts[size] = pd.DataFrame.from_dict({f'Ngram Size {size}': fdist})"
   ]
  },
  {
   "cell_type": "code",
   "execution_count": 66,
   "id": "f1eb8e0c-160f-43b1-896a-1d4de4febb51",
   "metadata": {},
   "outputs": [
    {
     "name": "stdout",
     "output_type": "stream",
     "text": [
      "         Ngram Size 1\n",
      "london           1494\n",
      "space            1317\n",
      "flat             1287\n",
      "room             1201\n",
      "bedroom          1094\n",
      "walk              875\n",
      "access            811\n",
      "double            751\n",
      "kitchen           750\n",
      "minute            713\n",
      "\n",
      "                    Ngram Size 2\n",
      "guest     access             409\n",
      "minute    walk               348\n",
      "central   london             321\n",
      "double    bedroom            298\n",
      "living    room               293\n",
      "east      london             198\n",
      "transport link               172\n",
      "walk      distance           154\n",
      "open      plan               152\n",
      "fully     equip              142\n",
      "\n",
      "                              Ngram Size 3\n",
      "fully     equip     kitchen             68\n",
      "guest     access    guest               59\n",
      "within    walk      distance            55\n",
      "great     transport link                52\n",
      "guest     access    access              47\n",
      "open      plan      kitchen             42\n",
      "minute    walk      away                41\n",
      "excellent transport link                40\n",
      "guest     access    whole               37\n",
      "within    minute    walk                36\n",
      "\n"
     ]
    }
   ],
   "source": [
    "for dfs in fcounts.values():\n",
    "    print(dfs.sort_values(by=dfs.columns.values[0], ascending=False).head(10))\n",
    "    print()"
   ]
  },
  {
   "cell_type": "code",
   "execution_count": 67,
   "id": "8059d1ca-8749-4f3b-86ca-1f14d2964c8d",
   "metadata": {},
   "outputs": [
    {
     "data": {
      "text/html": [
       "<style>#sk-container-id-1 {color: black;background-color: white;}#sk-container-id-1 pre{padding: 0;}#sk-container-id-1 div.sk-toggleable {background-color: white;}#sk-container-id-1 label.sk-toggleable__label {cursor: pointer;display: block;width: 100%;margin-bottom: 0;padding: 0.3em;box-sizing: border-box;text-align: center;}#sk-container-id-1 label.sk-toggleable__label-arrow:before {content: \"▸\";float: left;margin-right: 0.25em;color: #696969;}#sk-container-id-1 label.sk-toggleable__label-arrow:hover:before {color: black;}#sk-container-id-1 div.sk-estimator:hover label.sk-toggleable__label-arrow:before {color: black;}#sk-container-id-1 div.sk-toggleable__content {max-height: 0;max-width: 0;overflow: hidden;text-align: left;background-color: #f0f8ff;}#sk-container-id-1 div.sk-toggleable__content pre {margin: 0.2em;color: black;border-radius: 0.25em;background-color: #f0f8ff;}#sk-container-id-1 input.sk-toggleable__control:checked~div.sk-toggleable__content {max-height: 200px;max-width: 100%;overflow: auto;}#sk-container-id-1 input.sk-toggleable__control:checked~label.sk-toggleable__label-arrow:before {content: \"▾\";}#sk-container-id-1 div.sk-estimator input.sk-toggleable__control:checked~label.sk-toggleable__label {background-color: #d4ebff;}#sk-container-id-1 div.sk-label input.sk-toggleable__control:checked~label.sk-toggleable__label {background-color: #d4ebff;}#sk-container-id-1 input.sk-hidden--visually {border: 0;clip: rect(1px 1px 1px 1px);clip: rect(1px, 1px, 1px, 1px);height: 1px;margin: -1px;overflow: hidden;padding: 0;position: absolute;width: 1px;}#sk-container-id-1 div.sk-estimator {font-family: monospace;background-color: #f0f8ff;border: 1px dotted black;border-radius: 0.25em;box-sizing: border-box;margin-bottom: 0.5em;}#sk-container-id-1 div.sk-estimator:hover {background-color: #d4ebff;}#sk-container-id-1 div.sk-parallel-item::after {content: \"\";width: 100%;border-bottom: 1px solid gray;flex-grow: 1;}#sk-container-id-1 div.sk-label:hover label.sk-toggleable__label {background-color: #d4ebff;}#sk-container-id-1 div.sk-serial::before {content: \"\";position: absolute;border-left: 1px solid gray;box-sizing: border-box;top: 0;bottom: 0;left: 50%;z-index: 0;}#sk-container-id-1 div.sk-serial {display: flex;flex-direction: column;align-items: center;background-color: white;padding-right: 0.2em;padding-left: 0.2em;position: relative;}#sk-container-id-1 div.sk-item {position: relative;z-index: 1;}#sk-container-id-1 div.sk-parallel {display: flex;align-items: stretch;justify-content: center;background-color: white;position: relative;}#sk-container-id-1 div.sk-item::before, #sk-container-id-1 div.sk-parallel-item::before {content: \"\";position: absolute;border-left: 1px solid gray;box-sizing: border-box;top: 0;bottom: 0;left: 50%;z-index: -1;}#sk-container-id-1 div.sk-parallel-item {display: flex;flex-direction: column;z-index: 1;position: relative;background-color: white;}#sk-container-id-1 div.sk-parallel-item:first-child::after {align-self: flex-end;width: 50%;}#sk-container-id-1 div.sk-parallel-item:last-child::after {align-self: flex-start;width: 50%;}#sk-container-id-1 div.sk-parallel-item:only-child::after {width: 0;}#sk-container-id-1 div.sk-dashed-wrapped {border: 1px dashed gray;margin: 0 0.4em 0.5em 0.4em;box-sizing: border-box;padding-bottom: 0.4em;background-color: white;}#sk-container-id-1 div.sk-label label {font-family: monospace;font-weight: bold;display: inline-block;line-height: 1.2em;}#sk-container-id-1 div.sk-label-container {text-align: center;}#sk-container-id-1 div.sk-container {/* jupyter's `normalize.less` sets `[hidden] { display: none; }` but bootstrap.min.css set `[hidden] { display: none !important; }` so we also need the `!important` here to be able to override the default hidden behavior on the sphinx rendered scikit-learn.org. See: https://github.com/scikit-learn/scikit-learn/issues/21755 */display: inline-block !important;position: relative;}#sk-container-id-1 div.sk-text-repr-fallback {display: none;}</style><div id=\"sk-container-id-1\" class=\"sk-top-container\"><div class=\"sk-text-repr-fallback\"><pre>CountVectorizer(ngram_range=(1, 3))</pre><b>In a Jupyter environment, please rerun this cell to show the HTML representation or trust the notebook. <br />On GitHub, the HTML representation is unable to render, please try loading this page with nbviewer.org.</b></div><div class=\"sk-container\" hidden><div class=\"sk-item\"><div class=\"sk-estimator sk-toggleable\"><input class=\"sk-toggleable__control sk-hidden--visually\" id=\"sk-estimator-id-1\" type=\"checkbox\" checked><label for=\"sk-estimator-id-1\" class=\"sk-toggleable__label sk-toggleable__label-arrow\">CountVectorizer</label><div class=\"sk-toggleable__content\"><pre>CountVectorizer(ngram_range=(1, 3))</pre></div></div></div></div></div>"
      ],
      "text/plain": [
       "CountVectorizer(ngram_range=(1, 3))"
      ]
     },
     "execution_count": 67,
     "metadata": {},
     "output_type": "execute_result"
    }
   ],
   "source": [
    "#Fit the corpus; turning ngrams into v\n",
    "cvectorizer = CountVectorizer(ngram_range=(1,3))\n",
    "cvectorizer.fit(corpus)"
   ]
  },
  {
   "cell_type": "code",
   "execution_count": 68,
   "id": "e310c561-d968-4556-a7fa-28837f94c7b8",
   "metadata": {},
   "outputs": [
    {
     "data": {
      "text/plain": [
       "<1000x102674 sparse matrix of type '<class 'numpy.int64'>'\n",
       "\twith 199733 stored elements in Compressed Sparse Row format>"
      ]
     },
     "execution_count": 68,
     "metadata": {},
     "output_type": "execute_result"
    }
   ],
   "source": [
    "#Transform the corpus\n",
    "cvtcorpus = cvectorizer.transform(corpus)\n",
    "cvtcorpus"
   ]
  },
  {
   "cell_type": "code",
   "execution_count": 69,
   "id": "d54f457a-4c6d-4540-bbb2-3de7922fa7fd",
   "metadata": {},
   "outputs": [
    {
     "name": "stdout",
     "output_type": "stream",
     "text": [
      "Raw count vectorised data frame has 1,000 rows and 102,674 columns.\n"
     ]
    },
    {
     "data": {
      "text/html": [
       "<div>\n",
       "<style scoped>\n",
       "    .dataframe tbody tr th:only-of-type {\n",
       "        vertical-align: middle;\n",
       "    }\n",
       "\n",
       "    .dataframe tbody tr th {\n",
       "        vertical-align: top;\n",
       "    }\n",
       "\n",
       "    .dataframe thead th {\n",
       "        text-align: right;\n",
       "    }\n",
       "</style>\n",
       "<table border=\"1\" class=\"dataframe\">\n",
       "  <thead>\n",
       "    <tr style=\"text-align: right;\">\n",
       "      <th></th>\n",
       "      <th>aand</th>\n",
       "      <th>aand comfy</th>\n",
       "      <th>aand comfy sofa</th>\n",
       "      <th>abbey</th>\n",
       "      <th>abbey road</th>\n",
       "      <th>abbey road innumerable</th>\n",
       "      <th>abbeytate</th>\n",
       "      <th>abbeytate britv</th>\n",
       "      <th>abbeytate britv asci</th>\n",
       "      <th>able</th>\n",
       "    </tr>\n",
       "  </thead>\n",
       "  <tbody>\n",
       "    <tr>\n",
       "      <th>0</th>\n",
       "      <td>0</td>\n",
       "      <td>0</td>\n",
       "      <td>0</td>\n",
       "      <td>0</td>\n",
       "      <td>0</td>\n",
       "      <td>0</td>\n",
       "      <td>0</td>\n",
       "      <td>0</td>\n",
       "      <td>0</td>\n",
       "      <td>0</td>\n",
       "    </tr>\n",
       "    <tr>\n",
       "      <th>1</th>\n",
       "      <td>0</td>\n",
       "      <td>0</td>\n",
       "      <td>0</td>\n",
       "      <td>0</td>\n",
       "      <td>0</td>\n",
       "      <td>0</td>\n",
       "      <td>0</td>\n",
       "      <td>0</td>\n",
       "      <td>0</td>\n",
       "      <td>0</td>\n",
       "    </tr>\n",
       "    <tr>\n",
       "      <th>2</th>\n",
       "      <td>0</td>\n",
       "      <td>0</td>\n",
       "      <td>0</td>\n",
       "      <td>0</td>\n",
       "      <td>0</td>\n",
       "      <td>0</td>\n",
       "      <td>0</td>\n",
       "      <td>0</td>\n",
       "      <td>0</td>\n",
       "      <td>0</td>\n",
       "    </tr>\n",
       "    <tr>\n",
       "      <th>3</th>\n",
       "      <td>0</td>\n",
       "      <td>0</td>\n",
       "      <td>0</td>\n",
       "      <td>0</td>\n",
       "      <td>0</td>\n",
       "      <td>0</td>\n",
       "      <td>0</td>\n",
       "      <td>0</td>\n",
       "      <td>0</td>\n",
       "      <td>0</td>\n",
       "    </tr>\n",
       "    <tr>\n",
       "      <th>4</th>\n",
       "      <td>0</td>\n",
       "      <td>0</td>\n",
       "      <td>0</td>\n",
       "      <td>0</td>\n",
       "      <td>0</td>\n",
       "      <td>0</td>\n",
       "      <td>0</td>\n",
       "      <td>0</td>\n",
       "      <td>0</td>\n",
       "      <td>0</td>\n",
       "    </tr>\n",
       "  </tbody>\n",
       "</table>\n",
       "</div>"
      ],
      "text/plain": [
       "   aand  aand comfy  aand comfy sofa  abbey  abbey road  \\\n",
       "0     0           0                0      0           0   \n",
       "1     0           0                0      0           0   \n",
       "2     0           0                0      0           0   \n",
       "3     0           0                0      0           0   \n",
       "4     0           0                0      0           0   \n",
       "\n",
       "   abbey road innumerable  abbeytate  abbeytate britv  abbeytate britv asci  \\\n",
       "0                       0          0                0                     0   \n",
       "1                       0          0                0                     0   \n",
       "2                       0          0                0                     0   \n",
       "3                       0          0                0                     0   \n",
       "4                       0          0                0                     0   \n",
       "\n",
       "   able  \n",
       "0     0  \n",
       "1     0  \n",
       "2     0  \n",
       "3     0  \n",
       "4     0  "
      ]
     },
     "execution_count": 69,
     "metadata": {},
     "output_type": "execute_result"
    }
   ],
   "source": [
    "#Filter out low frequency words\n",
    "cvdf = pd.DataFrame(data=cvtcorpus.toarray(),\n",
    "                        columns=cvectorizer.get_feature_names_out())\n",
    "print(f\"Raw count vectorised data frame has {cvdf.shape[0]:,} rows and {cvdf.shape[1]:,} columns.\")\n",
    "cvdf.iloc[0:5,0:10]"
   ]
  },
  {
   "cell_type": "code",
   "execution_count": 70,
   "id": "bd03a794-c880-476f-8ac0-a616a1ccb650",
   "metadata": {},
   "outputs": [
    {
     "name": "stdout",
     "output_type": "stream",
     "text": [
      "There are 102,674 terms in the data set.\n"
     ]
    },
    {
     "data": {
      "text/plain": [
       "aand               1\n",
       "aand comfy         1\n",
       "aand comfy sofa    1\n",
       "abbey              1\n",
       "abbey road         1\n",
       "dtype: int64"
      ]
     },
     "execution_count": 70,
     "metadata": {},
     "output_type": "execute_result"
    }
   ],
   "source": [
    "sums = cvdf.sum(axis=0)\n",
    "print(f\"There are {len(sums):,} terms in the data set.\")\n",
    "sums.head()"
   ]
  },
  {
   "cell_type": "code",
   "execution_count": 71,
   "id": "f579a959-b419-4d22-93e2-c86dc76f9159",
   "metadata": {},
   "outputs": [],
   "source": [
    "filter_terms = sums >= cvdf.shape[0] * 0.01"
   ]
  },
  {
   "cell_type": "code",
   "execution_count": 72,
   "id": "a0f61ba9-3b7c-462b-b6ef-5a8c4d73db1c",
   "metadata": {},
   "outputs": [
    {
     "name": "stdout",
     "output_type": "stream",
     "text": [
      "Filtered count vectorised data frame has 1,000 rows and 1,778 columns.\n"
     ]
    },
    {
     "data": {
      "text/html": [
       "<div>\n",
       "<style scoped>\n",
       "    .dataframe tbody tr th:only-of-type {\n",
       "        vertical-align: middle;\n",
       "    }\n",
       "\n",
       "    .dataframe tbody tr th {\n",
       "        vertical-align: top;\n",
       "    }\n",
       "\n",
       "    .dataframe thead th {\n",
       "        text-align: right;\n",
       "    }\n",
       "</style>\n",
       "<table border=\"1\" class=\"dataframe\">\n",
       "  <thead>\n",
       "    <tr style=\"text-align: right;\">\n",
       "      <th></th>\n",
       "      <th>able</th>\n",
       "      <th>able access</th>\n",
       "      <th>access</th>\n",
       "      <th>access access</th>\n",
       "      <th>access bathroom</th>\n",
       "      <th>access bedroom</th>\n",
       "      <th>access central</th>\n",
       "      <th>access central london</th>\n",
       "      <th>access entire</th>\n",
       "      <th>access entire flat</th>\n",
       "    </tr>\n",
       "  </thead>\n",
       "  <tbody>\n",
       "    <tr>\n",
       "      <th>0</th>\n",
       "      <td>0</td>\n",
       "      <td>0</td>\n",
       "      <td>0</td>\n",
       "      <td>0</td>\n",
       "      <td>0</td>\n",
       "      <td>0</td>\n",
       "      <td>0</td>\n",
       "      <td>0</td>\n",
       "      <td>0</td>\n",
       "      <td>0</td>\n",
       "    </tr>\n",
       "    <tr>\n",
       "      <th>1</th>\n",
       "      <td>0</td>\n",
       "      <td>0</td>\n",
       "      <td>1</td>\n",
       "      <td>0</td>\n",
       "      <td>0</td>\n",
       "      <td>0</td>\n",
       "      <td>0</td>\n",
       "      <td>0</td>\n",
       "      <td>0</td>\n",
       "      <td>0</td>\n",
       "    </tr>\n",
       "    <tr>\n",
       "      <th>2</th>\n",
       "      <td>0</td>\n",
       "      <td>0</td>\n",
       "      <td>0</td>\n",
       "      <td>0</td>\n",
       "      <td>0</td>\n",
       "      <td>0</td>\n",
       "      <td>0</td>\n",
       "      <td>0</td>\n",
       "      <td>0</td>\n",
       "      <td>0</td>\n",
       "    </tr>\n",
       "    <tr>\n",
       "      <th>3</th>\n",
       "      <td>0</td>\n",
       "      <td>0</td>\n",
       "      <td>0</td>\n",
       "      <td>0</td>\n",
       "      <td>0</td>\n",
       "      <td>0</td>\n",
       "      <td>0</td>\n",
       "      <td>0</td>\n",
       "      <td>0</td>\n",
       "      <td>0</td>\n",
       "    </tr>\n",
       "    <tr>\n",
       "      <th>4</th>\n",
       "      <td>0</td>\n",
       "      <td>0</td>\n",
       "      <td>1</td>\n",
       "      <td>0</td>\n",
       "      <td>0</td>\n",
       "      <td>0</td>\n",
       "      <td>0</td>\n",
       "      <td>0</td>\n",
       "      <td>0</td>\n",
       "      <td>0</td>\n",
       "    </tr>\n",
       "  </tbody>\n",
       "</table>\n",
       "</div>"
      ],
      "text/plain": [
       "   able  able access  access  access access  access bathroom  access bedroom  \\\n",
       "0     0            0       0              0                0               0   \n",
       "1     0            0       1              0                0               0   \n",
       "2     0            0       0              0                0               0   \n",
       "3     0            0       0              0                0               0   \n",
       "4     0            0       1              0                0               0   \n",
       "\n",
       "   access central  access central london  access entire  access entire flat  \n",
       "0               0                      0              0                   0  \n",
       "1               0                      0              0                   0  \n",
       "2               0                      0              0                   0  \n",
       "3               0                      0              0                   0  \n",
       "4               0                      0              0                   0  "
      ]
     },
     "execution_count": 72,
     "metadata": {},
     "output_type": "execute_result"
    }
   ],
   "source": [
    "fcvdf = cvdf.drop(columns=cvdf.columns[~filter_terms].values)\n",
    "print(f\"Filtered count vectorised data frame has {fcvdf.shape[0]:,} rows and {fcvdf.shape[1]:,} columns.\")\n",
    "fcvdf.iloc[0:5,0:10]"
   ]
  },
  {
   "cell_type": "code",
   "execution_count": 73,
   "id": "f3e44e08-ac14-4e5b-b14c-4084c1f84c3e",
   "metadata": {},
   "outputs": [],
   "source": [
    "#TD-IDF Vectoriser\n",
    "tfvectorizer = TfidfVectorizer(use_idf=True, ngram_range=(1,3), \n",
    "                               max_df=0.75, min_df=0.01)\n",
    "tftcorpus = tfvectorizer.fit_transform(corpus) # TF-transformed corpus"
   ]
  },
  {
   "cell_type": "code",
   "execution_count": 74,
   "id": "5a6c8b31-4724-4a28-9b1e-fd5042999489",
   "metadata": {},
   "outputs": [
    {
     "name": "stdout",
     "output_type": "stream",
     "text": [
      "TF/IDF data frame has 1,000 rows and 1,682 columns.\n"
     ]
    },
    {
     "data": {
      "text/html": [
       "<div>\n",
       "<style scoped>\n",
       "    .dataframe tbody tr th:only-of-type {\n",
       "        vertical-align: middle;\n",
       "    }\n",
       "\n",
       "    .dataframe tbody tr th {\n",
       "        vertical-align: top;\n",
       "    }\n",
       "\n",
       "    .dataframe thead th {\n",
       "        text-align: right;\n",
       "    }\n",
       "</style>\n",
       "<table border=\"1\" class=\"dataframe\">\n",
       "  <thead>\n",
       "    <tr style=\"text-align: right;\">\n",
       "      <th></th>\n",
       "      <th>able</th>\n",
       "      <th>able access</th>\n",
       "      <th>access</th>\n",
       "      <th>access access</th>\n",
       "      <th>access bathroom</th>\n",
       "      <th>access bedroom</th>\n",
       "      <th>access central</th>\n",
       "      <th>access central london</th>\n",
       "      <th>access entire</th>\n",
       "      <th>access entire flat</th>\n",
       "      <th>...</th>\n",
       "      <th>wooden</th>\n",
       "      <th>wooden floor</th>\n",
       "      <th>wooden floor throughout</th>\n",
       "      <th>work</th>\n",
       "      <th>world</th>\n",
       "      <th>would</th>\n",
       "      <th>yard</th>\n",
       "      <th>year</th>\n",
       "      <th>young</th>\n",
       "      <th>zone</th>\n",
       "    </tr>\n",
       "  </thead>\n",
       "  <tbody>\n",
       "    <tr>\n",
       "      <th>0</th>\n",
       "      <td>0.00</td>\n",
       "      <td>0.00</td>\n",
       "      <td>0.00</td>\n",
       "      <td>0.00</td>\n",
       "      <td>0.00</td>\n",
       "      <td>0.00</td>\n",
       "      <td>0.00</td>\n",
       "      <td>0.00</td>\n",
       "      <td>0.00</td>\n",
       "      <td>0.00</td>\n",
       "      <td>...</td>\n",
       "      <td>0.00</td>\n",
       "      <td>0.00</td>\n",
       "      <td>0.00</td>\n",
       "      <td>0.00</td>\n",
       "      <td>0.00</td>\n",
       "      <td>0.00</td>\n",
       "      <td>0.00</td>\n",
       "      <td>0.00</td>\n",
       "      <td>0.00</td>\n",
       "      <td>0.13</td>\n",
       "    </tr>\n",
       "    <tr>\n",
       "      <th>1</th>\n",
       "      <td>0.00</td>\n",
       "      <td>0.00</td>\n",
       "      <td>0.04</td>\n",
       "      <td>0.00</td>\n",
       "      <td>0.00</td>\n",
       "      <td>0.00</td>\n",
       "      <td>0.00</td>\n",
       "      <td>0.00</td>\n",
       "      <td>0.00</td>\n",
       "      <td>0.00</td>\n",
       "      <td>...</td>\n",
       "      <td>0.00</td>\n",
       "      <td>0.00</td>\n",
       "      <td>0.00</td>\n",
       "      <td>0.00</td>\n",
       "      <td>0.00</td>\n",
       "      <td>0.00</td>\n",
       "      <td>0.00</td>\n",
       "      <td>0.00</td>\n",
       "      <td>0.00</td>\n",
       "      <td>0.00</td>\n",
       "    </tr>\n",
       "    <tr>\n",
       "      <th>2</th>\n",
       "      <td>0.00</td>\n",
       "      <td>0.00</td>\n",
       "      <td>0.00</td>\n",
       "      <td>0.00</td>\n",
       "      <td>0.00</td>\n",
       "      <td>0.00</td>\n",
       "      <td>0.00</td>\n",
       "      <td>0.00</td>\n",
       "      <td>0.00</td>\n",
       "      <td>0.00</td>\n",
       "      <td>...</td>\n",
       "      <td>0.08</td>\n",
       "      <td>0.09</td>\n",
       "      <td>0.12</td>\n",
       "      <td>0.00</td>\n",
       "      <td>0.00</td>\n",
       "      <td>0.00</td>\n",
       "      <td>0.00</td>\n",
       "      <td>0.00</td>\n",
       "      <td>0.00</td>\n",
       "      <td>0.08</td>\n",
       "    </tr>\n",
       "    <tr>\n",
       "      <th>3</th>\n",
       "      <td>0.00</td>\n",
       "      <td>0.00</td>\n",
       "      <td>0.00</td>\n",
       "      <td>0.00</td>\n",
       "      <td>0.00</td>\n",
       "      <td>0.00</td>\n",
       "      <td>0.00</td>\n",
       "      <td>0.00</td>\n",
       "      <td>0.00</td>\n",
       "      <td>0.00</td>\n",
       "      <td>...</td>\n",
       "      <td>0.00</td>\n",
       "      <td>0.00</td>\n",
       "      <td>0.00</td>\n",
       "      <td>0.09</td>\n",
       "      <td>0.00</td>\n",
       "      <td>0.00</td>\n",
       "      <td>0.00</td>\n",
       "      <td>0.00</td>\n",
       "      <td>0.00</td>\n",
       "      <td>0.00</td>\n",
       "    </tr>\n",
       "    <tr>\n",
       "      <th>4</th>\n",
       "      <td>0.00</td>\n",
       "      <td>0.00</td>\n",
       "      <td>0.05</td>\n",
       "      <td>0.00</td>\n",
       "      <td>0.00</td>\n",
       "      <td>0.00</td>\n",
       "      <td>0.00</td>\n",
       "      <td>0.00</td>\n",
       "      <td>0.00</td>\n",
       "      <td>0.00</td>\n",
       "      <td>...</td>\n",
       "      <td>0.00</td>\n",
       "      <td>0.00</td>\n",
       "      <td>0.00</td>\n",
       "      <td>0.00</td>\n",
       "      <td>0.00</td>\n",
       "      <td>0.00</td>\n",
       "      <td>0.00</td>\n",
       "      <td>0.00</td>\n",
       "      <td>0.00</td>\n",
       "      <td>0.00</td>\n",
       "    </tr>\n",
       "  </tbody>\n",
       "</table>\n",
       "<p>5 rows × 1682 columns</p>\n",
       "</div>"
      ],
      "text/plain": [
       "   able  able access  access  access access  access bathroom  access bedroom  \\\n",
       "0  0.00         0.00    0.00           0.00             0.00            0.00   \n",
       "1  0.00         0.00    0.04           0.00             0.00            0.00   \n",
       "2  0.00         0.00    0.00           0.00             0.00            0.00   \n",
       "3  0.00         0.00    0.00           0.00             0.00            0.00   \n",
       "4  0.00         0.00    0.05           0.00             0.00            0.00   \n",
       "\n",
       "   access central  access central london  access entire  access entire flat  \\\n",
       "0            0.00                   0.00           0.00                0.00   \n",
       "1            0.00                   0.00           0.00                0.00   \n",
       "2            0.00                   0.00           0.00                0.00   \n",
       "3            0.00                   0.00           0.00                0.00   \n",
       "4            0.00                   0.00           0.00                0.00   \n",
       "\n",
       "   ...  wooden  wooden floor  wooden floor throughout  work  world  would  \\\n",
       "0  ...    0.00          0.00                     0.00  0.00   0.00   0.00   \n",
       "1  ...    0.00          0.00                     0.00  0.00   0.00   0.00   \n",
       "2  ...    0.08          0.09                     0.12  0.00   0.00   0.00   \n",
       "3  ...    0.00          0.00                     0.00  0.09   0.00   0.00   \n",
       "4  ...    0.00          0.00                     0.00  0.00   0.00   0.00   \n",
       "\n",
       "   yard  year  young  zone  \n",
       "0  0.00  0.00   0.00  0.13  \n",
       "1  0.00  0.00   0.00  0.00  \n",
       "2  0.00  0.00   0.00  0.08  \n",
       "3  0.00  0.00   0.00  0.00  \n",
       "4  0.00  0.00   0.00  0.00  \n",
       "\n",
       "[5 rows x 1682 columns]"
      ]
     },
     "execution_count": 74,
     "metadata": {},
     "output_type": "execute_result"
    }
   ],
   "source": [
    "# transformed TF-IDF Corpus\n",
    "tfidf = pd.DataFrame(data=tftcorpus.toarray(),\n",
    "                        columns=tfvectorizer.get_feature_names_out())\n",
    "print(f\"TF/IDF data frame has {tfidf.shape[0]:,} rows and {tfidf.shape[1]:,} columns.\")\n",
    "tfidf.head()"
   ]
  },
  {
   "cell_type": "code",
   "execution_count": 75,
   "id": "723b7a2c-ec1a-4ca9-a3fc-f3d5845be149",
   "metadata": {},
   "outputs": [
    {
     "data": {
      "image/png": "[encoded data removed]",
      "text/plain": [
       "<Figure size 864x864 with 1 Axes>"
      ]
     },
     "metadata": {
      "needs_background": "light"
     },
     "output_type": "display_data"
    }
   ],
   "source": [
    "#MAKING THE WORD CLOUD\n",
    "plt.figure(figsize=(12, 12))\n",
    "Cloud = WordCloud(background_color=\"white\", max_words=75).generate_from_frequencies(fcvdf.sum())\n",
    "plt.imshow(Cloud) \n",
    "plt.axis(\"off\");"
   ]
  },
  {
   "cell_type": "markdown",
   "id": "63c82228-3df4-4c59-891a-911e1a93d6d2",
   "metadata": {
    "jp-MarkdownHeadingCollapsed": true,
    "tags": []
   },
   "source": [
    "### Topic Modelling - Latent Dirchlet Allocation\n",
    "**this code was part of the process of writing the code but is not essential to the analysis**"
   ]
  },
  {
   "cell_type": "code",
   "execution_count": 76,
   "id": "44d56d39-bd0c-4895-9c94-5c5ffbdd175d",
   "metadata": {},
   "outputs": [],
   "source": [
    "#set the vectoriser\n",
    "vectorizer = CountVectorizer(ngram_range=(1,2))"
   ]
  },
  {
   "cell_type": "code",
   "execution_count": 77,
   "id": "62fbc6d8-bd90-4d41-a880-af6bd3aee840",
   "metadata": {},
   "outputs": [
    {
     "data": {
      "text/html": [
       "<style>#sk-container-id-2 {color: black;background-color: white;}#sk-container-id-2 pre{padding: 0;}#sk-container-id-2 div.sk-toggleable {background-color: white;}#sk-container-id-2 label.sk-toggleable__label {cursor: pointer;display: block;width: 100%;margin-bottom: 0;padding: 0.3em;box-sizing: border-box;text-align: center;}#sk-container-id-2 label.sk-toggleable__label-arrow:before {content: \"▸\";float: left;margin-right: 0.25em;color: #696969;}#sk-container-id-2 label.sk-toggleable__label-arrow:hover:before {color: black;}#sk-container-id-2 div.sk-estimator:hover label.sk-toggleable__label-arrow:before {color: black;}#sk-container-id-2 div.sk-toggleable__content {max-height: 0;max-width: 0;overflow: hidden;text-align: left;background-color: #f0f8ff;}#sk-container-id-2 div.sk-toggleable__content pre {margin: 0.2em;color: black;border-radius: 0.25em;background-color: #f0f8ff;}#sk-container-id-2 input.sk-toggleable__control:checked~div.sk-toggleable__content {max-height: 200px;max-width: 100%;overflow: auto;}#sk-container-id-2 input.sk-toggleable__control:checked~label.sk-toggleable__label-arrow:before {content: \"▾\";}#sk-container-id-2 div.sk-estimator input.sk-toggleable__control:checked~label.sk-toggleable__label {background-color: #d4ebff;}#sk-container-id-2 div.sk-label input.sk-toggleable__control:checked~label.sk-toggleable__label {background-color: #d4ebff;}#sk-container-id-2 input.sk-hidden--visually {border: 0;clip: rect(1px 1px 1px 1px);clip: rect(1px, 1px, 1px, 1px);height: 1px;margin: -1px;overflow: hidden;padding: 0;position: absolute;width: 1px;}#sk-container-id-2 div.sk-estimator {font-family: monospace;background-color: #f0f8ff;border: 1px dotted black;border-radius: 0.25em;box-sizing: border-box;margin-bottom: 0.5em;}#sk-container-id-2 div.sk-estimator:hover {background-color: #d4ebff;}#sk-container-id-2 div.sk-parallel-item::after {content: \"\";width: 100%;border-bottom: 1px solid gray;flex-grow: 1;}#sk-container-id-2 div.sk-label:hover label.sk-toggleable__label {background-color: #d4ebff;}#sk-container-id-2 div.sk-serial::before {content: \"\";position: absolute;border-left: 1px solid gray;box-sizing: border-box;top: 0;bottom: 0;left: 50%;z-index: 0;}#sk-container-id-2 div.sk-serial {display: flex;flex-direction: column;align-items: center;background-color: white;padding-right: 0.2em;padding-left: 0.2em;position: relative;}#sk-container-id-2 div.sk-item {position: relative;z-index: 1;}#sk-container-id-2 div.sk-parallel {display: flex;align-items: stretch;justify-content: center;background-color: white;position: relative;}#sk-container-id-2 div.sk-item::before, #sk-container-id-2 div.sk-parallel-item::before {content: \"\";position: absolute;border-left: 1px solid gray;box-sizing: border-box;top: 0;bottom: 0;left: 50%;z-index: -1;}#sk-container-id-2 div.sk-parallel-item {display: flex;flex-direction: column;z-index: 1;position: relative;background-color: white;}#sk-container-id-2 div.sk-parallel-item:first-child::after {align-self: flex-end;width: 50%;}#sk-container-id-2 div.sk-parallel-item:last-child::after {align-self: flex-start;width: 50%;}#sk-container-id-2 div.sk-parallel-item:only-child::after {width: 0;}#sk-container-id-2 div.sk-dashed-wrapped {border: 1px dashed gray;margin: 0 0.4em 0.5em 0.4em;box-sizing: border-box;padding-bottom: 0.4em;background-color: white;}#sk-container-id-2 div.sk-label label {font-family: monospace;font-weight: bold;display: inline-block;line-height: 1.2em;}#sk-container-id-2 div.sk-label-container {text-align: center;}#sk-container-id-2 div.sk-container {/* jupyter's `normalize.less` sets `[hidden] { display: none; }` but bootstrap.min.css set `[hidden] { display: none !important; }` so we also need the `!important` here to be able to override the default hidden behavior on the sphinx rendered scikit-learn.org. See: https://github.com/scikit-learn/scikit-learn/issues/21755 */display: inline-block !important;position: relative;}#sk-container-id-2 div.sk-text-repr-fallback {display: none;}</style><div id=\"sk-container-id-2\" class=\"sk-top-container\"><div class=\"sk-text-repr-fallback\"><pre>LatentDirichletAllocation(n_components=3, random_state=42)</pre><b>In a Jupyter environment, please rerun this cell to show the HTML representation or trust the notebook. <br />On GitHub, the HTML representation is unable to render, please try loading this page with nbviewer.org.</b></div><div class=\"sk-container\" hidden><div class=\"sk-item\"><div class=\"sk-estimator sk-toggleable\"><input class=\"sk-toggleable__control sk-hidden--visually\" id=\"sk-estimator-id-2\" type=\"checkbox\" checked><label for=\"sk-estimator-id-2\" class=\"sk-toggleable__label sk-toggleable__label-arrow\">LatentDirichletAllocation</label><div class=\"sk-toggleable__content\"><pre>LatentDirichletAllocation(n_components=3, random_state=42)</pre></div></div></div></div></div>"
      ],
      "text/plain": [
       "LatentDirichletAllocation(n_components=3, random_state=42)"
      ]
     },
     "execution_count": 77,
     "metadata": {},
     "output_type": "execute_result"
    }
   ],
   "source": [
    "#calculate the topics\n",
    "vectorizer.fit(corpus) \n",
    "tcorpus = vectorizer.transform(corpus) # tcorpus for transformed corpus\n",
    "\n",
    "LDA = LatentDirichletAllocation(n_components=3, random_state=42) # Might want to experiment with n_components too\n",
    "LDA.fit(tcorpus)"
   ]
  },
  {
   "cell_type": "code",
   "execution_count": 78,
   "id": "da575dcb-7293-410c-b31d-d1b2a426aa3d",
   "metadata": {},
   "outputs": [
    {
     "data": {
      "text/plain": [
       "(1000, 3)"
      ]
     },
     "execution_count": 78,
     "metadata": {},
     "output_type": "execute_result"
    }
   ],
   "source": [
    "topic_values = LDA.transform(tcorpus)\n",
    "topic_values.shape"
   ]
  },
  {
   "cell_type": "code",
   "execution_count": 79,
   "id": "ee5aeba7-0ec4-4266-85d2-088da6c0789f",
   "metadata": {},
   "outputs": [
    {
     "name": "stderr",
     "output_type": "stream",
     "text": [
      "/opt/conda/lib/python3.10/site-packages/geopandas/geodataframe.py:1443: SettingWithCopyWarning: \n",
      "A value is trying to be set on a copy of a slice from a DataFrame.\n",
      "Try using .loc[row_indexer,col_indexer] = value instead\n",
      "\n",
      "See the caveats in the documentation: https://pandas.pydata.org/pandas-docs/stable/user_guide/indexing.html#returning-a-view-versus-a-copy\n",
      "  super().__setitem__(key, value)\n"
     ]
    },
    {
     "data": {
      "text/html": [
       "<div>\n",
       "<style scoped>\n",
       "    .dataframe tbody tr th:only-of-type {\n",
       "        vertical-align: middle;\n",
       "    }\n",
       "\n",
       "    .dataframe tbody tr th {\n",
       "        vertical-align: top;\n",
       "    }\n",
       "\n",
       "    .dataframe thead th {\n",
       "        text-align: right;\n",
       "    }\n",
       "</style>\n",
       "<table border=\"1\" class=\"dataframe\">\n",
       "  <thead>\n",
       "    <tr style=\"text-align: right;\">\n",
       "      <th></th>\n",
       "      <th>id</th>\n",
       "      <th>name</th>\n",
       "      <th>description</th>\n",
       "      <th>host_id</th>\n",
       "      <th>host_location</th>\n",
       "      <th>host_listings_count</th>\n",
       "      <th>host_total_listings_count</th>\n",
       "      <th>neighbourhood_cleansed</th>\n",
       "      <th>latitude</th>\n",
       "      <th>longitude</th>\n",
       "      <th>property_type</th>\n",
       "      <th>room_type</th>\n",
       "      <th>price</th>\n",
       "      <th>minimum_nights</th>\n",
       "      <th>maximum_nights</th>\n",
       "      <th>geometry</th>\n",
       "      <th>description_norm</th>\n",
       "      <th>Topic</th>\n",
       "    </tr>\n",
       "  </thead>\n",
       "  <tbody>\n",
       "    <tr>\n",
       "      <th>2</th>\n",
       "      <td>284532</td>\n",
       "      <td>COSY STUDIO-FLAT...</td>\n",
       "      <td>my very recently...</td>\n",
       "      <td>1481412</td>\n",
       "      <td>London, United K...</td>\n",
       "      <td>1</td>\n",
       "      <td>3</td>\n",
       "      <td>Tower Hamlets</td>\n",
       "      <td>51.53</td>\n",
       "      <td>-0.07</td>\n",
       "      <td>Entire rental unit</td>\n",
       "      <td>Entire home/apt</td>\n",
       "      <td>90.00</td>\n",
       "      <td>5</td>\n",
       "      <td>365</td>\n",
       "      <td>POINT (-0.07426 ...</td>\n",
       "      <td>recently renovat...</td>\n",
       "      <td>1</td>\n",
       "    </tr>\n",
       "    <tr>\n",
       "      <th>5</th>\n",
       "      <td>107048</td>\n",
       "      <td>A Luxury Studio ...</td>\n",
       "      <td>situated in the ...</td>\n",
       "      <td>259088</td>\n",
       "      <td>United Kingdom</td>\n",
       "      <td>5</td>\n",
       "      <td>12</td>\n",
       "      <td>Islington</td>\n",
       "      <td>51.52</td>\n",
       "      <td>-0.10</td>\n",
       "      <td>Private room in ...</td>\n",
       "      <td>Private room</td>\n",
       "      <td>180.00</td>\n",
       "      <td>4</td>\n",
       "      <td>365</td>\n",
       "      <td>POINT (-0.10484 ...</td>\n",
       "      <td>situate heart vi...</td>\n",
       "      <td>0</td>\n",
       "    </tr>\n",
       "    <tr>\n",
       "      <th>12</th>\n",
       "      <td>117203</td>\n",
       "      <td>A stylish origin...</td>\n",
       "      <td>a very large and...</td>\n",
       "      <td>255103</td>\n",
       "      <td>London, United K...</td>\n",
       "      <td>1</td>\n",
       "      <td>1</td>\n",
       "      <td>Hammersmith and ...</td>\n",
       "      <td>51.50</td>\n",
       "      <td>-0.23</td>\n",
       "      <td>Entire rental unit</td>\n",
       "      <td>Entire home/apt</td>\n",
       "      <td>136.00</td>\n",
       "      <td>5</td>\n",
       "      <td>90</td>\n",
       "      <td>POINT (-0.23300 ...</td>\n",
       "      <td>large light bedr...</td>\n",
       "      <td>1</td>\n",
       "    </tr>\n",
       "    <tr>\n",
       "      <th>28</th>\n",
       "      <td>142117</td>\n",
       "      <td>Stylish &amp; Bright...</td>\n",
       "      <td>newly decorated,...</td>\n",
       "      <td>192627</td>\n",
       "      <td>London, United K...</td>\n",
       "      <td>2</td>\n",
       "      <td>2</td>\n",
       "      <td>Hackney</td>\n",
       "      <td>51.53</td>\n",
       "      <td>-0.09</td>\n",
       "      <td>Entire rental unit</td>\n",
       "      <td>Entire home/apt</td>\n",
       "      <td>180.00</td>\n",
       "      <td>3</td>\n",
       "      <td>1125</td>\n",
       "      <td>POINT (-0.08985 ...</td>\n",
       "      <td>newly decorate  ...</td>\n",
       "      <td>1</td>\n",
       "    </tr>\n",
       "    <tr>\n",
       "      <th>35</th>\n",
       "      <td>143478</td>\n",
       "      <td>Large room, Lond...</td>\n",
       "      <td>lovely bright do...</td>\n",
       "      <td>696065</td>\n",
       "      <td>London, United K...</td>\n",
       "      <td>7</td>\n",
       "      <td>8</td>\n",
       "      <td>Hackney</td>\n",
       "      <td>51.54</td>\n",
       "      <td>-0.05</td>\n",
       "      <td>Private room in ...</td>\n",
       "      <td>Private room</td>\n",
       "      <td>35.00</td>\n",
       "      <td>1</td>\n",
       "      <td>730</td>\n",
       "      <td>POINT (-0.05457 ...</td>\n",
       "      <td>lovely bright do...</td>\n",
       "      <td>1</td>\n",
       "    </tr>\n",
       "  </tbody>\n",
       "</table>\n",
       "</div>"
      ],
      "text/plain": [
       "        id                 name          description  host_id  \\\n",
       "2   284532  COSY STUDIO-FLAT...  my very recently...  1481412   \n",
       "5   107048  A Luxury Studio ...  situated in the ...   259088   \n",
       "12  117203  A stylish origin...  a very large and...   255103   \n",
       "28  142117  Stylish & Bright...  newly decorated,...   192627   \n",
       "35  143478  Large room, Lond...  lovely bright do...   696065   \n",
       "\n",
       "          host_location  host_listings_count  host_total_listings_count  \\\n",
       "2   London, United K...                    1                    3         \n",
       "5        United Kingdom                    5                   12         \n",
       "12  London, United K...                    1                    1         \n",
       "28  London, United K...                    2                    2         \n",
       "35  London, United K...                    7                    8         \n",
       "\n",
       "   neighbourhood_cleansed  latitude  longitude        property_type  \\\n",
       "2         Tower Hamlets       51.53      -0.07   Entire rental unit   \n",
       "5             Islington       51.52      -0.10  Private room in ...   \n",
       "12  Hammersmith and ...       51.50      -0.23   Entire rental unit   \n",
       "28              Hackney       51.53      -0.09   Entire rental unit   \n",
       "35              Hackney       51.54      -0.05  Private room in ...   \n",
       "\n",
       "          room_type  price  minimum_nights  maximum_nights  \\\n",
       "2   Entire home/apt  90.00               5             365   \n",
       "5      Private room 180.00               4             365   \n",
       "12  Entire home/apt 136.00               5              90   \n",
       "28  Entire home/apt 180.00               3            1125   \n",
       "35     Private room  35.00               1             730   \n",
       "\n",
       "               geometry     description_norm  Topic  \n",
       "2   POINT (-0.07426 ...  recently renovat...      1  \n",
       "5   POINT (-0.10484 ...  situate heart vi...      0  \n",
       "12  POINT (-0.23300 ...  large light bedr...      1  \n",
       "28  POINT (-0.08985 ...  newly decorate  ...      1  \n",
       "35  POINT (-0.05457 ...  lovely bright do...      1  "
      ]
     },
     "execution_count": 79,
     "metadata": {},
     "output_type": "execute_result"
    }
   ],
   "source": [
    "pd.options.display.max_colwidth=20\n",
    "gent1['Topic'] = topic_values.argmax(axis=1)\n",
    "gent1.head()"
   ]
  },
  {
   "cell_type": "code",
   "execution_count": 80,
   "id": "a393c10e-6eb4-42dc-8fe8-8b5e6192b9b5",
   "metadata": {},
   "outputs": [],
   "source": [
    "vectorizer = CountVectorizer(ngram_range=(1,1), stop_words='english', analyzer='word', max_df=0.7, min_df=0.05)\n",
    "topic_corpus = vectorizer.fit_transform(gent1[gent1.Topic==1].description.values) # tcorpus for transformed corpus"
   ]
  },
  {
   "cell_type": "code",
   "execution_count": 81,
   "id": "c71524a9-acc0-4895-a38a-c12477b13646",
   "metadata": {},
   "outputs": [],
   "source": [
    "topicdf = pd.DataFrame(data=topic_corpus.toarray(),\n",
    "                        columns=vectorizer.get_feature_names_out())"
   ]
  },
  {
   "cell_type": "code",
   "execution_count": 82,
   "id": "a704355c-50eb-46cf-887c-bcd18f66c88c",
   "metadata": {},
   "outputs": [
    {
     "data": {
      "image/png": "[encoded data removed]",
      "text/plain": [
       "<Figure size 864x864 with 1 Axes>"
      ]
     },
     "metadata": {
      "needs_background": "light"
     },
     "output_type": "display_data"
    }
   ],
   "source": [
    "plt.figure(figsize=(12, 12))\n",
    "Cloud = WordCloud(background_color=\"white\", max_words=75).generate_from_frequencies(topicdf.sum())\n",
    "plt.imshow(Cloud) \n",
    "plt.axis(\"off\");"
   ]
  },
  {
   "cell_type": "markdown",
   "id": "6d773923-8e5c-4782-b274-1159481c361c",
   "metadata": {},
   "source": [
    "### Topic Modelling for Target Boroughs\n",
    "The aim of this section is to identify the rhetoric used on Airbnb to describe listings in these boroughs. It will provide insight into how people decide to market listings in specific areas. In other words, what societal discourses do hosts tap into and view as profitable?"
   ]
  },
  {
   "cell_type": "code",
   "execution_count": 75,
   "id": "74cd151a-c930-4bd6-b489-0ed25581739f",
   "metadata": {},
   "outputs": [
    {
     "name": "stdout",
     "output_type": "stream",
     "text": [
      "The autoreload extension is already loaded. To reload it, use:\n",
      "  %reload_ext autoreload\n"
     ]
    }
   ],
   "source": [
    "%load_ext autoreload\n",
    "%autoreload 2\n",
    "from textual import *"
   ]
  },
  {
   "cell_type": "code",
   "execution_count": null,
   "id": "bd167843-569f-46e5-b642-91f06048ed61",
   "metadata": {},
   "outputs": [],
   "source": [
    "#normalise borough descriptions\n",
    "Haringey['description_norm'] = Haringey.description.apply(normalise_document, remove_digits=True)\n",
    "kc['description_norm'] = kc.description.apply(normalise_document, remove_digits=True)\n",
    "Camden['description_norm'] = Camden.description.apply(normalise_document, remove_digits=True)\n",
    "Sutton['description_norm'] = Sutton.description.apply(normalise_document, remove_digits=True)\n",
    "Merton['description_norm'] = Merton.description.apply(normalise_document, remove_digits=True)"
   ]
  },
  {
   "cell_type": "code",
   "execution_count": null,
   "id": "db4ae5f2-b81a-4c01-969c-6d2996fd079d",
   "metadata": {},
   "outputs": [],
   "source": [
    "corpus_haringey = Haringey.description_norm.fillna(' ').values\n",
    "corpuskc = kc.description_norm.fillna(' ').values\n",
    "corpus_camden = Camden.description_norm.fillna(' ').values\n",
    "corpus_sutton = Sutton.description_norm.fillna(' ').values\n",
    "corpus_merton = Merton.description_norm.fillna(' ').values"
   ]
  },
  {
   "cell_type": "code",
   "execution_count": null,
   "id": "878f7d10-4aa4-46c6-b21f-4fca109fe9b9",
   "metadata": {},
   "outputs": [],
   "source": [
    "#set the initial vectoriser to calculate the topics\n",
    "vectorizer = CountVectorizer(ngram_range=(1,2))"
   ]
  },
  {
   "cell_type": "code",
   "execution_count": null,
   "id": "19c33bed-d93e-4c1a-8da1-cc6a0e811391",
   "metadata": {},
   "outputs": [],
   "source": [
    "LDA = LatentDirichletAllocation(n_components=3, random_state=42) # Might want to experiment with n_components too"
   ]
  },
  {
   "cell_type": "code",
   "execution_count": null,
   "id": "418f9ef5-3e2c-428a-8e9d-00af847b910b",
   "metadata": {},
   "outputs": [],
   "source": [
    "#calculate the topics: Haringey\n",
    "vectorizer.fit(corpus_haringey) \n",
    "tcorpus_haringey = vectorizer.transform(corpus_haringey) # tcorpus for transformed corpus\n",
    "\n",
    "LDA.fit(tcorpus_haringey)"
   ]
  },
  {
   "cell_type": "code",
   "execution_count": null,
   "id": "38c713c2-b32c-44a9-964d-3cf5e1211238",
   "metadata": {},
   "outputs": [],
   "source": [
    "#calculate the topics: Kensington and Chelsea\n",
    "vectorizer.fit(corpuskc) \n",
    "tcorpus_kc = vectorizer.transform(corpuskc) # tcorpus for transformed corpus"
   ]
  },
  {
   "cell_type": "code",
   "execution_count": null,
   "id": "68026325-72be-4be9-8184-e448d0206cca",
   "metadata": {},
   "outputs": [],
   "source": [
    "LDA.fit(tcorpus_kc)"
   ]
  },
  {
   "cell_type": "code",
   "execution_count": null,
   "id": "f2028c85-3d16-4e2d-867a-be57b74a7010",
   "metadata": {},
   "outputs": [],
   "source": [
    "#calculate the topics: Camden\n",
    "vectorizer.fit(corpus_camden) \n",
    "tcorpus_camden = vectorizer.transform(corpus_camden) # tcorpus for transformed corpus"
   ]
  },
  {
   "cell_type": "code",
   "execution_count": null,
   "id": "04ca3304-de44-4be1-a39a-ebe154c71839",
   "metadata": {},
   "outputs": [],
   "source": [
    "LDA.fit(tcorpus_camden)"
   ]
  },
  {
   "cell_type": "code",
   "execution_count": null,
   "id": "1369bbdf-31f5-45e6-95d7-95aae3d3839a",
   "metadata": {},
   "outputs": [],
   "source": [
    "#calculate the topics: Sutton\n",
    "vectorizer.fit(corpus_sutton) \n",
    "tcorpus_sutton = vectorizer.transform(corpus_sutton) # tcorpus for transformed corpus"
   ]
  },
  {
   "cell_type": "code",
   "execution_count": null,
   "id": "d52620de-59f5-4174-ad87-94d979942949",
   "metadata": {},
   "outputs": [],
   "source": [
    "LDA.fit(tcorpus_sutton)"
   ]
  },
  {
   "cell_type": "code",
   "execution_count": null,
   "id": "dfd270a8-5551-4eeb-b3cc-7479f4e6018b",
   "metadata": {},
   "outputs": [],
   "source": [
    "#calculate the topics: Merton\n",
    "vectorizer.fit(corpus_merton) \n",
    "tcorpus_merton = vectorizer.transform(corpus_sutton) # tcorpus for transformed corpus"
   ]
  },
  {
   "cell_type": "code",
   "execution_count": null,
   "id": "5da704d9-f82d-4911-9248-65c4339284ff",
   "metadata": {},
   "outputs": [],
   "source": [
    "LDA.fit(tcorpus_merton)"
   ]
  },
  {
   "cell_type": "code",
   "execution_count": null,
   "id": "e14ae0f2-f25a-4699-8284-f8b7bf5f1878",
   "metadata": {},
   "outputs": [],
   "source": [
    "#Maximum Likelihood Topics\n",
    "topic_values_haringey = LDA.transform(tcorpus_haringey)\n",
    "topic_values_kc = LDA.transform(tcorpus_kc)\n",
    "topic_values_camden = LDA.transform(tcorpus_camden)\n",
    "topic_values_sutton = LDA.transform(tcorpus_sutton)\n",
    "topic_values_merton = LDA.transform(tcorpus_merton)"
   ]
  },
  {
   "cell_type": "code",
   "execution_count": null,
   "id": "3c3da5eb-0996-43ad-baa2-53b1722bfdba",
   "metadata": {},
   "outputs": [],
   "source": [
    "Haringey['Topic'] = topic_values_haringey.argmax(axis=1)\n",
    "kc['Topic'] = topic_values_kc.argmax(axis=1)\n",
    "Camden['Topic'] = topic_values_camden.argmax(axis=1)\n",
    "Sutton['Topic'] = topic_values_sutton.argmax(axis=1)\n",
    "Merton['Topic'] = topic_values_merton.argmax(axis=1)"
   ]
  },
  {
   "cell_type": "code",
   "execution_count": null,
   "id": "1e08a316-85bf-45e8-8401-52e9fe83c2bf",
   "metadata": {},
   "outputs": [],
   "source": [
    "#set the vectoriser again for the topic modelling df\n",
    "vectorizer = CountVectorizer(ngram_range=(1,1), stop_words='english', analyzer='word', max_df=0.7, min_df=0.05)"
   ]
  },
  {
   "cell_type": "code",
   "execution_count": null,
   "id": "4ac7a970-75b4-4994-9888-ef01b708be31",
   "metadata": {},
   "outputs": [],
   "source": [
    "#create the topic corpuses for the transformed corpuses\n",
    "topic_corpus_haringey = vectorizer.fit_transform(Haringey[Haringey.Topic==1].description.values)\n",
    "topic_corpus_kc = vectorizer.fit_transform(kc[kc.Topic==1].description.values)\n",
    "topic_corpus_camden = vectorizer.fit_transform(Camden[Camden.Topic==1].description.values)\n",
    "topic_corpus_sutton = vectorizer.fit_transform(Sutton[Sutton.Topic==1].description.values)\n",
    "topic_corpus_merton = vectorizer.fit_transform(Merton[Merton.Topic==1].description.values)"
   ]
  },
  {
   "cell_type": "code",
   "execution_count": null,
   "id": "1017ab44-36aa-4c2e-b19b-674be5a32597",
   "metadata": {},
   "outputs": [],
   "source": [
    "#make df of the new topics for each borough!\n",
    "topicdf_harigey = pd.DataFrame(data=topic_corpus_haringey.toarray(), columns=vectorizer.get_feature_names_out())\n",
    "topicdf_kc = pd.DataFrame(data=topic_corpus_kc.toarray(), columns=vectorizer.get_feature_names_out())\n",
    "topicdf_camden = pd.DataFrame(data=topic_corpus_camden.toarray(), columns=vectorizer.get_feature_names_out())\n",
    "topicdf_sutton = pd.DataFrame(data=topic_corpus_sutton.toarray(), columns=vectorizer.get_feature_names_out())\n",
    "topicdf_merton = pd.DataFrame(data=topic_corpus_merton.toarray(), columns=vectorizer.get_feature_names_out())"
   ]
  },
  {
   "cell_type": "code",
   "execution_count": null,
   "id": "96ef4959-d6f9-454a-a7e6-c81a0111f986",
   "metadata": {},
   "outputs": [],
   "source": [
    "#Make the word cloud: Haringey\n",
    "plt.figure(figsize=(12, 12))\n",
    "Cloud = WordCloud(background_color=\"white\", max_words=75).generate_from_frequencies(topicdf_haringey.sum())\n",
    "plt.imshow(Cloud) \n",
    "plt.axis(\"off\");"
   ]
  },
  {
   "cell_type": "code",
   "execution_count": 52,
   "id": "0a1a0f7c-fb91-43d3-b21b-8b806ede182c",
   "metadata": {},
   "outputs": [
    {
     "ename": "NameError",
     "evalue": "name 'topicdf_kc' is not defined",
     "output_type": "error",
     "traceback": [
      "\u001b[0;31m---------------------------------------------------------------------------\u001b[0m",
      "\u001b[0;31mNameError\u001b[0m                                 Traceback (most recent call last)",
      "Input \u001b[0;32mIn [52]\u001b[0m, in \u001b[0;36m<cell line: 3>\u001b[0;34m()\u001b[0m\n\u001b[1;32m      1\u001b[0m \u001b[38;5;66;03m#Make the word cloud: Kensington and Chelsea\u001b[39;00m\n\u001b[1;32m      2\u001b[0m plt\u001b[38;5;241m.\u001b[39mfigure(figsize\u001b[38;5;241m=\u001b[39m(\u001b[38;5;241m12\u001b[39m, \u001b[38;5;241m12\u001b[39m))\n\u001b[0;32m----> 3\u001b[0m Cloud \u001b[38;5;241m=\u001b[39m WordCloud(background_color\u001b[38;5;241m=\u001b[39m\u001b[38;5;124m\"\u001b[39m\u001b[38;5;124mwhite\u001b[39m\u001b[38;5;124m\"\u001b[39m, max_words\u001b[38;5;241m=\u001b[39m\u001b[38;5;241m75\u001b[39m)\u001b[38;5;241m.\u001b[39mgenerate_from_frequencies(\u001b[43mtopicdf_kc\u001b[49m\u001b[38;5;241m.\u001b[39msum())\n\u001b[1;32m      4\u001b[0m plt\u001b[38;5;241m.\u001b[39mimshow(Cloud) \n\u001b[1;32m      5\u001b[0m plt\u001b[38;5;241m.\u001b[39maxis(\u001b[38;5;124m\"\u001b[39m\u001b[38;5;124moff\u001b[39m\u001b[38;5;124m\"\u001b[39m)\n",
      "\u001b[0;31mNameError\u001b[0m: name 'topicdf_kc' is not defined"
     ]
    },
    {
     "data": {
      "text/plain": [
       "<Figure size 864x864 with 0 Axes>"
      ]
     },
     "metadata": {},
     "output_type": "display_data"
    }
   ],
   "source": [
    "#Make the word cloud: Kensington and Chelsea\n",
    "plt.figure(figsize=(12, 12))\n",
    "Cloud = WordCloud(background_color=\"white\", max_words=75).generate_from_frequencies(topicdf_kc.sum())\n",
    "plt.imshow(Cloud) \n",
    "plt.axis(\"off\");"
   ]
  },
  {
   "cell_type": "code",
   "execution_count": null,
   "id": "4c2ef108-bd6d-422d-b811-f184c14ba7ba",
   "metadata": {},
   "outputs": [],
   "source": [
    "#Make the word cloud: Camden\n",
    "plt.figure(figsize=(12, 12))\n",
    "Cloud = WordCloud(background_color=\"white\", max_words=75).generate_from_frequencies(topicdf_camden.sum())\n",
    "plt.imshow(Cloud) \n",
    "plt.axis(\"off\");"
   ]
  },
  {
   "cell_type": "code",
   "execution_count": null,
   "id": "36a6344c-301c-4087-9eb3-72741cabf7c1",
   "metadata": {},
   "outputs": [],
   "source": [
    "#Make the word cloud: Sutton\n",
    "plt.figure(figsize=(12, 12))\n",
    "Cloud = WordCloud(background_color=\"white\", max_words=75).generate_from_frequencies(topicdf_sutton.sum())\n",
    "plt.imshow(Cloud) \n",
    "plt.axis(\"off\");"
   ]
  },
  {
   "cell_type": "code",
   "execution_count": null,
   "id": "4768a47e-7925-4e51-97f3-25632138da3a",
   "metadata": {},
   "outputs": [],
   "source": [
    "#Make the word cloud: Merton\n",
    "plt.figure(figsize=(12, 12))\n",
    "Cloud = WordCloud(background_color=\"white\", max_words=75).generate_from_frequencies(topicdf_merton.sum())\n",
    "plt.imshow(Cloud) \n",
    "plt.axis(\"off\");"
   ]
  }
 ],
 "metadata": {
  "kernelspec": {
   "display_name": "Python 3 (ipykernel)",
   "language": "python",
   "name": "python3"
  },
  "language_info": {
   "codemirror_mode": {
    "name": "ipython",
    "version": 3
   },
   "file_extension": ".py",
   "mimetype": "text/x-python",
   "name": "python",
   "nbconvert_exporter": "python",
   "pygments_lexer": "ipython3",
   "version": "3.10.5"
  }
 },
 "nbformat": 4,
 "nbformat_minor": 5
}
