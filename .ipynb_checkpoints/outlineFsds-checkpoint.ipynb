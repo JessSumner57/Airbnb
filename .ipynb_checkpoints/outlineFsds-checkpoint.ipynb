{
 "cells": [
  {
   "cell_type": "markdown",
   "id": "bafd9973-c42b-4fda-9fe1-570c1203a35d",
   "metadata": {},
   "source": [
    "# Policy Briefing Title that Matches PDF Title\n",
    "\n",
    "## CASA0013: Foundations of Spatial Data Science\n",
    "\n",
    "### Student Ids: ucfnpje, ucftYYYY, etc."
   ]
  },
  {
   "cell_type": "code",
   "execution_count": 1,
   "id": "83a3e2cc-46e2-4853-bb5a-33228f1a4b69",
   "metadata": {
    "tags": []
   },
   "outputs": [],
   "source": [
    "import pandas as pd\n",
    "import numpy as np\n",
    "import matplotlib.pyplot as plt\n",
    "import re\n",
    "%matplotlib inline\n",
    "\n",
    "\n",
    "#pd.set_option('display.max_columns', None) \n",
    "#pd.set_option('display.max_rows',None) #an option in case we want to really dig into this data set"
   ]
  },
  {
   "cell_type": "code",
   "execution_count": 2,
   "id": "7806f706-1000-48d8-8f5d-9a8fbab0c80a",
   "metadata": {},
   "outputs": [
    {
     "name": "stdout",
     "output_type": "stream",
     "text": [
      "<class 'pandas.core.frame.DataFrame'>\n",
      "RangeIndex: 1071 entries, 0 to 1070\n",
      "Data columns (total 12 columns):\n",
      " #   Column             Non-Null Count  Dtype  \n",
      "---  ------             --------------  -----  \n",
      " 0   code               1071 non-null   object \n",
      " 1   area               1071 non-null   object \n",
      " 2   date               1071 non-null   object \n",
      " 3   median_salary      1049 non-null   float64\n",
      " 4   life_satisfaction  352 non-null    float64\n",
      " 5   mean_salary        1071 non-null   object \n",
      " 6   recycling_pct      860 non-null    object \n",
      " 7   population_size    1018 non-null   float64\n",
      " 8   number_of_jobs     931 non-null    float64\n",
      " 9   area_size          666 non-null    float64\n",
      " 10  no_of_houses       666 non-null    float64\n",
      " 11  borough_flag       1071 non-null   int64  \n",
      "dtypes: float64(6), int64(1), object(5)\n",
      "memory usage: 100.5+ KB\n",
      "None\n"
     ]
    }
   ],
   "source": [
    "df = pd.read_csv('housing_in_london_yearly_variables.csv', infer_datetime_format=True)\n",
    "print(df.info())"
   ]
  },
  {
   "cell_type": "markdown",
   "id": "750f2e25-ef56-4a87-9402-947ce05f4956",
   "metadata": {},
   "source": [
    "### Note:\n",
    "\n",
    "- mean_salary and recycling_pct are in object type\n",
    "- life_satisfaction has only 352 non-null values, meaning that 719 dates are missing this feature \n",
    "- area, and borough_flag are categorical values even though borough_flag is currently an integer data type\n"
   ]
  },
  {
   "cell_type": "code",
   "execution_count": 3,
   "id": "30c85f44-4aba-4936-85ee-525d6e0eba22",
   "metadata": {},
   "outputs": [
    {
     "data": {
      "text/html": [
       "<div>\n",
       "<style scoped>\n",
       "    .dataframe tbody tr th:only-of-type {\n",
       "        vertical-align: middle;\n",
       "    }\n",
       "\n",
       "    .dataframe tbody tr th {\n",
       "        vertical-align: top;\n",
       "    }\n",
       "\n",
       "    .dataframe thead th {\n",
       "        text-align: right;\n",
       "    }\n",
       "</style>\n",
       "<table border=\"1\" class=\"dataframe\">\n",
       "  <thead>\n",
       "    <tr style=\"text-align: right;\">\n",
       "      <th></th>\n",
       "      <th>code</th>\n",
       "      <th>area</th>\n",
       "      <th>date</th>\n",
       "      <th>median_salary</th>\n",
       "      <th>life_satisfaction</th>\n",
       "      <th>mean_salary</th>\n",
       "      <th>recycling_pct</th>\n",
       "      <th>population_size</th>\n",
       "      <th>number_of_jobs</th>\n",
       "      <th>area_size</th>\n",
       "      <th>no_of_houses</th>\n",
       "      <th>borough_flag</th>\n",
       "      <th>year</th>\n",
       "      <th>month</th>\n",
       "    </tr>\n",
       "  </thead>\n",
       "  <tbody>\n",
       "    <tr>\n",
       "      <th>1066</th>\n",
       "      <td>K03000001</td>\n",
       "      <td>great britain</td>\n",
       "      <td>2019-12-01</td>\n",
       "      <td>30446.0</td>\n",
       "      <td>NaN</td>\n",
       "      <td>37603</td>\n",
       "      <td>NaN</td>\n",
       "      <td>NaN</td>\n",
       "      <td>NaN</td>\n",
       "      <td>NaN</td>\n",
       "      <td>NaN</td>\n",
       "      <td>0</td>\n",
       "      <td>2019</td>\n",
       "      <td>12</td>\n",
       "    </tr>\n",
       "    <tr>\n",
       "      <th>1067</th>\n",
       "      <td>K04000001</td>\n",
       "      <td>england and wales</td>\n",
       "      <td>2019-12-01</td>\n",
       "      <td>30500.0</td>\n",
       "      <td>NaN</td>\n",
       "      <td>37865</td>\n",
       "      <td>NaN</td>\n",
       "      <td>NaN</td>\n",
       "      <td>NaN</td>\n",
       "      <td>NaN</td>\n",
       "      <td>NaN</td>\n",
       "      <td>0</td>\n",
       "      <td>2019</td>\n",
       "      <td>12</td>\n",
       "    </tr>\n",
       "    <tr>\n",
       "      <th>1068</th>\n",
       "      <td>N92000002</td>\n",
       "      <td>northern ireland</td>\n",
       "      <td>2019-12-01</td>\n",
       "      <td>27434.0</td>\n",
       "      <td>NaN</td>\n",
       "      <td>32083</td>\n",
       "      <td>NaN</td>\n",
       "      <td>NaN</td>\n",
       "      <td>NaN</td>\n",
       "      <td>NaN</td>\n",
       "      <td>NaN</td>\n",
       "      <td>0</td>\n",
       "      <td>2019</td>\n",
       "      <td>12</td>\n",
       "    </tr>\n",
       "    <tr>\n",
       "      <th>1069</th>\n",
       "      <td>S92000003</td>\n",
       "      <td>scotland</td>\n",
       "      <td>2019-12-01</td>\n",
       "      <td>30000.0</td>\n",
       "      <td>NaN</td>\n",
       "      <td>34916</td>\n",
       "      <td>NaN</td>\n",
       "      <td>NaN</td>\n",
       "      <td>NaN</td>\n",
       "      <td>NaN</td>\n",
       "      <td>NaN</td>\n",
       "      <td>0</td>\n",
       "      <td>2019</td>\n",
       "      <td>12</td>\n",
       "    </tr>\n",
       "    <tr>\n",
       "      <th>1070</th>\n",
       "      <td>W92000004</td>\n",
       "      <td>wales</td>\n",
       "      <td>2019-12-01</td>\n",
       "      <td>27500.0</td>\n",
       "      <td>NaN</td>\n",
       "      <td>31251</td>\n",
       "      <td>NaN</td>\n",
       "      <td>NaN</td>\n",
       "      <td>NaN</td>\n",
       "      <td>NaN</td>\n",
       "      <td>NaN</td>\n",
       "      <td>0</td>\n",
       "      <td>2019</td>\n",
       "      <td>12</td>\n",
       "    </tr>\n",
       "  </tbody>\n",
       "</table>\n",
       "</div>"
      ],
      "text/plain": [
       "           code               area        date  median_salary  \\\n",
       "1066  K03000001      great britain  2019-12-01        30446.0   \n",
       "1067  K04000001  england and wales  2019-12-01        30500.0   \n",
       "1068  N92000002   northern ireland  2019-12-01        27434.0   \n",
       "1069  S92000003           scotland  2019-12-01        30000.0   \n",
       "1070  W92000004              wales  2019-12-01        27500.0   \n",
       "\n",
       "      life_satisfaction mean_salary recycling_pct  population_size  \\\n",
       "1066                NaN       37603           NaN              NaN   \n",
       "1067                NaN       37865           NaN              NaN   \n",
       "1068                NaN       32083           NaN              NaN   \n",
       "1069                NaN       34916           NaN              NaN   \n",
       "1070                NaN       31251           NaN              NaN   \n",
       "\n",
       "      number_of_jobs  area_size  no_of_houses  borough_flag  year month  \n",
       "1066             NaN        NaN           NaN             0  2019    12  \n",
       "1067             NaN        NaN           NaN             0  2019    12  \n",
       "1068             NaN        NaN           NaN             0  2019    12  \n",
       "1069             NaN        NaN           NaN             0  2019    12  \n",
       "1070             NaN        NaN           NaN             0  2019    12  "
      ]
     },
     "execution_count": 3,
     "metadata": {},
     "output_type": "execute_result"
    }
   ],
   "source": [
    "# create new columns for year and month\n",
    "df['year'] = df.loc[:,'date'].str.slice(0,4)\n",
    "df['month'] = df.loc[:,'date'].str.slice(5,7)\n",
    "df.tail(n=5)"
   ]
  },
  {
   "cell_type": "code",
   "execution_count": 4,
   "id": "daaf7ace-353a-43b0-b924-c7a05dfa6d19",
   "metadata": {},
   "outputs": [],
   "source": [
    "# filter out non-london boroughs\n",
    "df1 = df.copy()\n",
    "df1 = df1.loc[~((df['area'] == 'east') | (df['area'] == 'east midlands') |\n",
    "                    (df['area'] == 'england') | (df['area'] == 'england and wales') |\n",
    "                    (df['area'] == 'great britain') | (df['area'] == 'inner london') | \n",
    "                    (df['area'] == 'london') | (df['area'] == 'north east') | \n",
    "                             (df['area'] == 'north west') | (df['area'] == 'northern ireland') |\n",
    "                             (df['area'] == 'outer london') | (df['area'] == 'scotland') |\n",
    "                             (df['area'] == 'south east') | (df['area'] == 'South West') |\n",
    "                             (df['area'] == 'united kingdom') | (df['area'] == 'wales') |\n",
    "                             (df['area'] == 'west midlands') | (df['area'] == 'yorkshire and the humber'))]"
   ]
  },
  {
   "cell_type": "code",
   "execution_count": 5,
   "id": "7c776118-7beb-4abd-8175-faaf58ad1430",
   "metadata": {},
   "outputs": [
    {
     "name": "stdout",
     "output_type": "stream",
     "text": [
      "(1071, 14)\n",
      "(714, 14)\n"
     ]
    }
   ],
   "source": [
    "# Data has been reduced\n",
    "print(df.shape)\n",
    "print(df1.shape)"
   ]
  },
  {
   "cell_type": "code",
   "execution_count": 6,
   "id": "ae4543ea-bc7e-47cf-9d8c-12d203c5211a",
   "metadata": {
    "tags": []
   },
   "outputs": [],
   "source": [
    "# convert data types\n",
    "df1['year'] = df1['year'].astype('int')\n",
    "df1['month'] = df1['month'].astype('int')\n",
    "df1['borough_flag'] = df1['borough_flag'].astype('str')"
   ]
  },
  {
   "cell_type": "code",
   "execution_count": 8,
   "id": "b84afb25-d5e6-42c0-a29a-af85e1ccfce9",
   "metadata": {
    "tags": []
   },
   "outputs": [],
   "source": [
    "# mean_salary column contains '#', '-' in the data so it is in object type\n",
    "hashtag = re.compile(r'(?:#|-)')\n",
    "df1['mean_salary'] = df1['mean_salary'].str.replace(hashtag, '')\n",
    "\n",
    "# empty value cannot be converted to float type so replace '' with np.nan\n",
    "df1.mean_salary.replace('', np.nan, inplace = True)\n",
    "df1['mean_salary']= df1.mean_salary.astype('float')"
   ]
  },
  {
   "cell_type": "code",
   "execution_count": 9,
   "id": "5d6b6436-1ed1-40c9-8a09-4bce9d158891",
   "metadata": {},
   "outputs": [],
   "source": [
    "# date to dateframe type\n",
    "df1['date'] = pd.to_datetime(df1.date)"
   ]
  },
  {
   "cell_type": "code",
   "execution_count": 10,
   "id": "8e690864-6533-4ed4-963a-ef12fe2fd96e",
   "metadata": {},
   "outputs": [
    {
     "name": "stdout",
     "output_type": "stream",
     "text": [
      "<class 'pandas.core.frame.DataFrame'>\n",
      "Int64Index: 714 entries, 0 to 1061\n",
      "Data columns (total 14 columns):\n",
      " #   Column             Non-Null Count  Dtype         \n",
      "---  ------             --------------  -----         \n",
      " 0   code               714 non-null    object        \n",
      " 1   area               714 non-null    object        \n",
      " 2   date               714 non-null    datetime64[ns]\n",
      " 3   median_salary      704 non-null    float64       \n",
      " 4   life_satisfaction  264 non-null    float64       \n",
      " 5   mean_salary        707 non-null    float64       \n",
      " 6   recycling_pct      680 non-null    object        \n",
      " 7   population_size    680 non-null    float64       \n",
      " 8   number_of_jobs     646 non-null    float64       \n",
      " 9   area_size          594 non-null    float64       \n",
      " 10  no_of_houses       594 non-null    float64       \n",
      " 11  borough_flag       714 non-null    object        \n",
      " 12  year               714 non-null    int64         \n",
      " 13  month              714 non-null    int64         \n",
      "dtypes: datetime64[ns](1), float64(7), int64(2), object(4)\n",
      "memory usage: 83.7+ KB\n"
     ]
    }
   ],
   "source": [
    "df1.info()"
   ]
  },
  {
   "cell_type": "markdown",
   "id": "2e857650-7830-4220-bd10-6ba3767082e9",
   "metadata": {
    "tags": []
   },
   "source": [
    "##### Data type converted and boroughs have been filtered"
   ]
  },
  {
   "cell_type": "code",
   "execution_count": null,
   "id": "b475f5d7-824c-421a-a5c9-956245fff2c1",
   "metadata": {},
   "outputs": [],
   "source": []
  },
  {
   "cell_type": "code",
   "execution_count": null,
   "id": "88f7ecb1-a6c6-42d9-846e-c1c8f86dfa5a",
   "metadata": {},
   "outputs": [],
   "source": []
  },
  {
   "cell_type": "code",
   "execution_count": null,
   "id": "013ed722-b132-4fca-8251-29b677597e82",
   "metadata": {},
   "outputs": [],
   "source": []
  },
  {
   "cell_type": "code",
   "execution_count": 214,
   "id": "e35f5cf1-ffd2-401d-bc68-5973a7d47a64",
   "metadata": {},
   "outputs": [
    {
     "ename": "SyntaxError",
     "evalue": "invalid syntax (315199278.py, line 3)",
     "output_type": "error",
     "traceback": [
      "\u001b[0;36m  Input \u001b[0;32mIn [214]\u001b[0;36m\u001b[0m\n\u001b[0;31m    df.['areas']['tower hamlets'](bool,True)\u001b[0m\n\u001b[0m       ^\u001b[0m\n\u001b[0;31mSyntaxError\u001b[0m\u001b[0;31m:\u001b[0m invalid syntax\n"
     ]
    }
   ],
   "source": [
    "#moreareas = df[df['area']=='city of london','tower hamlets','islington']\n",
    "#moreareas\n"
   ]
  },
  {
   "cell_type": "code",
   "execution_count": 160,
   "id": "7c205174-33ab-4b10-8982-5e908d68a2d9",
   "metadata": {},
   "outputs": [
    {
     "data": {
      "text/plain": [
       "<AxesSubplot:>"
      ]
     },
     "execution_count": 160,
     "metadata": {},
     "output_type": "execute_result"
    },
    {
     "data": {
      "image/png": "[encoded data removed]",
      "text/plain": [
       "<Figure size 1440x720 with 1 Axes>"
      ]
     },
     "metadata": {
      "needs_background": "light"
     },
     "output_type": "display_data"
    }
   ],
   "source": [
    "df['area']\n",
    "more_areas = df[df['area']=='brent']\n",
    "more_areas\n",
    "pd.DataFrame(more_areas['mean_salary'].value_counts()).plot(kind='bar', figsize=(20,10))"
   ]
  },
  {
   "cell_type": "code",
   "execution_count": 132,
   "id": "e3d442a2-dacd-4650-ac35-cee1ed8f56a5",
   "metadata": {
    "collapsed": true,
    "jupyter": {
     "outputs_hidden": true
    },
    "tags": []
   },
   "outputs": [
    {
     "data": {
      "text/html": [
       "<div>\n",
       "<style scoped>\n",
       "    .dataframe tbody tr th:only-of-type {\n",
       "        vertical-align: middle;\n",
       "    }\n",
       "\n",
       "    .dataframe tbody tr th {\n",
       "        vertical-align: top;\n",
       "    }\n",
       "\n",
       "    .dataframe thead th {\n",
       "        text-align: right;\n",
       "    }\n",
       "</style>\n",
       "<table border=\"1\" class=\"dataframe\">\n",
       "  <thead>\n",
       "    <tr style=\"text-align: right;\">\n",
       "      <th></th>\n",
       "      <th>code</th>\n",
       "      <th>area</th>\n",
       "      <th>date</th>\n",
       "      <th>median_salary</th>\n",
       "      <th>life_satisfaction</th>\n",
       "      <th>mean_salary</th>\n",
       "      <th>recycling_pct</th>\n",
       "      <th>population_size</th>\n",
       "    </tr>\n",
       "  </thead>\n",
       "  <tbody>\n",
       "    <tr>\n",
       "      <th>204</th>\n",
       "      <td>E09000001</td>\n",
       "      <td>city of london</td>\n",
       "      <td>2003-12-01</td>\n",
       "      <td>41795.0</td>\n",
       "      <td>NaN</td>\n",
       "      <td>64272</td>\n",
       "      <td>8</td>\n",
       "      <td>7115.0</td>\n",
       "    </tr>\n",
       "    <tr>\n",
       "      <th>255</th>\n",
       "      <td>E09000001</td>\n",
       "      <td>city of london</td>\n",
       "      <td>2004-12-01</td>\n",
       "      <td>43347.0</td>\n",
       "      <td>NaN</td>\n",
       "      <td>66628</td>\n",
       "      <td>14</td>\n",
       "      <td>7118.0</td>\n",
       "    </tr>\n",
       "    <tr>\n",
       "      <th>306</th>\n",
       "      <td>E09000001</td>\n",
       "      <td>city of london</td>\n",
       "      <td>2005-12-01</td>\n",
       "      <td>45000.0</td>\n",
       "      <td>NaN</td>\n",
       "      <td>74004</td>\n",
       "      <td>18</td>\n",
       "      <td>7131.0</td>\n",
       "    </tr>\n",
       "    <tr>\n",
       "      <th>357</th>\n",
       "      <td>E09000001</td>\n",
       "      <td>city of london</td>\n",
       "      <td>2006-12-01</td>\n",
       "      <td>46292.0</td>\n",
       "      <td>NaN</td>\n",
       "      <td>85886</td>\n",
       "      <td>28</td>\n",
       "      <td>7254.0</td>\n",
       "    </tr>\n",
       "    <tr>\n",
       "      <th>408</th>\n",
       "      <td>E09000001</td>\n",
       "      <td>city of london</td>\n",
       "      <td>2007-12-01</td>\n",
       "      <td>49955.0</td>\n",
       "      <td>NaN</td>\n",
       "      <td>86778</td>\n",
       "      <td>33</td>\n",
       "      <td>7607.0</td>\n",
       "    </tr>\n",
       "    <tr>\n",
       "      <th>459</th>\n",
       "      <td>E09000001</td>\n",
       "      <td>city of london</td>\n",
       "      <td>2008-12-01</td>\n",
       "      <td>50503.0</td>\n",
       "      <td>NaN</td>\n",
       "      <td>82973</td>\n",
       "      <td>34</td>\n",
       "      <td>7429.0</td>\n",
       "    </tr>\n",
       "    <tr>\n",
       "      <th>510</th>\n",
       "      <td>E09000001</td>\n",
       "      <td>city of london</td>\n",
       "      <td>2009-12-01</td>\n",
       "      <td>52092.0</td>\n",
       "      <td>NaN</td>\n",
       "      <td>80769</td>\n",
       "      <td>35</td>\n",
       "      <td>7472.0</td>\n",
       "    </tr>\n",
       "    <tr>\n",
       "      <th>561</th>\n",
       "      <td>E09000001</td>\n",
       "      <td>city of london</td>\n",
       "      <td>2010-12-01</td>\n",
       "      <td>52271.0</td>\n",
       "      <td>NaN</td>\n",
       "      <td>81938</td>\n",
       "      <td>39</td>\n",
       "      <td>7338.0</td>\n",
       "    </tr>\n",
       "    <tr>\n",
       "      <th>612</th>\n",
       "      <td>E09000001</td>\n",
       "      <td>city of london</td>\n",
       "      <td>2011-12-01</td>\n",
       "      <td>54381.0</td>\n",
       "      <td>NaN</td>\n",
       "      <td>90842</td>\n",
       "      <td>37</td>\n",
       "      <td>7412.0</td>\n",
       "    </tr>\n",
       "    <tr>\n",
       "      <th>663</th>\n",
       "      <td>E09000001</td>\n",
       "      <td>city of london</td>\n",
       "      <td>2012-12-01</td>\n",
       "      <td>54000.0</td>\n",
       "      <td>NaN</td>\n",
       "      <td>86987</td>\n",
       "      <td>36</td>\n",
       "      <td>7604.0</td>\n",
       "    </tr>\n",
       "    <tr>\n",
       "      <th>714</th>\n",
       "      <td>E09000001</td>\n",
       "      <td>city of london</td>\n",
       "      <td>2013-12-01</td>\n",
       "      <td>54202.0</td>\n",
       "      <td>NaN</td>\n",
       "      <td>83403</td>\n",
       "      <td>39</td>\n",
       "      <td>7648.0</td>\n",
       "    </tr>\n",
       "    <tr>\n",
       "      <th>765</th>\n",
       "      <td>E09000001</td>\n",
       "      <td>city of london</td>\n",
       "      <td>2014-12-01</td>\n",
       "      <td>54710.0</td>\n",
       "      <td>NaN</td>\n",
       "      <td>82808</td>\n",
       "      <td>34</td>\n",
       "      <td>8072.0</td>\n",
       "    </tr>\n",
       "    <tr>\n",
       "      <th>816</th>\n",
       "      <td>E09000001</td>\n",
       "      <td>city of london</td>\n",
       "      <td>2015-12-01</td>\n",
       "      <td>54034.0</td>\n",
       "      <td>NaN</td>\n",
       "      <td>77754</td>\n",
       "      <td>31</td>\n",
       "      <td>8760.0</td>\n",
       "    </tr>\n",
       "    <tr>\n",
       "      <th>867</th>\n",
       "      <td>E09000001</td>\n",
       "      <td>city of london</td>\n",
       "      <td>2016-12-01</td>\n",
       "      <td>55487.0</td>\n",
       "      <td>NaN</td>\n",
       "      <td>79489</td>\n",
       "      <td>29</td>\n",
       "      <td>9401.0</td>\n",
       "    </tr>\n",
       "    <tr>\n",
       "      <th>918</th>\n",
       "      <td>E09000001</td>\n",
       "      <td>city of london</td>\n",
       "      <td>2017-12-01</td>\n",
       "      <td>56295.0</td>\n",
       "      <td>NaN</td>\n",
       "      <td>80655</td>\n",
       "      <td>29</td>\n",
       "      <td>7654.0</td>\n",
       "    </tr>\n",
       "    <tr>\n",
       "      <th>969</th>\n",
       "      <td>E09000001</td>\n",
       "      <td>city of london</td>\n",
       "      <td>2018-12-01</td>\n",
       "      <td>61203.0</td>\n",
       "      <td>NaN</td>\n",
       "      <td>90028</td>\n",
       "      <td>30</td>\n",
       "      <td>8706.0</td>\n",
       "    </tr>\n",
       "    <tr>\n",
       "      <th>1020</th>\n",
       "      <td>E09000001</td>\n",
       "      <td>city of london</td>\n",
       "      <td>2019-12-01</td>\n",
       "      <td>61636.0</td>\n",
       "      <td>NaN</td>\n",
       "      <td>88342</td>\n",
       "      <td>NaN</td>\n",
       "      <td>NaN</td>\n",
       "    </tr>\n",
       "  </tbody>\n",
       "</table>\n",
       "</div>"
      ],
      "text/plain": [
       "           code            area        date  median_salary  life_satisfaction  \\\n",
       "204   E09000001  city of london  2003-12-01        41795.0                NaN   \n",
       "255   E09000001  city of london  2004-12-01        43347.0                NaN   \n",
       "306   E09000001  city of london  2005-12-01        45000.0                NaN   \n",
       "357   E09000001  city of london  2006-12-01        46292.0                NaN   \n",
       "408   E09000001  city of london  2007-12-01        49955.0                NaN   \n",
       "459   E09000001  city of london  2008-12-01        50503.0                NaN   \n",
       "510   E09000001  city of london  2009-12-01        52092.0                NaN   \n",
       "561   E09000001  city of london  2010-12-01        52271.0                NaN   \n",
       "612   E09000001  city of london  2011-12-01        54381.0                NaN   \n",
       "663   E09000001  city of london  2012-12-01        54000.0                NaN   \n",
       "714   E09000001  city of london  2013-12-01        54202.0                NaN   \n",
       "765   E09000001  city of london  2014-12-01        54710.0                NaN   \n",
       "816   E09000001  city of london  2015-12-01        54034.0                NaN   \n",
       "867   E09000001  city of london  2016-12-01        55487.0                NaN   \n",
       "918   E09000001  city of london  2017-12-01        56295.0                NaN   \n",
       "969   E09000001  city of london  2018-12-01        61203.0                NaN   \n",
       "1020  E09000001  city of london  2019-12-01        61636.0                NaN   \n",
       "\n",
       "     mean_salary recycling_pct  population_size  \n",
       "204        64272             8           7115.0  \n",
       "255        66628            14           7118.0  \n",
       "306        74004            18           7131.0  \n",
       "357        85886            28           7254.0  \n",
       "408        86778            33           7607.0  \n",
       "459        82973            34           7429.0  \n",
       "510        80769            35           7472.0  \n",
       "561        81938            39           7338.0  \n",
       "612        90842            37           7412.0  \n",
       "663        86987            36           7604.0  \n",
       "714        83403            39           7648.0  \n",
       "765        82808            34           8072.0  \n",
       "816        77754            31           8760.0  \n",
       "867        79489            29           9401.0  \n",
       "918        80655            29           7654.0  \n",
       "969        90028            30           8706.0  \n",
       "1020       88342           NaN              NaN  "
      ]
     },
     "execution_count": 132,
     "metadata": {},
     "output_type": "execute_result"
    }
   ],
   "source": [
    "df['median_salary'].describe()\n",
    "df['area'].describe()\n",
    "#narrowing down the are to city of london\n",
    "city_of_london = df[df['area']=='city of london']\n",
    "city_of_london\n",
    "#filtering by median_salary value \n",
    "city_of_london = city_of_london[city_of_london['median_salary'] > 40000]\n",
    "city_of_london\n",
    "\n",
    "#print (df.columns)\n",
    "#print (df.columns[1])\n",
    "#print (df.area)\n",
    "    "
   ]
  },
  {
   "cell_type": "code",
   "execution_count": 133,
   "id": "cd622122-875c-4af4-8402-484835c69e0a",
   "metadata": {
    "collapsed": true,
    "jupyter": {
     "outputs_hidden": true
    },
    "tags": []
   },
   "outputs": [
    {
     "data": {
      "text/html": [
       "<div>\n",
       "<style scoped>\n",
       "    .dataframe tbody tr th:only-of-type {\n",
       "        vertical-align: middle;\n",
       "    }\n",
       "\n",
       "    .dataframe tbody tr th {\n",
       "        vertical-align: top;\n",
       "    }\n",
       "\n",
       "    .dataframe thead th {\n",
       "        text-align: right;\n",
       "    }\n",
       "</style>\n",
       "<table border=\"1\" class=\"dataframe\">\n",
       "  <thead>\n",
       "    <tr style=\"text-align: right;\">\n",
       "      <th></th>\n",
       "      <th>code</th>\n",
       "      <th>area</th>\n",
       "      <th>date</th>\n",
       "      <th>median_salary</th>\n",
       "      <th>life_satisfaction</th>\n",
       "      <th>mean_salary</th>\n",
       "      <th>recycling_pct</th>\n",
       "      <th>population_size</th>\n",
       "    </tr>\n",
       "  </thead>\n",
       "  <tbody>\n",
       "    <tr>\n",
       "      <th>204</th>\n",
       "      <td>E09000001</td>\n",
       "      <td>city of london</td>\n",
       "      <td>2003-12-01</td>\n",
       "      <td>41795.0</td>\n",
       "      <td>NaN</td>\n",
       "      <td>64272</td>\n",
       "      <td>8</td>\n",
       "      <td>7115.0</td>\n",
       "    </tr>\n",
       "    <tr>\n",
       "      <th>255</th>\n",
       "      <td>E09000001</td>\n",
       "      <td>city of london</td>\n",
       "      <td>2004-12-01</td>\n",
       "      <td>43347.0</td>\n",
       "      <td>NaN</td>\n",
       "      <td>66628</td>\n",
       "      <td>14</td>\n",
       "      <td>7118.0</td>\n",
       "    </tr>\n",
       "    <tr>\n",
       "      <th>306</th>\n",
       "      <td>E09000001</td>\n",
       "      <td>city of london</td>\n",
       "      <td>2005-12-01</td>\n",
       "      <td>45000.0</td>\n",
       "      <td>NaN</td>\n",
       "      <td>74004</td>\n",
       "      <td>18</td>\n",
       "      <td>7131.0</td>\n",
       "    </tr>\n",
       "    <tr>\n",
       "      <th>357</th>\n",
       "      <td>E09000001</td>\n",
       "      <td>city of london</td>\n",
       "      <td>2006-12-01</td>\n",
       "      <td>46292.0</td>\n",
       "      <td>NaN</td>\n",
       "      <td>85886</td>\n",
       "      <td>28</td>\n",
       "      <td>7254.0</td>\n",
       "    </tr>\n",
       "    <tr>\n",
       "      <th>408</th>\n",
       "      <td>E09000001</td>\n",
       "      <td>city of london</td>\n",
       "      <td>2007-12-01</td>\n",
       "      <td>49955.0</td>\n",
       "      <td>NaN</td>\n",
       "      <td>86778</td>\n",
       "      <td>33</td>\n",
       "      <td>7607.0</td>\n",
       "    </tr>\n",
       "    <tr>\n",
       "      <th>459</th>\n",
       "      <td>E09000001</td>\n",
       "      <td>city of london</td>\n",
       "      <td>2008-12-01</td>\n",
       "      <td>50503.0</td>\n",
       "      <td>NaN</td>\n",
       "      <td>82973</td>\n",
       "      <td>34</td>\n",
       "      <td>7429.0</td>\n",
       "    </tr>\n",
       "    <tr>\n",
       "      <th>510</th>\n",
       "      <td>E09000001</td>\n",
       "      <td>city of london</td>\n",
       "      <td>2009-12-01</td>\n",
       "      <td>52092.0</td>\n",
       "      <td>NaN</td>\n",
       "      <td>80769</td>\n",
       "      <td>35</td>\n",
       "      <td>7472.0</td>\n",
       "    </tr>\n",
       "    <tr>\n",
       "      <th>561</th>\n",
       "      <td>E09000001</td>\n",
       "      <td>city of london</td>\n",
       "      <td>2010-12-01</td>\n",
       "      <td>52271.0</td>\n",
       "      <td>NaN</td>\n",
       "      <td>81938</td>\n",
       "      <td>39</td>\n",
       "      <td>7338.0</td>\n",
       "    </tr>\n",
       "    <tr>\n",
       "      <th>612</th>\n",
       "      <td>E09000001</td>\n",
       "      <td>city of london</td>\n",
       "      <td>2011-12-01</td>\n",
       "      <td>54381.0</td>\n",
       "      <td>NaN</td>\n",
       "      <td>90842</td>\n",
       "      <td>37</td>\n",
       "      <td>7412.0</td>\n",
       "    </tr>\n",
       "    <tr>\n",
       "      <th>663</th>\n",
       "      <td>E09000001</td>\n",
       "      <td>city of london</td>\n",
       "      <td>2012-12-01</td>\n",
       "      <td>54000.0</td>\n",
       "      <td>NaN</td>\n",
       "      <td>86987</td>\n",
       "      <td>36</td>\n",
       "      <td>7604.0</td>\n",
       "    </tr>\n",
       "    <tr>\n",
       "      <th>714</th>\n",
       "      <td>E09000001</td>\n",
       "      <td>city of london</td>\n",
       "      <td>2013-12-01</td>\n",
       "      <td>54202.0</td>\n",
       "      <td>NaN</td>\n",
       "      <td>83403</td>\n",
       "      <td>39</td>\n",
       "      <td>7648.0</td>\n",
       "    </tr>\n",
       "    <tr>\n",
       "      <th>765</th>\n",
       "      <td>E09000001</td>\n",
       "      <td>city of london</td>\n",
       "      <td>2014-12-01</td>\n",
       "      <td>54710.0</td>\n",
       "      <td>NaN</td>\n",
       "      <td>82808</td>\n",
       "      <td>34</td>\n",
       "      <td>8072.0</td>\n",
       "    </tr>\n",
       "    <tr>\n",
       "      <th>816</th>\n",
       "      <td>E09000001</td>\n",
       "      <td>city of london</td>\n",
       "      <td>2015-12-01</td>\n",
       "      <td>54034.0</td>\n",
       "      <td>NaN</td>\n",
       "      <td>77754</td>\n",
       "      <td>31</td>\n",
       "      <td>8760.0</td>\n",
       "    </tr>\n",
       "    <tr>\n",
       "      <th>867</th>\n",
       "      <td>E09000001</td>\n",
       "      <td>city of london</td>\n",
       "      <td>2016-12-01</td>\n",
       "      <td>55487.0</td>\n",
       "      <td>NaN</td>\n",
       "      <td>79489</td>\n",
       "      <td>29</td>\n",
       "      <td>9401.0</td>\n",
       "    </tr>\n",
       "    <tr>\n",
       "      <th>918</th>\n",
       "      <td>E09000001</td>\n",
       "      <td>city of london</td>\n",
       "      <td>2017-12-01</td>\n",
       "      <td>56295.0</td>\n",
       "      <td>NaN</td>\n",
       "      <td>80655</td>\n",
       "      <td>29</td>\n",
       "      <td>7654.0</td>\n",
       "    </tr>\n",
       "    <tr>\n",
       "      <th>969</th>\n",
       "      <td>E09000001</td>\n",
       "      <td>city of london</td>\n",
       "      <td>2018-12-01</td>\n",
       "      <td>61203.0</td>\n",
       "      <td>NaN</td>\n",
       "      <td>90028</td>\n",
       "      <td>30</td>\n",
       "      <td>8706.0</td>\n",
       "    </tr>\n",
       "    <tr>\n",
       "      <th>1020</th>\n",
       "      <td>E09000001</td>\n",
       "      <td>city of london</td>\n",
       "      <td>2019-12-01</td>\n",
       "      <td>61636.0</td>\n",
       "      <td>NaN</td>\n",
       "      <td>88342</td>\n",
       "      <td>0</td>\n",
       "      <td>NaN</td>\n",
       "    </tr>\n",
       "  </tbody>\n",
       "</table>\n",
       "</div>"
      ],
      "text/plain": [
       "           code            area        date  median_salary  life_satisfaction  \\\n",
       "204   E09000001  city of london  2003-12-01        41795.0                NaN   \n",
       "255   E09000001  city of london  2004-12-01        43347.0                NaN   \n",
       "306   E09000001  city of london  2005-12-01        45000.0                NaN   \n",
       "357   E09000001  city of london  2006-12-01        46292.0                NaN   \n",
       "408   E09000001  city of london  2007-12-01        49955.0                NaN   \n",
       "459   E09000001  city of london  2008-12-01        50503.0                NaN   \n",
       "510   E09000001  city of london  2009-12-01        52092.0                NaN   \n",
       "561   E09000001  city of london  2010-12-01        52271.0                NaN   \n",
       "612   E09000001  city of london  2011-12-01        54381.0                NaN   \n",
       "663   E09000001  city of london  2012-12-01        54000.0                NaN   \n",
       "714   E09000001  city of london  2013-12-01        54202.0                NaN   \n",
       "765   E09000001  city of london  2014-12-01        54710.0                NaN   \n",
       "816   E09000001  city of london  2015-12-01        54034.0                NaN   \n",
       "867   E09000001  city of london  2016-12-01        55487.0                NaN   \n",
       "918   E09000001  city of london  2017-12-01        56295.0                NaN   \n",
       "969   E09000001  city of london  2018-12-01        61203.0                NaN   \n",
       "1020  E09000001  city of london  2019-12-01        61636.0                NaN   \n",
       "\n",
       "     mean_salary recycling_pct  population_size  \n",
       "204        64272             8           7115.0  \n",
       "255        66628            14           7118.0  \n",
       "306        74004            18           7131.0  \n",
       "357        85886            28           7254.0  \n",
       "408        86778            33           7607.0  \n",
       "459        82973            34           7429.0  \n",
       "510        80769            35           7472.0  \n",
       "561        81938            39           7338.0  \n",
       "612        90842            37           7412.0  \n",
       "663        86987            36           7604.0  \n",
       "714        83403            39           7648.0  \n",
       "765        82808            34           8072.0  \n",
       "816        77754            31           8760.0  \n",
       "867        79489            29           9401.0  \n",
       "918        80655            29           7654.0  \n",
       "969        90028            30           8706.0  \n",
       "1020       88342             0              NaN  "
      ]
     },
     "execution_count": 133,
     "metadata": {},
     "output_type": "execute_result"
    }
   ],
   "source": [
    "city_of_london['recycling_pct'].fillna('0', inplace =True) #I will assume that they do not have a recycling point\n",
    "city_of_london\n"
   ]
  },
  {
   "cell_type": "code",
   "execution_count": 134,
   "id": "03a09d7b-5d89-4256-a4ce-1747260e54d3",
   "metadata": {},
   "outputs": [
    {
     "data": {
      "text/plain": [
       "<AxesSubplot:xlabel='median_salary', ylabel='population_size'>"
      ]
     },
     "execution_count": 134,
     "metadata": {},
     "output_type": "execute_result"
    },
    {
     "data": {
      "image/png": "[encoded data removed]",
      "text/plain": [
       "<Figure size 1440x720 with 1 Axes>"
      ]
     },
     "metadata": {
      "needs_background": "light"
     },
     "output_type": "display_data"
    }
   ],
   "source": [
    "city_of_london[['median_salary', 'population_size']].plot(kind='scatter', x='median_salary', y='population_size', figsize=(20,10))\n",
    "#seeing how median salary coorelates to population size within the area of city of london "
   ]
  },
  {
   "cell_type": "code",
   "execution_count": 234,
   "id": "1596dd2c-bf88-468b-b853-f6b0d0940560",
   "metadata": {},
   "outputs": [
    {
     "data": {
      "text/plain": [
       "21"
      ]
     },
     "execution_count": 234,
     "metadata": {},
     "output_type": "execute_result"
    }
   ],
   "source": [
    "df.apply(pd.Series.value_counts)\n",
    "df.value_counts(dropna=True)\n",
    "df['area'].value_counts() #seeing how many instance they measure/ seems like 21 in each\n",
    "df.area.value_counts().london #ask jon about filtering each name "
   ]
  },
  {
   "cell_type": "code",
   "execution_count": 142,
   "id": "253c74f9-27ce-4933-a27d-c22d25a3b373",
   "metadata": {},
   "outputs": [
    {
     "data": {
      "text/plain": [
       "<AxesSubplot:>"
      ]
     },
     "execution_count": 142,
     "metadata": {},
     "output_type": "execute_result"
    },
    {
     "data": {
      "image/png": "[encoded data removed]",
      "text/plain": [
       "<Figure size 1440x720 with 1 Axes>"
      ]
     },
     "metadata": {
      "needs_background": "light"
     },
     "output_type": "display_data"
    }
   ],
   "source": [
    "pd.DataFrame(df['mean_salary'].value_counts()).plot(kind='bar', figsize=(20,10))"
   ]
  },
  {
   "cell_type": "code",
   "execution_count": 8,
   "id": "57b49cd6-d03f-4eae-a846-d030ff83bb67",
   "metadata": {},
   "outputs": [
    {
     "data": {
      "text/plain": [
       "code                      E09000001\n",
       "area                 city of london\n",
       "date                     1999-12-01\n",
       "median_salary               33020.0\n",
       "life_satisfaction               NaN\n",
       "mean_salary                   48922\n",
       "recycling_pct                     0\n",
       "population_size              6581.0\n",
       "Name: 0, dtype: object"
      ]
     },
     "execution_count": 8,
     "metadata": {},
     "output_type": "execute_result"
    }
   ],
   "source": [
    "df.iloc[0]"
   ]
  },
  {
   "cell_type": "code",
   "execution_count": 179,
   "id": "d7b3f7f0-e239-4356-9fa7-05fc1d8b16b2",
   "metadata": {},
   "outputs": [
    {
     "data": {
      "text/plain": [
       "array([[<AxesSubplot:title={'center':'median_salary'}>,\n",
       "        <AxesSubplot:title={'center':'life_satisfaction'}>],\n",
       "       [<AxesSubplot:title={'center':'population_size'}>, <AxesSubplot:>]],\n",
       "      dtype=object)"
      ]
     },
     "execution_count": 179,
     "metadata": {},
     "output_type": "execute_result"
    },
    {
     "data": {
      "image/png": "[encoded data removed]",
      "text/plain": [
       "<Figure size 2160x720 with 4 Axes>"
      ]
     },
     "metadata": {
      "needs_background": "light"
     },
     "output_type": "display_data"
    }
   ],
   "source": [
    "city_of_london.hist(bins=60, figsize= (30,10))  #another good visual to show variations "
   ]
  },
  {
   "cell_type": "code",
   "execution_count": 9,
   "id": "6de7a8b4-8b65-4510-a7b3-64a5aa83df70",
   "metadata": {},
   "outputs": [],
   "source": [
    "df=df.dropna()"
   ]
  },
  {
   "cell_type": "code",
   "execution_count": 187,
   "id": "8061df2c-08e0-44ae-be24-db88f884735e",
   "metadata": {},
   "outputs": [
    {
     "ename": "AttributeError",
     "evalue": "'DataFrame' object has no attribute 'areas'",
     "output_type": "error",
     "traceback": [
      "\u001b[0;31m---------------------------------------------------------------------------\u001b[0m",
      "\u001b[0;31mAttributeError\u001b[0m                            Traceback (most recent call last)",
      "Input \u001b[0;32mIn [187]\u001b[0m, in \u001b[0;36m<cell line: 1>\u001b[0;34m()\u001b[0m\n\u001b[0;32m----> 1\u001b[0m \u001b[43mdf\u001b[49m\u001b[38;5;241;43m.\u001b[39;49m\u001b[43mareas\u001b[49m[\u001b[38;5;124m'\u001b[39m\u001b[38;5;124mEngland\u001b[39m\u001b[38;5;124m'\u001b[39m,\u001b[38;5;124m'\u001b[39m\u001b[38;5;124mWales\u001b[39m\u001b[38;5;124m'\u001b[39m,\u001b[38;5;124m'\u001b[39m\u001b[38;5;124mScotland\u001b[39m\u001b[38;5;124m'\u001b[39m]\n",
      "File \u001b[0;32m/opt/conda/lib/python3.10/site-packages/pandas/core/generic.py:5575\u001b[0m, in \u001b[0;36mNDFrame.__getattr__\u001b[0;34m(self, name)\u001b[0m\n\u001b[1;32m   5568\u001b[0m \u001b[38;5;28;01mif\u001b[39;00m (\n\u001b[1;32m   5569\u001b[0m     name \u001b[38;5;129;01mnot\u001b[39;00m \u001b[38;5;129;01min\u001b[39;00m \u001b[38;5;28mself\u001b[39m\u001b[38;5;241m.\u001b[39m_internal_names_set\n\u001b[1;32m   5570\u001b[0m     \u001b[38;5;129;01mand\u001b[39;00m name \u001b[38;5;129;01mnot\u001b[39;00m \u001b[38;5;129;01min\u001b[39;00m \u001b[38;5;28mself\u001b[39m\u001b[38;5;241m.\u001b[39m_metadata\n\u001b[1;32m   5571\u001b[0m     \u001b[38;5;129;01mand\u001b[39;00m name \u001b[38;5;129;01mnot\u001b[39;00m \u001b[38;5;129;01min\u001b[39;00m \u001b[38;5;28mself\u001b[39m\u001b[38;5;241m.\u001b[39m_accessors\n\u001b[1;32m   5572\u001b[0m     \u001b[38;5;129;01mand\u001b[39;00m \u001b[38;5;28mself\u001b[39m\u001b[38;5;241m.\u001b[39m_info_axis\u001b[38;5;241m.\u001b[39m_can_hold_identifiers_and_holds_name(name)\n\u001b[1;32m   5573\u001b[0m ):\n\u001b[1;32m   5574\u001b[0m     \u001b[38;5;28;01mreturn\u001b[39;00m \u001b[38;5;28mself\u001b[39m[name]\n\u001b[0;32m-> 5575\u001b[0m \u001b[38;5;28;01mreturn\u001b[39;00m \u001b[38;5;28;43mobject\u001b[39;49m\u001b[38;5;241;43m.\u001b[39;49m\u001b[38;5;21;43m__getattribute__\u001b[39;49m\u001b[43m(\u001b[49m\u001b[38;5;28;43mself\u001b[39;49m\u001b[43m,\u001b[49m\u001b[43m \u001b[49m\u001b[43mname\u001b[49m\u001b[43m)\u001b[49m\n",
      "\u001b[0;31mAttributeError\u001b[0m: 'DataFrame' object has no attribute 'areas'"
     ]
    }
   ],
   "source": [
    "df.areas['England','Wales','Scotland']"
   ]
  },
  {
   "cell_type": "code",
   "execution_count": 10,
   "id": "8349833a-415d-4b60-8391-a0c777af992b",
   "metadata": {},
   "outputs": [
    {
     "data": {
      "text/html": [
       "<div>\n",
       "<style scoped>\n",
       "    .dataframe tbody tr th:only-of-type {\n",
       "        vertical-align: middle;\n",
       "    }\n",
       "\n",
       "    .dataframe tbody tr th {\n",
       "        vertical-align: top;\n",
       "    }\n",
       "\n",
       "    .dataframe thead th {\n",
       "        text-align: right;\n",
       "    }\n",
       "</style>\n",
       "<table border=\"1\" class=\"dataframe\">\n",
       "  <thead>\n",
       "    <tr style=\"text-align: right;\">\n",
       "      <th></th>\n",
       "      <th>code</th>\n",
       "      <th>area</th>\n",
       "      <th>date</th>\n",
       "      <th>median_salary</th>\n",
       "      <th>life_satisfaction</th>\n",
       "      <th>mean_salary</th>\n",
       "      <th>recycling_pct</th>\n",
       "      <th>population_size</th>\n",
       "    </tr>\n",
       "  </thead>\n",
       "  <tbody>\n",
       "    <tr>\n",
       "      <th>613</th>\n",
       "      <td>E09000002</td>\n",
       "      <td>barking and dagenham</td>\n",
       "      <td>2011-12-01</td>\n",
       "      <td>28201.0</td>\n",
       "      <td>7.05</td>\n",
       "      <td>33568</td>\n",
       "      <td>30</td>\n",
       "      <td>187029.0</td>\n",
       "    </tr>\n",
       "    <tr>\n",
       "      <th>614</th>\n",
       "      <td>E09000003</td>\n",
       "      <td>barnet</td>\n",
       "      <td>2011-12-01</td>\n",
       "      <td>30237.0</td>\n",
       "      <td>7.43</td>\n",
       "      <td>33062</td>\n",
       "      <td>34</td>\n",
       "      <td>357538.0</td>\n",
       "    </tr>\n",
       "    <tr>\n",
       "      <th>615</th>\n",
       "      <td>E09000004</td>\n",
       "      <td>bexley</td>\n",
       "      <td>2011-12-01</td>\n",
       "      <td>28638.0</td>\n",
       "      <td>7.42</td>\n",
       "      <td>31812</td>\n",
       "      <td>54</td>\n",
       "      <td>232774.0</td>\n",
       "    </tr>\n",
       "    <tr>\n",
       "      <th>616</th>\n",
       "      <td>E09000005</td>\n",
       "      <td>brent</td>\n",
       "      <td>2011-12-01</td>\n",
       "      <td>26772.0</td>\n",
       "      <td>7.11</td>\n",
       "      <td>29609</td>\n",
       "      <td>37</td>\n",
       "      <td>312245.0</td>\n",
       "    </tr>\n",
       "    <tr>\n",
       "      <th>617</th>\n",
       "      <td>E09000006</td>\n",
       "      <td>bromley</td>\n",
       "      <td>2011-12-01</td>\n",
       "      <td>28163.0</td>\n",
       "      <td>7.50</td>\n",
       "      <td>32863</td>\n",
       "      <td>50</td>\n",
       "      <td>310554.0</td>\n",
       "    </tr>\n",
       "  </tbody>\n",
       "</table>\n",
       "</div>"
      ],
      "text/plain": [
       "          code                  area        date  median_salary  \\\n",
       "613  E09000002  barking and dagenham  2011-12-01        28201.0   \n",
       "614  E09000003                barnet  2011-12-01        30237.0   \n",
       "615  E09000004                bexley  2011-12-01        28638.0   \n",
       "616  E09000005                 brent  2011-12-01        26772.0   \n",
       "617  E09000006               bromley  2011-12-01        28163.0   \n",
       "\n",
       "     life_satisfaction mean_salary recycling_pct  population_size  \n",
       "613               7.05       33568            30         187029.0  \n",
       "614               7.43       33062            34         357538.0  \n",
       "615               7.42       31812            54         232774.0  \n",
       "616               7.11       29609            37         312245.0  \n",
       "617               7.50       32863            50         310554.0  "
      ]
     },
     "execution_count": 10,
     "metadata": {},
     "output_type": "execute_result"
    }
   ],
   "source": [
    "df.head()\n"
   ]
  },
  {
   "cell_type": "code",
   "execution_count": 11,
   "id": "4a7ebf98-9e84-4148-8316-b9c898dc84d8",
   "metadata": {},
   "outputs": [],
   "source": [
    "import matplotlib.pyplot as plt\n",
    "from kneed import KneeLocator\n",
    "from sklearn.datasets import make_blobs\n",
    "from sklearn.cluster import KMeans \n",
    "from sklearn.metrics import silhouette_score\n",
    "from sklearn.preprocessing import StandardScaler"
   ]
  },
  {
   "cell_type": "code",
   "execution_count": 155,
   "id": "db2bef32-22c6-410f-833b-c277f99e1b3a",
   "metadata": {},
   "outputs": [
    {
     "name": "stderr",
     "output_type": "stream",
     "text": [
      "/tmp/ipykernel_1487/3390915376.py:1: FutureWarning: Dropping of nuisance columns in DataFrame reductions (with 'numeric_only=None') is deprecated; in a future version this will raise TypeError.  Select only valid columns before calling the reduction.\n",
      "  df.std()\n"
     ]
    },
    {
     "data": {
      "text/plain": [
       "median_salary        4.628750e+03\n",
       "life_satisfaction    1.959339e-01\n",
       "population_size      8.652261e+06\n",
       "dtype: float64"
      ]
     },
     "execution_count": 155,
     "metadata": {},
     "output_type": "execute_result"
    }
   ],
   "source": [
    "df.std()"
   ]
  },
  {
   "cell_type": "code",
   "execution_count": 35,
   "id": "2a22e686-df13-4c8a-9cf7-6229eee65208",
   "metadata": {},
   "outputs": [
    {
     "data": {
      "image/png": "[encoded data removed]",
      "text/plain": [
       "<Figure size 432x288 with 1 Axes>"
      ]
     },
     "metadata": {
      "needs_background": "light"
     },
     "output_type": "display_data"
    },
    {
     "data": {
      "image/png": "[encoded data removed]",
      "text/plain": [
       "<Figure size 432x288 with 1 Axes>"
      ]
     },
     "metadata": {
      "needs_background": "light"
     },
     "output_type": "display_data"
    }
   ],
   "source": [
    "from numpy import where\n",
    "from sklearn.datasets import make_classification\n",
    "from matplotlib import pyplot\n",
    "x = median_salary\n",
    "y = [1]\n",
    "X, y = make_classification(n_samples=1000, n_features=2, n_informative=2, n_redundant=0, n_clusters_per_class=1, random_state=4)\n",
    "for median_salary in range(2):\n",
    "    row_ix = where(y == median_salary)\n",
    "    pyplot.scatter(X[row_ix, 0], X[row_ix, 1])\n",
    "    pyplot.show()"
   ]
  },
  {
   "cell_type": "code",
   "execution_count": 156,
   "id": "4f9ee9df-337d-495e-aed5-eb5351cb446c",
   "metadata": {},
   "outputs": [
    {
     "data": {
      "text/plain": [
       "array([[-2175.58876152,  2520.38908788],\n",
       "       [-7986.72261487, -2593.67411485],\n",
       "       [-4690.65124587,  1463.58662688],\n",
       "       [ 1117.47366689, -8847.08164633],\n",
       "       [-5323.02164266,  1740.9853721 ]])"
      ]
     },
     "execution_count": 156,
     "metadata": {},
     "output_type": "execute_result"
    }
   ],
   "source": [
    "df, median_salary = make_blobs(\n",
    "   ...:     n_samples=20,\n",
    "   ...:     centers=3,\n",
    "   ...:     cluster_std= 4.628750e+03,\n",
    "   ...:     random_state=42\n",
    "   ...: )\n",
    "\n",
    "scaler = StandardScaler()\n",
    "scaled_features = scaler.fit_transform(df)\n",
    "df[:5]\n"
   ]
  },
  {
   "cell_type": "code",
   "execution_count": 157,
   "id": "3d6f4ad4-36d5-4928-9066-632e81cd7317",
   "metadata": {},
   "outputs": [
    {
     "data": {
      "text/plain": [
       "array([0, 0, 0, 0, 1])"
      ]
     },
     "execution_count": 157,
     "metadata": {},
     "output_type": "execute_result"
    }
   ],
   "source": [
    "median_salary[:5]"
   ]
  },
  {
   "cell_type": "code",
   "execution_count": 160,
   "id": "df3e1229-4d6c-4b0b-905f-937d43755e68",
   "metadata": {},
   "outputs": [],
   "source": [
    "kmeans_kwargs = {\n",
    "\"init\": \"random\",\n",
    "\"n_init\": 10,\n",
    " \"max_iter\": 300,\n",
    "\"random_state\": 42,\n",
    "}\n",
    "# A list holds the SSE values for each k\n",
    "sse = []\n",
    "for k in range(0, 11):\n",
    "    kmeans = KMeans(n_clusters=k, **kmeans_kwargs)\n",
    "    kmeans.fit(scaled_features)\n",
    "    sse.append(kmeans.inertia_)"
   ]
  },
  {
   "cell_type": "code",
   "execution_count": 163,
   "id": "6639fd9f-cdf4-49e8-a459-8a34978d4b4f",
   "metadata": {},
   "outputs": [],
   "source": [
    "sse = []\n",
    "for k in range(1, 11):\n",
    "    kmeans = KMeans(n_clusters=k, **kmeans_kwargs)\n",
    "    kmeans.fit(scaled_features)\n",
    "    sse.append(kmeans.inertia_)"
   ]
  },
  {
   "cell_type": "code",
   "execution_count": 164,
   "id": "47256e4f-0ee1-4d7f-abc7-99a6d3044c15",
   "metadata": {},
   "outputs": [
    {
     "data": {
      "image/png": "[encoded data removed]",
      "text/plain": [
       "<Figure size 432x288 with 1 Axes>"
      ]
     },
     "metadata": {},
     "output_type": "display_data"
    }
   ],
   "source": [
    "plt.style.use(\"fivethirtyeight\")\n",
    "plt.plot(range(1, 11), sse)\n",
    "plt.xticks(range(1, 11))\n",
    "plt.xlabel(\"Number of Clusters\")\n",
    "plt.ylabel(\"SSE\")\n",
    "plt.show()"
   ]
  },
  {
   "cell_type": "code",
   "execution_count": 165,
   "id": "3c86564f-9432-40a1-bddd-295d804dbae3",
   "metadata": {},
   "outputs": [],
   "source": [
    "from sklearn.cluster import DBSCAN\n",
    "from sklearn.datasets import make_moons\n",
    "from sklearn.metrics import adjusted_rand_score"
   ]
  },
  {
   "cell_type": "code",
   "execution_count": 166,
   "id": "7144e9ab-6a6f-4f95-9a3b-e0d0a299c590",
   "metadata": {},
   "outputs": [],
   "source": [
    "df, median_salary = make_moons(\n",
    "    n_samples=20, noise=.05, random_state=42)\n",
    "scaled_features = scaler.fit_transform(df)"
   ]
  },
  {
   "cell_type": "code",
   "execution_count": 167,
   "id": "1769621a-ac1f-4496-a80b-3cc94e2bde74",
   "metadata": {},
   "outputs": [],
   "source": [
    "kmeans = KMeans(n_clusters=5)\n",
    "dbscan = DBSCAN(eps=0.3)"
   ]
  },
  {
   "cell_type": "code",
   "execution_count": 169,
   "id": "c8693bcb-f00c-4927-bc6f-e567ce098820",
   "metadata": {},
   "outputs": [
    {
     "data": {
      "text/plain": [
       "(array([[ 1.07311891,  0.07693575],\n",
       "        [ 1.64408915, -0.11261555],\n",
       "        [ 1.16109598, -0.49300111],\n",
       "        [ 0.86587614,  0.41636919],\n",
       "        [-0.94091538,  0.35979771],\n",
       "        [-0.15279762,  1.02643085],\n",
       "        [ 0.04563742,  0.15648793],\n",
       "        [ 0.50475629,  0.89925812],\n",
       "        [ 1.9326817 ,  0.15632019],\n",
       "        [ 1.46254617, -0.4049445 ],\n",
       "        [ 0.54744214, -0.28698287],\n",
       "        [ 0.7476359 ,  0.66156584],\n",
       "        [-1.05965791, -0.0204526 ],\n",
       "        [ 1.97766293,  0.57621208],\n",
       "        [ 0.18979817,  0.91513691],\n",
       "        [ 0.12503884, -0.19498243],\n",
       "        [-0.75740976,  0.65899755],\n",
       "        [ 0.03729298,  0.40817084],\n",
       "        [ 0.85457503, -0.48353272],\n",
       "        [-0.47634034,  0.89898493]]),\n",
       " array([0, 1, 1, 0, 0, 0, 1, 0, 1, 1, 1, 0, 0, 1, 0, 1, 0, 1, 1, 0]),\n",
       " array([-1, -1, -1, -1, -1, -1, -1, -1, -1, -1, -1, -1, -1, -1, -1, -1, -1,\n",
       "        -1, -1, -1]))"
      ]
     },
     "execution_count": 169,
     "metadata": {},
     "output_type": "execute_result"
    }
   ],
   "source": [
    "kmeans.fit(scaled_features) \n",
    "dbscan.fit(scaled_features)\n",
    "\n",
    "np.unique(kmeans.labels_)\n",
    "\n",
    "silhouette_score(df, kmeans.labels_, metric='euclidean')\n",
    "\n",
    "dbscan_silhouette=(df, median_salary,dbscan.labels_)\n",
    "dbscan_silhouette\n"
   ]
  },
  {
   "cell_type": "code",
   "execution_count": 170,
   "id": "95046f49-32b8-459f-948a-dafbd82a5308",
   "metadata": {},
   "outputs": [
    {
     "data": {
      "text/plain": [
       "Text(0.5, 1.0, 'k-means\\nSilhouette: 0.33')"
      ]
     },
     "execution_count": 170,
     "metadata": {},
     "output_type": "execute_result"
    },
    {
     "data": {
      "image/png": "[encoded data removed]",
      "text/plain": [
       "<Figure size 576x432 with 2 Axes>"
      ]
     },
     "metadata": {},
     "output_type": "display_data"
    }
   ],
   "source": [
    "fig, (ax1, ax2) = plt.subplots(\n",
    "1, 2, figsize=(8, 6), sharex=True, sharey=True\n",
    ")\n",
    "\n",
    "\n",
    "fig.suptitle(f\"Clustering Salary\", fontsize=16)\n",
    "fte_colors = {\n",
    "0: \"#008fd5\",\n",
    "1: \"#fc4f30\",}\n",
    "\n",
    "\n",
    "kmeans_colors = [fte_colors[0] for label in kmeans.labels_]\n",
    "ax1.scatter(scaled_features[:, 0], scaled_features[:, 1], c=kmeans_colors)\n",
    "ax1.set_title(\n",
    "f\"k-means\\nSilhouette: {kmeans_silhouette}\", fontdict={\"fontsize\": 12})"
   ]
  },
  {
   "cell_type": "code",
   "execution_count": 171,
   "id": "c63884de-b623-433d-8554-4bac455e6c9e",
   "metadata": {},
   "outputs": [],
   "source": [
    "from sklearn.linear_model import LinearRegression\n"
   ]
  },
  {
   "cell_type": "code",
   "execution_count": 172,
   "id": "8d2e1a64-7397-480b-bee0-863ad7c9ccc9",
   "metadata": {},
   "outputs": [],
   "source": [
    "x = 'median_salary'\n",
    "y = 'area'"
   ]
  },
  {
   "cell_type": "code",
   "execution_count": 173,
   "id": "c06d5041-6a6e-4283-9967-4e00c0b0ca1c",
   "metadata": {},
   "outputs": [],
   "source": [
    "x = np.array ([0,1]).reshape((-1,1))\n",
    "y = np.array([0, 2])\n"
   ]
  },
  {
   "cell_type": "code",
   "execution_count": 174,
   "id": "5496da00-bbb1-4e38-bdd7-a0be579b88d9",
   "metadata": {},
   "outputs": [],
   "source": [
    "model = LinearRegression()"
   ]
  },
  {
   "cell_type": "code",
   "execution_count": 175,
   "id": "c4045723-4c4d-4b00-b9d0-dd4601613769",
   "metadata": {},
   "outputs": [
    {
     "data": {
      "text/html": [
       "<style>#sk-container-id-3 {color: black;background-color: white;}#sk-container-id-3 pre{padding: 0;}#sk-container-id-3 div.sk-toggleable {background-color: white;}#sk-container-id-3 label.sk-toggleable__label {cursor: pointer;display: block;width: 100%;margin-bottom: 0;padding: 0.3em;box-sizing: border-box;text-align: center;}#sk-container-id-3 label.sk-toggleable__label-arrow:before {content: \"▸\";float: left;margin-right: 0.25em;color: #696969;}#sk-container-id-3 label.sk-toggleable__label-arrow:hover:before {color: black;}#sk-container-id-3 div.sk-estimator:hover label.sk-toggleable__label-arrow:before {color: black;}#sk-container-id-3 div.sk-toggleable__content {max-height: 0;max-width: 0;overflow: hidden;text-align: left;background-color: #f0f8ff;}#sk-container-id-3 div.sk-toggleable__content pre {margin: 0.2em;color: black;border-radius: 0.25em;background-color: #f0f8ff;}#sk-container-id-3 input.sk-toggleable__control:checked~div.sk-toggleable__content {max-height: 200px;max-width: 100%;overflow: auto;}#sk-container-id-3 input.sk-toggleable__control:checked~label.sk-toggleable__label-arrow:before {content: \"▾\";}#sk-container-id-3 div.sk-estimator input.sk-toggleable__control:checked~label.sk-toggleable__label {background-color: #d4ebff;}#sk-container-id-3 div.sk-label input.sk-toggleable__control:checked~label.sk-toggleable__label {background-color: #d4ebff;}#sk-container-id-3 input.sk-hidden--visually {border: 0;clip: rect(1px 1px 1px 1px);clip: rect(1px, 1px, 1px, 1px);height: 1px;margin: -1px;overflow: hidden;padding: 0;position: absolute;width: 1px;}#sk-container-id-3 div.sk-estimator {font-family: monospace;background-color: #f0f8ff;border: 1px dotted black;border-radius: 0.25em;box-sizing: border-box;margin-bottom: 0.5em;}#sk-container-id-3 div.sk-estimator:hover {background-color: #d4ebff;}#sk-container-id-3 div.sk-parallel-item::after {content: \"\";width: 100%;border-bottom: 1px solid gray;flex-grow: 1;}#sk-container-id-3 div.sk-label:hover label.sk-toggleable__label {background-color: #d4ebff;}#sk-container-id-3 div.sk-serial::before {content: \"\";position: absolute;border-left: 1px solid gray;box-sizing: border-box;top: 0;bottom: 0;left: 50%;z-index: 0;}#sk-container-id-3 div.sk-serial {display: flex;flex-direction: column;align-items: center;background-color: white;padding-right: 0.2em;padding-left: 0.2em;position: relative;}#sk-container-id-3 div.sk-item {position: relative;z-index: 1;}#sk-container-id-3 div.sk-parallel {display: flex;align-items: stretch;justify-content: center;background-color: white;position: relative;}#sk-container-id-3 div.sk-item::before, #sk-container-id-3 div.sk-parallel-item::before {content: \"\";position: absolute;border-left: 1px solid gray;box-sizing: border-box;top: 0;bottom: 0;left: 50%;z-index: -1;}#sk-container-id-3 div.sk-parallel-item {display: flex;flex-direction: column;z-index: 1;position: relative;background-color: white;}#sk-container-id-3 div.sk-parallel-item:first-child::after {align-self: flex-end;width: 50%;}#sk-container-id-3 div.sk-parallel-item:last-child::after {align-self: flex-start;width: 50%;}#sk-container-id-3 div.sk-parallel-item:only-child::after {width: 0;}#sk-container-id-3 div.sk-dashed-wrapped {border: 1px dashed gray;margin: 0 0.4em 0.5em 0.4em;box-sizing: border-box;padding-bottom: 0.4em;background-color: white;}#sk-container-id-3 div.sk-label label {font-family: monospace;font-weight: bold;display: inline-block;line-height: 1.2em;}#sk-container-id-3 div.sk-label-container {text-align: center;}#sk-container-id-3 div.sk-container {/* jupyter's `normalize.less` sets `[hidden] { display: none; }` but bootstrap.min.css set `[hidden] { display: none !important; }` so we also need the `!important` here to be able to override the default hidden behavior on the sphinx rendered scikit-learn.org. See: https://github.com/scikit-learn/scikit-learn/issues/21755 */display: inline-block !important;position: relative;}#sk-container-id-3 div.sk-text-repr-fallback {display: none;}</style><div id=\"sk-container-id-3\" class=\"sk-top-container\"><div class=\"sk-text-repr-fallback\"><pre>LinearRegression()</pre><b>In a Jupyter environment, please rerun this cell to show the HTML representation or trust the notebook. <br />On GitHub, the HTML representation is unable to render, please try loading this page with nbviewer.org.</b></div><div class=\"sk-container\" hidden><div class=\"sk-item\"><div class=\"sk-estimator sk-toggleable\"><input class=\"sk-toggleable__control sk-hidden--visually\" id=\"sk-estimator-id-3\" type=\"checkbox\" checked><label for=\"sk-estimator-id-3\" class=\"sk-toggleable__label sk-toggleable__label-arrow\">LinearRegression</label><div class=\"sk-toggleable__content\"><pre>LinearRegression()</pre></div></div></div></div></div>"
      ],
      "text/plain": [
       "LinearRegression()"
      ]
     },
     "execution_count": 175,
     "metadata": {},
     "output_type": "execute_result"
    }
   ],
   "source": [
    "model.fit(x,y)"
   ]
  },
  {
   "cell_type": "code",
   "execution_count": 176,
   "id": "515c94de-e31a-48e6-8199-a689e1588883",
   "metadata": {},
   "outputs": [],
   "source": [
    "r_sq = model.score(x, y)"
   ]
  },
  {
   "cell_type": "code",
   "execution_count": 177,
   "id": "136da76d-2025-470f-8350-455103ff8d01",
   "metadata": {},
   "outputs": [
    {
     "name": "stdout",
     "output_type": "stream",
     "text": [
      "coefficent of determination: 1.0\n"
     ]
    }
   ],
   "source": [
    "print(f\"coefficent of determination: {r_sq}\")"
   ]
  },
  {
   "cell_type": "code",
   "execution_count": 188,
   "id": "2a46fecb-ed7a-4518-b2d7-0649a9dd9033",
   "metadata": {},
   "outputs": [],
   "source": [
    "import statsmodels"
   ]
  },
  {
   "cell_type": "code",
   "execution_count": null,
   "id": "7cad3902-b0fd-4c44-ab96-905ece777c9c",
   "metadata": {},
   "outputs": [],
   "source": []
  }
 ],
 "metadata": {
  "kernelspec": {
   "display_name": "Python 3 (ipykernel)",
   "language": "python",
   "name": "python3"
  },
  "language_info": {
   "codemirror_mode": {
    "name": "ipython",
    "version": 3
   },
   "file_extension": ".py",
   "mimetype": "text/x-python",
   "name": "python",
   "nbconvert_exporter": "python",
   "pygments_lexer": "ipython3",
   "version": "3.10.5"
  }
 },
 "nbformat": 4,
 "nbformat_minor": 5
}
